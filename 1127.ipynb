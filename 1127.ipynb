{
 "cells": [
  {
   "cell_type": "code",
   "execution_count": 1,
   "id": "b5c864cd",
   "metadata": {},
   "outputs": [
    {
     "data": {
      "text/plain": [
       "{1: 'a', 2: 'b'}"
      ]
     },
     "execution_count": 1,
     "metadata": {},
     "output_type": "execute_result"
    }
   ],
   "source": [
    ">>> a={1: 'a'}\n",
    ">>> a[2] = 'b'\n",
    ">>> a\n",
    "{1: 'a', 2: 'b'}"
   ]
  },
  {
   "cell_type": "code",
   "execution_count": 2,
   "id": "9244f188",
   "metadata": {},
   "outputs": [
    {
     "data": {
      "text/plain": [
       "{1: 'a', 2: 'b', 'name': 'pey'}"
      ]
     },
     "execution_count": 2,
     "metadata": {},
     "output_type": "execute_result"
    }
   ],
   "source": [
    ">>> a['name']='pey'\n",
    ">>> a\n",
    "{1: 'a', 2: 'b', 'name':'pey'}"
   ]
  },
  {
   "cell_type": "code",
   "execution_count": 3,
   "id": "465eb71e",
   "metadata": {},
   "outputs": [
    {
     "data": {
      "text/plain": [
       "{1: 'a', 2: 'b', 'name': 'pey', 3: [1, 2, 3]}"
      ]
     },
     "execution_count": 3,
     "metadata": {},
     "output_type": "execute_result"
    }
   ],
   "source": [
    ">>> a[3] = [1, 2, 3]\n",
    ">>> a\n",
    "{1: 'a', 2: 'b', 'name': 'pey', 3: [1, 2, 3]}"
   ]
  },
  {
   "cell_type": "code",
   "execution_count": 4,
   "id": "0fd2d301",
   "metadata": {},
   "outputs": [
    {
     "data": {
      "text/plain": [
       "{2: 'b', 'name': 'pey', 3: [1, 2, 3]}"
      ]
     },
     "execution_count": 4,
     "metadata": {},
     "output_type": "execute_result"
    }
   ],
   "source": [
    ">>> del a[1]\n",
    ">>> a\n",
    "{2: 'b', 'name': 'pey', 3: [1, 2, 3]}"
   ]
  },
  {
   "cell_type": "code",
   "execution_count": 5,
   "id": "e8e6dd92",
   "metadata": {},
   "outputs": [
    {
     "data": {
      "text/plain": [
       "99"
      ]
     },
     "execution_count": 5,
     "metadata": {},
     "output_type": "execute_result"
    }
   ],
   "source": [
    ">>> grade = {'pey': 10, 'julliet': 99}\n",
    ">>> grade['pey']\n",
    "10\n",
    ">>> grade['julliet']\n",
    "99"
   ]
  },
  {
   "cell_type": "code",
   "execution_count": 6,
   "id": "0dd64383",
   "metadata": {},
   "outputs": [
    {
     "data": {
      "text/plain": [
       "'b'"
      ]
     },
     "execution_count": 6,
     "metadata": {},
     "output_type": "execute_result"
    }
   ],
   "source": [
    ">>> a = {1:'a', 2:'b'}\n",
    ">>> a[1]\n",
    "'a'\n",
    ">>> a[2]\n",
    "'b'"
   ]
  },
  {
   "cell_type": "code",
   "execution_count": null,
   "id": "67f347bb",
   "metadata": {},
   "outputs": [],
   "source": [
    ">>> a = {'a': 1, 'b': 2}\n",
    ">>> a['a']\n",
    "1\n",
    ">>> a['b']\n",
    "2"
   ]
  },
  {
   "cell_type": "code",
   "execution_count": null,
   "id": "69c9f14f",
   "metadata": {},
   "outputs": [],
   "source": [
    ">>> dic = {'name':'pey', 'phone':'010-9999-1234', 'birth': '1118'}\n",
    ">>> dic['name']\n",
    "'pey'\n",
    ">>> dic['phone']\n",
    "'010-9999-1234'\n",
    ">>> dic['birth']\n",
    "'1118'"
   ]
  },
  {
   "cell_type": "code",
   "execution_count": 7,
   "id": "40912463",
   "metadata": {},
   "outputs": [
    {
     "data": {
      "text/plain": [
       "{1: 'b'}"
      ]
     },
     "execution_count": 7,
     "metadata": {},
     "output_type": "execute_result"
    }
   ],
   "source": [
    ">>> a = {1:'a', 1:'b'}\n",
    ">>> a\n",
    "{1: 'b'}"
   ]
  },
  {
   "cell_type": "code",
   "execution_count": null,
   "id": "4d97393f",
   "metadata": {},
   "outputs": [],
   "source": [
    ">>> a = {[1,2] : 'hi'}\n",
    "Traceback (most recent call last):\n",
    "  File \"<stdin>\", line 1, in <module>\n",
    "TypeError: unhashable type: 'list'"
   ]
  },
  {
   "cell_type": "code",
   "execution_count": 20,
   "id": "cfd7735f",
   "metadata": {},
   "outputs": [],
   "source": [
    ">>> a = {'name': 'pey', 'phone': '010-9999-1234', 'birth': '1118'}"
   ]
  },
  {
   "cell_type": "code",
   "execution_count": 21,
   "id": "e815b007",
   "metadata": {},
   "outputs": [
    {
     "data": {
      "text/plain": [
       "dict_keys(['name', 'phone', 'birth'])"
      ]
     },
     "execution_count": 21,
     "metadata": {},
     "output_type": "execute_result"
    }
   ],
   "source": [
    ">>> a.keys()"
   ]
  },
  {
   "cell_type": "code",
   "execution_count": 22,
   "id": "98fa0803",
   "metadata": {},
   "outputs": [
    {
     "data": {
      "text/plain": [
       "dict_values(['pey', '010-9999-1234', '1118'])"
      ]
     },
     "execution_count": 22,
     "metadata": {},
     "output_type": "execute_result"
    }
   ],
   "source": [
    ">>> a.values()"
   ]
  },
  {
   "cell_type": "code",
   "execution_count": 23,
   "id": "77631ee6",
   "metadata": {},
   "outputs": [
    {
     "data": {
      "text/plain": [
       "dict_items([('name', 'pey'), ('phone', '010-9999-1234'), ('birth', '1118')])"
      ]
     },
     "execution_count": 23,
     "metadata": {},
     "output_type": "execute_result"
    }
   ],
   "source": [
    ">>> a.items()"
   ]
  },
  {
   "cell_type": "code",
   "execution_count": 16,
   "id": "9d9f8975",
   "metadata": {},
   "outputs": [
    {
     "data": {
      "text/plain": [
       "{}"
      ]
     },
     "execution_count": 16,
     "metadata": {},
     "output_type": "execute_result"
    }
   ],
   "source": []
  },
  {
   "cell_type": "code",
   "execution_count": 24,
   "id": "a528fb4d",
   "metadata": {},
   "outputs": [
    {
     "data": {
      "text/plain": [
       "'pey'"
      ]
     },
     "execution_count": 24,
     "metadata": {},
     "output_type": "execute_result"
    }
   ],
   "source": [
    ">>> a.get('name')"
   ]
  },
  {
   "cell_type": "code",
   "execution_count": 25,
   "id": "5b09c900",
   "metadata": {},
   "outputs": [
    {
     "data": {
      "text/plain": [
       "'010-9999-1234'"
      ]
     },
     "execution_count": 25,
     "metadata": {},
     "output_type": "execute_result"
    }
   ],
   "source": [
    ">>> a.get('phone')"
   ]
  },
  {
   "cell_type": "code",
   "execution_count": 26,
   "id": "4cda75f9",
   "metadata": {},
   "outputs": [
    {
     "name": "stdout",
     "output_type": "stream",
     "text": [
      "None\n"
     ]
    }
   ],
   "source": [
    ">>> a = {'name':'pey', 'phone':'010-9999-1234', 'birth': '1118'}\n",
    ">>> print(a.get('nokey'))"
   ]
  },
  {
   "cell_type": "code",
   "execution_count": 27,
   "id": "6c7bec13",
   "metadata": {},
   "outputs": [
    {
     "name": "stdout",
     "output_type": "stream",
     "text": [
      "Help on built-in function get:\n",
      "\n",
      "get(key, default=None, /) method of builtins.dict instance\n",
      "    Return the value for key if key is in the dictionary, else default.\n",
      "\n"
     ]
    }
   ],
   "source": [
    "help(a.get)"
   ]
  },
  {
   "cell_type": "code",
   "execution_count": 28,
   "id": "2d5cbae1",
   "metadata": {},
   "outputs": [],
   "source": [
    "a.get?"
   ]
  },
  {
   "cell_type": "code",
   "execution_count": 29,
   "id": "c0f75f3a",
   "metadata": {},
   "outputs": [
    {
     "data": {
      "text/plain": [
       "'bar'"
      ]
     },
     "execution_count": 29,
     "metadata": {},
     "output_type": "execute_result"
    }
   ],
   "source": [
    "a.get('foo', 'bar')"
   ]
  },
  {
   "cell_type": "code",
   "execution_count": 30,
   "id": "9761a356",
   "metadata": {},
   "outputs": [
    {
     "data": {
      "text/plain": [
       "False"
      ]
     },
     "execution_count": 30,
     "metadata": {},
     "output_type": "execute_result"
    }
   ],
   "source": [
    ">>> a = {'name':'pey', 'phone':'010-9999-1234', 'birth': '1118'}\n",
    ">>> 'name' in a\n",
    "True\n",
    ">>> 'email' in a\n",
    "False"
   ]
  },
  {
   "cell_type": "code",
   "execution_count": null,
   "id": "b62c6a6d",
   "metadata": {},
   "outputs": [],
   "source": []
  },
  {
   "cell_type": "code",
   "execution_count": null,
   "id": "f8750038",
   "metadata": {},
   "outputs": [],
   "source": []
  },
  {
   "cell_type": "code",
   "execution_count": 32,
   "id": "c099015d",
   "metadata": {},
   "outputs": [
    {
     "data": {
      "text/plain": [
       "{1, 2, 3}"
      ]
     },
     "execution_count": 32,
     "metadata": {},
     "output_type": "execute_result"
    }
   ],
   "source": [
    ">>> s1 = set([1, 2, 3])\n",
    ">>> s1"
   ]
  },
  {
   "cell_type": "code",
   "execution_count": 33,
   "id": "0ecc09a2",
   "metadata": {},
   "outputs": [
    {
     "data": {
      "text/plain": [
       "{'H', 'e', 'l', 'o'}"
      ]
     },
     "execution_count": 33,
     "metadata": {},
     "output_type": "execute_result"
    }
   ],
   "source": [
    ">>> s2 = set(\"Hello\")\n",
    ">>> s2"
   ]
  },
  {
   "cell_type": "code",
   "execution_count": 34,
   "id": "7782dd3e",
   "metadata": {},
   "outputs": [
    {
     "data": {
      "text/plain": [
       "[1, 2, 3]"
      ]
     },
     "execution_count": 34,
     "metadata": {},
     "output_type": "execute_result"
    }
   ],
   "source": [
    ">>> s1 = set([1, 2, 3])\n",
    ">>> l1 = list(s1)\n",
    ">>> l1"
   ]
  },
  {
   "cell_type": "code",
   "execution_count": 35,
   "id": "81b195e8",
   "metadata": {},
   "outputs": [
    {
     "data": {
      "text/plain": [
       "1"
      ]
     },
     "execution_count": 35,
     "metadata": {},
     "output_type": "execute_result"
    }
   ],
   "source": [
    ">>> l1[0]"
   ]
  },
  {
   "cell_type": "code",
   "execution_count": 36,
   "id": "a2729a06",
   "metadata": {},
   "outputs": [
    {
     "data": {
      "text/plain": [
       "(1, 2, 3)"
      ]
     },
     "execution_count": 36,
     "metadata": {},
     "output_type": "execute_result"
    }
   ],
   "source": [
    ">>> t1 = tuple(s1)\n",
    ">>> t1"
   ]
  },
  {
   "cell_type": "code",
   "execution_count": 37,
   "id": "fc1c66ba",
   "metadata": {},
   "outputs": [
    {
     "data": {
      "text/plain": [
       "1"
      ]
     },
     "execution_count": 37,
     "metadata": {},
     "output_type": "execute_result"
    }
   ],
   "source": [
    ">>> t1[0]"
   ]
  },
  {
   "cell_type": "code",
   "execution_count": 38,
   "id": "97b033d1",
   "metadata": {},
   "outputs": [],
   "source": [
    ">>> s1 = set([1, 2, 3, 4, 5, 6])\n",
    ">>> s2 = set([4, 5, 6, 7, 8, 9])"
   ]
  },
  {
   "cell_type": "code",
   "execution_count": 39,
   "id": "e56a2d75",
   "metadata": {},
   "outputs": [
    {
     "data": {
      "text/plain": [
       "{4, 5, 6}"
      ]
     },
     "execution_count": 39,
     "metadata": {},
     "output_type": "execute_result"
    }
   ],
   "source": [
    ">>> s1 & s2"
   ]
  },
  {
   "cell_type": "code",
   "execution_count": 40,
   "id": "24f21caf",
   "metadata": {},
   "outputs": [
    {
     "data": {
      "text/plain": [
       "{4, 5, 6}"
      ]
     },
     "execution_count": 40,
     "metadata": {},
     "output_type": "execute_result"
    }
   ],
   "source": [
    ">>> s1.intersection(s2)"
   ]
  },
  {
   "cell_type": "code",
   "execution_count": 41,
   "id": "a0fc0c63",
   "metadata": {},
   "outputs": [
    {
     "data": {
      "text/plain": [
       "{1, 2, 3, 4, 5, 6, 7, 8, 9}"
      ]
     },
     "execution_count": 41,
     "metadata": {},
     "output_type": "execute_result"
    }
   ],
   "source": [
    ">>> s1 | s2\n",
    "{1, 2, 3, 4, 5, 6, 7, 8, 9}"
   ]
  },
  {
   "cell_type": "code",
   "execution_count": 43,
   "id": "243d4e76",
   "metadata": {},
   "outputs": [
    {
     "data": {
      "text/plain": [
       "{1, 2, 3, 4, 5, 6, 7, 8, 9}"
      ]
     },
     "execution_count": 43,
     "metadata": {},
     "output_type": "execute_result"
    }
   ],
   "source": [
    ">>> s1.union(s2)\n",
    "{1, 2, 3, 4, 5, 6, 7, 8, 9}"
   ]
  },
  {
   "cell_type": "code",
   "execution_count": 44,
   "id": "86161f80",
   "metadata": {},
   "outputs": [
    {
     "data": {
      "text/plain": [
       "{1, 2, 3}"
      ]
     },
     "execution_count": 44,
     "metadata": {},
     "output_type": "execute_result"
    }
   ],
   "source": [
    "s1 - s2"
   ]
  },
  {
   "cell_type": "code",
   "execution_count": 45,
   "id": "c1ba1d86",
   "metadata": {},
   "outputs": [
    {
     "data": {
      "text/plain": [
       "{7, 8, 9}"
      ]
     },
     "execution_count": 45,
     "metadata": {},
     "output_type": "execute_result"
    }
   ],
   "source": [
    "s2 - s1"
   ]
  },
  {
   "cell_type": "code",
   "execution_count": 46,
   "id": "471f9123",
   "metadata": {},
   "outputs": [
    {
     "data": {
      "text/plain": [
       "{1, 2, 3}"
      ]
     },
     "execution_count": 46,
     "metadata": {},
     "output_type": "execute_result"
    }
   ],
   "source": [
    "s1.difference(s2)"
   ]
  },
  {
   "cell_type": "code",
   "execution_count": 47,
   "id": "5041fbde",
   "metadata": {},
   "outputs": [
    {
     "data": {
      "text/plain": [
       "{7, 8, 9}"
      ]
     },
     "execution_count": 47,
     "metadata": {},
     "output_type": "execute_result"
    }
   ],
   "source": [
    "s2.difference(s1)"
   ]
  },
  {
   "cell_type": "code",
   "execution_count": null,
   "id": "417a03db",
   "metadata": {},
   "outputs": [],
   "source": []
  },
  {
   "cell_type": "code",
   "execution_count": 48,
   "id": "5391a1bb",
   "metadata": {},
   "outputs": [
    {
     "data": {
      "text/plain": [
       "{1, 2, 3, 4}"
      ]
     },
     "execution_count": 48,
     "metadata": {},
     "output_type": "execute_result"
    }
   ],
   "source": [
    ">>> s1 = set([1, 2, 3])\n",
    ">>> s1.add(4)\n",
    ">>> s1"
   ]
  },
  {
   "cell_type": "code",
   "execution_count": 49,
   "id": "668b5188",
   "metadata": {},
   "outputs": [
    {
     "data": {
      "text/plain": [
       "{1, 2, 3, 4, 5, 6}"
      ]
     },
     "execution_count": 49,
     "metadata": {},
     "output_type": "execute_result"
    }
   ],
   "source": [
    ">>> s1 = set([1, 2, 3])\n",
    ">>> s1.update([4, 5, 6])\n",
    ">>> s1"
   ]
  },
  {
   "cell_type": "code",
   "execution_count": 50,
   "id": "47162971",
   "metadata": {},
   "outputs": [
    {
     "data": {
      "text/plain": [
       "{1, 3}"
      ]
     },
     "execution_count": 50,
     "metadata": {},
     "output_type": "execute_result"
    }
   ],
   "source": [
    ">>> s1 = set([1, 2, 3])\n",
    ">>> s1.remove(2)\n",
    ">>> s1"
   ]
  },
  {
   "cell_type": "code",
   "execution_count": 56,
   "id": "a32245b4",
   "metadata": {},
   "outputs": [],
   "source": [
    ">>> s1 = set([1, 2, 3])\n",
    ">>> s1.remove(1)"
   ]
  },
  {
   "cell_type": "code",
   "execution_count": null,
   "id": "81061eba",
   "metadata": {},
   "outputs": [],
   "source": []
  },
  {
   "cell_type": "code",
   "execution_count": null,
   "id": "3f2dde0f",
   "metadata": {},
   "outputs": [],
   "source": []
  },
  {
   "cell_type": "code",
   "execution_count": 57,
   "id": "a0cc41e7",
   "metadata": {},
   "outputs": [],
   "source": [
    ">>> a = True\n",
    ">>> b = False\n"
   ]
  },
  {
   "cell_type": "code",
   "execution_count": 61,
   "id": "4eb12f53",
   "metadata": {},
   "outputs": [
    {
     "data": {
      "text/plain": [
       "bool"
      ]
     },
     "execution_count": 61,
     "metadata": {},
     "output_type": "execute_result"
    }
   ],
   "source": [
    ">>> type(a)\n",
    ">>> type(b)\n"
   ]
  },
  {
   "cell_type": "code",
   "execution_count": 60,
   "id": "23d7ec2f",
   "metadata": {},
   "outputs": [
    {
     "data": {
      "text/plain": [
       "True"
      ]
     },
     "execution_count": 60,
     "metadata": {},
     "output_type": "execute_result"
    }
   ],
   "source": [
    ">>> 1 == 1"
   ]
  },
  {
   "cell_type": "code",
   "execution_count": 62,
   "id": "0a7b776b",
   "metadata": {},
   "outputs": [
    {
     "data": {
      "text/plain": [
       "True"
      ]
     },
     "execution_count": 62,
     "metadata": {},
     "output_type": "execute_result"
    }
   ],
   "source": [
    ">>> 2 > 1"
   ]
  },
  {
   "cell_type": "code",
   "execution_count": 63,
   "id": "b40a215d",
   "metadata": {},
   "outputs": [
    {
     "data": {
      "text/plain": [
       "False"
      ]
     },
     "execution_count": 63,
     "metadata": {},
     "output_type": "execute_result"
    }
   ],
   "source": [
    ">>> 2 < 1"
   ]
  },
  {
   "cell_type": "code",
   "execution_count": 64,
   "id": "f90b44b5",
   "metadata": {},
   "outputs": [],
   "source": [
    ">>> a = [1, 2, 3, 4]"
   ]
  },
  {
   "cell_type": "code",
   "execution_count": 68,
   "id": "89b1cac7",
   "metadata": {},
   "outputs": [
    {
     "name": "stdout",
     "output_type": "stream",
     "text": [
      "4\n",
      "3\n",
      "2\n",
      "1\n"
     ]
    }
   ],
   "source": [
    ">>> while a:\n",
    " print(a.pop())"
   ]
  },
  {
   "cell_type": "code",
   "execution_count": 71,
   "id": "7c81f4f5",
   "metadata": {},
   "outputs": [
    {
     "name": "stdout",
     "output_type": "stream",
     "text": [
      "참\n"
     ]
    }
   ],
   "source": [
    ">>> if [1]:\n",
    "...     print(\"참\")\n",
    "... else:\n",
    "...     print(\"거짓\")"
   ]
  },
  {
   "cell_type": "code",
   "execution_count": 72,
   "id": "187af865",
   "metadata": {},
   "outputs": [
    {
     "name": "stdout",
     "output_type": "stream",
     "text": [
      "참\n"
     ]
    }
   ],
   "source": [
    ">>> if [(1, 2, 3)]:\n",
    "...     print(\"참\")\n",
    "... else:\n",
    "...     print(\"거짓\")"
   ]
  },
  {
   "cell_type": "code",
   "execution_count": 77,
   "id": "b81a36c0",
   "metadata": {},
   "outputs": [
    {
     "name": "stdout",
     "output_type": "stream",
     "text": [
      "거짓\n"
     ]
    }
   ],
   "source": [
    ">>> if []:\n",
    "...     print(\"참\")\n",
    "... else:\n",
    "...     print(\"거짓\")"
   ]
  },
  {
   "cell_type": "code",
   "execution_count": 78,
   "id": "1d703a2b",
   "metadata": {},
   "outputs": [
    {
     "name": "stdout",
     "output_type": "stream",
     "text": [
      "거짓\n"
     ]
    }
   ],
   "source": [
    ">>> if None:\n",
    "...     print(\"참\")\n",
    "... else:\n",
    "...     print(\"거짓\")"
   ]
  },
  {
   "cell_type": "code",
   "execution_count": 79,
   "id": "3b0c7618",
   "metadata": {},
   "outputs": [
    {
     "name": "stdout",
     "output_type": "stream",
     "text": [
      "거짓\n"
     ]
    }
   ],
   "source": [
    ">>> if \"\":\n",
    "...     print(\"참\")\n",
    "... else:\n",
    "...     print(\"거짓\")"
   ]
  },
  {
   "cell_type": "code",
   "execution_count": null,
   "id": "daa82948",
   "metadata": {},
   "outputs": [],
   "source": []
  },
  {
   "cell_type": "code",
   "execution_count": 80,
   "id": "4ebb4006",
   "metadata": {},
   "outputs": [
    {
     "data": {
      "text/plain": [
       "True"
      ]
     },
     "execution_count": 80,
     "metadata": {},
     "output_type": "execute_result"
    }
   ],
   "source": [
    ">>> bool('python')"
   ]
  },
  {
   "cell_type": "code",
   "execution_count": 81,
   "id": "935edd97",
   "metadata": {},
   "outputs": [
    {
     "data": {
      "text/plain": [
       "False"
      ]
     },
     "execution_count": 81,
     "metadata": {},
     "output_type": "execute_result"
    }
   ],
   "source": [
    ">>> bool('')"
   ]
  },
  {
   "cell_type": "code",
   "execution_count": 83,
   "id": "944622d1",
   "metadata": {},
   "outputs": [
    {
     "data": {
      "text/plain": [
       "True"
      ]
     },
     "execution_count": 83,
     "metadata": {},
     "output_type": "execute_result"
    }
   ],
   "source": [
    ">>> bool([1, 2, 3])\n",
    "\n"
   ]
  },
  {
   "cell_type": "code",
   "execution_count": 84,
   "id": "bb259146",
   "metadata": {},
   "outputs": [
    {
     "data": {
      "text/plain": [
       "False"
      ]
     },
     "execution_count": 84,
     "metadata": {},
     "output_type": "execute_result"
    }
   ],
   "source": [
    ">>> bool([])\n",
    "\n"
   ]
  },
  {
   "cell_type": "code",
   "execution_count": 85,
   "id": "46cf332d",
   "metadata": {},
   "outputs": [
    {
     "data": {
      "text/plain": [
       "False"
      ]
     },
     "execution_count": 85,
     "metadata": {},
     "output_type": "execute_result"
    }
   ],
   "source": [
    ">>> bool(0)\n"
   ]
  },
  {
   "cell_type": "code",
   "execution_count": 86,
   "id": "53f4e539",
   "metadata": {},
   "outputs": [
    {
     "data": {
      "text/plain": [
       "True"
      ]
     },
     "execution_count": 86,
     "metadata": {},
     "output_type": "execute_result"
    }
   ],
   "source": [
    ">>> bool(3)"
   ]
  },
  {
   "cell_type": "code",
   "execution_count": null,
   "id": "3671b38c",
   "metadata": {},
   "outputs": [],
   "source": []
  },
  {
   "cell_type": "code",
   "execution_count": null,
   "id": "8fb6b69f",
   "metadata": {},
   "outputs": [],
   "source": []
  },
  {
   "cell_type": "code",
   "execution_count": null,
   "id": "cfd8cb08",
   "metadata": {},
   "outputs": [],
   "source": [
    "number=int(input(\"숫자\"))\n",
    "if number%2 == 1 :\n",
    "   print(number,\"은 홀수입니다.\")\n",
    "else:\n",
    "   print(number,\"은 짝수입니다.\")"
   ]
  },
  {
   "cell_type": "code",
   "execution_count": null,
   "id": "e545e8d7",
   "metadata": {},
   "outputs": [],
   "source": []
  },
  {
   "cell_type": "code",
   "execution_count": null,
   "id": "1c2105e9",
   "metadata": {},
   "outputs": [],
   "source": []
  }
 ],
 "metadata": {
  "kernelspec": {
   "display_name": "Python 3 (ipykernel)",
   "language": "python",
   "name": "python3"
  },
  "language_info": {
   "codemirror_mode": {
    "name": "ipython",
    "version": 3
   },
   "file_extension": ".py",
   "mimetype": "text/x-python",
   "name": "python",
   "nbconvert_exporter": "python",
   "pygments_lexer": "ipython3",
   "version": "3.11.5"
  }
 },
 "nbformat": 4,
 "nbformat_minor": 5
}
