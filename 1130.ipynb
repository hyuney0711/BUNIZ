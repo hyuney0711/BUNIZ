{
 "cells": [
  {
   "cell_type": "code",
   "execution_count": 2,
   "id": "2d248ee2",
   "metadata": {},
   "outputs": [],
   "source": [
    ">>> def add(a, b):\n",
    "...     return a+b"
   ]
  },
  {
   "cell_type": "code",
   "execution_count": 3,
   "id": "2201f65b",
   "metadata": {},
   "outputs": [
    {
     "name": "stdout",
     "output_type": "stream",
     "text": [
      "7\n"
     ]
    }
   ],
   "source": [
    ">>> a = 3\n",
    ">>> b = 4\n",
    ">>> c = add(a, b)  # add(3, 4)의 리턴값을 c에 대입\n",
    ">>> print(c)"
   ]
  },
  {
   "cell_type": "code",
   "execution_count": 4,
   "id": "fd1d71f6",
   "metadata": {},
   "outputs": [],
   "source": [
    "def add(a, b): \n",
    "    result = a + b \n",
    "    return result"
   ]
  },
  {
   "cell_type": "code",
   "execution_count": 5,
   "id": "84835fae",
   "metadata": {},
   "outputs": [
    {
     "name": "stdout",
     "output_type": "stream",
     "text": [
      "7\n"
     ]
    }
   ],
   "source": [
    ">>> a = add(3, 4)\n",
    ">>> print(a)"
   ]
  },
  {
   "cell_type": "code",
   "execution_count": 6,
   "id": "09103bb7",
   "metadata": {},
   "outputs": [],
   "source": [
    ">>> def add(a, b): \n",
    "...     print(\"%d, %d의 합은 %d입니다.\" % (a, b, a+b))"
   ]
  },
  {
   "cell_type": "code",
   "execution_count": 7,
   "id": "edc5bc96",
   "metadata": {},
   "outputs": [
    {
     "name": "stdout",
     "output_type": "stream",
     "text": [
      "3, 4의 합은 7입니다.\n"
     ]
    }
   ],
   "source": [
    ">>> add(3, 4)"
   ]
  },
  {
   "cell_type": "code",
   "execution_count": 9,
   "id": "2d1da252",
   "metadata": {},
   "outputs": [
    {
     "name": "stdout",
     "output_type": "stream",
     "text": [
      "7\n"
     ]
    }
   ],
   "source": [
    ">>> print(a)"
   ]
  },
  {
   "cell_type": "code",
   "execution_count": 10,
   "id": "7049a2a7",
   "metadata": {},
   "outputs": [],
   "source": [
    ">>> def say(): \n",
    "...     print('Hi')"
   ]
  },
  {
   "cell_type": "code",
   "execution_count": 11,
   "id": "3ac2ff89",
   "metadata": {},
   "outputs": [
    {
     "name": "stdout",
     "output_type": "stream",
     "text": [
      "Hi\n"
     ]
    }
   ],
   "source": [
    ">>> say()"
   ]
  },
  {
   "cell_type": "code",
   "execution_count": 12,
   "id": "fb4066e1",
   "metadata": {},
   "outputs": [],
   "source": [
    ">>> def sub(a, b):\n",
    "...     return a - b"
   ]
  },
  {
   "cell_type": "code",
   "execution_count": 13,
   "id": "a7532e53",
   "metadata": {},
   "outputs": [
    {
     "name": "stdout",
     "output_type": "stream",
     "text": [
      "4\n"
     ]
    }
   ],
   "source": [
    ">>> result = sub(a=7, b=3)  # a에 7, b에 3을 전달\n",
    ">>> print(result)"
   ]
  },
  {
   "cell_type": "code",
   "execution_count": 14,
   "id": "6cc7706e",
   "metadata": {},
   "outputs": [
    {
     "name": "stdout",
     "output_type": "stream",
     "text": [
      "-2\n"
     ]
    }
   ],
   "source": [
    ">>> result = sub(b=5, a=3)  # b에 5, a에 3을 전달\n",
    ">>> print(result)"
   ]
  },
  {
   "cell_type": "code",
   "execution_count": 15,
   "id": "2e8f2872",
   "metadata": {},
   "outputs": [],
   "source": [
    ">>> def add_many(*args): \n",
    "...     result = 0 \n",
    "...     for i in args: \n",
    "...         result = result + i   # *args에 입력받은 모든 값을 더한다.\n",
    "...     return result "
   ]
  },
  {
   "cell_type": "code",
   "execution_count": 17,
   "id": "b2deecdf",
   "metadata": {},
   "outputs": [
    {
     "name": "stdout",
     "output_type": "stream",
     "text": [
      "6\n",
      "55\n"
     ]
    }
   ],
   "source": [
    ">>> result = add_many(1,2,3)\n",
    ">>> print(result)\n",
    "\n",
    ">>> result = add_many(1,2,3,4,5,6,7,8,9,10)\n",
    ">>> print(result)"
   ]
  },
  {
   "cell_type": "code",
   "execution_count": 18,
   "id": "a722e228",
   "metadata": {},
   "outputs": [],
   "source": [
    ">>> def add_mul(choice, *args): \n",
    "...     if choice == \"add\":   # 매개변수 choice에 \"add\"를 입력받았을 때\n",
    "...         result = 0 \n",
    "...         for i in args: \n",
    "...             result = result + i \n",
    "...     elif choice == \"mul\":   # 매개변수 choice에 \"mul\"을 입력받았을 때\n",
    "...         result = 1 \n",
    "...         for i in args: \n",
    "...             result = result * i \n",
    "...     return result "
   ]
  },
  {
   "cell_type": "code",
   "execution_count": 19,
   "id": "fb62735a",
   "metadata": {},
   "outputs": [
    {
     "name": "stdout",
     "output_type": "stream",
     "text": [
      "15\n",
      "120\n"
     ]
    }
   ],
   "source": [
    ">>> result = add_mul('add', 1,2,3,4,5)\n",
    ">>> print(result)\n",
    "\n",
    ">>> result = add_mul('mul', 1,2,3,4,5)\n",
    ">>> print(result)"
   ]
  },
  {
   "cell_type": "code",
   "execution_count": 20,
   "id": "1de917d6",
   "metadata": {},
   "outputs": [],
   "source": [
    ">>> def print_kwargs(**kwargs):\n",
    "...     print(kwargs)"
   ]
  },
  {
   "cell_type": "code",
   "execution_count": 22,
   "id": "03e2491a",
   "metadata": {},
   "outputs": [
    {
     "name": "stdout",
     "output_type": "stream",
     "text": [
      "{'a': 1}\n",
      "{'name': 'foo', 'age': 3}\n"
     ]
    }
   ],
   "source": [
    ">>> print_kwargs(a=1)\n",
    ">>> print_kwargs(name='foo', age=3)"
   ]
  },
  {
   "cell_type": "code",
   "execution_count": 31,
   "id": "6f07aa3e",
   "metadata": {},
   "outputs": [],
   "source": [
    ">>> def add_and_mul(a,b): \n",
    "...     return a+b, a*b"
   ]
  },
  {
   "cell_type": "code",
   "execution_count": 32,
   "id": "a3ae7a48",
   "metadata": {},
   "outputs": [],
   "source": [
    ">>> result = add_and_mul(3,4)"
   ]
  },
  {
   "cell_type": "code",
   "execution_count": 37,
   "id": "4607f3af",
   "metadata": {},
   "outputs": [
    {
     "name": "stdout",
     "output_type": "stream",
     "text": [
      "7\n",
      "12\n"
     ]
    }
   ],
   "source": [
    ">>> result1, result2 = add_and_mul(3, 4)\n",
    "print(result1)\n",
    "print(result2)"
   ]
  },
  {
   "cell_type": "code",
   "execution_count": 26,
   "id": "f69c6efb",
   "metadata": {
    "collapsed": true
   },
   "outputs": [],
   "source": [
    "\n",
    ">>> def add_and_mul(a,b): \n",
    "...     return a+b \n",
    "...     return a*b "
   ]
  },
  {
   "cell_type": "code",
   "execution_count": 27,
   "id": "3e004347",
   "metadata": {},
   "outputs": [
    {
     "name": "stdout",
     "output_type": "stream",
     "text": [
      "5\n"
     ]
    }
   ],
   "source": [
    ">>> result = add_and_mul(2, 3)\n",
    ">>> print(result)"
   ]
  },
  {
   "cell_type": "code",
   "execution_count": 38,
   "id": "55f97d0b",
   "metadata": {},
   "outputs": [],
   "source": [
    ">>> def add_and_mul(a,b): \n",
    "...     return a+b"
   ]
  },
  {
   "cell_type": "code",
   "execution_count": 39,
   "id": "ff1f9055",
   "metadata": {},
   "outputs": [],
   "source": [
    ">>> def say_nick(nick): \n",
    "...     if nick == \"바보\": \n",
    "...         return \n",
    "...     print(\"나의 별명은 %s 입니다.\" % nick)"
   ]
  },
  {
   "cell_type": "code",
   "execution_count": 40,
   "id": "5cf3e083",
   "metadata": {},
   "outputs": [
    {
     "name": "stdout",
     "output_type": "stream",
     "text": [
      "나의 별명은 야호 입니다.\n"
     ]
    }
   ],
   "source": [
    ">>> say_nick('야호')\n",
    ">>> say_nick('바보')"
   ]
  },
  {
   "cell_type": "code",
   "execution_count": null,
   "id": "052f07cd",
   "metadata": {},
   "outputs": [],
   "source": []
  },
  {
   "cell_type": "code",
   "execution_count": 41,
   "id": "56218283",
   "metadata": {},
   "outputs": [],
   "source": [
    "# default1.py\n",
    "def say_myself(name, age, man=True): \n",
    "    print(\"나의 이름은 %s 입니다.\" % name) \n",
    "    print(\"나이는 %d살입니다.\" % age) \n",
    "    if man: \n",
    "        print(\"남자입니다.\")\n",
    "    else: \n",
    "        print(\"여자입니다.\")"
   ]
  },
  {
   "cell_type": "code",
   "execution_count": 42,
   "id": "49c55ebb",
   "metadata": {},
   "outputs": [
    {
     "name": "stdout",
     "output_type": "stream",
     "text": [
      "나의 이름은 박응용 입니다.\n",
      "나이는 27살입니다.\n",
      "남자입니다.\n"
     ]
    }
   ],
   "source": [
    "say_myself(\"박응용\", 27)"
   ]
  },
  {
   "cell_type": "code",
   "execution_count": 43,
   "id": "9055f2e8",
   "metadata": {},
   "outputs": [
    {
     "name": "stdout",
     "output_type": "stream",
     "text": [
      "나의 이름은 박응용 입니다.\n",
      "나이는 27살입니다.\n",
      "남자입니다.\n"
     ]
    }
   ],
   "source": [
    "say_myself(\"박응용\", 27, True)"
   ]
  },
  {
   "cell_type": "code",
   "execution_count": 44,
   "id": "cbbf1953",
   "metadata": {},
   "outputs": [
    {
     "name": "stdout",
     "output_type": "stream",
     "text": [
      "나의 이름은 박응선 입니다.\n",
      "나이는 27살입니다.\n",
      "여자입니다.\n"
     ]
    }
   ],
   "source": [
    "say_myself(\"박응선\", 27, False)"
   ]
  },
  {
   "cell_type": "code",
   "execution_count": 45,
   "id": "2e566ca7",
   "metadata": {},
   "outputs": [
    {
     "ename": "SyntaxError",
     "evalue": "non-default argument follows default argument (2520815712.py, line 2)",
     "output_type": "error",
     "traceback": [
      "\u001b[1;36m  Cell \u001b[1;32mIn[45], line 2\u001b[1;36m\u001b[0m\n\u001b[1;33m    def say_myself(name, man=True, age):\u001b[0m\n\u001b[1;37m                                   ^\u001b[0m\n\u001b[1;31mSyntaxError\u001b[0m\u001b[1;31m:\u001b[0m non-default argument follows default argument\n"
     ]
    }
   ],
   "source": [
    "# default2.py\n",
    "def say_myself(name, man=True, age): \n",
    "    print(\"나의 이름은 %s 입니다.\" % name) \n",
    "    print(\"나이는 %d살입니다.\" % age) \n",
    "    if man: \n",
    "        print(\"남자입니다.\") \n",
    "    else: \n",
    "        print(\"여자입니다.\")"
   ]
  },
  {
   "cell_type": "code",
   "execution_count": null,
   "id": "bd980472",
   "metadata": {},
   "outputs": [],
   "source": []
  },
  {
   "cell_type": "code",
   "execution_count": 46,
   "id": "077c58c9",
   "metadata": {},
   "outputs": [
    {
     "name": "stdout",
     "output_type": "stream",
     "text": [
      "1\n"
     ]
    }
   ],
   "source": [
    "# vartest.py\n",
    "a = 1\n",
    "def vartest(a):\n",
    "    a = a +1\n",
    "\n",
    "vartest(a)\n",
    "print(a)"
   ]
  },
  {
   "cell_type": "code",
   "execution_count": 47,
   "id": "2a6e90f3",
   "metadata": {},
   "outputs": [],
   "source": [
    "def vartest(hello):\n",
    "    hello = hello + 1"
   ]
  },
  {
   "cell_type": "code",
   "execution_count": 48,
   "id": "fb10aa48",
   "metadata": {},
   "outputs": [
    {
     "name": "stdout",
     "output_type": "stream",
     "text": [
      "1\n"
     ]
    }
   ],
   "source": [
    "# vartest_error.py\n",
    "def vartest(a):\n",
    "    a = a + 1\n",
    "\n",
    "vartest(3)\n",
    "print(a)"
   ]
  },
  {
   "cell_type": "code",
   "execution_count": 50,
   "id": "1d386109",
   "metadata": {},
   "outputs": [
    {
     "name": "stdout",
     "output_type": "stream",
     "text": [
      "2\n"
     ]
    }
   ],
   "source": [
    "# vartest_return.py\n",
    "a = 1 \n",
    "def vartest(a): \n",
    "    a = a +1 \n",
    "    return a\n",
    "\n",
    "a = vartest(a) \n",
    "print(a)"
   ]
  },
  {
   "cell_type": "code",
   "execution_count": 49,
   "id": "9b9ada18",
   "metadata": {},
   "outputs": [
    {
     "name": "stdout",
     "output_type": "stream",
     "text": [
      "2\n"
     ]
    }
   ],
   "source": [
    "# vartest_global.py\n",
    "a = 1 \n",
    "def vartest(): \n",
    "    global a \n",
    "    a = a+1\n",
    "\n",
    "vartest() \n",
    "print(a)"
   ]
  },
  {
   "cell_type": "code",
   "execution_count": null,
   "id": "c5f2df05",
   "metadata": {},
   "outputs": [],
   "source": []
  },
  {
   "cell_type": "code",
   "execution_count": 51,
   "id": "4206725f",
   "metadata": {},
   "outputs": [
    {
     "name": "stdout",
     "output_type": "stream",
     "text": [
      "7\n"
     ]
    }
   ],
   "source": [
    ">>> add = lambda a, b: a+b\n",
    ">>> result = add(3, 4)\n",
    ">>> print(result)"
   ]
  },
  {
   "cell_type": "code",
   "execution_count": 52,
   "id": "e0725d60",
   "metadata": {},
   "outputs": [
    {
     "name": "stdout",
     "output_type": "stream",
     "text": [
      "7\n"
     ]
    }
   ],
   "source": [
    ">>> def add(a, b):\n",
    "...     return a+b\n",
    "...\n",
    ">>> result = add(3, 4)\n",
    ">>> print(result)"
   ]
  },
  {
   "cell_type": "code",
   "execution_count": null,
   "id": "a754a9d7",
   "metadata": {},
   "outputs": [],
   "source": []
  },
  {
   "cell_type": "code",
   "execution_count": null,
   "id": "4c5d385c",
   "metadata": {},
   "outputs": [],
   "source": [
    ">>> a = input()\n",
    ">>> a"
   ]
  },
  {
   "cell_type": "code",
   "execution_count": null,
   "id": "c470d2e3",
   "metadata": {},
   "outputs": [],
   "source": [
    "input(\"안내_문구\")"
   ]
  },
  {
   "cell_type": "code",
   "execution_count": null,
   "id": "62d6eac3",
   "metadata": {},
   "outputs": [],
   "source": [
    ">>> number = input(\"숫자를 입력하세요: \")"
   ]
  },
  {
   "cell_type": "code",
   "execution_count": null,
   "id": "43742a03",
   "metadata": {},
   "outputs": [],
   "source": [
    ">>> number = input(\"숫자를 입력하세요: \")\n",
    ">>> print(number)"
   ]
  },
  {
   "cell_type": "code",
   "execution_count": null,
   "id": "069089f2",
   "metadata": {},
   "outputs": [],
   "source": [
    ">>> type(number)\n",
    "<class 'str'>"
   ]
  },
  {
   "cell_type": "code",
   "execution_count": null,
   "id": "0a980f39",
   "metadata": {},
   "outputs": [],
   "source": []
  },
  {
   "cell_type": "code",
   "execution_count": null,
   "id": "955cb023",
   "metadata": {},
   "outputs": [],
   "source": [
    ">>> a = 123\n",
    ">>> print(a)\n",
    "123\n",
    ">>> a = \"Python\"\n",
    ">>> print(a)\n",
    "Python\n",
    ">>> a = [1, 2, 3]\n",
    ">>> print(a)\n",
    "[1, 2, 3]"
   ]
  },
  {
   "cell_type": "code",
   "execution_count": null,
   "id": "2b8fd8e7",
   "metadata": {},
   "outputs": [],
   "source": [
    ">>> print(\"life\" \"is\" \"too short\")  # 1번\n",
    ">>> print(\"life\"+\"is\"+\"too short\")  # 2번"
   ]
  },
  {
   "cell_type": "code",
   "execution_count": null,
   "id": "11392c06",
   "metadata": {},
   "outputs": [],
   "source": [
    ">>> print(\"life\", \"is\", \"too short\")"
   ]
  },
  {
   "cell_type": "code",
   "execution_count": null,
   "id": "4c737440",
   "metadata": {},
   "outputs": [],
   "source": [
    ">>> for i in range(10):\n",
    "...     print(i, end=' ')"
   ]
  },
  {
   "cell_type": "code",
   "execution_count": null,
   "id": "b9644c46",
   "metadata": {},
   "outputs": [],
   "source": [
    "input(\"안내_문구\")"
   ]
  },
  {
   "cell_type": "code",
   "execution_count": null,
   "id": "88971422",
   "metadata": {},
   "outputs": [],
   "source": [
    ">>> number = input(\"숫자를 입력하세요: \")"
   ]
  },
  {
   "cell_type": "code",
   "execution_count": null,
   "id": "bbe0849a",
   "metadata": {},
   "outputs": [],
   "source": []
  },
  {
   "cell_type": "code",
   "execution_count": null,
   "id": "01ac4725",
   "metadata": {},
   "outputs": [],
   "source": []
  },
  {
   "cell_type": "code",
   "execution_count": null,
   "id": "316bc3f8",
   "metadata": {},
   "outputs": [],
   "source": []
  },
  {
   "cell_type": "code",
   "execution_count": null,
   "id": "5f288965",
   "metadata": {},
   "outputs": [],
   "source": []
  },
  {
   "cell_type": "code",
   "execution_count": null,
   "id": "d4315335",
   "metadata": {},
   "outputs": [],
   "source": []
  }
 ],
 "metadata": {
  "kernelspec": {
   "display_name": "Python 3 (ipykernel)",
   "language": "python",
   "name": "python3"
  },
  "language_info": {
   "codemirror_mode": {
    "name": "ipython",
    "version": 3
   },
   "file_extension": ".py",
   "mimetype": "text/x-python",
   "name": "python",
   "nbconvert_exporter": "python",
   "pygments_lexer": "ipython3",
   "version": "3.11.5"
  }
 },
 "nbformat": 4,
 "nbformat_minor": 5
}
