{
 "cells": [
  {
   "cell_type": "code",
   "execution_count": 2,
   "id": "2162a09b-0ce1-4805-955e-c4585997242d",
   "metadata": {},
   "outputs": [],
   "source": [
    "#201\n",
    "\n",
    "def print_coin():\n",
    "    print(\"비트코인\")"
   ]
  },
  {
   "cell_type": "code",
   "execution_count": 4,
   "id": "e5b87c07-75ed-400a-b1c3-d30f75ed9f3e",
   "metadata": {},
   "outputs": [
    {
     "name": "stdout",
     "output_type": "stream",
     "text": [
      "비트코인\n"
     ]
    }
   ],
   "source": [
    "#202\n",
    "\n",
    "print_coin()"
   ]
  },
  {
   "cell_type": "code",
   "execution_count": 5,
   "id": "25b8b108-4d49-4254-ab95-b92fa10f6be3",
   "metadata": {},
   "outputs": [
    {
     "name": "stdout",
     "output_type": "stream",
     "text": [
      "비트코인\n",
      "비트코인\n",
      "비트코인\n",
      "비트코인\n",
      "비트코인\n",
      "비트코인\n",
      "비트코인\n",
      "비트코인\n",
      "비트코인\n",
      "비트코인\n",
      "비트코인\n",
      "비트코인\n",
      "비트코인\n",
      "비트코인\n",
      "비트코인\n",
      "비트코인\n",
      "비트코인\n",
      "비트코인\n",
      "비트코인\n",
      "비트코인\n",
      "비트코인\n",
      "비트코인\n",
      "비트코인\n",
      "비트코인\n",
      "비트코인\n",
      "비트코인\n",
      "비트코인\n",
      "비트코인\n",
      "비트코인\n",
      "비트코인\n",
      "비트코인\n",
      "비트코인\n",
      "비트코인\n",
      "비트코인\n",
      "비트코인\n",
      "비트코인\n",
      "비트코인\n",
      "비트코인\n",
      "비트코인\n",
      "비트코인\n",
      "비트코인\n",
      "비트코인\n",
      "비트코인\n",
      "비트코인\n",
      "비트코인\n",
      "비트코인\n",
      "비트코인\n",
      "비트코인\n",
      "비트코인\n",
      "비트코인\n",
      "비트코인\n",
      "비트코인\n",
      "비트코인\n",
      "비트코인\n",
      "비트코인\n",
      "비트코인\n",
      "비트코인\n",
      "비트코인\n",
      "비트코인\n",
      "비트코인\n",
      "비트코인\n",
      "비트코인\n",
      "비트코인\n",
      "비트코인\n",
      "비트코인\n",
      "비트코인\n",
      "비트코인\n",
      "비트코인\n",
      "비트코인\n",
      "비트코인\n",
      "비트코인\n",
      "비트코인\n",
      "비트코인\n",
      "비트코인\n",
      "비트코인\n",
      "비트코인\n",
      "비트코인\n",
      "비트코인\n",
      "비트코인\n",
      "비트코인\n",
      "비트코인\n",
      "비트코인\n",
      "비트코인\n",
      "비트코인\n",
      "비트코인\n",
      "비트코인\n",
      "비트코인\n",
      "비트코인\n",
      "비트코인\n",
      "비트코인\n",
      "비트코인\n",
      "비트코인\n",
      "비트코인\n",
      "비트코인\n",
      "비트코인\n",
      "비트코인\n",
      "비트코인\n",
      "비트코인\n",
      "비트코인\n",
      "비트코인\n"
     ]
    }
   ],
   "source": [
    "#203\n",
    "\n",
    "for i in range(100):\n",
    "    print_coin()"
   ]
  },
  {
   "cell_type": "code",
   "execution_count": 7,
   "id": "ca35c05b-5470-4c25-aa87-44a59dac79f2",
   "metadata": {},
   "outputs": [],
   "source": [
    "#204\n",
    "\n",
    "def print_coins():\n",
    "    for i in range(100):\n",
    "        print(\"비트코인\")"
   ]
  },
  {
   "cell_type": "code",
   "execution_count": 8,
   "id": "a811f0f7-3100-4dd1-8cc6-dc7508d50ea5",
   "metadata": {},
   "outputs": [
    {
     "ename": "NameError",
     "evalue": "name 'hello' is not defined",
     "output_type": "error",
     "traceback": [
      "\u001b[0;31m---------------------------------------------------------------------------\u001b[0m",
      "\u001b[0;31mNameError\u001b[0m                                 Traceback (most recent call last)",
      "Cell \u001b[0;32mIn[8], line 1\u001b[0m\n\u001b[0;32m----> 1\u001b[0m \u001b[43mhello\u001b[49m()\n\u001b[1;32m      2\u001b[0m \u001b[38;5;28;01mdef\u001b[39;00m \u001b[38;5;21mhello\u001b[39m():\n\u001b[1;32m      3\u001b[0m     \u001b[38;5;28mprint\u001b[39m(\u001b[38;5;124m\"\u001b[39m\u001b[38;5;124mHi\u001b[39m\u001b[38;5;124m\"\u001b[39m)\n",
      "\u001b[0;31mNameError\u001b[0m: name 'hello' is not defined"
     ]
    }
   ],
   "source": [
    "#205\n",
    "\n",
    "hello()\n",
    "def hello():\n",
    "    print(\"Hi\")\n",
    "\n",
    "#함수가 정의되기 전에 호출되어서 에러가 발생함"
   ]
  },
  {
   "cell_type": "code",
   "execution_count": 10,
   "id": "72bd026a-4e94-4e6f-90ad-902e5eff7eb9",
   "metadata": {},
   "outputs": [
    {
     "name": "stdout",
     "output_type": "stream",
     "text": [
      "A\n",
      "B\n",
      "C\n",
      "A\n",
      "B\n"
     ]
    }
   ],
   "source": [
    "#206\n",
    "\n",
    "def message() :\n",
    "    print(\"A\")\n",
    "    print(\"B\")\n",
    "\n",
    "message()\n",
    "print(\"C\")\n",
    "message()\n",
    "\n",
    "#A\n",
    "#B\n",
    "#C\n",
    "#A\n",
    "#B"
   ]
  },
  {
   "cell_type": "code",
   "execution_count": 11,
   "id": "b95bb66f-3276-4294-b7a7-f1acc9e6f8f6",
   "metadata": {},
   "outputs": [
    {
     "name": "stdout",
     "output_type": "stream",
     "text": [
      "A\n",
      "C\n",
      "B\n"
     ]
    }
   ],
   "source": [
    "#207\n",
    "\n",
    "print(\"A\")\n",
    "\n",
    "def message() :\n",
    "    print(\"B\")\n",
    "\n",
    "print(\"C\")\n",
    "message()\n",
    "\n",
    "#A\n",
    "#C\n",
    "#B\n",
    "\n",
    "#읽기 어려운 코드의 예시임"
   ]
  },
  {
   "cell_type": "code",
   "execution_count": 12,
   "id": "b9fbae78-5edc-4e54-9fd0-b783506c60bd",
   "metadata": {},
   "outputs": [
    {
     "name": "stdout",
     "output_type": "stream",
     "text": [
      "A\n",
      "C\n",
      "B\n",
      "E\n",
      "D\n"
     ]
    }
   ],
   "source": [
    "#208\n",
    "\n",
    "print(\"A\")\n",
    "def message1() :\n",
    "    print(\"B\")\n",
    "print(\"C\")\n",
    "def message2() :\n",
    "    print(\"D\")\n",
    "message1()\n",
    "print(\"E\")\n",
    "message2()\n",
    "\n",
    "#A\n",
    "#C\n",
    "#B (message 1 함수)\n",
    "#E\n",
    "#D (message 2 함수)"
   ]
  },
  {
   "cell_type": "code",
   "execution_count": 16,
   "id": "fd9b6dff-67f0-46fb-80b1-38c3c634e346",
   "metadata": {},
   "outputs": [
    {
     "name": "stdout",
     "output_type": "stream",
     "text": [
      "B\n",
      "A\n"
     ]
    }
   ],
   "source": [
    "#209\n",
    "\n",
    "def message1():\n",
    "    print(\"A\")\n",
    "\n",
    "def message2():\n",
    "    print(\"B\")\n",
    "    message1()\n",
    "\n",
    "message2()\n",
    "\n",
    "#message2(B) 출력 후,\n",
    "#message2에 포함된 message1(A)가 출력됨"
   ]
  },
  {
   "cell_type": "code",
   "execution_count": 18,
   "id": "bd3fc1b4-0e98-4ccb-9161-5a630176fe8e",
   "metadata": {},
   "outputs": [
    {
     "name": "stdout",
     "output_type": "stream",
     "text": [
      "B\n",
      "C\n",
      "B\n",
      "C\n",
      "B\n",
      "C\n",
      "A\n"
     ]
    }
   ],
   "source": [
    "#210\n",
    "\n",
    "def message1():\n",
    "    print(\"A\")\n",
    "\n",
    "def message2():\n",
    "    print(\"B\")\n",
    "\n",
    "def message3():\n",
    "    for i in range (3) :\n",
    "        message2()\n",
    "        print(\"C\")\n",
    "    message1()\n",
    "\n",
    "message3()\n",
    "\n",
    "#B\n",
    "#C\n",
    "#B\n",
    "#C\n",
    "#B\n",
    "#C\n",
    "#A\n",
    "\n",
    "#message3은 'message2(B)+(C)' 3번 반복 후, message1(A)하는 것으로 정의됨"
   ]
  },
  {
   "cell_type": "code",
   "execution_count": 19,
   "id": "1cdfa581-92d1-4ecb-a260-4a9fa40e4b9f",
   "metadata": {},
   "outputs": [
    {
     "name": "stdout",
     "output_type": "stream",
     "text": [
      "안녕\n",
      "Hi\n"
     ]
    }
   ],
   "source": [
    "#211\n",
    "\n",
    "def 함수(문자열) :\n",
    "    print(문자열)\n",
    "\n",
    "함수(\"안녕\")\n",
    "함수(\"Hi\")"
   ]
  },
  {
   "cell_type": "code",
   "execution_count": 20,
   "id": "f573fd3e-a088-4407-a95a-7df78bae7b1b",
   "metadata": {},
   "outputs": [
    {
     "name": "stdout",
     "output_type": "stream",
     "text": [
      "7\n",
      "15\n"
     ]
    }
   ],
   "source": [
    "#212\n",
    "\n",
    "def 함수(a, b) :\n",
    "    print(a + b)\n",
    "\n",
    "함수(3, 4)\n",
    "함수(7, 8)\n",
    "\n",
    "#7\n",
    "#15"
   ]
  },
  {
   "cell_type": "code",
   "execution_count": 28,
   "id": "9202b2cd-1954-4e87-8c34-9d414a839ca6",
   "metadata": {},
   "outputs": [
    {
     "ename": "TypeError",
     "evalue": "함수() missing 1 required positional argument: '문자열'",
     "output_type": "error",
     "traceback": [
      "\u001b[0;31m---------------------------------------------------------------------------\u001b[0m",
      "\u001b[0;31mTypeError\u001b[0m                                 Traceback (most recent call last)",
      "Cell \u001b[0;32mIn[28], line 6\u001b[0m\n\u001b[1;32m      3\u001b[0m \u001b[38;5;28;01mdef\u001b[39;00m \u001b[38;5;21m함수\u001b[39m(문자열) :\n\u001b[1;32m      4\u001b[0m     \u001b[38;5;28mprint\u001b[39m(문자열)\n\u001b[0;32m----> 6\u001b[0m \u001b[43m함수\u001b[49m\u001b[43m(\u001b[49m\u001b[43m)\u001b[49m\n\u001b[1;32m      7\u001b[0m \u001b[38;5;66;03m#파라미터 누락됨, 1개의 파라미터 입력해야함\u001b[39;00m\n\u001b[1;32m      8\u001b[0m \u001b[38;5;66;03m#함수(\"\")\u001b[39;00m\n",
      "\u001b[0;31mTypeError\u001b[0m: 함수() missing 1 required positional argument: '문자열'"
     ]
    }
   ],
   "source": [
    "#213\n",
    "\n",
    "def 함수(문자열) :\n",
    "    print(문자열)\n",
    "\n",
    "함수()\n",
    "#파라미터 누락됨, 1개의 파라미터 입력해야함\n",
    "#함수(\"\")"
   ]
  },
  {
   "cell_type": "code",
   "execution_count": 26,
   "id": "80b73110-83f5-40d3-90a5-4a792bf01ec6",
   "metadata": {},
   "outputs": [
    {
     "name": "stdout",
     "output_type": "stream",
     "text": [
      "무야호\n"
     ]
    }
   ],
   "source": [
    "#213-1\n",
    "\n",
    "def 함수(문자열) :\n",
    "    print(문자열)\n",
    "\n",
    "함수(\"무야호\")"
   ]
  },
  {
   "cell_type": "code",
   "execution_count": 30,
   "id": "7826faa1-2b40-4fee-ac85-258bf100faf6",
   "metadata": {},
   "outputs": [
    {
     "ename": "TypeError",
     "evalue": "can only concatenate str (not \"int\") to str",
     "output_type": "error",
     "traceback": [
      "\u001b[0;31m---------------------------------------------------------------------------\u001b[0m",
      "\u001b[0;31mTypeError\u001b[0m                                 Traceback (most recent call last)",
      "Cell \u001b[0;32mIn[30], line 6\u001b[0m\n\u001b[1;32m      3\u001b[0m \u001b[38;5;28;01mdef\u001b[39;00m \u001b[38;5;21m함수\u001b[39m(a, b) :\n\u001b[1;32m      4\u001b[0m     \u001b[38;5;28mprint\u001b[39m(a \u001b[38;5;241m+\u001b[39m b)\n\u001b[0;32m----> 6\u001b[0m \u001b[43m함수\u001b[49m\u001b[43m(\u001b[49m\u001b[38;5;124;43m\"\u001b[39;49m\u001b[38;5;124;43m안녕\u001b[39;49m\u001b[38;5;124;43m\"\u001b[39;49m\u001b[43m,\u001b[49m\u001b[43m \u001b[49m\u001b[38;5;241;43m3\u001b[39;49m\u001b[43m)\u001b[49m\n\u001b[1;32m      8\u001b[0m \u001b[38;5;66;03m#integer 정수\u001b[39;00m\n\u001b[1;32m      9\u001b[0m \u001b[38;5;66;03m#float 소숫점이 있는 숫자\u001b[39;00m\n\u001b[1;32m     10\u001b[0m \u001b[38;5;66;03m#string 문자열(character string)\u001b[39;00m\n",
      "Cell \u001b[0;32mIn[30], line 4\u001b[0m, in \u001b[0;36m함수\u001b[0;34m(a, b)\u001b[0m\n\u001b[1;32m      3\u001b[0m \u001b[38;5;28;01mdef\u001b[39;00m \u001b[38;5;21m함수\u001b[39m(a, b) :\n\u001b[0;32m----> 4\u001b[0m     \u001b[38;5;28mprint\u001b[39m(\u001b[43ma\u001b[49m\u001b[43m \u001b[49m\u001b[38;5;241;43m+\u001b[39;49m\u001b[43m \u001b[49m\u001b[43mb\u001b[49m)\n",
      "\u001b[0;31mTypeError\u001b[0m: can only concatenate str (not \"int\") to str"
     ]
    }
   ],
   "source": [
    "#214\n",
    "\n",
    "def 함수(a, b) :\n",
    "    print(a + b)\n",
    "\n",
    "함수(\"안녕\", 3)\n",
    "\n",
    "#integer 정수\n",
    "#float 소숫점이 있는 숫자\n",
    "#string 문자열(character string)"
   ]
  },
  {
   "cell_type": "code",
   "execution_count": 36,
   "id": "602f1e7d-0a99-4e3a-b67b-495c67297437",
   "metadata": {},
   "outputs": [
    {
     "name": "stdout",
     "output_type": "stream",
     "text": [
      "안녕무야호\n",
      "9\n",
      "9.0\n",
      "9.5\n"
     ]
    }
   ],
   "source": [
    "#214-1\n",
    "\n",
    "def 함수(a, b) :\n",
    "    print(a + b)\n",
    "\n",
    "함수(\"안녕\", \"무야호\")\n",
    "함수(3, 6)\n",
    "함수(7.5, 1.5)\n",
    "함수(3.5, 6)\n",
    "\n",
    "#문자열+문자열 또는 정수+정수 소숫점+소숫점, 정수+소숫점은 가능함"
   ]
  },
  {
   "cell_type": "code",
   "execution_count": 39,
   "id": "f1dc6bca-13cb-4054-bee0-5e15d81b66da",
   "metadata": {},
   "outputs": [
    {
     "name": "stdout",
     "output_type": "stream",
     "text": [
      "무야호옹이:D\n"
     ]
    }
   ],
   "source": [
    "#215\n",
    "\n",
    "def print_with_smile (string) :\n",
    "    print (string + \":D\")\n",
    "\n",
    "print_with_smile (\"무야호옹이\")"
   ]
  },
  {
   "cell_type": "code",
   "execution_count": 40,
   "id": "768ed672-840c-4908-933b-4d775de55285",
   "metadata": {},
   "outputs": [
    {
     "name": "stdout",
     "output_type": "stream",
     "text": [
      "안녕하세요:D\n"
     ]
    }
   ],
   "source": [
    "#216\n",
    "\n",
    "print_with_smile (\"안녕하세요\")"
   ]
  },
  {
   "cell_type": "code",
   "execution_count": 54,
   "id": "4080dd40-2719-4b0c-8a8d-be998090eb65",
   "metadata": {},
   "outputs": [
    {
     "name": "stdout",
     "output_type": "stream",
     "text": [
      "910.0\n"
     ]
    }
   ],
   "source": [
    "#217\n",
    "\n",
    "def print_upper_price (price) :\n",
    "    print (price*1.3)\n",
    "\n",
    "print_upper_price (700)"
   ]
  },
  {
   "cell_type": "code",
   "execution_count": 56,
   "id": "aabcd8ec-7418-4114-b052-362dcc852c9c",
   "metadata": {},
   "outputs": [
    {
     "name": "stdout",
     "output_type": "stream",
     "text": [
      "910.0\n"
     ]
    }
   ],
   "source": [
    "#217-1\n",
    "\n",
    "def print_upper_price (price) :\n",
    "    print (price + price * 0.3)\n",
    "\n",
    "print_upper_price (700)"
   ]
  },
  {
   "cell_type": "code",
   "execution_count": 58,
   "id": "e0131494-175a-4f77-8593-4096dd6a735d",
   "metadata": {},
   "outputs": [
    {
     "name": "stdout",
     "output_type": "stream",
     "text": [
      "1040.0\n"
     ]
    }
   ],
   "source": [
    "#217-2\n",
    "\n",
    "def print_upper_price (price) :\n",
    "    print (price + price*0.3)\n",
    "\n",
    "print_upper_price (800)"
   ]
  },
  {
   "cell_type": "code",
   "execution_count": 61,
   "id": "fd328f15-37e5-4e71-8a54-28799ca70ef0",
   "metadata": {},
   "outputs": [
    {
     "name": "stdout",
     "output_type": "stream",
     "text": [
      "14\n"
     ]
    }
   ],
   "source": [
    "#218\n",
    "\n",
    "def print_sum (a, b) :\n",
    "    print (a+b)\n",
    "\n",
    "print_sum (5,9)"
   ]
  },
  {
   "cell_type": "code",
   "execution_count": 62,
   "id": "cf213436-9cf4-410d-9803-dbecd30dffdc",
   "metadata": {},
   "outputs": [
    {
     "name": "stdout",
     "output_type": "stream",
     "text": [
      "7\n",
      "-1\n",
      "12\n",
      "0.75\n"
     ]
    }
   ],
   "source": [
    "#219\n",
    "\n",
    "def print_arithmetic_operation(a, b) :\n",
    "    print (a+b)\n",
    "    print (a-b)\n",
    "    print (a*b)\n",
    "    print (a/b)\n",
    "\n",
    "print_arithmetic_operation(3, 4)"
   ]
  },
  {
   "cell_type": "code",
   "execution_count": 63,
   "id": "a32680d8-d5bb-4806-b557-70542324632e",
   "metadata": {},
   "outputs": [
    {
     "name": "stdout",
     "output_type": "stream",
     "text": [
      "5 + 7 = 12\n",
      "5 - 7 = -2\n",
      "5 X 7 = 35\n",
      "5 ÷ 7 = 0.7142857142857143\n"
     ]
    }
   ],
   "source": [
    "#219-1\n",
    "\n",
    "def print_arithmetic_operation(a, b) :\n",
    "    print (a, \"+\", b, \"=\", a + b)\n",
    "    print (a, \"-\", b, \"=\", a - b)\n",
    "    print (a, \"X\", b, \"=\", a * b)\n",
    "    print (a, \"÷\", b, \"=\", a / b)\n",
    "\n",
    "print_arithmetic_operation(5, 7)"
   ]
  },
  {
   "cell_type": "code",
   "execution_count": 65,
   "id": "cc13fd1f-d6f6-4472-8325-a31ea61a05da",
   "metadata": {},
   "outputs": [
    {
     "name": "stdout",
     "output_type": "stream",
     "text": [
      "10\n",
      "33\n",
      "100\n"
     ]
    }
   ],
   "source": [
    "#220\n",
    "\n",
    "def print_max (a, b, c) :\n",
    "    if a>b and a>c :\n",
    "        print(a)\n",
    "    elif b>a and b>c :\n",
    "        print (b)\n",
    "    elif c>a and c>b :\n",
    "        print (c)\n",
    "\n",
    "print_max (10, 1, 2)\n",
    "print_max (5,9,33)\n",
    "print_max (100,10,40)\n",
    "\n",
    "#ab, ac, bc 비교..?"
   ]
  },
  {
   "cell_type": "code",
   "execution_count": 67,
   "id": "fc88aefb-993f-40d4-a38c-4db4c6de6faa",
   "metadata": {},
   "outputs": [
    {
     "name": "stdout",
     "output_type": "stream",
     "text": [
      "30\n"
     ]
    }
   ],
   "source": [
    "#220-1\n",
    "\n",
    "def print_max(a, b, c) :\n",
    "    max_val = 0\n",
    "    if a > max_val :\n",
    "        max_val = a\n",
    "    if b > max_val :\n",
    "        max_val = b\n",
    "    if c > max_val :\n",
    "        max_val = c\n",
    "    print(max_val)\n",
    "\n",
    "print_max(10,30,2)"
   ]
  },
  {
   "cell_type": "code",
   "execution_count": 69,
   "id": "bd010b83-5b0a-44c4-92dd-99d0dbd423a1",
   "metadata": {},
   "outputs": [
    {
     "name": "stdout",
     "output_type": "stream",
     "text": [
      "90\n"
     ]
    }
   ],
   "source": [
    "#220-2\n",
    "\n",
    "def print_max(a, b, c):\n",
    "    max_val = max(a, b, c)\n",
    "    print(max_val)\n",
    "\n",
    "print_max(35,6,90)\n",
    "\n",
    "#더 쉬운 방법으로, Python의 내장 함수 max를 사용하여 최대값을 쉽게 찾을 수 있습니다. 아래는 간단한 버전의 코드입니다:"
   ]
  },
  {
   "cell_type": "code",
   "execution_count": 80,
   "id": "d57c5e54-d7ac-42e7-83b9-8ca5ed4590dc",
   "metadata": {},
   "outputs": [
    {
     "name": "stdout",
     "output_type": "stream",
     "text": [
      "이옹호야무\n"
     ]
    }
   ],
   "source": [
    "#221\n",
    "\n",
    "def print_reverse(string) :\n",
    "    print(string[::-1])\n",
    "\n",
    "print_reverse(\"무야호옹이\")"
   ]
  },
  {
   "cell_type": "code",
   "execution_count": 79,
   "id": "17f55882-487d-4869-9f20-29dd87e2389f",
   "metadata": {},
   "outputs": [
    {
     "name": "stdout",
     "output_type": "stream",
     "text": [
      "56.666666666666664\n"
     ]
    }
   ],
   "source": [
    "#222\n",
    "\n",
    "def print_score(score_list) :\n",
    "    print(sum(score_list)/len(score_list))\n",
    "\n",
    "print_score([60,90,20])"
   ]
  },
  {
   "cell_type": "code",
   "execution_count": 83,
   "id": "bed450a7-1995-48bc-932c-1308fe9d3e39",
   "metadata": {},
   "outputs": [
    {
     "name": "stdout",
     "output_type": "stream",
     "text": [
      "2\n",
      "10\n",
      "12\n"
     ]
    }
   ],
   "source": [
    "#223\n",
    "\n",
    "def print_even (number_list) :\n",
    "    for even_number in number_list :\n",
    "        if even_number % 2 == 0 :\n",
    "            print(even_number)\n",
    "\n",
    "print_even ([1, 3, 2, 10, 12, 11, 15])\n",
    "\n",
    "#odd, even..?"
   ]
  },
  {
   "cell_type": "code",
   "execution_count": null,
   "id": "b166a30d-eea0-4ed3-b239-c69005360173",
   "metadata": {},
   "outputs": [],
   "source": [
    "#223-1\n",
    "\n",
    "def print_even(input_list):\n",
    "    for number in input_list:\n",
    "        if number % 2 == 0:\n",
    "            print(number)\n",
    "\n",
    "\n",
    "# 예시 리스트\n",
    "#my_list = [1, 2, 3, 4, 5, 6, 7, 8, 9, 10]\n",
    "\n",
    "# 함수 호출\n",
    "#print_even(my_list)"
   ]
  },
  {
   "cell_type": "code",
   "execution_count": 86,
   "id": "0c2d08b4-a1ac-418a-ae00-4381228e8e7e",
   "metadata": {},
   "outputs": [
    {
     "name": "stdout",
     "output_type": "stream",
     "text": [
      "이름\n",
      "나이\n",
      "성별\n"
     ]
    }
   ],
   "source": [
    "#224\n",
    "\n",
    "def print_keys (dictionary_list):\n",
    "    for KK in dictionary_list.keys():\n",
    "        print(KK)\n",
    "\n",
    "print_keys ({\"이름\":\"김말똥\", \"나이\":30, \"성별\":0})"
   ]
  },
  {
   "cell_type": "code",
   "execution_count": 87,
   "id": "0c800907-bc88-411d-b477-7c02ea7ac6e8",
   "metadata": {},
   "outputs": [
    {
     "name": "stdout",
     "output_type": "stream",
     "text": [
      "김말똥\n",
      "30\n",
      "0\n"
     ]
    }
   ],
   "source": [
    "#224-1\n",
    "\n",
    "def print_keys (dictionary_list):\n",
    "    for KK in dictionary_list.values():\n",
    "        print(KK)\n",
    "\n",
    "print_keys ({\"이름\":\"김말똥\", \"나이\":30, \"성별\":0})"
   ]
  },
  {
   "cell_type": "code",
   "execution_count": null,
   "id": "11616728-cd26-45ff-bed9-697bcf7ae028",
   "metadata": {},
   "outputs": [],
   "source": [
    "#225"
   ]
  },
  {
   "cell_type": "code",
   "execution_count": 89,
   "id": "c18f7067-55ce-46c1-922f-69615cfc3dd9",
   "metadata": {},
   "outputs": [
    {
     "name": "stdout",
     "output_type": "stream",
     "text": [
      "아이엠어보\n",
      "이유알어걸\n"
     ]
    }
   ],
   "source": [
    "#226\n",
    "\n",
    "def print_5xn(string):\n",
    "    for new_string in range(0, len(string), 5):\n",
    "        print(string[new_string:new_string+5])\n",
    "\n",
    "print_5xn(\"아이엠어보이유알어걸\")"
   ]
  },
  {
   "cell_type": "code",
   "execution_count": 90,
   "id": "d4ce3bad-b958-4ccd-9275-8c952e5a5a65",
   "metadata": {},
   "outputs": [
    {
     "name": "stdout",
     "output_type": "stream",
     "text": [
      "아이엠\n",
      "어보이\n",
      "유알어\n",
      "걸\n"
     ]
    }
   ],
   "source": [
    "#227\n",
    "\n",
    "def print_5xn(string, number):\n",
    "    for new_string in range(0, len(string), number):\n",
    "        print(string[new_string:new_string+number])\n",
    "\n",
    "print_5xn(\"아이엠어보이유알어걸\", 3)"
   ]
  },
  {
   "cell_type": "code",
   "execution_count": null,
   "id": "868480f5-4259-4d22-88f8-a7fabc145770",
   "metadata": {},
   "outputs": [],
   "source": [
    "#228\n",
    "\n",
    "def calc_monthly_salary(annual_pay) :\n",
    "    monthly_pay = int(annual_pay / 12)\n",
    "    return monthly_pay"
   ]
  },
  {
   "cell_type": "code",
   "execution_count": 91,
   "id": "8c78330e-c10e-49f4-be96-26cb646c7e8d",
   "metadata": {},
   "outputs": [
    {
     "name": "stdout",
     "output_type": "stream",
     "text": [
      "왼쪽: 100\n",
      "오른쪽: 200\n",
      "왼쪽: 100\n",
      "오른쪽: 200\n",
      "왼쪽: 100\n",
      "오른쪽: 200\n"
     ]
    }
   ],
   "source": [
    "#229\n",
    "\n",
    "def my_print (a, b) :\n",
    "    print(\"왼쪽:\", a)\n",
    "    print(\"오른쪽:\", b)\n",
    "\n",
    "my_print(a=100, b=200)\n",
    "\n",
    "\n",
    "my_print(100, 200)\n",
    "my_print(a=100, b=200)\n"
   ]
  },
  {
   "cell_type": "code",
   "execution_count": 92,
   "id": "a26ca451-6f0e-4717-be85-34787cd55732",
   "metadata": {},
   "outputs": [
    {
     "name": "stdout",
     "output_type": "stream",
     "text": [
      "왼쪽: 200\n",
      "오른쪽: 100\n"
     ]
    }
   ],
   "source": [
    "#230\n",
    "\n",
    "def my_print (a, b) :\n",
    "    print(\"왼쪽:\", a)\n",
    "    print(\"오른쪽:\", b)\n",
    "\n",
    "my_print(b=100, a=200)\n"
   ]
  },
  {
   "cell_type": "code",
   "execution_count": 94,
   "id": "79bd0418-28f6-41cf-a662-347028f2f989",
   "metadata": {},
   "outputs": [
    {
     "ename": "SyntaxError",
     "evalue": "'return' outside function (1194253331.py, line 7)",
     "output_type": "error",
     "traceback": [
      "\u001b[0;36m  Cell \u001b[0;32mIn[94], line 7\u001b[0;36m\u001b[0m\n\u001b[0;31m    return (result)\u001b[0m\n\u001b[0m    ^\u001b[0m\n\u001b[0;31mSyntaxError\u001b[0m\u001b[0;31m:\u001b[0m 'return' outside function\n"
     ]
    }
   ],
   "source": [
    "#231\n",
    "\n",
    "def n_plus_1 (n) :\n",
    "    result = n + 1\n",
    "\n",
    "n_plus_1(3)\n",
    "print (result)\n"
   ]
  },
  {
   "cell_type": "code",
   "execution_count": 97,
   "id": "f4eb098f-b0c0-42e3-a331-8604bfd4a0d0",
   "metadata": {},
   "outputs": [],
   "source": [
    "#232\n",
    "\n",
    "def make_url(string) :\n",
    "    url = \"www.\" + string + \".com\"\n",
    "    return url\n",
    "\n",
    "def make_url(string) :\n",
    "    return \"www.\" + string + \".com\"\n"
   ]
  },
  {
   "cell_type": "code",
   "execution_count": null,
   "id": "eb667c41-f73c-46bc-8148-de8d5068aa60",
   "metadata": {},
   "outputs": [],
   "source": []
  },
  {
   "cell_type": "code",
   "execution_count": 98,
   "id": "6eef1331-5b8e-4182-91fd-f4b28302a41b",
   "metadata": {},
   "outputs": [],
   "source": [
    "#233\n",
    "\n",
    "def make_list (string) :\n",
    "    my_list = []\n",
    "    for 변수 in string :\n",
    "        my_list.append(변수)\n",
    "    return my_list\n",
    "\n",
    "def make_list (string) :\n",
    "    return list(string)\n",
    "\n"
   ]
  },
  {
   "cell_type": "code",
   "execution_count": 99,
   "id": "98156a61-3d47-46a2-a199-1cd7cd01bf8c",
   "metadata": {},
   "outputs": [],
   "source": [
    "#234\n",
    "\n",
    "def pickup_even(items):\n",
    "    result = []\n",
    "    for item in items:\n",
    "        if item % 2 == 0:\n",
    "            result.append(item)\n",
    "    return result\n"
   ]
  },
  {
   "cell_type": "code",
   "execution_count": 101,
   "id": "23f24f5d-5ddb-4d9c-ba5b-238fb78fa7fa",
   "metadata": {},
   "outputs": [],
   "source": [
    "#235\n",
    "\n",
    "def convert_int (string) :\n",
    "    return int(string.replace(',', ''))\n"
   ]
  },
  {
   "cell_type": "code",
   "execution_count": 103,
   "id": "f729d7b6-e322-4221-95c0-5eabe7c97d47",
   "metadata": {},
   "outputs": [
    {
     "name": "stdout",
     "output_type": "stream",
     "text": [
      "22\n"
     ]
    }
   ],
   "source": [
    "#236\n",
    "\n",
    "def 함수(num) :\n",
    "    return num + 4\n",
    "\n",
    "a = 함수(10)\n",
    "b = 함수(a)\n",
    "c = 함수(b)\n",
    "print(c)\n"
   ]
  },
  {
   "cell_type": "code",
   "execution_count": null,
   "id": "385f8203-c864-44d0-b43e-5ae552c59326",
   "metadata": {},
   "outputs": [],
   "source": []
  },
  {
   "cell_type": "code",
   "execution_count": 104,
   "id": "0740fc33-89d8-4385-b8e3-8dded8cdaf5c",
   "metadata": {},
   "outputs": [
    {
     "name": "stdout",
     "output_type": "stream",
     "text": [
      "22\n"
     ]
    }
   ],
   "source": [
    "#237\n",
    "\n",
    "def 함수(num) :\n",
    "    return num + 4\n",
    "\n",
    "c = 함수(함수(함수(10)))\n",
    "print(c)\n"
   ]
  },
  {
   "cell_type": "code",
   "execution_count": 113,
   "id": "9b337f1c-d33f-49cd-b04d-308a0a43ee79",
   "metadata": {},
   "outputs": [
    {
     "name": "stdout",
     "output_type": "stream",
     "text": [
      "140\n"
     ]
    }
   ],
   "source": [
    "#238\n",
    "\n",
    "def 함수1(num) :\n",
    "    return num + 4\n",
    "\n",
    "def 함수2(num) :\n",
    "    return num * 10\n",
    "\n",
    "a = 함수1(10)\n",
    "c = 함수2(a)\n",
    "print(c)\n"
   ]
  },
  {
   "cell_type": "code",
   "execution_count": 110,
   "id": "51d44019-a21e-479c-95b8-064a57415eb5",
   "metadata": {},
   "outputs": [
    {
     "name": "stdout",
     "output_type": "stream",
     "text": [
      "16\n"
     ]
    }
   ],
   "source": [
    "#239\n",
    "\n",
    "def 함수1(num) :\n",
    "    return num + 4\n",
    "\n",
    "def 함수2(num) :\n",
    "    num = num + 2\n",
    "    return 함수1(num)\n",
    "\n",
    "c = 함수2(10)\n",
    "print(c)\n"
   ]
  },
  {
   "cell_type": "code",
   "execution_count": 109,
   "id": "5ec28a39-e8c6-4f89-baef-0f972394c1af",
   "metadata": {},
   "outputs": [
    {
     "name": "stdout",
     "output_type": "stream",
     "text": [
      "28\n"
     ]
    }
   ],
   "source": [
    "#240\n",
    "\n",
    "def 함수0(num) :\n",
    "    return num * 2\n",
    "\n",
    "def 함수1(num) :\n",
    "    return 함수0(num + 2)\n",
    "\n",
    "def 함수2(num) :\n",
    "    num = num + 10\n",
    "    return 함수1(num)\n",
    "\n",
    "c = 함수2(2)\n",
    "print(c)\n"
   ]
  },
  {
   "cell_type": "code",
   "execution_count": null,
   "id": "f989d11c-49d2-4fd1-a632-8297497e35b7",
   "metadata": {},
   "outputs": [],
   "source": []
  },
  {
   "cell_type": "code",
   "execution_count": null,
   "id": "77d283d3-7cdc-445b-8ae4-12fc50b6da0a",
   "metadata": {},
   "outputs": [],
   "source": []
  },
  {
   "cell_type": "code",
   "execution_count": null,
   "id": "ed21f953-a4c3-465b-baa2-19e0c49d3a91",
   "metadata": {},
   "outputs": [],
   "source": []
  },
  {
   "cell_type": "code",
   "execution_count": null,
   "id": "34a527bf-eb11-4c1b-a4bc-0390acc68d1d",
   "metadata": {},
   "outputs": [],
   "source": []
  },
  {
   "cell_type": "code",
   "execution_count": null,
   "id": "93a18291-e056-4c66-b134-3a4528014f3b",
   "metadata": {},
   "outputs": [],
   "source": []
  }
 ],
 "metadata": {
  "kernelspec": {
   "display_name": "Python 3 (ipykernel)",
   "language": "python",
   "name": "python3"
  },
  "language_info": {
   "codemirror_mode": {
    "name": "ipython",
    "version": 3
   },
   "file_extension": ".py",
   "mimetype": "text/x-python",
   "name": "python",
   "nbconvert_exporter": "python",
   "pygments_lexer": "ipython3",
   "version": "3.12.0"
  }
 },
 "nbformat": 4,
 "nbformat_minor": 5
}
