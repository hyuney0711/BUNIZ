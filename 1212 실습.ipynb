{
 "cells": [
  {
   "cell_type": "code",
   "execution_count": 1,
   "id": "6463b47c-870f-4839-9eb5-f35670681072",
   "metadata": {},
   "outputs": [
    {
     "name": "stdout",
     "output_type": "stream",
     "text": [
      "Collecting selenium\n",
      "  Downloading selenium-4.16.0-py3-none-any.whl.metadata (6.9 kB)\n",
      "Requirement already satisfied: urllib3<3,>=1.26 in /Library/Frameworks/Python.framework/Versions/3.12/lib/python3.12/site-packages (from urllib3[socks]<3,>=1.26->selenium) (2.1.0)\n",
      "Collecting trio~=0.17 (from selenium)\n",
      "  Downloading trio-0.23.1-py3-none-any.whl.metadata (4.9 kB)\n",
      "Collecting trio-websocket~=0.9 (from selenium)\n",
      "  Downloading trio_websocket-0.11.1-py3-none-any.whl.metadata (4.7 kB)\n",
      "Requirement already satisfied: certifi>=2021.10.8 in /Library/Frameworks/Python.framework/Versions/3.12/lib/python3.12/site-packages (from selenium) (2023.11.17)\n",
      "Requirement already satisfied: attrs>=20.1.0 in /Library/Frameworks/Python.framework/Versions/3.12/lib/python3.12/site-packages (from trio~=0.17->selenium) (23.1.0)\n",
      "Collecting sortedcontainers (from trio~=0.17->selenium)\n",
      "  Downloading sortedcontainers-2.4.0-py2.py3-none-any.whl (29 kB)\n",
      "Requirement already satisfied: idna in /Library/Frameworks/Python.framework/Versions/3.12/lib/python3.12/site-packages (from trio~=0.17->selenium) (3.4)\n",
      "Collecting outcome (from trio~=0.17->selenium)\n",
      "  Downloading outcome-1.3.0.post0-py2.py3-none-any.whl.metadata (2.6 kB)\n",
      "Requirement already satisfied: sniffio>=1.3.0 in /Library/Frameworks/Python.framework/Versions/3.12/lib/python3.12/site-packages (from trio~=0.17->selenium) (1.3.0)\n",
      "Collecting wsproto>=0.14 (from trio-websocket~=0.9->selenium)\n",
      "  Downloading wsproto-1.2.0-py3-none-any.whl (24 kB)\n",
      "Collecting pysocks!=1.5.7,<2.0,>=1.5.6 (from urllib3[socks]<3,>=1.26->selenium)\n",
      "  Downloading PySocks-1.7.1-py3-none-any.whl (16 kB)\n",
      "Requirement already satisfied: h11<1,>=0.9.0 in /Library/Frameworks/Python.framework/Versions/3.12/lib/python3.12/site-packages (from wsproto>=0.14->trio-websocket~=0.9->selenium) (0.14.0)\n",
      "Downloading selenium-4.16.0-py3-none-any.whl (10.0 MB)\n",
      "\u001b[2K   \u001b[90m━━━━━━━━━━━━━━━━━━━━━━━━━━━━━━━━━━━━━━━━\u001b[0m \u001b[32m10.0/10.0 MB\u001b[0m \u001b[31m50.8 MB/s\u001b[0m eta \u001b[36m0:00:00\u001b[0m00:01\u001b[0m0:01\u001b[0m\n",
      "\u001b[?25hDownloading trio-0.23.1-py3-none-any.whl (448 kB)\n",
      "\u001b[2K   \u001b[90m━━━━━━━━━━━━━━━━━━━━━━━━━━━━━━━━━━━━━━━━\u001b[0m \u001b[32m448.3/448.3 kB\u001b[0m \u001b[31m29.4 MB/s\u001b[0m eta \u001b[36m0:00:00\u001b[0m\n",
      "\u001b[?25hDownloading trio_websocket-0.11.1-py3-none-any.whl (17 kB)\n",
      "Downloading outcome-1.3.0.post0-py2.py3-none-any.whl (10 kB)\n",
      "Installing collected packages: sortedcontainers, wsproto, pysocks, outcome, trio, trio-websocket, selenium\n",
      "Successfully installed outcome-1.3.0.post0 pysocks-1.7.1 selenium-4.16.0 sortedcontainers-2.4.0 trio-0.23.1 trio-websocket-0.11.1 wsproto-1.2.0\n"
     ]
    }
   ],
   "source": [
    "!pip install selenium"
   ]
  },
  {
   "cell_type": "code",
   "execution_count": 2,
   "id": "870e548b-fd02-4c0e-8d9d-4e8556a86a79",
   "metadata": {},
   "outputs": [],
   "source": [
    "from selenium import webdriver\n",
    "from selenium.webdriver.common.by import By\n",
    "from selenium.webdriver.chrome.options import Options\n",
    "import time\n",
    "\n",
    "options = Options()\n",
    "# options.add_argument(\"--start-maximized\")\n",
    "# options.add_argument(\"--headless=new\") \n",
    "options.add_experimental_option(\"detach\", True) #특정함수안에서  드라이버 생성시 함수종료될 때 브라우저 같이 종료되는 문제 대응"
   ]
  },
  {
   "cell_type": "code",
   "execution_count": 3,
   "id": "dd05455c-8991-49b6-aa0b-ccd196010ac8",
   "metadata": {},
   "outputs": [],
   "source": [
    "url = 'http://naver.com'\n",
    "driver = webdriver.Chrome(options=options)\n",
    "driver.get(url)\n",
    "time.sleep(2)"
   ]
  },
  {
   "cell_type": "code",
   "execution_count": 4,
   "id": "ea368de7-b88a-4653-ac4c-b08056676245",
   "metadata": {},
   "outputs": [],
   "source": [
    "driver.back()"
   ]
  },
  {
   "cell_type": "code",
   "execution_count": 5,
   "id": "3ad59847-ecb0-4470-9c7c-3ba787c9a9fb",
   "metadata": {},
   "outputs": [],
   "source": [
    "driver.forward()"
   ]
  },
  {
   "cell_type": "code",
   "execution_count": 6,
   "id": "6bb679d5-fe34-45a4-ad6c-d686d254fcb8",
   "metadata": {},
   "outputs": [],
   "source": [
    "driver.refresh()"
   ]
  },
  {
   "cell_type": "code",
   "execution_count": 8,
   "id": "19562264-b294-4951-afb3-fb8df1709278",
   "metadata": {},
   "outputs": [],
   "source": [
    "title = driver.title"
   ]
  },
  {
   "cell_type": "code",
   "execution_count": 10,
   "id": "b8e8c984-725f-4576-a4a6-b09cf263afab",
   "metadata": {},
   "outputs": [],
   "source": [
    "url = driver.current_url"
   ]
  },
  {
   "cell_type": "code",
   "execution_count": 11,
   "id": "82649876-d5a6-4242-8b34-8db376644bc8",
   "metadata": {},
   "outputs": [],
   "source": [
    "handle = driver.current_window_handle"
   ]
  },
  {
   "cell_type": "code",
   "execution_count": 12,
   "id": "e641899e-3334-4c5f-bf86-d75151d80d24",
   "metadata": {},
   "outputs": [
    {
     "name": "stdout",
     "output_type": "stream",
     "text": [
      "NAVER https://www.naver.com/ D6A06890197FCCE56003555EE90AA023\n"
     ]
    }
   ],
   "source": [
    "print(title, url, handle)"
   ]
  },
  {
   "cell_type": "code",
   "execution_count": 13,
   "id": "4d378480-c864-406f-a8fe-6a695e7250c5",
   "metadata": {},
   "outputs": [
    {
     "data": {
      "text/plain": [
       "\u001b[0;31mSignature:\u001b[0m \u001b[0mdriver\u001b[0m\u001b[0;34m.\u001b[0m\u001b[0mfind_element\u001b[0m\u001b[0;34m(\u001b[0m\u001b[0mby\u001b[0m\u001b[0;34m=\u001b[0m\u001b[0;34m'id'\u001b[0m\u001b[0;34m,\u001b[0m \u001b[0mvalue\u001b[0m\u001b[0;34m:\u001b[0m \u001b[0mOptional\u001b[0m\u001b[0;34m[\u001b[0m\u001b[0mstr\u001b[0m\u001b[0;34m]\u001b[0m \u001b[0;34m=\u001b[0m \u001b[0;32mNone\u001b[0m\u001b[0;34m)\u001b[0m \u001b[0;34m->\u001b[0m \u001b[0mselenium\u001b[0m\u001b[0;34m.\u001b[0m\u001b[0mwebdriver\u001b[0m\u001b[0;34m.\u001b[0m\u001b[0mremote\u001b[0m\u001b[0;34m.\u001b[0m\u001b[0mwebelement\u001b[0m\u001b[0;34m.\u001b[0m\u001b[0mWebElement\u001b[0m\u001b[0;34m\u001b[0m\u001b[0;34m\u001b[0m\u001b[0m\n",
       "\u001b[0;31mDocstring:\u001b[0m\n",
       "Find an element given a By strategy and locator.\n",
       "\n",
       ":Usage:\n",
       "    ::\n",
       "\n",
       "        element = driver.find_element(By.ID, 'foo')\n",
       "\n",
       ":rtype: WebElement\n",
       "\u001b[0;31mFile:\u001b[0m      /Library/Frameworks/Python.framework/Versions/3.12/lib/python3.12/site-packages/selenium/webdriver/remote/webdriver.py\n",
       "\u001b[0;31mType:\u001b[0m      method"
      ]
     },
     "metadata": {},
     "output_type": "display_data"
    }
   ],
   "source": [
    "driver.find_element?"
   ]
  },
  {
   "cell_type": "code",
   "execution_count": 14,
   "id": "9c41b2e8-8c02-406d-9bf0-0c5ea2dd2f3f",
   "metadata": {},
   "outputs": [
    {
     "data": {
      "text/plain": [
       "<selenium.webdriver.remote.webelement.WebElement (session=\"8e92f4d99cfa521a95816df24ffffd4f\", element=\"B577F681739EF0D823C67CA4C6C02104_element_101\")>"
      ]
     },
     "execution_count": 14,
     "metadata": {},
     "output_type": "execute_result"
    }
   ],
   "source": [
    "driver.find_element(By.ID, \"query\")"
   ]
  },
  {
   "cell_type": "code",
   "execution_count": 15,
   "id": "461bbcca-7e6b-4c4d-bd4e-e264ecaf4003",
   "metadata": {},
   "outputs": [],
   "source": [
    "# 키입력\n",
    "driver.find_element(By.ID, \"query\").send_keys('뉴진스')"
   ]
  },
  {
   "cell_type": "code",
   "execution_count": 16,
   "id": "88a158d9-a939-4688-abc5-f8157b52474e",
   "metadata": {},
   "outputs": [],
   "source": [
    "driver.find_element(By.CLASS_NAME, \"search_input\").send_keys('블랙핑크')"
   ]
  },
  {
   "cell_type": "code",
   "execution_count": 17,
   "id": "cbb867ae-24ea-40cf-ae36-850fe48a63fa",
   "metadata": {},
   "outputs": [],
   "source": [
    "driver.find_element(By.NAME, \"query\").send_keys('르세라핌')"
   ]
  },
  {
   "cell_type": "code",
   "execution_count": 18,
   "id": "cfd09b22-7a4f-4427-bda1-cd2db3f04113",
   "metadata": {},
   "outputs": [],
   "source": [
    "driver.find_element(By.CSS_SELECTOR, \".search_input\").send_keys('세븐틴')"
   ]
  },
  {
   "cell_type": "code",
   "execution_count": 19,
   "id": "7192454d-e7ae-4e1c-8407-c9cef7fe6cb0",
   "metadata": {},
   "outputs": [],
   "source": [
    "driver.find_element(By.CSS_SELECTOR, \"#query\").send_keys('에스파')"
   ]
  },
  {
   "cell_type": "code",
   "execution_count": 20,
   "id": "6ab0aa76-3187-4bbc-bc34-71284eda9328",
   "metadata": {},
   "outputs": [],
   "source": [
    "driver.find_element(By.CSS_SELECTOR, \"[title='검색어를 입력해 주세요.']\").send_keys('트와이스')"
   ]
  },
  {
   "cell_type": "code",
   "execution_count": 22,
   "id": "2631f656-f245-4f9b-9dfe-92b44d1ea2ed",
   "metadata": {},
   "outputs": [],
   "source": [
    "driver.find_element(By.CSS_SELECTOR, \"[placeholder='검색어를 입력해 주세요.']\").send_keys('트와이스')"
   ]
  },
  {
   "cell_type": "code",
   "execution_count": 23,
   "id": "8174596d-a8d5-40b5-a329-34929c555be0",
   "metadata": {},
   "outputs": [],
   "source": [
    "driver.find_element(By.XPATH,\"//*[@id='query']\").send_keys('BTS')"
   ]
  },
  {
   "cell_type": "code",
   "execution_count": null,
   "id": "fadab43f-c280-454e-a761-2485b0dc7f87",
   "metadata": {},
   "outputs": [],
   "source": []
  },
  {
   "cell_type": "code",
   "execution_count": 24,
   "id": "c6e7067f-b8fb-429e-a8c4-b3bc0f0f02ff",
   "metadata": {},
   "outputs": [
    {
     "data": {
      "text/plain": [
       "<selenium.webdriver.remote.webelement.WebElement (session=\"8e92f4d99cfa521a95816df24ffffd4f\", element=\"B577F681739EF0D823C67CA4C6C02104_element_236\")>"
      ]
     },
     "execution_count": 24,
     "metadata": {},
     "output_type": "execute_result"
    }
   ],
   "source": [
    "driver.find_element(By.LINK_TEXT, '쇼핑')"
   ]
  },
  {
   "cell_type": "code",
   "execution_count": 25,
   "id": "9b5d6075-801d-4621-a95c-e30591ed8c56",
   "metadata": {},
   "outputs": [],
   "source": [
    "driver.find_element(By.LINK_TEXT, '쇼핑').click()"
   ]
  },
  {
   "cell_type": "code",
   "execution_count": 26,
   "id": "91a9124e-70c1-4a18-9d45-ad5a431a7606",
   "metadata": {},
   "outputs": [],
   "source": [
    "driver.find_element(By.PARTIAL_LINK_TEXT, '쇼').click()"
   ]
  },
  {
   "cell_type": "code",
   "execution_count": 27,
   "id": "35e6ca46-a8b3-48da-aba2-0e85eded353f",
   "metadata": {},
   "outputs": [
    {
     "data": {
      "text/plain": [
       "<selenium.webdriver.remote.webelement.WebElement (session=\"8e92f4d99cfa521a95816df24ffffd4f\", element=\"B577F681739EF0D823C67CA4C6C02104_element_299\")>"
      ]
     },
     "execution_count": 27,
     "metadata": {},
     "output_type": "execute_result"
    }
   ],
   "source": [
    "driver.find_element(By.TAG_NAME, 'div')"
   ]
  },
  {
   "cell_type": "code",
   "execution_count": 29,
   "id": "4ba6b07b-09af-409f-baf8-0d98c697da0b",
   "metadata": {},
   "outputs": [],
   "source": [
    "links = driver.find_elements(By.CSS_SELECTOR, '.link_service')"
   ]
  },
  {
   "cell_type": "code",
   "execution_count": 30,
   "id": "b894bf1d-2abc-4019-91a5-caaf673e634a",
   "metadata": {},
   "outputs": [
    {
     "name": "stdout",
     "output_type": "stream",
     "text": [
      "<selenium.webdriver.remote.webelement.WebElement (session=\"8e92f4d99cfa521a95816df24ffffd4f\", element=\"B577F681739EF0D823C67CA4C6C02104_element_224\")>\n",
      "<selenium.webdriver.remote.webelement.WebElement (session=\"8e92f4d99cfa521a95816df24ffffd4f\", element=\"B577F681739EF0D823C67CA4C6C02104_element_228\")>\n",
      "<selenium.webdriver.remote.webelement.WebElement (session=\"8e92f4d99cfa521a95816df24ffffd4f\", element=\"B577F681739EF0D823C67CA4C6C02104_element_232\")>\n",
      "<selenium.webdriver.remote.webelement.WebElement (session=\"8e92f4d99cfa521a95816df24ffffd4f\", element=\"B577F681739EF0D823C67CA4C6C02104_element_236\")>\n",
      "<selenium.webdriver.remote.webelement.WebElement (session=\"8e92f4d99cfa521a95816df24ffffd4f\", element=\"B577F681739EF0D823C67CA4C6C02104_element_240\")>\n",
      "<selenium.webdriver.remote.webelement.WebElement (session=\"8e92f4d99cfa521a95816df24ffffd4f\", element=\"B577F681739EF0D823C67CA4C6C02104_element_244\")>\n",
      "<selenium.webdriver.remote.webelement.WebElement (session=\"8e92f4d99cfa521a95816df24ffffd4f\", element=\"B577F681739EF0D823C67CA4C6C02104_element_248\")>\n",
      "<selenium.webdriver.remote.webelement.WebElement (session=\"8e92f4d99cfa521a95816df24ffffd4f\", element=\"B577F681739EF0D823C67CA4C6C02104_element_1019\")>\n",
      "<selenium.webdriver.remote.webelement.WebElement (session=\"8e92f4d99cfa521a95816df24ffffd4f\", element=\"B577F681739EF0D823C67CA4C6C02104_element_1023\")>\n",
      "<selenium.webdriver.remote.webelement.WebElement (session=\"8e92f4d99cfa521a95816df24ffffd4f\", element=\"B577F681739EF0D823C67CA4C6C02104_element_1027\")>\n"
     ]
    }
   ],
   "source": [
    "for link in links:\n",
    "    print(link)"
   ]
  },
  {
   "cell_type": "code",
   "execution_count": 31,
   "id": "28311249-79d7-4bde-b13a-d2c5753f3b16",
   "metadata": {},
   "outputs": [
    {
     "name": "stdout",
     "output_type": "stream",
     "text": [
      "<a href=\"https://mail.naver.com\" class=\"link_service\" target=\"_blank\"><span class=\"service_icon type_mail\"></span><span class=\"service_name\">메일</span></a>\n",
      "\n",
      "<a href=\"https://cafe.naver.com\" class=\"link_service\" target=\"_blank\"><span class=\"service_icon type_cafe\"></span><span class=\"service_name\">카페</span></a>\n",
      "\n",
      "<a href=\"https://blog.naver.com\" class=\"link_service\" target=\"_blank\"><span class=\"service_icon type_blog\"></span><span class=\"service_name\">블로그</span></a>\n",
      "\n",
      "<a href=\"https://shopping.naver.com/home\" class=\"link_service\" target=\"_blank\"><span class=\"service_icon type_shopping\"></span><span class=\"service_name\">쇼핑</span></a>\n",
      "\n",
      "<a href=\"https://news.naver.com/\" class=\"link_service\" target=\"_blank\"><span class=\"service_icon type_news\"></span><span class=\"service_name\">뉴스</span></a>\n",
      "\n",
      "<a href=\"https://finance.naver.com/\" class=\"link_service\" target=\"_blank\"><span class=\"service_icon type_stock\"></span><span class=\"service_name\">증권</span></a>\n",
      "\n",
      "<a href=\"https://land.naver.com/\" class=\"link_service\" target=\"_blank\"><span class=\"service_icon type_real\"></span><span class=\"service_name\">부동산</span></a>\n",
      "\n",
      "<a href=\"https://map.naver.com\" class=\"link_service\" target=\"_blank\"><span class=\"service_icon type_map\"></span><span class=\"service_name\">지도</span></a>\n",
      "\n",
      "<a href=\"https://comic.naver.com\" class=\"link_service\" target=\"_blank\"><span class=\"service_icon type_webtoon\"></span><span class=\"service_name\">웹툰</span></a>\n",
      "\n",
      "<a href=\"#\" class=\"link_service\" role=\"button\"><span class=\"service_icon type_more\"></span><span class=\"blind\">바로가기 펼침</span></a>\n",
      "\n"
     ]
    }
   ],
   "source": [
    "for link in links:\n",
    "    print(link.get_attribute(\"outerHTML\"))\n",
    "    print()"
   ]
  },
  {
   "cell_type": "code",
   "execution_count": null,
   "id": "de167735-bd57-4bcd-8596-8c9aa54af027",
   "metadata": {},
   "outputs": [],
   "source": []
  },
  {
   "cell_type": "code",
   "execution_count": 32,
   "id": "b4241974-ab0f-4966-a9ee-c7a517016bce",
   "metadata": {},
   "outputs": [],
   "source": [
    "url = 'file:///Users/bunnyboyz/Downloads/signin.html'\n",
    "driver = webdriver.Chrome(options=options)\n",
    "driver.get(url)\n",
    "time.sleep(2)"
   ]
  },
  {
   "cell_type": "code",
   "execution_count": 33,
   "id": "2c377e99-b314-4bdc-95e4-947948b95a25",
   "metadata": {},
   "outputs": [],
   "source": [
    "username = driver.find_element(By.NAME, \"username\")\n",
    "username.send_keys('hyuney0711')"
   ]
  },
  {
   "cell_type": "code",
   "execution_count": 34,
   "id": "5b224fba-2025-45a0-ace7-cc91b065edb3",
   "metadata": {},
   "outputs": [],
   "source": [
    "username = driver.find_element(By.NAME, \"password\")\n",
    "username.send_keys('1595159')"
   ]
  },
  {
   "cell_type": "code",
   "execution_count": 35,
   "id": "105eb2aa-f743-448f-aa00-52f08c09ee38",
   "metadata": {},
   "outputs": [],
   "source": [
    "login =  driver.find_element(By.XPATH, '//*[@id=\"loginForm\"]/input[3]')\n",
    "login.click()"
   ]
  },
  {
   "cell_type": "code",
   "execution_count": 36,
   "id": "9e5ee9bd-c62c-4235-b80d-0b8420539bb6",
   "metadata": {},
   "outputs": [],
   "source": [
    "login =  driver.find_element(By.CSS_SELECTOR, \"#loginForm > input[type=submit]:nth-child(5)\")\n",
    "login.click()"
   ]
  },
  {
   "cell_type": "code",
   "execution_count": null,
   "id": "efd50463-2190-47c8-bd4c-db8a99a0b5cd",
   "metadata": {},
   "outputs": [],
   "source": [
    "login =  driver.find_element(By.CSS_SELECTOR, \"[value='Login']\")\n",
    "login.click()"
   ]
  },
  {
   "cell_type": "code",
   "execution_count": null,
   "id": "bd9091ab-aaee-43c5-9433-4d5a0f483897",
   "metadata": {},
   "outputs": [],
   "source": [
    "driver.back()"
   ]
  },
  {
   "cell_type": "code",
   "execution_count": null,
   "id": "1e554a6e-b245-4354-99be-569441632deb",
   "metadata": {},
   "outputs": [],
   "source": [
    "# 입력창 clear 하기\n",
    "# 세션끊기면 다시 접근해야함\n",
    "username = driver.find_element(By.NAME, \"username\")\n",
    "username.clear()"
   ]
  },
  {
   "cell_type": "code",
   "execution_count": null,
   "id": "c9bd33cd-3556-4e40-9c92-137206849f0c",
   "metadata": {},
   "outputs": [],
   "source": [
    "username.submit()\n"
   ]
  },
  {
   "cell_type": "code",
   "execution_count": null,
   "id": "549d8003-e072-42d9-931c-e132ee1ff327",
   "metadata": {},
   "outputs": [],
   "source": [
    "driver.find_element(By.TAG_NAME, 'p').text\n"
   ]
  },
  {
   "cell_type": "code",
   "execution_count": null,
   "id": "fecec148-8277-4df0-b46f-d19c7a9fce1c",
   "metadata": {},
   "outputs": [],
   "source": [
    "driver.page_source\n"
   ]
  },
  {
   "cell_type": "code",
   "execution_count": null,
   "id": "8149b11f-f19f-4984-b3a8-ffa77e119d0b",
   "metadata": {},
   "outputs": [],
   "source": [
    "driver.close()\n"
   ]
  },
  {
   "cell_type": "code",
   "execution_count": null,
   "id": "a080e267-fc8f-45d6-98dd-f9e7c904e426",
   "metadata": {},
   "outputs": [],
   "source": []
  },
  {
   "cell_type": "code",
   "execution_count": 37,
   "id": "6b69e63d-03ed-4214-bb30-15d12c36b508",
   "metadata": {},
   "outputs": [],
   "source": [
    "from selenium import webdriver\n",
    "from selenium.webdriver.common.by import By\n",
    "from selenium.webdriver.chrome.options import Options\n",
    "import time\n",
    "\n",
    "options = Options()\n",
    "# options.add_argument(\"--headless=new\") \n",
    "# options.add_argument('--window-size= x, y') #실행되는 브라우저 크기를 지정할 수 있습니다.\n",
    "# options.add_argument('--start-maximized') #브라우저가 최대화된 상태로 실행됩니다.\n",
    "# options.add_argument('--start-fullscreen') #브라우저가 풀스크린 모드(F11)로 실행됩니다.\n",
    "# options.add_argument('--blink-settings=imagesEnabled=false') #브라우저에서 이미지 로딩을 하지 않습니다.\n",
    "# options.add_argument('--mute-audio') #브라우저에 음소거 옵션을 적용합니다.\n",
    "# options.add_argument('incognito') #시크릿 모드의 브라우저가 실행됩니다.\n",
    "options.add_experimental_option(\"detach\", True) #특정함수안에서  드라이버 생성시 함수종료될 때 브라우저 같이 종료되는 문제 대응"
   ]
  },
  {
   "cell_type": "code",
   "execution_count": 38,
   "id": "396c999b-26f5-4cb3-84db-2b97df6e2358",
   "metadata": {},
   "outputs": [],
   "source": [
    "url = 'http://naver.com'\n",
    "driver = webdriver.Chrome(options=options)\n",
    "driver.get(url)\n",
    "time.sleep(2)"
   ]
  },
  {
   "cell_type": "code",
   "execution_count": 39,
   "id": "3c695b04-8d33-426f-b4a8-8c95349887db",
   "metadata": {},
   "outputs": [
    {
     "name": "stdout",
     "output_type": "stream",
     "text": [
      "NAVER\n"
     ]
    }
   ],
   "source": [
    "print(driver.title)"
   ]
  },
  {
   "cell_type": "code",
   "execution_count": 40,
   "id": "abc906e6-3d95-4369-aa7f-28d75da8435e",
   "metadata": {},
   "outputs": [],
   "source": [
    "driver.quit()"
   ]
  },
  {
   "cell_type": "code",
   "execution_count": null,
   "id": "05c68fbc-db89-4f4a-8b75-44b603e21211",
   "metadata": {},
   "outputs": [],
   "source": []
  },
  {
   "cell_type": "code",
   "execution_count": 54,
   "id": "d6f78b6a-d310-4b39-bbfe-b7ccc5eafc82",
   "metadata": {},
   "outputs": [],
   "source": [
    "from selenium import webdriver\n",
    "from selenium.webdriver.common.by import By\n",
    "from selenium.webdriver.chrome.options import Options\n",
    "import time\n",
    "\n",
    "options = Options()\n",
    "# options.add_argument(\"--start-maximized\")\n",
    "# options.add_argument(\"--headless=new\") \n",
    "options.add_experimental_option(\"detach\", True) #\n",
    "\n",
    "url = 'http://naver.com'\n",
    "driver = webdriver.Chrome(options=options)\n",
    "driver.get(url)\n",
    "time.sleep(2)"
   ]
  },
  {
   "cell_type": "code",
   "execution_count": 55,
   "id": "94683aed-c0a0-457d-bdad-ba6868a5e0f4",
   "metadata": {},
   "outputs": [
    {
     "name": "stdout",
     "output_type": "stream",
     "text": [
      "1200px 2491px\n"
     ]
    }
   ],
   "source": [
    "size = driver.get_window_size()\n",
    "width = size.get(\"width\")\n",
    "height = size.get(\"height\")\n",
    "\n",
    "print(str(width)+\"px\"+\" \"+str(height)+\"px\")"
   ]
  },
  {
   "cell_type": "code",
   "execution_count": 56,
   "id": "66c4edb0-1317-4046-b5e5-e1a0cd368991",
   "metadata": {},
   "outputs": [],
   "source": [
    "driver.set_window_size(800, 600)\n"
   ]
  },
  {
   "cell_type": "code",
   "execution_count": 57,
   "id": "bd393cef-d946-4843-960d-a7330dc84c2b",
   "metadata": {},
   "outputs": [
    {
     "name": "stdout",
     "output_type": "stream",
     "text": [
      "x : -1418 y : 47\n"
     ]
    }
   ],
   "source": [
    "position = driver.get_window_position()\n",
    "x = position.get('x')\n",
    "y = position.get('y')\n",
    "\n",
    "print(\"x : \"+str(x)+\" \"+\"y : \"+str(y))"
   ]
  },
  {
   "cell_type": "code",
   "execution_count": 58,
   "id": "1c5d6d30-3e26-45c7-87ab-a4c51202203b",
   "metadata": {},
   "outputs": [
    {
     "data": {
      "text/plain": [
       "{'height': 600, 'width': 800, 'x': 10, 'y': 38}"
      ]
     },
     "execution_count": 58,
     "metadata": {},
     "output_type": "execute_result"
    }
   ],
   "source": [
    "driver.set_window_position(10,10)\n"
   ]
  },
  {
   "cell_type": "code",
   "execution_count": 59,
   "id": "e9cec7e6-4a41-4d11-85b3-f00185b63c8c",
   "metadata": {},
   "outputs": [],
   "source": [
    "# 창 크기 최대화\n",
    "driver.maximize_window()"
   ]
  },
  {
   "cell_type": "code",
   "execution_count": 50,
   "id": "61a2cc6c-90e1-4774-bac1-f7fecd6def25",
   "metadata": {},
   "outputs": [],
   "source": [
    "# 창 크기 최소화\n",
    "driver.minimize_window()"
   ]
  },
  {
   "cell_type": "code",
   "execution_count": 51,
   "id": "8a4a5f99-dbe5-4326-99cb-8cb569e1d306",
   "metadata": {},
   "outputs": [],
   "source": [
    "# 전체 화면\n",
    "driver.fullscreen_window()"
   ]
  },
  {
   "cell_type": "code",
   "execution_count": 60,
   "id": "f8852935-c263-46af-8384-189b5abd67b9",
   "metadata": {},
   "outputs": [
    {
     "data": {
      "text/plain": [
       "True"
      ]
     },
     "execution_count": 60,
     "metadata": {},
     "output_type": "execute_result"
    }
   ],
   "source": [
    "# 스크린 샷\n",
    "driver.save_screenshot('/Users/bunnyboyz/Downloads/#AI 부트캠프/workspace/image.png')"
   ]
  },
  {
   "cell_type": "code",
   "execution_count": 53,
   "id": "9ebd207a-46f2-4959-b536-3d51f8129fbe",
   "metadata": {},
   "outputs": [],
   "source": [
    "driver.close()\n"
   ]
  },
  {
   "cell_type": "code",
   "execution_count": null,
   "id": "b35f3628-2618-48b4-9add-39d3aae63b8a",
   "metadata": {},
   "outputs": [],
   "source": []
  },
  {
   "cell_type": "code",
   "execution_count": 61,
   "id": "2a6cdb40-2743-444a-86a4-7d0ad8c175c4",
   "metadata": {},
   "outputs": [],
   "source": [
    "from selenium import webdriver\n",
    "from selenium.webdriver.common.by import By\n",
    "from selenium.webdriver.chrome.options import Options\n",
    "import time, random, pandas as pd\n",
    "\n",
    "options = Options()\n",
    "options.add_argument('--window-size=974,1047')\n",
    "options.add_argument('--window-position=953,0')\n",
    "options.add_experimental_option(\"detach\", True)"
   ]
  },
  {
   "cell_type": "code",
   "execution_count": 62,
   "id": "fe11701e-b03a-494d-809f-51139b4a7fe9",
   "metadata": {},
   "outputs": [],
   "source": [
    "# 웹드라이버 로드\n",
    "driver = webdriver.Chrome( options = options)"
   ]
  },
  {
   "cell_type": "code",
   "execution_count": 63,
   "id": "c9bc4e43-4274-47eb-b6f3-9f23361da1d9",
   "metadata": {},
   "outputs": [],
   "source": [
    "# 조건 설정\n",
    "where = 'blog'\n",
    "query = '인공지능'\n",
    "dateform = '20221020to20231020'\n",
    "url = f'https://search.naver.com/search.naver?where={where}&query={query}&sm=tab_op&nso=so:r,p:from{dateform}'\n",
    "fname = f'{where}_{query}_{dateform}'"
   ]
  },
  {
   "cell_type": "code",
   "execution_count": 64,
   "id": "7dd115ea-df9b-410a-85a4-9a0efb239b0c",
   "metadata": {},
   "outputs": [],
   "source": [
    "# url 접속\n",
    "driver.get(url)\n",
    "time.sleep(random.randint(2,3))"
   ]
  },
  {
   "cell_type": "code",
   "execution_count": null,
   "id": "be5fc58d-b2fc-413f-b94e-81d77a01745f",
   "metadata": {},
   "outputs": [],
   "source": []
  },
  {
   "cell_type": "code",
   "execution_count": 65,
   "id": "066a5be1-7c9d-405a-8a0e-c2d9b4a4d927",
   "metadata": {},
   "outputs": [],
   "source": [
    "#네이버 뷰는 최대 1050까지만 노출 # 스크롤 10번\n",
    "for i in range(10):\n",
    "    driver.execute_script('window.scrollTo(0, document.body.scrollHeight);')\n",
    "    time.sleep(random.randint(2, 3))"
   ]
  },
  {
   "cell_type": "code",
   "execution_count": 66,
   "id": "65e8522a-281e-4503-9903-436c326b8a00",
   "metadata": {},
   "outputs": [
    {
     "name": "stdout",
     "output_type": "stream",
     "text": [
      "{'title': '엘지 휘센 인공지능스스로에어컨(FQ19P7DPAN) 누수현상 해결...', 'text': '엘지 인공지능스스로에어컨 분해방법은 해 보지 않으면 어렵고 당황스럽지만 막상 해 보면 쉽습니다. 다만 몇 가지 조심해야 할 부분이 있어 정리합니다. 먼저 엘지 휘센 인공기능스스로 에어컨의 전원 플러그는 실외기에서 공급을 받으니 실외기 쪽으로 가셔서 전원 플러글...', 'date': '2023.08.09.'}\n",
      "{'title': '로보어드바이저 수익률 비교, 인공지능 투자 성과는?', 'text': '그럼 인공지능인 로보어드바이저와 일반 펀드의 운용 성과는 어땠을까요? 2022년 펀드 운용 성과 2022년 우리나라 국민의 일반펀드 평균... 저도 그렇지만 인공지능이 운용하는 상품을 찾고 계신 분들도 의외로 많습니다. 제가 현재 가입하고 있다는 이야기를 하면 대부분의...', 'date': '2023.09.26.'}\n",
      "{'title': '[종목분석] 의료 인공지능 딥노이드 주가 전망을 살펴봅니다', 'text': '그 중에서 오늘은 인공지능 딥노이드 주가를 살펴보려고 하는데 해당 종목은 이미 많이 상승한 상태입니다. 그렇다고 버릴 수는... ▣인공지능이란 AI는 Artificial Intelligence의 약자로 인간의 지적능력을 컴퓨터를 통해 구현하는 과학기술입니다. 4차 산업혁명으로 국내 뿐만...', 'date': '2023.08.30.'}\n",
      "{'title': 'AI 인공지능 파이토치 서적으로 가볍게 시작해보죠', 'text': '인공지능이 표면적으로 한풀 꺽였다고는 하지만 관련된 서적과 툴들은 꾸준하게 발전하고 있습니다. 언어모델 개발뿐만 아니랄 이를... 10. 인공지능과 코딩 프로그래밍이라는 단어아래 후끈한 이 시장에 알고 있어야 사람을 구하고 일도 시킬 수 있어서 오늘도 공부를 해야 하네요...', 'date': '2023.10.02.'}\n",
      "{'title': 'NPU 관련주 뜻 - 인공지능 구글 텔레칩스 칩스앤미디어 주가 전망', 'text': 'NPU 관련주 뜻 - 인공지능 구글 텔레칩스 칩스앤미디어 주가 전망 NPU 뜻 NPU 는 Neural Processing Unit 의 약자로서 인간의 신경망을 따라하여 만들어진 인공신경망을 구현할 수 있는 반도체입니다. 인공지능 개발의 핵심적인 역할을 합니다. 컴퓨터의 두뇌는 CPU 로 만들어집니다....', 'date': '2023.10.09.'}\n",
      "{'title': '인공지능에 기반한 신약개발 관련 기업들에 대한 생각', 'text': '이 글에서는 그동안 단편적으로 언급했던 인공지능에 기반한 신약개발 바이오 기업들에 대한 생각을 간단히 정리하고자 합니다. 오늘... 리커전 파마슈티컬스는 보도자료를 통해 엔비디아 클라우드 서비스를 사용해 인공지능 기반 모델의 개발을 가속화할 것이라고 밝혔고...', 'date': '2023.07.13.'}\n",
      "{'title': '인공지능(AI)이 인간의 일자리를 감소시킬 것인가?', 'text': '인공지능이 인간의 일자리를 대체? 이 질문은 최근에 사람들의 관심을 끌며 치열한 논쟁을 일으키고 있습니다. ChatGPT, Bard 및 Mindjourney와... 감성지능 수준이 부족하다고 주장합니다. 일부 낙관론자들은 AI가 특정 역할에서 인간의 능력을 향상시킬 수는 있지만 대체할 수는 없다고...', 'date': '2023.07.13.'}\n",
      "{'title': '태양광 발전소 고장, 인공지능이 물샐틈없이 관리한다!', 'text': '한국에너지기술연구원 신재생시스템연구실 고석환 박사 연구진은 인공지능(AI)을 활용한 태양광 발전 고장 진단 기술을 개발했습니다. 10년 이상 태양광발전소 고장진단평가를 수행하며 수집한 I-V곡선* 정보를 데이터베이스화하고, 인공지능 모델을 적용해 현장에 가지 않고도...', 'date': '2023.10.10.'}\n",
      "{'title': '인공지능 AI 스피커 삼성 갤럭시 홈미니 기능', 'text': '버들붕어입니다.^^ 이버 시간에는 인공지능 AI 스피커 삼성 갤럭시 홈미니 기능에 대해 자세하게 알아보도록 하겠습니다. 해당 제품은... 사진출처: Samsung 온라인 몰을 이용한 최저가 금액으로는 7만 원대에 AI 인공지능 스피커 구매할 수 있으며, 앞서 말한 거와 같이 MINI...', 'date': '2023.09.04.'}\n",
      "{'title': 'AI인공지능 관련주 산업의 발달은 기계가 하게되는걸까', 'text': '언젠가부터 로봇에관련된 산업들이 다시금 발전을 하고 주목을 받고있으며, 챗gdp라는 기능이 도입이 되면서 AI인공지능에 관련된... AI인공지능 관련주 주가 단순하게 생각을 해보면 일상생활을 하면서 영향을 줄수있는 산업들에도 많이 분포가 되어있겠지만, 우리들이 모르고있는...', 'date': '2023.09.05.'}\n",
      "{'title': '인공지능 AI 관련주 26종목 모음집', 'text': '*엑셈 데이터베이스 관리 기업으로 인공지능 기반 IT 운영 지능화 솔루션인 싸이옵스를 출시했음. *트루엔 인공지능 영상 솔루션... *마음AI 자체 보유한 기술을 조합해 AI 앱, AI 상담원 등 인공인간 서비스를 운영하고 있음. 삼성전자와 신한은행 등을 핵심 고객사로 보유하고...', 'date': '2023.10.09.'}\n",
      "{'title': '[주간경제동향] 무선통신 경제성장 분석 (인공지능,6g)', 'text': '지금까지 인공지능 6G관련 무선통신 경제에 대해 살펴봤습니다. 이 산업에 필요한 건 초성능, 초대역, 초공간, 초정밀 및 지능입니다. 10년 단계로 발달하는 이동통신 기술이 전 산업과 사회에서 인프라를 형성하려면 다양한 통신요구를 만족해야 할 겁니다. 5G에서 볼 수 없었던...', 'date': '2023.10.10.'}\n",
      "{'title': '빙 챗gpt 쓰려면 엣지 브라우저로! 너만 몰라 인공지능 팁', 'text': '너만 몰라 인공지능 팁 by 엔돌슨 2023. 6. 30. 빙 챗gpt 쓰려면 엣지 브라우저로! 너만 몰라 인공지능 팁 응 너만 인공지능 쓸줄 몰라! 그래서 쉽게 Microsoft Edge 브라우저에서 ChatGPT를 이용하는 방법에 대해서 설명하려고 합니다. 챗봇, 인공지능 AI에 대한 디지털 가이드가...', 'date': '2023.06.30.'}\n",
      "{'title': '(12편) : 인공지능과 로보틱스 (Artificial Intelligence...', 'text': 'com 지난시간에는 미국의 인플레이션 감축 법안 (Inflation Reduction Act)에 대해서 알아보았는데요 이번 시간에는 최근에 시장을 뜨겁게 달군 인공지능 및 로보틱스 테마에 대해서 알아보겠습니다. 코로나를 겪으면서 여러 산업에서 인공 지능(AI)과 로봇은 모든 규모의 기업이...', 'date': '2023.08.02.'}\n",
      "{'title': '적금 가입 vs 펀드 투자, 인공지능이 운용하는 콴텍 수익률과...', 'text': \"저는 작년부터 인공지능이 주식을 매매해주는 '콴텍'에 돈을 넣어 운영하고 있습니다. 다른 이유는 없습니다. 그냥 수익률이... 개설된 증권사 계좌에 입금하면 인공지능이 자동으로 매매를 시작합니다. 돈을 찾을 땐 콴텍 앱에서 상품을 해지하면 보유한 주식을 환매해 증권사...\", 'date': '2023.07.03.'}\n",
      "{'title': '[테마주분석] 의료기기와 ai 인공지능 의료용로봇 관련주 정리', 'text': '다섯 번째 셀루메드 사업부문 - 의료기기와 바이오로직스, 코스메슈티컬 의료기기 - 탈회골, 합성고분자 무릎연골 연구개발 무릎인공관절 전치환술에 세루메드의 첨단 로봇을 사용하고 있다고 합니다. 지금까지 의료기기와 인공지능 의료용로봇 관련주들을 알아봤습니다....', 'date': '2023.08.29.'}\n",
      "{'title': '‘상품 들고 나오면 자동 결제’...인공지능(AI) 스마트 편의점', 'text': \"출처=GS리테일 GS25가 사람 없이 인공지능(AI) 솔루션 만으로 운영되는 스마트 편의점 'GS25 DX 랩(LAB) 가산스마트점'을 오픈했습니다. 서울... 출처=이마트24 지난 1월부터는 신세계아이앤씨의 ‘스파로스 인공지능(AI) 수요예측’ 시스템을 도입해 이전에 1시간 이상 소요됐던 발주...\", 'date': '2023.10.10.'}\n",
      "{'title': '미국주식 엔비디아 주가 500달러 돌파 - 인공지능 챗GPT 관련주', 'text': '챗GPT 로 대변되는 생성형AI 인공지능의 최대 수혜주로 꼽히는 엔비디아가 2분기 실적을 발표했습니다. 예상보다 훨씬 상회하는... 당연하게도 인공지능용 AI 반도체 수요가 급증했기 때문입니다. 이런 추세는 3분기에도 지속될 것이며, 올해 내내 엔비디아의 실적에 영향을...', 'date': '2023.08.24.'}\n",
      "{'title': 'AI 인공지능 데이터 라벨링으로 수익 창출하는 법 (+무료교육...', 'text': 'AI 인공지능 데이터 라벨링으로 수익 창출하는 법 (+무료교육 선착순 한정) 안녕하세요. 사진&IT 크리에이터 자유분방입니다. 올해 초 Chat GPT가 출시가 되면서, 인공지능 (AI)에 대한 관심도도 상당 부분 올라갔습니다. 그렇다 보니, 인공지능 관련 직군들이 주목을 받고 있는데요....', 'date': '2023.10.19.'}\n",
      "{'title': '인공지능 OpenAI 해커톤 개발 공모전 SK 텔레콤...', 'text': '해커톤은 해킹과 마라톤이 합성된 말로 일정 시간 내에 주제에 맞는 서비스를 기발하는 공모전을 뜻하는데요~ 이번에 SK 텔레콤에서 인공지능 OpenAI 개발 공모전인 Prompter Day Seoul 2023 행사가 있어 소개를 해드리려 합니다. Prompter Day Seoul 2023 기술의 발달로...', 'date': '2023.08.24.'}\n",
      "{'title': '신약 개발의 벽을 넘기 위한 도약, 인공지능 기반 신약 개발', 'text': '인공지능의 도입으로 약효를 결정하는 분자의 단순 스크리닝 과정을 효율화하고, 예상되는 문제를 사전에 예측해 신약 개발 성공 확률을... 부족한 자본을 보완하는 기술력, 인공지능의 도입 사람의 노동력으로 진행되었던 지점을 인공지능으로 대체해 효율을 높일 수 있다. 자본이...', 'date': '2023.09.18.'}\n",
      "{'title': 'AI 프로필 수면분석 통화요약 어플 SKT 에이닷 인공지능 기능', 'text': '인공지능 에이전트 서비스 SKT A.(에이닷)이 정식 출시되었습니다. 주목할 만한 신기능들도 업데이트가 되었는데요. 수면분석 도우미 A.... AI 모션프로필 AI 모션프로필은 내 사진을 업로드하면 인공지능이 알아서 멋진 AI 프로필 이미지를 만들어주는 기능입니다. A.(에이닷)어플...', 'date': '2023.09.30.'}\n",
      "{'title': '(글로벌교육과) 인공지능 시대, 공공 인재개발 전략은?', 'text': '인공지능 혁신 시대에 대응하는 공직 인재개발 체계(패러다임)를 논하는 자리가 마련됩니다. 국가공무원인재개발원(원장 김채환, 이하... ‘인공지능(AI) 혁신 시대에 대응하는 공직 인재개발 체계(패러다임)’를 주제로 열리는 올해 학술대회는 관심 있는 누구나 유튜브...', 'date': '2023.10.20.'}\n",
      "{'title': '인공지능을 이용한 산불 감시 시스템', 'text': '최근에는 인공지능을 적용하려는 시도가 이어지고 있습니다. 관련 스타트업 가운데 하나인 파노 AI (Pano AI)는 이미 캘리포니아, 오레건, 콜로라도, 워싱턴, 아이다호, 몬태나 주에서 240만 헥타르의 숲을 감시하고 있습니다. 최근 파노 AI는 인공지능 화재...', 'date': '2023.08.08.'}\n",
      "{'title': '엔잡러가 원하는 인공지능 직업 데이터라벨링...', 'text': '인공지능(AI)은 주입된 수많은 데이터를 통해 학습을 하며 이때 제공받는 데이터는 인공지능이 학습할 수 있도록 가공된 형태죠. 여기서 가공을 데이터 전처리 작업이라고 표현할 수 있는데 이것이 바로 데이터 라벨링이라고 이해하시면 됩니다. 최근에는 챗GPT가 화제가 되고...', 'date': '2023.07.18.'}\n",
      "{'title': '네이버 AI 큐(Cue:), 이제 특화된 대화형 인공지능!', 'text': '네이버 AI 클로바X가 서비스된지 얼마 되지 않았는데 네이버에서 추가로 새로운 인공지능 서비스가 시작되었습니다. 바로 네이버 AI 큐(Cue... 기존 검색 사이트를 이용하는 방식과 달리 인공지능으로 원하는 정보를 좀 더 빠르게 확인할 수 있어 맘에 드네요. 앞으로의 새로운...', 'date': '2023.10.04.'}\n",
      "{'title': '윈도우 코파일럿 미리사용해본 AI 인공지능 기능! 윈도우 11...', 'text': '얼리어답터 리뷰/IT정보 윈도우 코파일럿 미리사용해본 AI 인공지능 기능! 윈도우 11 23H2 프리뷰 코파일럿 사용법 by 엔돌슨 2023. 10. 5. 윈도우 코파일럿의 기능과 사용법 리뷰 이번에는 윈도우11에 내장된 윈도우 코파일럿 입니다. 챗GPT 같은 인공지능을 윈도우에서 직접...', 'date': '2023.10.05.'}\n",
      "{'title': '[관심종목] 23년 마지막 주목받을 인공지능,반도체 산업주식 종목', 'text': '23년 8월에서 12월까지 남은 5개월을 장식할 인공지능,반도체 산업주식 종목에는 뭐가 있을까? 주식은 상황과 여건에 따라 빛나는 종목이 있습니다. 올해 초부터 인공지능에 강세를 보였고 2차전지가 중심에 있었습니다. 그리고 2차전지와 관련된 에코프로가 빛을 받았죠. 그렇다면...', 'date': '2023.08.06.'}\n",
      "{'title': 'AI 인공지능 관련주 대장주 TOP2!', 'text': 'AI 인공지능 관련주 대장주 TOP2! 주식 쉽게 하는 팁까지 공유! 오후에는 아직까지도 무더운데, 오전에는 날씨가 선선하니 좋네요. 곧... 오늘은 향후 기대되는 섹터 중 하나인, AI 인공지능 관련주와 대장주를 한 번 살펴 볼께요. AI 인공지능 관련주 대장주 TOP2! © vishnumaiea...', 'date': '2023.09.10.'}\n",
      "{'title': '등 인공지능이 자동으로 기록해 주는 클로바노트 녹음하는 방법...', 'text': '회의, 인터뷰, 강의 등 인공지능이 자동으로 기록해 주는 클로바노트 녹음하는 방법입니다. 업무를 향상시켜주는 필수 어플 - 회의, 인터뷰, 강의 등 인공지능이 자동 기록해 주는 클로바노트로 녹음하는 방법 클로바 노트 회의, 인터뷰, 강의 등 녹음 내용을 눈으로 보면서 듣는...', 'date': '2023.10.01.'}\n",
      "{'title': '천안시, 빅데이터 기반 인공지능 활용 도시기본계획 수립 추진', 'text': '빅데이터 기반 인공지능 활용 2040 도시기본계획 수립용역 착수 안녕하세요. 천안시입니다. 천안시가 빅데이터 기반 인공지능을 활용한 ✔️2040 도시기본계획 수립에 본격 착수합니다. 이에 따라 국토연구원과 11개 민간기업이 참여하는 ‘국토도시 빅데이터 얼라이언스 협약’...', 'date': '2023.10.19.'}\n",
      "{'title': '네이버 생성형인공지능 클로바X(CLOVA X) 사용후기', 'text': '네이버 생성형인공지능 클로바X(CLOVA X) 사용후기 New Tech/AI(인공지능) by 마켓캐스트 2023. 9. 8. 13:59 공감 네이버 생성형인공지능 클로바X(CLOVA X)의 사용승인이 되어서 오늘 여러가지 내용으로 테스트를 해봤는데 결론적으로 너무나 실망스러운 결과 였습니다. 질문: 네이버에서...', 'date': '2023.09.08.'}\n",
      "{'title': '열(熱)의 꿈틀거림까지 감시한다! ‘인공지능 열화상 카메라’', 'text': '[이 주의 조달청 혁신제품] 재난 예방 혁신제품 해외수출 ③ 인공지능 열화상 카메라 ‘조달청 혁신제품’을 아시나요? 공공성과 기술성이... ‘인공지능 열화상 카메라’ 미국 역사상 최악의 재해로 남은 하와이 마우이섬의 산불, 한국보다도 넓은 면적을 태워버린 캐나다의 산불에...', 'date': '2023.08.23.'}\n",
      "{'title': 'AI 관련주 의료 인공지능 루닛·제이엘케이 등 주식 주가 간단...', 'text': '16%) 2023년 8월 9일 10:30 현재가 라이프시맨틱스(347700) 주가 일봉 차트 브리지텍(064480) 브리지텍(064480)은 AI(인공지능) 콜센터와 음성인식/화자인증, 보이는ARS, IP기반의 유무선(지능망서비스, 무선이동통신) 멀티미디어 서비스 관련 소프트웨어를 개발...', 'date': '2023.08.09.'}\n",
      "{'title': '인공지능 교육 - 23년 AI 교육과정 특화 맞춤형 교육생 모집', 'text': '인공지능 교육 - 23년 AI 교육과정 특화 맞춤형 교육생 모집 안녕하세요. 취업비서 인크루트 입니다. 오늘 소개해드릴 인공지능 교육 - 23년 AI 교육과정 특화 맞춤형 교육은 AI 분야 일자리에 대한 직무.직군 분석을 바탕으로 개발된 AI 커리어맵을 기반으로 교육생별 직무설계...', 'date': '2023.09.11.'}\n",
      "{'title': '국내 AI 인공지능 관련주 대장주 의료 반도체 챗GPT 종목 소개...', 'text': '국내 AI 인공지능 관련주 대장주 의료 반도체 챗GPT 종목 소개 및 현황 정리 최근 국내 증시는 테마주들이 이끌고 가고 있다고 해도 무방한 상황입니다. 그리고 현재 이러한 손바뀜이 현상이 계속 이어지고 있는 가운데 다시 국내 AI 인공지능 관련주들이 관심을...', 'date': '2023.09.04.'}\n",
      "{'title': '인공지능을 이용해서 유방암 조기 진단률을 높인다.', 'text': 'Credit: Public Domain) 인공지능 붐 초기 응용이 크게 기대되던 분야 중 하나는 의료입니다. 사람들은 AI 의사가 질병의 진단과... 있는 인공지능을 개발했습니다. ScreenTrustCAD 연구에서 연구팀은 2021년 4월에서 2022년 6월까지 40-74세 사이 여성 55,500명의 유방...', 'date': '2023.09.17.'}\n",
      "{'title': '인공지능(AI) 디지털교과서 법적 지위를 얻다', 'text': '이번 개정안에는 인공지능(AI) 디지털교과서가 차질 없이 개발되고 학교 현장에서 안정적으로 사용될 수 있도록 디지털 교과서의 정의, 검정 절차별 필요 사항을 담았다. 즉, 디지털교과서를 지능정보화 기술을 활용한 학습지원 소프트웨어로 정의하고, 기술결함 조사 및 기술...', 'date': '2023.10.17.'}\n",
      "{'title': '안드로이드앱제작 인공지능을 이용해서 저렴하고 빠르게...', 'text': '2023년은 인공지능의 해 인것 같습니다. 2022년의 메타버스에 대한 이야기는 2023년이 되서 거짓말처럼 완전히 사라져서 잘 보이지도 않는 것 같아요. 그 정도로 요즘 인공지능의 발전이 눈이 부실 정도로 빠르게 진행이 되고 있습니다. 챗GPT가 출시한지 얼마 되지도 않았는데 벌써...', 'date': '2023.06.08.'}\n",
      "{'title': '[종목분석] 인공지능 ai 테마주에는 어떤 것들이 있을까', 'text': '오늘도 많은 분들이 알지 못하고 자료를 찾아야 하는 시간을 덜어드리기 위해 올해 대세로 떠오른 인공지능 ai 테마주의 종목들을 정리하겠습니다. 일일히 찾아다닐 필요 없이 오늘 소개해드리는 종목들을 보고 분석하시면 됩니다. 인공지능 ai 테마주 모음 종목(관련 테마)...', 'date': '2023.08.21.'}\n",
      "{'title': '인공지능 A.(에이닷) 앱, AI 친구 대화와 챗GPT 사용법', 'text': \"SK텔레콤의 인공지능 에이전트 서비스 A.(에이닷) 앱이 새롭게 업데이트되었습니다. '내 손안에 AI 친구'라는 슬로건에 맞춰 추가된 기능이 눈길을 끄는데요. 감성대화가 가능한 A.프렌즈, 챗GPT 기반의 지식 대화 기능 채널인 챗T가 바로 그 주인공입니다. 과연 어떤 대화를 나눌 수...\", 'date': '2023.07.22.'}\n",
      "{'title': '인공지능 AI가 글 써 주는 시대', 'text': \"어제 네이버에서 한국형 초대형 인공지능(AI) 서비스라고 하는 '하이퍼클로바X'를 공개했는데, 이를 활용하여 글쓰기를 할 블로거를... ※ 이미지 출처 : 네이버 검색 인공지능 클로바를 블로그에도 도입할 생각인가 보다. 그동안 작성한 글을 바탕으로 관심사나 문체 등을 분석하여...\", 'date': '2023.08.25.'}\n",
      "{'title': \"송도국제도시에 'AI(인공지능) 교육센터'만든다\", 'text': '송도 3공구 G5 부지 내 근린공원에 인공지능 교육센터를 유치하려나 봅니다. 아직 G5 분양계획에 대한 이야기가 없는 가운데 갑자기 공원 내... 인공지능 교육센터 위치 아래는 그동안 모아두었던 G5 부지에 대한 다양한 청사진과 자료들입니다. G5 부지의 아파트가 언제쯤이면 분양을...', 'date': '2023.09.07.'}\n",
      "{'title': '[ChatGPT 활용] 챗GPT에 달리3(DALL-E3) 인공지능(AI) 이미지...', 'text': '[챗GPT 사용법] ChatGPT 완전정복(기본편) 출간 ChatGPT-4에 인공지능(AI) 이미지 생성 기능이 추가되었습니다. ChatGPT와 바드(Bard)가 경쟁하듯... 간단히 인공지능 로봇을 그려 달라고 해보겠습니다. 생각하고 있는 인공지능 로봇을 그려줘 ChatGPT는 달리-3을 이용해 4개의 이미지를...', 'date': '2023.10.07.'}\n",
      "{'title': '230526 # 미국 #증시 #엔비디아 #NVDA #인공지능 #AI 테마의...', 'text': '#엔비디아 #NVDA #인공지능 #AI 테마의 마무리 국면 미국은 통화 긴축 정책에 따라 소비가 줄고 기업이 감소하며, 기업의 이익이 줄어드는 가운데 chatGPT 붐에 힘입어 인공지능 테마 장세가 전개된 것으로 보인다. 이에 따라 인공지능과 관련된 대기업을 제외한 모든 산업이 약세를...', 'date': '2023.05.26.'}\n",
      "{'title': 'UPS 인공지능을 활용하여 택배 도난방지를 예방하다.', 'text': 'UPS 인공지능을 활용하여 택배 도난방지를 예방하다. New Tech/AI(인공지능) by 마켓캐스트 2023. 10. 9. 08:30 공감 Security.org의 최근 연구에 따르면 지난 2022년 동안 약 4,900만 명의 미국인이 최소 한 번 이상 택배 도난을 경험했다. 이러한 상황에서 도난당한...', 'date': '2023.10.09.'}\n",
      "{'title': '챗 GPT 앱 인공지능 시대에 아이폰 chatGPT 필수 어플', 'text': '얼리어답터 리뷰/어플(App) 챗 GPT 앱 인공지능 시대에 아이폰 chatGPT 필수 어플 by 엔돌슨 2023. 6. 20. 챗 GPT 앱 인공지능 시대에 아이폰 chatGPT 필수 어플 챗gpt 앱은 채팅형 인공지능 서비스입니다. 챗GPT 앱으로 아이폰, 안드로인드 스마트폰에서 쉽게 서비스를 이용할 수...', 'date': '2023.06.20.'}\n",
      "{'title': '인공지능 누끼따기 사이트, 스테이블 디퓨전 클립드롭', 'text': '인공지능 이미지 생성 사이트 스테이블 디퓨전 클립드롭의 여러 기능 중 누끼따기를 보여드릴 텐데요. 오늘 소개해 드릴 누끼따기... ▲ 클립드롭 사이트인데 메인 화면에 포함된 프롬프트 입력 창을 활용하면 인공지능 이미지를 생성해 볼 수 있습니다. 소개해 드릴...', 'date': '2023.07.15.'}\n",
      "{'title': '국내 AI 인공지능 관련주 한화에어로스페이스 네패스 등 투자...', 'text': '임플란트사업부문은 인공관절보형물인 임플란트 판매하고 있으며, 무역사업부문은 식품원료를 수입하여 판매하고 있음.... 38% ■국내 AI 인공지능 관련주 포인트 큐렉소는 의료 로봇과 지능형 로봇 개발 사업을 영위하고 있기 때문에 현재 관련주로 수혜를 받고...', 'date': '2023.08.14.'}\n",
      "{'title': '심장 판막 질환을 찾아내는 인공지능', 'text': '인공지능 붐 초기에 의료용 인공지능에 대한 관심이 높았지만, 당시 기술적 한계와 더불어 인공지능에 대한 이해 부족으로 실제 의료 현장에서 크게 활용되지는 못했습니다. 최근에는 진단 목적으로 인공지능의 활용도가 주목 받고 있는데, CT, MRI, X선...', 'date': '2023.10.19.'}\n",
      "{'title': '통신사의 생성형 인공지능(AI) 서비스', 'text': \"생성형 인공지능(AI)과 관련한 기술을 개발하고, 이를 서비스에 적용하고 있습니다. KT는 자체 개발한 초거대 AI '믿음'을 다음달 공개할 예정이며, SKT는 생성형 AI 시장 공략을 위한 멀티 LLM 전략을 추진하고, LG유플러스는 메타버스와 광고 제작에 인공지능을 활용하고...\", 'date': '2023.09.04.'}\n",
      "{'title': '[종목분석] 국내 인공지능 ai 대장주 루닛 주가전망과 사우디...', 'text': '지난 달 5일 의료 인공지능 ai 기업 루닛은 사우디아라비아 국가전략사업의 핵심과제 SEHA가상병원 프로젝트에 참여했습니다. 여기서... 특히 가상병원 프로젝트는 보건의료분야 최우선 과제로 이번에 참여한 인공지능 AI 의료기기를 중심으로 하는 루닛이란 기업에 좋은...', 'date': '2023.08.31.'}\n",
      "{'title': '크라우드웍스 코스닥 상장(인공지능, AI 학습데이터 전문기업)...', 'text': '인공지능 AI 학습데이터 전문기업 크라우드웍스 한국거래소는 2023년 8월 29일 주식회사 크라우드웍스의 코스닥 시장 합병 상장을... 인공지능 대표 기업으로 상장 첫날부터 관심을 받고 있네요. 크라우드웍스는 2017년 설립한 인공지능(AI) 데이터 스타트업으로 데이터...', 'date': '2023.08.31.'}\n",
      "{'title': '메타 다중언어 번역 인공지능 모델 심리스(Seamless) M4T 출시', 'text': '메타에서 심리스(Seamless) M4T라는 멀티 모달 인공지능 모델을 발표했습니다. 모델의 이름에서 M4T의 의미는 대규모 다국어 및 멀티... © steve_j, 출처 Unsplash 다중언어 번역 인공지능 멀티 모달은 두 개 이상의 다른 언어를 인식하고 이해 가능한 수단인 모달리티(Modality)를...', 'date': '2023.09.24.'}\n",
      "{'title': '40개의 엔트리 게임 인공지능 게임 만들기 ft 앤써북', 'text': '오늘은 엔트리를 이용해서 40개의 게임을 만들면서 인공지능 요소를 넣어서 프로그램 코딩하는 책을 소개합니다. 앤써북에서 만든 40개의 엔트리 게임 인공지능 게임 만들기입니다. 40개의 엔트리 게임 + 인공지능 게임은 학교나 학원 또는 방과후 수업에서 사용할 교재로...', 'date': '2023.10.20.'}\n",
      "{'title': '인공지능 프로그래밍을 위한 깃허브 코파일럿 학생 인증 무료...', 'text': '요즘은 프로그래밍을 도와주는 인공지능 코딩 툴 등이 상당히 잘 되어 있습니다. 모두 알고 계실 ChatGPT부터, 아마존의 코드 위스퍼러... 이제 나도 인공지능 프로그래밍을 할 수 있게 되는 것이죠. 인공지능 프로그래밍 하기 코파일럿은 비주얼 스튜디오, VS Code의 확장...', 'date': '2023.09.12.'}\n",
      "{'title': '모든 도로 안전은 ‘인공지능 도로 분석장치’로 통한다!', 'text': '[이 주의 조달청 혁신제품] 재난 예방 혁신제품 해외수출 ② 인공지능 도로 분석장치 ‘조달청 혁신제품’을 아시나요? 공공성과 기술성이... 모든 도로 안전은 ‘인공지능 도로 분석장치’로 통한다! 지겹게 내리던 폭우가 지나가고 맑은 하늘에 햇빛이 쨍~한 요즘입니다....', 'date': '2023.08.18.'}\n",
      "{'title': '인공지능 성우 해외 사이트 소개(부분 무료 가능)', 'text': '국내에도 인공지능 성우를 활용할 수 있는 웹사이트들이 있다. 그냥 구글링만 해도 많이 보이는데, 대부분 바로 유료 사용이 필요하다. 하지만 오늘 소개하는 웹사이트는 부분적으로 무료 사용이 가능하다. 특히 외국어의 경우가 더 특화되었다고 할 수 있다. 위 이미지를 클릭하면...', 'date': '2023.10.06.'}\n",
      "{'title': '인공지능을 활용한 스마트한 일상, 초거대AI 총정리!', 'text': '인공지능은 어느새 우리의 일상 깊숙이 침투해 함께 공존하고 있습니다. 과거 간단한 명령만 실행하던 인공지능이 이제는 의료, 법률, 문화예술 분야로 내용이 확대되면서 거의 모든 영역에서 인공지능을 활용하는 사람들이 늘어나고 있습니다. 이러한 인공지능의 확대를...', 'date': '2023.09.19.'}\n",
      "{'title': '코카콜라 인공지능기술을 활용하여 브랜드 혁신을 주도하다.', 'text': '코카콜라 인공지능기술을 활용하여 브랜드 혁신을 주도하다. 마케팅 전략 by 마켓캐스트 2023. 9. 25. 08:30 공감 2021년 9월... 더불어 현재 마케팅과 크리에이티브 분야에서는 창의력을 더욱 발휘하고 향상시키기 위한 새로운 도구로 생성형 인공 지능(GenAI)을...', 'date': '2023.09.25.'}\n",
      "{'title': '[종목분석] 인공지능,반도체 싸이맥스 주가전망과 하반기 실적...', 'text': '인공지능,반도체 싸이맥스 주가전망을 살펴봅니다. 위 기업은 반도체장비사업과 환경설비 사업을 영위하고 있는 곳으로 반도체시장의... 인공지능,반도체 싸이맥스 주가를 상승시키는 주력생산을 보면 EFEM과 LPM, TM입니다. 종속기업으로 있는 신도이앤지를 통해 미세먼지와...', 'date': '2023.08.26.'}\n",
      "{'title': '[주식시장 미리보기] 삼성전자 인공지능 가우스 과연 챗GPT...', 'text': '최근 삼성전자 인공지능 가우스 상표출원을 보며 앞으로의 AI 시장이 어떻게 될지 생각해보겠습니다. 삼전에서 특허청에 AI 소프트웨어와 관련한 상표를 출원했습니다. 챗 GPT와 유사한 생성형 인공지능 서비스를 차체 기술력으로 선보인 건데 챗GPT를 잡고 대세로 떠오를지 귀추가...', 'date': '2023.09.09.'}\n",
      "{'title': '[테마주분석] 인공지능, ai챗봇 관련주 외국인과 기관이...', 'text': '올해 초 챗GPT로 시작된 인공지능 시장에 ai챗봇 관련주 기업들이 치열한 경쟁을 하고 있습니다. 엄청난 열풍을 일으킨 오픈ai가 기업용 챗봇을 출시했다고 발표하면서 국내에 있는 인공지능 관련주들이 지금 강세를 보이고 있네요. 여러 종목 중에서 현재 매수 상위권에 있다고...', 'date': '2023.10.04.'}\n",
      "{'title': 'Clipdrop 생성형 인공지능 서비스, 구독 시 알아둬야 할 점과...', 'text': 'Clipdrop 생성형 인공지능 서비스의 월 구독 비용이 1,200원으로 정말 저렴한데요. 유용한 기능이 많아 활용해 봐도 좋을 거라... 직접 활용해 보니 프롬프트를 활용한 인공지능 이미지 생성 외에도 각종 툴을 제공하고 있어 다양하게 활용해 볼 수 있습니다. 해지...', 'date': '2023.08.16.'}\n",
      "{'title': '만들기 블루윌로우로 쉬운 ai 이미지 생성! 인공지능 강의', 'text': '뉴미디어캠퍼스에선 챗gpt, 바드, 뤼튼 등 여러 인공지능 툴을 활용하여 SNS 콘텐츠 생성 강의를 진행하고 있습니다. 자세한 SNS 콘텐츠 제작 강의와 인공지능 강의 문의는 하단 링크를 참고해주세요! 강의/컨설팅 문의하기 ***-****-**** #ai이미지만들기 #ai이미지생성...', 'date': '2023.09.25.'}\n",
      "{'title': '통신 3사의 인공지능 고객센터 AICC 기술', 'text': 'AICC는 AI Contact Center로 고객센터에 음성 인식, 음성 합성, 문장 분석 등 각종 인공지능 기술을 적용한 것입니다. 이 기술을 적용해 상.담원 연결을 위해 기다리지 않고 24시간 상.담이 가능하며 상.담사도 AI로부터 답변 관련 정보를 받아 빠르게 업무 처리가...', 'date': '2023.10.05.'}\n",
      "{'title': '오피스 소프트웨어 기업도 인공지능(AI) 전쟁', 'text': \"오피스 소프트웨어(SW) 기업 간 인공지능(AI) 전쟁이 본격화될 전망입니다. 오피스 SW의 강자인 폴라리스 오피스와 한글과컴퓨터, 구글... 과제부터 업무까지 가능한 '폴라리스 오피스 AI' 출처=폴라리스 오피스 홈페이지 폴라리스 오피스는 생성형 인공지능(AI) 기능을 자유롭게...\", 'date': '2023.08.31.'}\n",
      "{'title': '인공지능 이용 만감류 생육정보 수집 연구', 'text': '가중되며 인공지능과 빅데이터에 기반한 스마트농업이 미래농업의 대안으로 부각되고 있습니다. 제주특별자치도 농업기술원은 정확한 빅데이터 수집 체계를 개발하기 위해 인공지능 기술을 활용한 생육정보 수집 시스템 연구에 나섭니다. 농업기술원은 제주에서...', 'date': '2023.08.17.'}\n",
      "{'title': '전국 청소년 인공지능 프론티어 챌린지 2023', 'text': \"글로벌 인공지능 기업이 함께하는 청소년 '인공지능 프론티어 챌린지' 경진대회 소식 입니다. 아마존웹서비스코리아, 구글클라우드, 한국마이크로소프트, 엔비디아 코리아, 네이버 클라우드, 엔에이치엔 클라우드, 케이티 클라우드, 삼성SDS, 쌍용정보통신 등 9개...\", 'date': '2023.08.02.'}\n",
      "{'title': '[알쓸신잡(新Job)] 인공지능 산업의 발전에 앞장서는 데이터...', 'text': '사람과 비슷한 수준으로 대화가 가능한 인공지능 챗봇, ‘챗GPT’를 알고 계신가요? 챗GPT의 등장은 세계적인 선풍을 일으키며 그에 따라... 한국지능정보사회진흥원(NIA)이 진행하는 국가사업의 데이터 가공 업무에 참여토록 하여 디지털 일자리 창출에도 앞장서고 있습니다. 데이터...', 'date': '2023.07.14.'}\n",
      "{'title': '인공지능 PPT 생성 - Gamma App', 'text': '정말 올해의 핫하디 핫한 키워드는, 누가 뭐라 해도 인공지능, AI 일것입니다. 물어보는것에 대답을 해주고, 일목요연하게 정리 해주고, 그림도 그려주고... 정말 무궁무진하게 발전하고 있는듯 한데요. 가볍에 테스트 해볼만한 사이트 하나 가져와봤어요! 바로바로, https://gamma.app...', 'date': '2023.09.21.'}\n",
      "{'title': '초보자도 쉽게 이해할 수 있는 인공지능 AI', 'text': '이런 현상과 함께 인공지능(AI) 또는 \"머신 러닝\" 모델은 계속 진화해 가고 있습니다. 오늘은 초보자도 쉽게 이해할 수 있는 인공지능 가이드로 챗봇을 넘어 다양한 종류의 인공지능을 발견하고 이 새로운 디지털 창조물들이 이미 우리의 삶에서 어떤 역할을 하고 있는지...', 'date': '2023.08.07.'}\n",
      "{'title': '멕시코의 인공지능(AI) 산업', 'text': '중 인공지능(AI)은 컴퓨터 시스템 내 알고리즘을 만들어 컴퓨터가 인간처럼 학습하고, 추론하고, 지각할 수 있도록 하는 기술입니다. 인공지능은 자동화, 데이터 분석, 이미지 및 음성 인식, 고객 응대, 자율 주행 등 다양하게 활용될 수 있어 4차 산업혁명의 핵심 기술...', 'date': '2023.08.27.'}\n",
      "{'title': '인공지능 Ai 챗봇 뜻, 활용분야 및 장점 알아보자', 'text': '인공지능 기반의 Ai 챗봇은 사람과의 대화를 모방하고 학습할 수 있기 때문에 시간이 지남에 따라 더 지능적으로 작동하는 것이 특징입니다. 2. AI 챗봇의 활용 분야: Ai 챗봇은 다양한 분야에서 활용할 수 있습니다. 간략하게 활용 사례를 보여드릴게요. 고객 서비스 : 기업은 Ai...', 'date': '2023.10.12.'}\n",
      "{'title': '‘학술회의는 지겨워’라는 편견을 깬 2023 인공지능대학원...', 'text': '인공지능이 단순히 지능을 묻고 답하는 걸 넘어 인간의 영역이라 불리던 예술까지 넘보고 있는데요. 미술도 이제는 인공지능이 그린 그림과 사람이 그린 그림을 구분하기 어려운 지경입니다. 위 사진은 고흐의 별이 빛나는 밤이고, 아래는 인공지능이 그린 고양이입니다....', 'date': '2023.09.04.'}\n",
      "{'title': '더불어 사는 사회를 위한 인공지능 윤리', 'text': '인공지능의 발전으로 우리 삶이 속속들이 변화하고 있습니다. 크게는 인간이 추론하기 어려운 영역을 단시간 내에 빠르게 추론하여 합리적인 의사결정을 돕고, 작게는 인공지능 기반 맞춤형 추천을 통해 개인의 취향을 파악하고, 네트워크를 연결할 수 있는 전자기기를...', 'date': '2023.08.11.'}\n",
      "{'title': '인공지능(AI) 디지털교과서개발 아이디어, 온라인으로도 듣는다!', 'text': '첨부파일 [교육부 08-03(목) 조간보도자료] 인공지능(AI) 디지털교과서 개발 아이디어, 온라인으로도 듣는다!.pdf 2025년 인공지능(AI) 디지털교과서 도입 예정 교과 교사를 대상으로, 효과적인 교과별 학습지원을 위한 기능에 대해 의견수렴 교육부(부총리 겸 교육부장관 이주호)는...', 'date': '2023.08.02.'}\n",
      "{'title': '「인공지능(AI) 디지털교과서 개발 지침」 발표, 개발의...', 'text': '첨부파일 [교육부 08-30(수) 조간보도자료] 인공지능(AI) 디지털교과서 개발 지침 발표, 개발의 신호탄 쏘다.pdf 8월 30일(수) 「인공지능(AI) 디지털교과서 개발 지침」 발표 학습데이터 수집 및 관리, 기반 구축 등 핵심 기능과 클라우드 보안인증 관련 준수사항 등으로 구성 교육부...', 'date': '2023.08.29.'}\n",
      "{'title': '네이버 인공지능 검색 cue: 사용기', 'text': '네이버 인공지능 검색 cue: 는 신청해서 승인을 받아야 사용할 수 있습니다. 승인받은 후에는 항상 cue.search.naver.com 에 접속해서 검색을 했었는데. 이제 보니 네이버 검색창의 우측에 cue: 버튼이 생겼네요. 그냥 검색과의 차이를 보기 위해 \"자동차 트렌드\"라고 검색해보았습니다....', 'date': '2023.09.25.'}\n",
      "{'title': '인공지능(AI) 디지털교과서 개발 아이디어,교사·학생...', 'text': '첨부파일 [교육부 07-07(금) 조간보도자료] 인공지능(AI) 디지털교과서 개발 아이디어, 교사·학생·학부모가 직접 제안한다!.pdf 교사·학생·학부모가 직접 참여하는 인공지능(AI) 디지털교과서 디자인연수회(워크숍) 개최 사용자 참여설계 구현을 위해 연수회(워크숍)에서 도출된...', 'date': '2023.07.06.'}\n",
      "{'title': 'ai 이미지 생성 사이트 블루윌로우 회원가입하기! 인공지능 강사', 'text': '바드 등 여러 ai 툴들을 활용한 SNS 콘텐츠 제작 강의를 진행하고 있습니다. 자세한 SNS 콘텐츠 강의 문의와 인공지능 강사 소개는 아래 포스팅을 참고해주세요! 강의/컨설팅 문의하기 ***-****-**** #무료ai이미지생성 #ai이미지생성 #ai이미지생성사이트 #블루윌로우 #강사', 'date': '2023.09.25.'}\n",
      "{'title': '텍스트로 이미지를 만드는 인공지능 스테이블 디퓨전', 'text': '스테이블 디퓨전은 이미지 생성 인공지능입니다. 주소는 https://stablediffusionweb.com/ 사용법은 텍스트를 입력해서 이미지를 만들어 주도록 만들어진 이미지 생성 인공지능 모델입니다. 이렇게 텍스트를 입력해서 이미지를 만들어 주는 것을 text-to...', 'date': '2023.10.03.'}\n",
      "{'title': '에이닷vs믿음vs익시...통신업계 인공지능(AI) 대전', 'text': \"국내 대표 이동통신사들이 초거대 인공지능(AI) 기반 서비스를 강화하고 있습니다. 최근 SK텔레콤이 인공지능 브랜드 '에이닷'을 정식... '믿음'은 다양한 응용 사례를 쉽게 학습할 수 있는 '협업 융합 지능'을 갖췄고, 과거 대화를 기억해 활용하는 등 '사람에 더 가까운...\", 'date': '2023.10.06.'}\n",
      "{'title': \"SV인베스트먼트, 인공지능(AI) 반도체 스타트업 '리벨리온'의...\", 'text': '재료/모멘텀 인공지능(AI) 반도체 스타트업 리벨리온의 투자사 동사는 삼성전자와 협력해 내년 하반기까지 AI칩 리벨의 개발 완료 계획 리벨은 삼성 4나노 공정을 이용하며 삼성 HBM3E 메모리도 탑재 예정 데이터센터용 AI 반도체 ATOM 을 삼성 5나노 공정에서...', 'date': '2023.10.05.'}\n",
      "{'title': '[핀테크 취준카페] #7편 - 인공지능(AI) 기업 소개', 'text': '[핀테크 취준카페] #7편 - 인공지능(AI) 기업 소개 오늘은 최근 가장 관심이 집중되고 있는 인공지능(AI)기업 중 대표적인 5곳을 알아보겠습니다. 인공지능(AI) 기업은 인공지능을 금융에 접목하여 로보어드바이저, 챗봇, 인슈어테크 등 다양한 서비스를 개발하고 있는...', 'date': '2023.09.04.'}\n",
      "{'title': '인공지능이 또 저를 울리네요', 'text': '그동안 인공지능이 개발되고 세상이 경천동지 상전벽해되어 강호에 나설까 하면 태클을 거는 족속들 때문에 고민이 많았는데 ... 아 ... 챗... 그래그래 우리나라 인공지능 화이팅이다 ! 라고 하려고 했는데 야 ... 뭐라고라 ?? 휴우 ... 이제 인공지능한테도 무시받는 사람이 되었나 ...', 'date': '2023.10.08.'}\n",
      "{'title': 'FKCCI x KOTRA Business+ Forum: 인공 지능 시대의 에너지...', 'text': '한불상공회의소는 급속한 기술 발전과 디지털 변혁의 시대 속 지속 가능한 미래 형성에 있어 AI의 중추적인 역할을 인식하고, \"인공 지능 시대의 에너지 전환\"이라는 주제로 본 포럼을 개최하게 되었습니다. 본 포럼의 특별 연사로는 녹색기후기금(GCF) 수석 데이터...', 'date': '2023.09.27.'}\n",
      "{'title': \"네이버의 새로운 인공지능(AI) 검색 'Cue(큐):'\", 'text': \"네이버 메인화면에 노출된 인공지능(AI) 검색 'Cue(큐):'. 출처=플레이 네이버 캡처화면 최근, 네이버가 생성형 AI 검색 ‘Cue(큐):’의 베타... 네이버의 새로운 인공지능(AI) 검색 'Cue(큐):' 출처='Cue(큐):' '큐(Cue):'는 네이버에서 새롭게 선보인 인공지능(AI) 검색 서비스입니다. 언어...\", 'date': '2023.09.22.'}\n",
      "{'title': 'AI기술(인공지능)로 라스트마일을 개선하다!', 'text': '기업에서 인공지능(AI)을 활용하는 경우가 증가하고 있습니다. 물류 산업 역시 AI가 빠르게 적용되는 분야로 특히 라스트마일에 긍정적인 결과를 가져오고 있습니다. 오늘은 AI 기술과 라스트마일의 관계에 대해 살펴봅니다. AI를 통한 라스트마일 최적화 \"AI는 우리 네트워크에...', 'date': '2023.10.20.'}\n",
      "{'title': '제주도, 인공지능 활용해 아열대‧열대작물 병‧해충 조기...', 'text': '지원사업은 인공지능 구현의 핵심 밑바탕이 되는 학습용 데이터를 구축해 산업 경쟁력과 사회적 문제해결 역량을 강화하기 위한 목적으로 과학기술정보통신부와 한국지능정보사회진흥원(NIA)이 추진하는 사업입니다. * 제주특별자치도 컨소시엄 : 제주특별자치도(주관)...', 'date': '2023.08.31.'}\n",
      "{'title': \"'줌'에 추가된다는 인공지능 비서, 어떤 역할 맡을까\", 'text': \"줌 AI 컴패니언 로고 (출처 : Zoom) 9월 5일(현지시간) 미국 화상 회의 서비스 개발사 줌 비디오 커뮤니케이션이 인공지능(AI) 비서 기능 '줌 AI 컴패니언(Zoom AI Companion)'을 발표했다. AI 컴패니언은 화상 회의 소프트웨어 '줌'을 더 편리하게 사용하도록 도움을 주는 기능이다. 줌...\", 'date': '2023.09.07.'}\n",
      "{'title': '생성형 인공지능 이란?', 'text': '생성형 인공지능은 특정 요구를 하는 이용자에 따라 생성되는 인공지능으로 말할 수 있다. 다향한 콘텐츠 생성에 이용이 되는데 미술, 코딩, 비디오, 이미지, 시, 소절 등 데이터 원본으로 학습을 통한 학습이다. 이미 전세계에서 챗GPT, 미드저니 등 다양한 모델이 공개 되었으며...', 'date': '2023.09.09.'}\n",
      "{'title': '“인공지능 시대의 성평등”주제, 제3회 양성평등정책포럼 개최', 'text': '“인공지능 시대의 성평등”주제, 제3회 양성평등정책포럼 개최 (사진=부산여성가족과평생교육진흥원 제공) 부산시와... 제3회 양성평등정책포럼에는 동아대학교 임소연 교수가 ‘인공지능 시대의 성평등’을 주제로 특강을 진행했다. 임소연 교수는 “인공지능이 객관적이며...', 'date': '2023.10.20.'}\n",
      "{'title': '생성형 인공지능 기술의 교육적 활용과 윤리적 쟁점을 논의하다.', 'text': '첨부파일 [교육부 07-21(금) 조간보도자료] 생성형 인공지능 기술의 교육적 활용과 윤리적 쟁점을 논의하다..pdf 「제8회 디지털 인재양성... 1월∼) ‘생성형 인공지능(AI) 기술의 교육적 활용과 윤리’를 주제로 열리는 이번 토론회는 챗지피티(ChatGPT)로 대표되는 생성형...', 'date': '2023.07.20.'}\n",
      "{'title': '다양한 인공지능 모델들', 'text': '챗GPT를 통해 인공지능에 대한 관심이 많은데요. 인공지능을 구분해 보도록 하겠습니다. 먼저 생성형 AI라는 말이 있는데요. 생성형 AI(Generative AI) 언어 생성 모델(ChatGPT) GPT(Generative Pre-trained Transformer) 미리 학습(Pre-trained) 트랜스포머라는 언어 모델을...', 'date': '2023.09.12.'}\n",
      "{'title': '2023 인공지능대학원 심포지엄(8.17~18) 개최', 'text': '인공지능대학원의 성과 공유 및 협력 연결망(네트워크) 마련 인공지능융합혁신대학원(동국대, 아주대, 부산대, 전남대) 현판 증정 및 총장 간담회 개최 과학기술정보통신부(장관 이종호, 이하 ‘과기정통부’)는 8.17(목)~18(금) 이틀 간 「2023 인공지능대학원 심포지엄」...', 'date': '2023.08.17.'}\n",
      "{'title': '인공지능이 꿈을 통제할 수 있도록 도와줍니다', 'text': '프로피틱의 하드웨어 투자는 소수의 인공 지능 회사가 디바이스나 웨어러블에 투자하고 있는 시점에 이루어졌습니다. 전 애플 직원이... 울버그와 베리는 인공지능이 헤일로 장치에서 작동할 수 있는 충분한 훈련 데이터를 제공하기 위해 돈더스 연구소의 1년간의 연구...', 'date': '2023.10.15.'}\n",
      "{'title': \"2023 코센 브린지 포럼 '인공지능' 주제 포럼 개최\", 'text': '<2023 코센 브릿지 포럼 : 국가전략분야 인공지능> 인공지능(AI) 기술은 이제 산업과 사회 모든 분야에서 일상적으로 사용되고 있습니다. AI는 그 자체로 큰 가치를 창출하는 산업이며, 동시에 산업 패러다임에 혁신적인 변화를 가져오고 있습니다. AI의 안전하고 책임감 있는...', 'date': '2023.10.18.'}\n",
      "{'title': '#빅데이터경영_인공지능 미래탐구', 'text': '#빅데이터경영_인공지능 미래탐구 #국민대 AI빅데이터 커리큘럼... #인공지능 영역에서 가장 활동적인 석학 #복수의 미래, 긍정적 미래상, 미래의 단점, 단순화 압축, 미래 대응력 #미래에 대한 고찰... 세계경제포럼(2년마다) 일자리 보고서/ 필란드이 미래위원회의 세미나,국가예산...', 'date': '2023.09.16.'}\n",
      "{'title': \"[IT 소식] [과기원NOW] KAIST, '인공지능과 예술' 논하는 국제...\", 'text': 'KAIST 제공 ■ 한국과학기술원(KAIST)은 인공지능(AI)와 예술을 주제로 오는 19일 대전 카이스트 본원 대강당에서 국제심포지엄을 개최한다고 13일 밝혔다. AI 시대에서 예술의 경계가 어디까지인지를 묻고 이에 대한 담론을 나눈다. 심포지엄에는 캐이 왓슨 영국...', 'date': '2023.10.17.'}\n",
      "{'title': '인공지능 어디까지 ? 예측의 과거와 현재', 'text': '\"카네기 멜론 대학 로봇연구소 한스 모리벡 박사는 인공지능이 10년마다 세대가 바뀔 정도로 급속히 발달해 2050년이면 인간의 지능을 능가할 수 있다고 전망하기도 했다. 2020년까지는 ... 생쥐(10만 MIPS) 정도의 지능을 갖춘 로봇이 등장하고 2030년까지는...', 'date': '2023.09.23.'}\n",
      "{'title': '[KTL TODAY] KTL, 의료인공지능개발지원센터 개설로...', 'text': '의료 인공지능산업 지원 위해 구축 세계 의료 AI 산업은 2027년 시장 규모가 약 674억 달러(USD)로 성장할 것으로 전망되는 고부가가치... 의료인공지능개발지원센터(디센터1976 5층/1,130평 규모)를 개소하게 됐습니다. AI 의료기기 개발과 관련 국책과제 연구 진행중 지원센터의...', 'date': '2023.09.11.'}\n",
      "{'title': '인공지능(AI) 기반 시설농가 온라인 재배 분석, 구독 서비스....', 'text': '에이(A)-벤처스로 팜커넥트 선정 - 인공지능(AI) 기반 시설농가 온라인 재배 분석 상담 구독 서비스 개발 (01-06-에) AI 재배분석 컨설팅... 팜커넥트는 전국 1,800개 시설 농가에서 실시간으로 수집한 환경·생육 정보를 분석하여 인공지능(AI) 기반의 온라인 재배분석 정보와 심층 학습...', 'date': '2023.08.25.'}\n",
      "{'title': 'AI 산업 투자 ETF TIMEFOLIO 글로벌AI인공지능액티브', 'text': '글로벌AI인공지능액티브 목차 1. 기본 정보 2. 구성 종목 3. 최근 수익률 4. 마치는 말 & 함께 보시면 좋은 게시물 지금 AI 관련 테마는 나스닥 상장 기업들이 이끌고 있고, 국내 상장 ETF 중 글로벌 AI 산업 투자 ETF 상품은 사실 많지가 않습니다. 현재 \"AI\" 혹은 \"...', 'date': '2023.05.27.'}\n",
      "{'title': '\"수리수리 인공지능\"하면 뚝딱 만들어지는 문해력교육...', 'text': '요즘 하루가 멀다하고 다양한 인공지능 활용교육 도구들이 쏟아져나오고 있다. 그 새로운 도구의 홍수 속에서 지금 당장 학교 현장에서... 하지만 생성형 인공지능 서비스들이 대부분 그랬던 것처럼 유료화의 길을 걷게 되리라는 걱정이 앞서기도 한다. 아무튼 현재는 아무...', 'date': '2023.08.03.'}\n",
      "{'title': '인공지능과 언어로 소통하는 프롬프트 엔지니어 Prompt...', 'text': '지난해, 대화하는 인공지능(AI) ‘챗GPT’의 등장은 그야말로 혁신이었습니다. 다들 ‘챗GPT’를 한 번쯤은 써 봤을 거예요. 호기심으로... ‘챗GPT’는 정보를 찾아 제공하는 것은 물론, 마치 사고를 하는 듯한 창의적인 답변까지 하는 생성형 인공지능입니다. ‘챗GPT’의 등장으로...', 'date': '2023.09.13.'}\n",
      "{'title': '인공지능 리터러시(AI Literacy)를 위한 교수-학습...', 'text': 'ChatGPT 서비스 개시 이후 인공지능으로 인해 세상이 어떻게 변화할 것인지에 대한 관심이 뜨겁게 달아올랐다. 교육계 역시 인공지능 활용교육에 대한 모색이 활발하게 이루어지고 있다. 그런데 이런 분위기 속에서 문득 드는 생각이 있다. 인공지능 활용으로 인해...', 'date': '2023.08.15.'}\n",
      "{'title': '데이터라벨링 인공지능 학습용 데이터 : 어린이 청소년 재연...', 'text': '2023년 인공지능 학습용 데이터 구축사업 어린이· 청소년 재연 배우 모집 공고 놀이기구 시설 및 이용자 위험 상황 인식데이터 구축을 위한어린이· 청소년 재연 배우를 모집한다는 공고입니다. 놀이시설 안전사고 예방용 인공지능 시스템 개발을 위해서 영상 수집에 들어가는...', 'date': '2023.09.01.'}\n",
      "{'title': '직접 써본 인공지능 판독기, 사람과 인공지능을 정확하게...', 'text': '인공지능(AI) 챗봇인 챗GPT는 처음 출시됐을 때 엄청난 인기를 끌었습니다. 궁금한 내용을 질문하면 사람과 비슷한 말투로 일목요연하게... 인공지능은 날이 갈수록 사람과 비슷한 글 실력을 보이고 있습니다. 인공지능으로 작성한 대학교 과제나 논문은 사람이 며칠을 공들여...', 'date': '2023.08.09.'}\n",
      "{'title': '보이스피싱, 인공지능으로 막아낸다!', 'text': '바로 목소리 위조 인공지능을 악용한 수법입니다. 전화기 너머로 가까운 사람의 목소리가 들려온다면 아무리 의심이 많은 사람이라도... SNS상에서도 A가수가 부르는 B가수의 곡이라며 인공지능을 이용해 특정 가수의 목소리를 구현하는 경우를 찾아볼 수 있는데, 보이스피싱 집단은...', 'date': '2023.07.17.'}\n",
      "{'title': '의료 AI 인공지능 관련주 언제 터질지 모름', 'text': '최근 핫한 섹터 : 의료 바이오, 인공지능 AI 2차 전지 산업 쪽에서 조정이 이루어지면서 주도주가 교체되고 있습니다. 지금 또다른 새로운... 뿐만 아니라 인공지능 AI 관련주도 주도주로 자리잡았습니다. 미국에서 가장 유명한 엔비디아부터 셀바스AI, 한미반도체 등 골고루 많이...', 'date': '2023.09.13.'}\n",
      "{'title': '레오나르도 AI 가입 및 인공지능 이미지 생성 후기', 'text': '메인 페이지에서 맘에 드는 이미지를 찾고 적용된 프롬프트를 활용해서 인공지능 이미지를 만들어 보도록 하겠습니다. ▲ 메인에... 드림스나이퍼, 스태이블 디퓨전 등의 인공지능도 선택해서 생성할 수 있는데 적용된 샘플러와 일부 옵션들은 그대로 적용됩니다. 여기서는...', 'date': '2023.05.14.'}\n",
      "{'title': '스마트테크코리아에서 본 이스트소프트의 인공지능 기술들', 'text': '이유는 이 이스트소프트 사장님이 뛰어난 인공지능 기술을 꾸준히 연구 개발하고 있었더라고요. 제가 챗GPT 원리를 잘 몰랐을 때... 실제로 셔터스톡은 인공지능이 학습한 데이터 또는 원재료의 사진을 촬영한 원저작권자에게 AI가 만든 사진을 판매하면 판매액의 일부를...', 'date': '2023.07.07.'}\n",
      "{'title': '[종로구cctv] 소중한 우리 회사 창고 물건, 인공지능이 지킵니다.', 'text': '안녕하세요 인공지능 수도권cctv 종로구cctv 전문 업체 자비스넷입니다. 보통 기계를 제조하는 업체들에는 물건을 보관하거나 재고를... 인공지능을 활용한 자가보안을 추구하기에 더욱 신속한 알림을 드리고자 노력합니다. 위 솔루션에서는 상황 발생 즉시 이 어떠한...', 'date': '2023.10.19.'}\n",
      "{'title': 'SKT AI 서비스 A.(에이닷) 더욱 스마트해진 인공지능 누려봐요', 'text': '하지만 또 인공지능이 여전히 어렵게 느껴지시는 분들도 계실 것 같습니다. 그래서 오늘은 누구나 쉽게 SKT AI 서비스에 대해 이야기해보려고 하는데요. 스마트폰만 있으면 누구나 쉽게 쓸 수 있는 앱인 A.(에이닷)이 그 주인공입니다 :) A.(에이닷)은 일상형 디지털 메이트로...', 'date': '2023.07.11.'}\n",
      "{'title': 'Boardmix 협업툴 인공지능 화이트 보드, AI 사진...', 'text': 'Boardmix 협업툴 인공지능 화이트 보드, AI 사진, 프레젠테이션 사이트 안녕하세요. 사진&IT 크리에이터 자유분방입니다. 이번 글에서는 Boardmix라는 협업툴 겸 인공지능 AI를 이용한 파워포인트, 템플릿, AI사진, 흐름도, 마인드맵 등을 만들 수 있는 획기적인 협업 툴 소개...', 'date': '2023.09.04.'}\n",
      "{'title': '[궁금한 경제Y] 현대판 러다이트운동, 인공지능은 우리의...', 'text': '· · · · 최근 chatGPT, DALL-E 등의 인공지능은 인간만의 고유 영역으로 여겨왔던 인문, 예술 부문에서 인간과 유사하거나 그보다 뛰어넘는 역량을 가질 수 있음을 보여주었어요. 인공지능 기술이 인간의 일들을 대신할 수 있다는 점에서 환영받고 있지만, 반대로 인간의 직업을 앗아갈...', 'date': '2023.08.22.'}\n",
      "{'title': '러시아, 인공지능 도입으로 IT 인력 부족 해결 계획', 'text': '러시아 로스텔레콤은 인공지능을 도입해 IT 인력 부족 문제를 해결하겠다는 계획이다. 운영자는 소프트웨어 개발을 위한 자체 AI... 바로 사람 대신 인공 지능으로 대체하는 것이라고 Kommersant는 적고 있다. IT 직원을 알고리즘과 기술로 교체하려는 Rostelecom의 계획은...', 'date': '2023.09.30.'}\n",
      "{'title': '소상공인을 위한 인공지능 챗GPT와 함께하는 식당 메뉴 구성...', 'text': '인공지능 챗GPT와 함께하는 식당 메뉴 구성 노하우 소상공인을 위한 인공지능 챗GPT와 함께하는 식당 메뉴 구성 및 가격 설정 노하우 안녕하세요, 소상공인 여러분! 오늘은 제가 인공지능 챗GPT와 함께 식당 메뉴 구성에 대해 이야기 나눈 내용을 유튜브 영상으로 만들어 보았습니다....', 'date': '2023.10.10.'}\n",
      "{'title': '인공지능 챗봇 빙이 알려주는 군봉묵은지김치찜 대박 비결?', 'text': \"#인공지능빙 #군봉묵은지김치찜 안녕하세요. 맛집을 넘어 대박집을 소개하고 대박의 비결을 알려드리는 '인공지능 빅데이터 상권분석 온라인마케팅 전문가 김영갑교수'입니다. 인공지능 챗봇 빙이 알려주는 군봉묵은지김치찜 대박 비결? 인천 연수구 옥련동 맛집 군봉묵은지김치찜....\", 'date': '2023.09.04.'}\n",
      "{'title': \"인공지능이 기자 대신한다? 알고 보니 '해프닝'\", 'text': '인공지능(AI)도 기사를 쓸 수 있다는 소식에 많은 언론이 긴장했다. 미국 일간 뉴욕타임스(NYT)는 익명의 제보자 3명의 제보를 바탕으로... 인공지능 기술의 급격한 발전으로 다양한 업계에서 AI에 일자리를 뺏기진 않을까 우려하고 있다. 올해 4월 9일 비즈니스 인사이더는 AI가...', 'date': '2023.07.21.'}\n",
      "{'title': 'AI 그림 그리기, Bing Image Creator로 인공지능 이미지...', 'text': 'Bing 이미지 생성기는 검색 사이트와 유사한 인터페이스로 누구나 쉽게 인공지능 이미지를 생성해 볼 수 있습니다. 추가로 생성한 AI 그림 ▲ 개인적으로 고양이를 좋아해 인공지능으로 다양하게 생성해 봤는데요. 프롬프트를 입력할 때 마지막에 수채화, 유화, 디지털 아트...', 'date': '2023.04.08.'}\n",
      "{'title': '[최초를 넘어 최고로] 인공지능(AI) 스마트 교통관제 시스템...', 'text': '보유하고 있는 혁신제품 중 ‘인공지능(AI) 스마트 교통관제 시스템’은 차량정보 영상을 수집하여 운전자와 보행자를 안전하게 인도하는 서비스로 혁신제품 뿐만 아니라 우수조달물품으로 지정되었다고 합니다. 조달청은 외 수출 조달 기업들을 지원하기 위해 앞으로도 수출...', 'date': '2023.08.22.'}\n",
      "{'title': '한글 실력이 탁월한 인공지능 유튜브 요약 서비스 : 써머리...', 'text': '그런데 최근 생성형 인공지능 서비스들이 등장하면서 동영상 요약 서비스가 속속 등장하고 있다. 동영상에서 스크립트를 추출한 후 인공지능이 그 내용을 요약, 정리해준다. 워낙 많은 요약 서비스들이 등장하다보니 어떤 것을 활용할지 고민해야 할 정도다. 동영상 요약 서비스는...', 'date': '2023.08.25.'}\n",
      "{'title': '대한민국 초거대 인공지능(AI) 도약 방안 발표', 'text': '대한민국 초거대 인공지능(AI) 도약 방안 발표 2023.09.13 과학기술정보통신부 과학기술정보통신부(장관 이종호, 이하 과기정통부)는 9월 13일(수) 오전 청와대 영빈관에서 ‘대한민국 초거대 인공지능 도약’ 행사를 개최 행사는 챗지피티에 대응한 국내 기업의 독자적...', 'date': '2023.09.13.'}\n",
      "{'title': '바이든 행정부, 인공지능 칩 중국에 수출 중단 계획 발표 후...', 'text': '3% 하락 마감 - 바이든 행정부, 인공지능 칩 중국에 수출 중단 계획 발표 후 반도체 주가 하락 - Bank of America (BAC.N), 3분기 이익, 이자수익 예상치 상회, 약 2.1% 상승 EU Market Closing STOXX 600 ▼ 449.76 (-0.1%) DAX ▲ 15,251.69 (0.1%) FTSE 100 ▲ 7,675.21 (0.6%) CAC 40 ▲ 7,029.70...', 'date': '2023.10.18.'}\n",
      "{'title': '[광주cctv] 돌봄센터, 인공지능으로 아이들의 안전을 지킵니다.', 'text': '방과 후 아이들을 안심하고 맡기실 수 있도록 안녕하세요 인공지능 경기cctv 광주cctv 전문 설치 자비스넷입니다. 여러분은 혹시... 광주cctv 이러한 이유로 아이들을 더욱 각종 상황에서 안전하게 보호할 수 있도록 광주시에 있는 다함께돌봄센터 지점에 인공지능cctv를...', 'date': '2023.10.19.'}\n",
      "{'title': '우리나라에서도 인공지능 시스템을 만든다?', 'text': '오늘은 한국판 인공지능 시스템에 대한 소식을 들고 찾아왔습니다. 네이버에서는 2023년 2월 27일 데뷰(DEVIEW)에서 서치 GPT 프로젝트를... 네이버는 8월 24일 콘퍼런스 단(DAN) 23에서 생성형 인공지능(AI) 기반 검색 서비스 ‘큐(CUE):’를 공개하고, 변화하는 검색 서비스 청사진을...', 'date': '2023.08.30.'}\n",
      "{'title': 'Ai ETF (인공지능 관련주) 결국은 반도체 (국내 & 미국)', 'text': '최근 AI ETF인 글로벌엑스의 로보틱스&인공지능 ETF(BOTZ)나 로봇공학 및 자동화 관련 AI인 iSHARES의 IRBO 그리고 로봇 기술에 진심인 ROBT... AI 관련주는 결국 반도체 (엔비디아의 GPU 사례) 뭐 인공지능 관련주나 AI 관련주로 꼽히는 회사는 많습니다. OPEN AI (챗GPT 개발사)에...', 'date': '2023.06.08.'}\n",
      "{'title': '[오늘의 경제상식] 인공 지능 스타트업, 국가별 현황', 'text': '예술가들이 비전을 실현할 수 있도록 돕는 DALL-E의 기능부터 주요 대도시의 전력 요구 사항을 자동화하는 것까지, 인공지능(AI)은... 2022년 인공지능 투자는 다양한 글로벌 부문으로 확산되었습니다: 헬스케어 무수히 많은 애플리케이션을 보유한 의료 부문은 전...', 'date': '2023.09.22.'}\n",
      "{'title': '오디오크래프트 AudioCraft 출시(ft. 음악 제작 인공지능)', 'text': '여러 기업들이 인공지능(AI) 개발에 열을 올리고 있는 가운데 페이스북과 인스타그램을 운영하는 메타에서 오디오 크래프트(AudioCraft)... 오디오 크래프트는 텍스트를 입력하는 것만으로 음악을 만들 수 있으며 작곡과 작사도 할 수 있게 하는 인공지능 모델입니다. 오픈...', 'date': '2023.08.12.'}\n",
      "{'title': '인공지능 챗GPT 사용법 누구나 쉽게 숏폼 제작하기 강의후기', 'text': '챗GPT가 나온 후 인공지능에 대한 관심도 늘어났고, 활용할 수 있는 인공지능 서비스, 플랫폼도 정말 많이 나오고 있습니다. 생성형AI라 불리는 인공지능들을 이용해서는 글쓰기, 이미지 만들기, 동영상 만들기 등도 쉽게 할 수 있는데요. 블로그, 유튜브, 인스타그램 운영...', 'date': '2023.08.23.'}\n",
      "{'title': '인공지능의 빈틈을 찾아라! AI 공격', 'text': \"여러분 인공지능 챗봇 '이루다'를 기억하시나요? 대한민국의 스타트업 스캐터랩에서 발표했던 이루다는 22살 여대생의 컨셉으로... 초기의 이루다 ⓒ 스캐터랩 https://luda.ai/ 이처럼 머신러닝을 위주로 하는 인공지능 기술은 여러 분야에서 다양하게 적용되고 있습니다....\", 'date': '2023.06.30.'}\n",
      "{'title': 'AI 인공지능 개발자 취업 국비지원학원', 'text': '인공지능 개발자 하는일 AI개발자 국비지원을 알아보기 전에 기본적으로 어떤 업무를 하는지를 알아야겠죠?!! 인공지능개발자 취업 직무는 AI 시스템 및 응용 프로그램의 설계 구축을 하고 배포를 하는 업무를 하게 됩니다. 요즘에 방대한 데이터가 많다보니 데이터분석과...', 'date': '2023.07.26.'}\n",
      "{'title': '로봇 인공지능 관련주 BOTZ ETF 리얼리뷰', 'text': '요즘 로봇과 인공지능에 대한 투자자들의 관심이 뜨겁습니다. 이에 따라 로봇 관련 주식의 주가 흐름도 상당히 호조를 보이고... BOTZ 포트폴리오 BOTZ는 다양한 로봇 및 인공지능 기술에 투자하고 있는 기업들로 구성되어 있는데요. 미국을 비롯하여 일본, 스위스 등 다양한...', 'date': '2023.06.22.'}\n",
      "{'title': '인공지능 비메모리 반도체 관련주 엔비디아 주가 상승, 국내...', 'text': '7개 종목 중에서도 특히 인공지능 관련주이자 비메모리 반도체 기업 엔비디아가 +2.95%로 가장 강세를 기록했다. 글로벌 시가총액 6위이자 반도체 기업 중 1위인 인공지능 관련주 엔비디아는 2위 TSMC와 2배 이상의 격차를 보이는 압도적인 기업이다. 반도체 분야는 크게...', 'date': '2023.10.03.'}\n",
      "{'title': '인공지능 스터디 part2.', 'text': '인공지능의 산출물에 대한 저작권 문제가 이미 대두되고 있으며 초기 방대한 데이터를 확보해 데이터에 대한 이슈 없이 이미 세팅을 끝낸 업체와 후발 주자의 격차는 클 수 밖에 없다. (5) 산업 벨류체인 1 - 파운데이션모델 - 대다수 인공지능하면 이 파운데이션 모델을 생각....', 'date': '2023.09.15.'}\n",
      "{'title': 'SK텔레콤 A.(에이닷) 공식출시 나만의 AI 개인비서 인공지능', 'text': \"SK텔레콤 A.(에이닷) 공식출시 나만의 AI 개인비서 인공지능 안녕하세요. 사진&IT 크리에이터 자유분방입니다. SK텔레콤은 AI관련 기술... 그동안에도 인공지능 AI로서 실질적으로 일상에 도움이 되는 인공지능 기술들을 보여주기도 했지만, 지금까지는 '베타버전'이었습니다. 그리고...\", 'date': '2023.09.27.'}\n",
      "{'title': '인공지능으로 오래된 사진 화질 개선 _ Upscayl', 'text': '인공지능 기술을 활용하여 사진의 화질을 개선하는 UpScayl을 이용하여 범일동 1953년 철길옆을 지나는 사람들 사진의 화질을... #범일동 #Upscayl #인공지능 #화질 #개선 서양인이 그린 고종의 모습입니다. 왼쪽이 업스케일링한 이미지, 원본이 원본...', 'date': '2023.10.11.'}\n",
      "{'title': \"채혈측정부터 모바일 앱을 통한 사전감지까지 '인공지능을 통한...\", 'text': '진단에서 예방, 그리고 인공장기까지 헬스케어 과학기술을 진일보 중입니다. 진단부터 예방을 이어 이제는 유관분야의 인공장기까지 인공지능에 기반한 헬스케어의 영역은 무궁무진합니다. 당뇨병에 이어 다른 성인병과 합병증도 헬스케어 과학기술이 해결할 수 있기를 희망합니다.', 'date': '2023.08.08.'}\n",
      "{'title': '[수원cctv] 심플한 인테리어를 해치지 않는 카페 인공지능cctv', 'text': '컴팩트한 사이즈여도 인공지능 기능은 확실합니다. 안녕하세요 인공지능 경기cctv 수원cctv 설치 전문 자비스넷입니다. 현대인의 일상 중 일부분이 되어버린 카페, 대한민국엔 다양한 카페가 존재하는데요. 어느 공간이든 사람이 존재하고 물건이 존재하며 그로 인한 절도...', 'date': '2023.10.09.'}\n",
      "{'title': '앱개발, 인공지능, 증강현실, 핀테크 등 약 3만 건 수록', 'text': '오늘은 핀테크기업, 인공지능기업, 앱개발업체, 어플리케이션개발과 관련된 정보를 담고 있는 2023 4차산업 기업·스타트업 주소록에... 게임 소프트웨어 개발 및 공급업부터 호스팅 및 관련 서비스업까지 총 21개의 업종별로 분류했기 때문에 핀테크기업, 인공지능기업...', 'date': '2023.10.16.'}\n",
      "{'title': '서울 도시제조업 문제해결 인공지능(AI) 아이디어 경진대회...', 'text': '안녕하세요 서울경제진흥원 SBA입니다 오늘은 서울 도시 제조업 문제해결 인공지능(AI) 아이디어 경진대회 참가자 모집 공고 소식을... 서울 도시제조업의 문제 해결을 위한 인공지능(AI) 아이디어 경진대회 ✅️ 공모분야 AI를 활용한 서울 도시제조업 문제해결 혁신 아이디어...', 'date': '2023.09.26.'}\n",
      "{'title': '인공지능 데이터라벨링, 내일배움카드 신청 가능한 크라우드웍스', 'text': '인공지능 데이터라벨링, 내일배움카드 신청 가능한 크라우드웍스 안녕하세요. 사진&IT 크리에이터 자유분방입니다. 요즘은 뉴스를 보다 보면 인공지능 로봇이 아르바이트를 몇 명을 대체했다는 등의 뉴스가 나오게 됩니다. AI 인공지능은 일하기 편하게 하기 위해서 만들어지는...', 'date': '2023.05.30.'}\n",
      "{'title': '인공지능 프로그래밍을 위한 코드 위스퍼러 비주얼 스튜디오...', 'text': '바로 인공지능 AI 기반으로 코딩툴의 등장입니다. 마이크로소프트의 코 파일럿은 매달 10달러를 내야 하지만 아마존의 코드 위스퍼러의 경우 무료로 사용할 수 있습니다. 인공지능 프로그래밍 툴 코드 위스퍼러 설치 마이크로소프트 코 파일럿의 경우 비주얼...', 'date': '2023.07.31.'}\n",
      "{'title': '신개념의 맛집 검색 방법, 인공지능 빙으로 맛집 검색하기', 'text': '#인공지능맛집검색 #빙으로맛집검색 #신개념맛집찾기 안녕하세요. 인공지능과 빅데이터를 이용해서 상권분석과 온라인마케팅을 알려드리는 김영갑 교수입니다. 오늘은 인공지능 챗봇 마이크로소프트 빙을 이용해서 맛집을 검색하는 다양한 사례를 설명드리도록 하겠습니다. 맛집...', 'date': '2023.09.02.'}\n",
      "{'title': '파파코 인공지능 AI 투자해 보고, 출석체크로 앱테크까지!', 'text': '최근 인공지능 기반 AI 투자 플랫폼들이 많이 생겨나고 있는데요. 파파코에서는 투자뿐만 아니라 출석 체크를 통한 포인트 지급... 파파코는 인공지능 AI로 개발된 트레이딩 프로그램인데요. 요즘 챗 GPT나 AI, 로봇 기술에 대한 개발이 엄청나게 진행되고 있죠. 세상에 나와있는...', 'date': '2023.10.06.'}\n",
      "{'title': '[Specialized Info] 인공지능과 의료기기', 'text': \"질병 진단 인공지능 개발 '붐' 인공지능(AI)이 4차 산업혁명의 핵심으로 부상한 가운데 바이오헬스 분야에서도 AI를 접목한 서비스를 개발하기 위해 국내외 많은 회사와 연구진들이 나서고 있습니다. 특히 우리나라는 탄탄한 정보통신기술(ICT) 인프라와 단일건강보험체제로...\", 'date': '2023.08.03.'}\n",
      "{'title': '제조업 분야에서 인공지능이 영향을 미칠 영향', 'text': '하나인 인공지능(AI)에 초점을 맞추고 있습니다. 아직 정확한 범위는 알려지지 않았지만 AI가 노동 시장에 상당한 영향을 미칠 가능성이 있다는 것은 더 이상 비밀이 아닙니다. OECD 보고서에 따르면, 인공지능은 \"범용 기술\"이기 때문에, 거의 모든 분야와 직업이 영향을...', 'date': '2023.07.26.'}\n",
      "{'title': '뤼튼 사용법 4 - 자주 쓰는 문구 저장하기 / 인공지능 강의', 'text': '뉴미디어캠퍼스에선 뤼튼, 챗gpt와 같은 인공지능 플랫폼을 활용한 SNS 콘텐츠 제작 강의를 진행하고 있습니다. 자세한 인공지능 강의 문의와 SNS 마케팅 강사 소개는 포스팅 하단 링크를 참고해주세요! 지난 뤼튼 사용법 3에선 pdf 파일을 업로드 해서 분석하는 법에 대해...', 'date': '2023.08.04.'}\n",
      "{'title': '[부천cctv] 더욱 선명한 음식점 보안, 인공지능 400만 화소로', 'text': '인공지능으로 더욱 똑똑하게 400만 화소로 더욱 선명하게 안녕하세요 경기cctv 부천cctv 설치 전문 업체 자비스넷입니다. 음식점을... 그 중 하나인 보안 역시 챙기는 방법은 여러가지가 있는데요, 요즘은 자가설치부터 인공지능cctv까지 여러가지 선택의 폭으로 넓어졌습니다....', 'date': '2023.10.06.'}\n",
      "{'title': '미국 교육시장, 인공지능(AI)과 만나다', 'text': '해외는 지금 신산업으로의 인공지능(AI) 교육산업… 혁신과 기회의 지평을 열다 메타버스(Metaverse), 공간의 의미를 새롭게 해석하다... 그리고 이는 전 세계 산업 전반에 큰 영향을 미치고 있는데 교육산업도 예외는 아니며, 인공지능(AI)과 교육의 결합을 통해 새로운...', 'date': '2023.07.29.'}\n",
      "{'title': '구글 AI 인공지능 챗봇 바드 사용법', 'text': '챗gpt를 선두로 마이크로소프트에 이어 구글까지 ai 인공지능 챗봇 바드를 발표했습니다. 그래서 제가 사용법을 간략하게 알려드리려고... 다만 다른 챗봇과 마찬가지로 구글 AI 인공지능 바드 역시 이미지를 따로 보여주지는 않습니다. Bard의 최대 장점이라고 볼 수 있는 부분은...', 'date': '2023.06.06.'}\n",
      "{'title': '[용인cctv] 대형 비닐하우스, 화훼 매장에 인공지능을 적용하면?', 'text': '안녕하세요 인공지능 경기cctv 용인cctv 설치 전문 자비스넷입니다. 식집사라는 말, 들어보셨나요? 반려식물을 키우는 분들에게 붙여진... 농장cctv 이러한 고민을 가지신 경기도 용인시 내 대형 화훼 비닐하우스엔 이런 부분을 해결하기 위한 인공지능cctv 설치를 진행하였습니다....', 'date': '2023.10.10.'}\n",
      "{'title': '인공지능의 활용 1', 'text': '기업들은 여기저기서 챗봇 (인공지능 대화 시스템) 을 사용합니다. 외부 시스템을 쓰는 경우도 있고, 대기업의 경우 자체적으로 구축하기도 합니다. https://www.hitech.co.kr/news/articleView.html?idxno=21273 최근들어 본의아니게 포스코, 그중에서도 광양제철소에 관심을 많이...', 'date': '2023.10.11.'}\n",
      "{'title': '우주항공과 인공지능에 관심있는 학생들 주목!...', 'text': '국립중앙과학관에서는 초등 4학년 ~ 6학년 또는 동일 연령(11세 ~ 13세) 청소년을 대상으로 인공지능과 우주항공을 주제로 한 여름방학... 4(금) 10:00 2023년 캠프 주제는 <새로운 우주를 누리다 “우주 누리” / 인공지능 + 우주항공>입니다. 캠프에서는 우주항공 관련 전시관...', 'date': '2023.07.18.'}\n",
      "{'title': '인공지능 AI', 'text': '전세계적으로 인공지능 열품이 대단합니다. 마치 스마트폰이 처음 등장했을 때의 열기입니다. ChatGPT... 인공지능 AI Artificial Intelligence 블핑 제니 사진 편집하시려면 https://clipdrop.co/ 문서 작업은.....Notion...', 'date': '2023.09.01.'}\n",
      "{'title': '인공지능과 함께라면 난도 디자이너! AI 디자이너 양성과정...', 'text': '인공지능 활용 기술은 갈수록 더 중요해지고 있어요 할 줄 아느냐 모르냐는 큰 차이인거 아시죠? 인공지능 실력, 정말 놀랄만큼 출중하다구요! 인공지능을 활용기술 습득해 필요한 그림도, 디자인도, 사진도 얻어가세요! AI 디자이너 양성과정 수강생 모집!...', 'date': '2023.08.14.'}\n",
      "{'title': '지능을 가진 존재가 지켜야 할 약속, 인공지능 윤리', 'text': '점차 커져가는 인공지능 윤리에 대한 관심 인공지능이 나날이 발전하고 있습니다. 얼마 전까지 인공지능이라고 하면 사람보다 뛰어난 연산능력으로 복잡한 계산을 처리하는 도구로 생각하였습니다. 최근 ChatGPT와 같은 생성형 AI (Generative AI)는 기존의 복잡한 처리능력을...', 'date': '2023.06.29.'}\n",
      "{'title': '인공지능의 급성장, 급격한 인구감소', 'text': '글로벌 출산율 저하, 인구감소를 250년전 산업혁명 시기 이후의 인구급증과 대비해서 인공지능 시대의 전환점으로 파악하는게 흥미롭다. 향후 글로벌 경제가 처할 상황은 출산율 저하로 청년층 감소, 노령화 가속으로 인한 부양의 부담이 가중되는 상황을 어떻게...', 'date': '2023.06.05.'}\n",
      "{'title': \"[인문학 강의] 인공지능과 미래인문학_'ChatGPT를 활용한...\", 'text': \"충청남도교육청교육연수원(공주시 소재)에서 인공지능과 미래인문학 과정 중 5급 이하 공무원 약 40명을 대상으로 'ChatGPT를 활용한 보고서 작성'에 관한 주제로 강의했습니다. 강의에서는 [인공지능 ChatGPT를 활용해 업무의 효율성을 높이는 방안]으로 보고서, 이메일, 보도자료...\", 'date': '2023.08.20.'}\n",
      "{'title': '인공지능 챗GPT, 빙, 바드, 뤼튼, 클로바X 이용한 소상공인...', 'text': '소상공인을 위한 블로그 글쓰기 특강 인공지능 챗GPT, 빙, 바드, 뤼튼, 클로바X 중심으로 인공지능을 활용한 블로그 글쓰기는 소상공인에게 시간을 절약하게 도와주고 품질 높은 콘텐츠를 생산하는 좋은 방법입니다. 인공지능으로 생성된 기본 내용을 수정하고 맞춤화하여 브랜드...', 'date': '2023.08.25.'}\n",
      "{'title': '2027년 AI 인공지능 반도체 시장 매출 전망은?', 'text': \"오늘은 '2027년 AI 인공지능 반도체 시장 매출 전망은?' 에 대하여 알아보도록 하겠습니다. 전 세계 인공지능(AI) 반도체 매출이 앞으로 5년간 두 자릿수 이상의 성장률을 지속하며 2배 이상 커질 것이란 분석이 나왔습니다. AI 반도체 시장은 생성형 AI의 발전과 데이터...\", 'date': '2023.08.25.'}\n",
      "{'title': '대한민국 초거대 AI 도약… 인공지능을 전 국민 일상 속으로', 'text': \"생성형 인공지능(AI) '챗GPT'는 23년 상반기 과학기술계의 최대 화두 중 하나였습니다. 이에 정부는 24년도 예산 9090억 원을 투입, 복지... 인공지능을 전 국민 일상 속으로 2024년 9090억 원 투입 2023년 상반기 과학기술계의 최대 화두 중 하나는 미국의 오픈AI가 개발한 생성형...\", 'date': '2023.09.21.'}\n",
      "{'title': 'AI 인공지능 IoT 삼성 스마트싱스 SmartThings 연결하고...', 'text': '삼성 큐브 공기청정기 센서, 네트워크, AI 인공지능 기술을 통해 집안의 가전, 조명, 에너지 관리, 보안까지 제어하여 사용자의 편의성을... 스마트홈으로 구축하는 것을 뛰어넘어 이젠 AI 인공지능으로 더욱 똑똑해진 기능들을 살펴보았어요. 지금 삼성닷컴 홈페이지에 들어가시면...', 'date': '2023.07.26.'}\n",
      "{'title': '반도체 종목 SK하이닉스 주가변동 인공지능 AI 5세대...', 'text': 'SK하이닉스 | 인공지능 AI 5세대 HBM메모리 2차전지 | 전기차 돈버는투자공부 홈카페 라떼아트 안녕하세요 초보주식투자자입니다... SK하이닉스가 인공지능 AI용 5세대 메모리 HBM3E를 개발에 성공하고 엔비디아에 샘플을 공급해 테스트를 거친 후 내년 상반기부터 양산에...', 'date': '2023.08.22.'}\n",
      "{'title': '인공지능의 진짜 성공이 의미하는 것 (ft. 테슬라, 일론 머스크)', 'text': '일론 머스크는 이미 2013년부터 인공지능에 관심이 많아 구글의 래리 페이지, 리드 호프먼 허사비스 등과 열띤 토론을 했죠. 페이팔 마피아와 버락 오바마 대통령과도 만나며 인공지능의 위험성과 규제에 대해 알리기도 했습니다. 2015년에는 ChatGPT를 만든 샘 올트먼을 만나...', 'date': '2023.09.22.'}\n",
      "{'title': '[주식분석] 엔비디아 제친 차세대 인공지능 반도체 주식 종목분석', 'text': '이번 시간에 알아볼 내용은 한동안 인기를 끌었던 엔비디아의 뒤를 이을 차세대 인공지능 반도체 주식에 대한 분석입니다. 반도체 종목을 찾는 사람이라면 엔비디아를 못 들어본 분들은 없습니다. 올해가 시작하면서부터 시작된 챗gpt와 인공지능 열풍은 엔비디아의...', 'date': '2023.06.21.'}\n",
      "{'title': '파파코 인공지능 AI 투자 플랫폼 미국 지수 ETF 투자 후기', 'text': '파파코는 자체 개발한 인공지능(AI) 기반의 100% 자동화 펀딩 플랫폼인데요. 2016년부터 2020년까지 약 5년 동안 개발 및 테스트를 거쳤다고 합니다. 처음에는 기업용 인공지능 트레이딩 프로그램을 목표로 하였지만 여의치 않았다고 하는데요. 결국 2020년 6월 15일 법인 설립 및...', 'date': '2023.10.05.'}\n",
      "{'title': '바드 구글 인공지능 얼마나 똑똑할까? 바드 사용법', 'text': '얼리어답터 리뷰/IT정보 바드 구글 인공지능 얼마나 똑똑할까? 바드 사용법 by 엔돌슨 2023. 5. 2. 바드 구글 인공지능 얼마나 똑똑할까? 구글에서 만든 인공지능 아시나요? OpenAPI의 챗GPT가 큰 인기를 끌고 있지만, 인공지능의 원조는 테크 1위 기업인 구글이 아닐까...', 'date': '2023.05.02.'}\n",
      "{'title': '포토샵 2024, 생성형 채우기로 인공지능 경험하기', 'text': '이번 어도비의 전폭적인 업데이트를 통해 디자인 툴과 인공지능이 절묘하게 결합되었습니다. 지난번에는 일러스트레이터에서 인공지능을 경험해 보았는데, 오늘은 포토샵에서 AI의 능력을 살펴 보겠습니다. 어도비 포토샵 2024에서는 생성형 채우기와 생성형 확장을 통해 작업자가...', 'date': '2023.10.17.'}\n",
      "{'title': '어플리케이션제작 최신 인공지능을 이용하여 경쟁력 갖추는 방법', 'text': '최신 인공지능을 이용한 어플리케이션 제작 방식은 모든 코딩을 인공지능이 대신해주게 되면서 어플리케이션을 제작하는데 코딩 개발자들이 없이 가능해졌습니다. 인공지능 어플리케이션 제작 방식은 종래의 코딩 위주의 개발 방식에서 벗어나 만들고자 하는 페이지를 계획하고...', 'date': '2023.06.27.'}\n",
      "{'title': '[양주cctv] 니트회사 물류창고, 화재 관리까지 인공지능으로?', 'text': '인공지능cctv의 세계는 무궁무진합니다. 안녕하세요. 화재cctv 경기cctv 양주cctv 설치 전문 자비스넷입니다. 365일, 화재의 위험은 우리... 모든 현장 상황은 기본 cctv처럼 인공지능 영상분석을 곁들여 침입 등에도 감지를 하면서 만약 지정된 이상수치 이상으로 실내 환경의...', 'date': '2023.09.29.'}\n",
      "{'title': '[수원cctv] 철공소에 화재 감지가 되는 인공지능cctv를...', 'text': '자비스넷은 연기감지카메라를 보유한 유일한 인공지능 보안 업체로 많은 고객님들께서 화재 관련 보안 문의를 주시곤 합니다. 이러한... 보통 화재 감지를 하는 인공지능cctv를 떠올리신다면 열화상카메라를 떠올리시는데, 이 열화상카메라를 포함해 기존 화재 감지기와...', 'date': '2023.10.04.'}\n",
      "{'title': '[생활문화] AI 인공지능을 활용한 블로그 운영', 'text': '\"AI 인공지능을 활용한 블로그 운영\" 과정에 대해 알아볼게요^^ 어떤 내용을 배우나요? 서초여성인력개발센터 블로그 운영 주제에 관한 인공지능 활용, 계정 설정 및 레이아웃 꾸미기 , 인공지능 서비스 가입 및 활용, 블로그 분석 내용 기반 콘텐츠 생산 연습, 해외 콘텐츠 활용...', 'date': '2023.09.05.'}\n",
      "{'title': '뚜봇아 가정 양육수당 알려줄래 이벤트 안내::인공지능...', 'text': '대구시 인공지능(ai) 민원상담사 뚜봇! 뚜봇아~ 가정 양육수당 알려줄래? 이벤트 에 대해 대구북구에서 알려드립니다! 자세한 내용은 아래의 게시물을 참고해주세요❗ 뚜봇아~ 가정 양육수당 알려줄래? ✅이벤트 기간 9. 11.(월) ~ 9. 22.(금) ✅당첨자 발표 9. 27.(수) 뚜봇...', 'date': '2023.09.12.'}\n",
      "{'title': '2023 월드IT쇼 SK텔레콤 AI 인공지능 기술과 UAM', 'text': '인공지능 스피커로도 괜찮을 것 같네요. A.(에이닷)은 대화형 인공지능 서비스를 지원하는 개인 맞춤형 AI 에이전트입니다. 전용 앱을 통해서는 사용자의 취향에 맞춘 사진 보정, KBO 프로야구 중계, 게임, FLO 음악 추천 등을 즐겨볼 수 있는데요. 최근 업데이트를 통해...', 'date': '2023.04.28.'}\n",
      "{'title': '인공지능 스터디 part1.', 'text': '(1) 인공지능 why? 고성장이 보이는 섹터 대한민국이 여러가지로 유리한 포지션을 갖춘 산업 투자뿐 아니라 개개인의 삶에서도 반드시... 인공지능이 인터넷 만큼의 성장이 나올지는 솔직히 모르겠습니다. 허나 확실한 건 아직 초기 시장이며 인공지능을 사용자들이 앞으로 매년...', 'date': '2023.09.14.'}\n",
      "{'title': '‘이미지 생성 1타 인공지능‘ 미드저니, 기본 가이드', 'text': \"최근 인공지능 이미지 생성 서비스인 '미드저니(Midjourney)가 사용자 수 1000만명을 돌파했다. 지난 7월에 서비스를 시작해, 11월에 300만명을... 프로필 이미지에 특화된 인공지능, 일본 2D 애니메이션 스타일에 특화된 인공지능 등 AI 이미지 생성 시장이 갈수록 분화되는 양상을...\", 'date': '2023.02.16.'}\n",
      "{'title': '생성형 인공지능 누가누가 잘하나?-GenAI 50', 'text': 'CB Insights는 8월 8일 전 세계에서 가장 유망한 민간 생성형 인공지능(GenAI) 50개 기업 GenAI 50 수상기업을 발표했다. 2023년 수상 기업 중 16개는 미디어, 엔터테인먼트 캐릭터 애니메이션, 의료 분야 약물 발견 등 산업별 GenAI 사용 사례에 중점을 두고 있다. 20개...', 'date': '2023.08.11.'}\n",
      "{'title': '인공지능 데이터라벨링, 남녀노소 가능해 (feat. 무료교육...', 'text': '먼저 이 일에 대해 잘 모르는 분들이 많으실 것 같아 간단히 설명드리자면, 인공지능이 어떠한 데이터를 학습할 수 있도록 그에 맞는... 굉장히 많은 것들이 인공지능화 되어가고 있어요. 그만큼 어떻게 보면 사람이 할 일을 AI가 대신한다고 볼 수 있지만, AI가 사람에 준하는 일을...', 'date': '2023.10.15.'}\n",
      "{'title': '오산시, 운암뜰 인공지능(AI)시티 도시개발사업 토지주 면담', 'text': '‘운암뜰 인공지능(AI)시티 도시개발’사업 토지주들과 면담을 가졌습니다. 이날 면담에는 토지주 10여 명이 방문한 가운데 시청 도시개발과 관계자도 참석했는데요. ‘운암뜰 인공지능(AI)시티 도시개발’사업은 오산동 166번지 일원의 약 58만여 제곱미터 면적에 동탄 트램 연결...', 'date': '2023.08.18.'}\n",
      "{'title': 'AMD 그래픽카드 스테이블 디퓨전으로 인공지능 사진 만든 소감', 'text': '얼마 전 그래픽카드 구매를 할 때, 인공지능 그림 돌리려고 AMD에서 엔비디아로 바꾼다는 글이 몇 개 보이길래 뭔가 했더니~ 스테이블 디퓨전(Stable Diffusion) 일명 webui가 엔비디아 그래픽카드에서 잘 돌아가는 것이었군요. 이웃이신 서타이거 님께서 만드신 ...', 'date': '2023.05.03.'}\n",
      "{'title': '현재 주가조작이 의심되는 종목을 인공지능 바드(Bard)에...', 'text': '현재 실험 버전으로 제공되고 있는 구글의 인공지능 서비스 \\'바드(Bard)\\'에 \"현재 한국 주식시장에서 주가조작이 진행되고 있는 듯한 종목이... 챗GPT, 바드 같은 인공지능이 놀라움도 주기는 하지만 아직은 정확도 측면에서 가야 할 길은 많이 남은 것 같기는 해 보입니다. 대신 정답이...', 'date': '2023.06.05.'}\n",
      "{'title': '인공지능 AI 골드러쉬 (ft. 닷컴버블 vs 인터넷 붐)', 'text': '* Wedbush 분석가 Dan Ives에 따르면 주식 시장에서 \"인공지능 AI 골드 러시\"가 막 시작되고 있습니다. * 현재의 주식 시장은 닷컴 버블이 터지던 1999년보다 1995년과 더 비슷해 보인다고 말했습니다. * 아이브스는 \"인공지능 혁명이 이제 막 시작되고 있다\"고 말했습니다....', 'date': '2023.07.30.'}\n",
      "{'title': '가온그룹 주가 전망 및 실적 분석 (ft. 로봇, 인공지능 관련주)', 'text': '로봇, 인공지능 관련주) 안녕하세요. 머니알람입니다. 이번 포스팅에서는 로봇, 인공지능 관련주 중 하나인 가온그룹에 대해서 다뤄보려고 합니다. 가온그룹 주가 전망 및 실적 분석까지 알아보도록 하겠습니다. 먼저 어떤 기업인지 살펴볼까요? 가온그룹은 어떤 기업일까?...', 'date': '2023.10.03.'}\n",
      "{'title': '새로워진 인공지능 비서 SKT A.(에이닷), 이젠 챗GPT 기능까지', 'text': \"새로워진 인공지능 비서 SKT A.(에이닷), 이젠 챗GPT 기능까지 안녕하세요. 사진&IT 크리에이터 자유분방입니다. SKT의 인공지능 AI 서비스인 A.(에이닷)이 6월 30일 '내 손안의 AI 친구'라는 새로운 슬로건을 기반으로 업데이트되었습니다. 기존에도 영리했던 A.(에이닷)에 어떤...\", 'date': '2023.07.21.'}\n",
      "{'title': '[기회기자단] 경기도, 인공지능 활용해 모두를 위한 예술혁명 실현', 'text': '6월 12일(월)까지 14일간 열리는 이번 전시회는 경기도와 경기도문화재단이 사전 모집한 예술에 관심이 있는 발달장애인들에게 생성형 인공지능(AI)을 활용해 예술 활동 교육을 하고, 예술가와 협업해 완성한 작품 30점을 전시하는 것입니다. 이번 전시는 을 활용해...', 'date': '2023.05.31.'}\n",
      "{'title': '자율주행과 인공지능 그리고 학습방법', 'text': '언어 간 번역에서 신약 설계에 이르기까지 모든 종류의 데이터를 처리하고 모든 작업을 수행할 수 있는 단일 AI 모델 아이디어는 인공 일반 지능(AGI)으로 알려져 있습니다. 어떤 사람들에게는 그것이 모든 인공지능 연구의 궁극적인 목표이고, 다른 사람들에게는 그것이 우리가...', 'date': '2023.08.09.'}\n",
      "{'title': '강사양성 과정] 성공하는 소상공인을 만드는 인공지능 활용법', 'text': '#김영갑교수 #강사양성과정 #인공지능활용 안녕하세요. 소상공인을 위한 인공지능 활용 전문가 김영갑 교수입니다. 소상공인을 위한 중장년 디지털 강사양성 과정 성공하는 소상공인을 만드는 인공지능 활용법 인공지능 빅데이터 활용 상권분석 온라인마케팅 전문가 김영갑교수...', 'date': '2023.09.14.'}\n",
      "{'title': '인공지능 챗 chat GPT 의 플러그인, 브라우징 활용법', 'text': '얼리어답터 리뷰/IT정보 인공지능 챗 chat GPT 의 플러그인, 브라우징 활용법 by 엔돌슨 2023. 5. 23. 인공지능 챗 chat GPT 의 플러그인, 브라우징 활용법 챗GPT 안에서 모든 걸 해결할 수 있게 됩니다. 이제는 호텔 예약, 비행기 예약, 배달 주문, 주식 정보, 날씨 정보 등을...', 'date': '2023.05.23.'}\n",
      "{'title': '인공지능 머신러닝 책 추천-파이썬 3학년 머신러닝의 구조', 'text': '♣ 인공지능 머신러닝 책 추천-파이썬 3학년 머신러닝의 구조 선형 회귀, 서포트 벡터 머신, 랜덤 포레스트... 머신러닝을 위해 필수로 익혀야하는 이 개념들을 초등학생도 이해할 수 있게 쉽게 풀이한 책이 있어 소개합니다. 저도 파이썬을 열심히 공부한 초등학생들에게 ...', 'date': '2023.10.13.'}\n",
      "{'title': '인공지능 속도에 밀려나는 ‘AI 윤리’, 특이점 올까', 'text': '인공지능은 기본적으로 인간의 지능을 모방하는 기술로, 다양한 분야에서 유용하게 활용되지만 실제로 써 보면 항상 긍정적인 결과를 낳는 것은 아니다. 편리와 효율을 강조하다보니 오히려 인간의 권리나 가치를 침해하거나, 편향과 차별을 야기하거나, 부정적인 목적으로...', 'date': '2023.03.31.'}\n",
      "{'title': 'AICE 인공지능 인기 자격증 BASIC 코스', 'text': 'AICE 인공지능 인기 자격증 BASIC 코스 최근 AICE라고 불리는 인공지능 자격증이 인기이다. 대기업 재직자들이 인공지능 자격증 취득을 위해 힘을 쓰고 있다고 한다. AICE 자격증에 대해 알아보도록 하자. AICE 자격증 BASIC 코스 AICE는 AI Certificate for Everyone의 약자로...', 'date': '2023.07.05.'}\n",
      "{'title': '[이천cctv] 야외 농장, 까다로운 보안을 풀컬러 인공지능...', 'text': '주변이 어두워도 문제 없는 보안카메라 안녕하세요 인공지능 경기cctv 이천cctv 설치 전문 자비스넷입니다. 자비스넷에선 여러가지... 자비스넷이 제일 중요하게 여기는 것은 신속하고 편리한 보안으로 이러한 화재를 비롯해 카메라에 침입 현황이 보일 시 영상분석...', 'date': '2023.10.12.'}\n",
      "{'title': '[경제/사회] 구글 인공지능 채팅 gpt, BARD 후기', 'text': '오늘은 구글 인공지능 채팅을 해봤는데요. 한 번 소개해보려 해요. 이렇게 구글에 BARD를 검색하면 바로 나와요. 프롬포트 입력하는 곳에... © markusspiske, 출처 Unsplash 이러한 BARD라는 인공지능 채팅에서 얻을 수 있는 정보는 정말 빠르고 쉽게 얻을 수 있어요. 다만, 이 글에 대한...', 'date': '2023.06.08.'}\n",
      "{'title': '미국펀드투자 자동매매도 AI인공지능펀드로 해보기', 'text': '파파코로 미국펀드투자 자동매매 해보기 주식시장에서도 비약적으로 인공지능 기술이 발전하면서, 손 하나 까딱 안 하고 주식을... 인공지능 주식투자 플랫폼 [ 파파코 ] 오늘 소개해 드릴 인공지능 주식투자 플랫폼 [파파코]역시, 자동으로 펀딩을 해서, 레버리지와 인버스에...', 'date': '2023.09.15.'}\n",
      "{'title': '광주인공지능사관학교 4기 교육생 2차 모집 중!', 'text': '세계로 도약하는 No.1 AI 핵심인재양성의 산실 광주인공지능사관학교에서 4기 교생을 모집합니다! [ 모집기간 ] 2023.03.01.(수) ~ 03.31.... 광주인공지능사관학교 홈페이지 신청 https://gj-aischool.or.kr/ [ 문 의 ] 운영사무국 062)710-3257~9 2020년 개교한...', 'date': '2023.03.09.'}\n",
      "{'title': '10초 만에 답을 알려주는 인공지능? 챗GPT!', 'text': '한국 IDC에 따르면 국내 인공지능 시장은 전반적인 성장세를 보이고 있습니다. 그 중, 최근 높은 관심을 받고 있는 챗GPT를 아시나요? 챗GPT란 대화형 인공지능으로 현재 대화형 인공지능 분야에서 가장 발전된 기술 중 하나인 오픈AI의 GPT-3.5로 학습된 대규모 언어 모델입니다....', 'date': '2023.05.04.'}\n",
      "{'title': '제품 촬영도 이젠 인공지능 시대 AI 마케팅 현재 무료 서비스', 'text': '요즘 인공지능이 다양한 분야에서 활동하는데요. 앞으로 우리가 살아갈 사회 여러 분야에서 인공지능이 어디까지 발전할지 궁금해져 갑니다. 오늘은 제품 촬영한 이미지를 인공지능을 통해 다양한 이미지로 만드는 사이트를 소개해 드리겠습니다. 제품의 배경을 멋집 이미지로...', 'date': '2023.08.07.'}\n",
      "{'title': '우리나라 교육과정을 알고 있는 토종 생성형 인공지능...', 'text': '하이퍼클로바 엑스가 한글 데이터에 기반을 둔 인공지능 서비스이다. 교사 입장에서 제일 먼저 확인해 보고 싶은 것은 우리나라... 하지만 챗GPT나 다른 외국 생성형 인공지능 서비스들이 활용하는 데이터에는 우리나라 교육과정이 반영되지 않고 있다. 교육과정에 대한 질문을 하면...', 'date': '2023.08.26.'}\n",
      "{'title': '인공지능- 음악을 작곡하는 AI도구', 'text': '인공지능 - 음악을 작곡하는 AI도구 [생성형 음악 제작 도구] 1. AudioCraft 2. OpenAI Jukebox 와 MuseNet 3. Amper Music 4. Soundful 5. AIVA (Artificial Intelligence Virtual Artist) 6. Ecrett Music 7. Soundraw 8. Amadeus Code 가트너의 설문조사에 따르면, 을 사용한 적이 있는...', 'date': '2023.08.09.'}\n",
      "{'title': '구글이 만든 인공지능 서비스 챗봇 구글 바드 사용해보기', 'text': '이미 사용해 보신분도 있겠지만 구글이 지난 구글I/O때 공개한 구글의 인공지능 서비스 챗봇 구글 바드를 이제 누구나 사용할 수 있도록... 즉 인공지능 서비스가 보여주는 답변이 항상 정답은 아닙니다. 그러나 아래와 같이 객관적인 답이 정해진 문제에 대한 답변은 꽤 정확하게...', 'date': '2023.05.16.'}\n",
      "{'title': '[양평cctv] 전체적인 건물 관리, 인공지능cctv와 함께하세요!', 'text': '자비스넷은 인공지능 영상보안 전문 업체로 모든 제품군에 인공지능 기술을 적용하고 있습니다. 이 인공지능 기술엔 실시간 객체분류, 침입감지, 투기감지, 군집감지, 주정차감지 기능이 포함되며 상황이 발생할 시 인공지능이 실시간으로 분석, 사용자에게 바로 알림을...', 'date': '2023.09.15.'}\n",
      "{'title': '‘인공지능 스마트 소화기’로 재난은 막고, 안전한 세상 만들고', 'text': '[이 주의 조달청 혁신제품] 재난 예방 혁신제품 해외수출 ① 인공지능 스마트 소화기 ‘조달청 혁신제품’을 아시나요? 공공성과 기술성이... ‘인공지능 스마트 소화기’로 재난은 막고, 안전한 세상 만들고 지난달 가슴 아픈 사고가 있었습니다. 유례없던 폭우로 충북 청주...', 'date': '2023.08.09.'}\n",
      "{'title': '[Specialized Info] 잃어버린 아이들, 인공지능이 찾아낸다면?', 'text': '인상 착의와 주변 CCTV 활용 한국과학기술연구원(KIST)은 2018년부터 실종 아동 찾기에 인공지능(AI) 기술을 접목하는 연구를 해오고... KTL, 인공지능 발전 위해 힘 보탤 터 이렇듯 인공지능은 우리 생활에 엄청난 변화와 예상 못할 혜택을 줄 수 있습니다. KTL 역시 기술...', 'date': '2023.07.20.'}\n",
      "{'title': '[이천cctv] 편의점, 인공지능으로 절도 등 사건을 관리하다.', 'text': '우리 가게가 안전할 수 있는 이유, 인공지능cctv가 지켜주기 때문입니다. 안녕하세요 인공지능 경기cctv 이천cctv 설치 전문 자비스넷입니다. 편의점에선 심심치 않게 작고 큰 절도사건을 마주하게 됩니다. 보통 편의점은 한 명, 많으면 적어도 두 명이 일하는 구조입니다....', 'date': '2023.09.29.'}\n",
      "{'title': '인공지능과 영어회화 챗GPT 영어회화', 'text': '일단 챗GPT는 인공지능으로 사람이 물어보는 것을 요약을 해서 설명해 주지만 상당히 긴 지문으로 대답을 합니다. 영어회화의 경우 서로... 챗GPT 영어회화 저자 반병현 출판 생능북스 발매 미등록 #영어회과 #반병현 #김연정 #챗GPT영어회화 #인공지능영어회화 #생능출판사...', 'date': '2023.08.06.'}\n",
      "{'title': '[테마주분석] (위성통신,메타버스,ai인공지능,자율주행)...', 'text': '그래서 오늘 알아보는 위성통신, 메타버스, ai인공지능,자율주행과 연결되어 있는 6G관련주 전망은 많은 도움이 될 거라고 생각합니다. 차세대 미래산업 6G관련주 현재 우주항공 관련주에 관심을 갖고 있습니다. 20년도 우주산업에 들어가는 비용은 약 3,973달러 정도였으며...', 'date': '2023.09.12.'}\n",
      "{'title': '위기감인가 (feat. 네이버 거대인공지능 하이퍼클로바X 출시 예정)', 'text': '그런데 챗GPT 쇼크로 인하여 빠른 속도로 인공지능이 도입되어 서비스로 상용화되고 발전하고 있지요. 시간의 문제일 뿐 정보성 콘텐츠들은 챗GPT, Bard 등 인공지능 기반의 검색에 흡수되어 갈 수 밖에 없다고 생각됩니다. (아마도 정보는 인공지능 채팅 화면에 정리되어 출력되고 그...', 'date': '2023.08.20.'}\n",
      "{'title': '안드로이드어플개발, 인공지능으로 제작비용 절감하는 방법', 'text': '안드로이드 어플 개발, 제작비용을 절감하고 제작기간을 단축할 수 있는 획기적인 방법 앱 개발을 하는데 인공지능이 코딩을 대신 해준다면 어떨까요? 모든 코딩을 인공지능이 대신 해주기 때문에 코딩 개발자가 필요가 없어집니다. 그래서 코딩을 하기 위해 필요한 개발자의...', 'date': '2023.06.14.'}\n",
      "{'title': '인공지능으로 무장한 구글의 ‘서치랩스’, 테스트 알렸다', 'text': '서치랩스의 대표적인 생성형 인공지능(AI) 기능인 SGE(Search Generative Experience)를 사용해볼 수 있다. 단, 구글 랩스(Google Labs)에 가입된 미국의 일부 테스터들에 한정된다. 서치랩스란 5월 초 구글 연례 개발자 콘퍼런스 구글 I/O(Google I/O)에서 발표된 새로운 검색 프로그램이다....', 'date': '2023.05.26.'}\n",
      "{'title': '[KTL TODAY] KTL,「의료인공지능개발지원센터」개소!', 'text': '의료기기 인공지능(AI)·빅데이터 분야 연구개발과 중소·스타트업 기업 지원을 위한 인프라를 구축했습니다. KTL은 대구광역시, 유관기관 임직원 및 지역주민 등 약 60여 명이 참석한 가운데 KTL 의료인공지능개발지원센터(대구광역시 서구 소재) 개소식을 개최했다고 6월...', 'date': '2023.06.21.'}\n",
      "{'title': '(마감) 인공지능 화가 0원으로 부려먹기 - 50시간 공들여 만든...', 'text': '(마감) 인공지능 화가 0원으로 부려먹기 - 50시간 공들여 만든 스테이블 디퓨전 사용법 전자책 PDF 최근 단톡방 이웃분을 통해 재미있는 걸 발견했습니다. 인공지능 화가 스테이블 디퓨젼이 그것입니다. 챗GPT 가 텍스트 기반의 답변을 해주는 AI 이라면 Stable diffusion 은 이미지를...', 'date': '2023.03.23.'}\n",
      "{'title': '인공지능이 그려주는 AI 그림 사이트 인물 사진 같은 AI 이미지...', 'text': 'SF 영화 속에서나 등장할 것처럼 멀게만 느껴지던 인공지능이 Chat GPT 이후 일상생활에서도 쉽게 만날 수 있게 되었습니다. 정보 검색 이외에... 에디터 페이지로 이동하면 화살표로 표시한 부분에 인공지능 아이콘이 보이며, 상단에는 갤러리 만들기, 모델 사진으로 구분이 되어...', 'date': '2023.07.03.'}\n",
      "{'title': '충북 AI 인공지능[국비무료] ICT 기본과정/시스템 반도체과정...', 'text': '충북 AI 인공지능[국비무료] ICT 기본과정/시스템 반도체과정 교육생 모집(청주대학교 무료교육) 안녕하세요. 취업비서 인크루트 입니다. 오늘은 청주대학교산학협력단과 함게 하는 충북 AI 인공지능[국비무료] ICT 기본과정/시스템 반도체과정 교육생 모집(청주대학교...', 'date': '2023.08.01.'}\n",
      "{'title': '인공지능이 조종하는 XQ-58A Valkyrie 비행 테스트 성공.', 'text': '그리고 지난 2023년 7월 25일에는 마침내 사람이 아닌 인공지능의 컨트롤을 받으면서 비행 테스트를 진행했습니다.... 여기에 들어가는 인공지능 시스템은 역시 앞서 소개한 F-16 조종 인공지능 시스템인 VISTA X-62A를 개발한 Autonomous Air...', 'date': '2023.08.18.'}\n",
      "{'title': '인공지능특허 메타버스특허, 누구나 등록이 가능할까?', 'text': 'AI와 인공지능에 대한 관심이 사회적으로도 빠르게 증가하고 있습니다. 그렇다 보니, 많은 기업이 분야를 가리지 않고 인공지능 개발을 위하여 심혈을 기울이고 있죠. 인간을 대체할 수 있는 수준의 인공지능특허를 등록하게 된다면, 현재의 시장에서 막대한 부가가치를 창출해내는...', 'date': '2023.09.27.'}\n",
      "{'title': '[감사일기] 인공지능과... 소상공인 컨설팅과 인공지능 활용법 교육', 'text': '#소상공인컨설팅 #인공지능활용법교육 #김영갑교수 안녕하세요. 인공지능 빅데이터 상권분석과 온라인마케팅 전문가 김영갑 교수입니다. 오늘은 2023년 9월 15일 금요일입니다. 저는 오늘 하루도 소상공인 컨설팅과 인공지능 교육을 통해 소상공인의 성공을 돕는 데...', 'date': '2023.09.15.'}\n",
      "{'title': '[ON통정보] 여러분이 생각하는 최고의 인공지능(AI) 기술은?', 'text': '그런데 이 인공신경망을 한 번 더 업그레이드한 AI 모델이 나왔어요. 바로 챗GPT인데요. 챗GPT는 대화 전문 인공지능 모델이에요. 챗GPT는 사용자가 대화창에 텍스트를 입력하면 그에 맞춰 대화를 함께 나누는 서비스로, 질문에 대한 답변은 물론 논문 작성, 번역, 노래 작사와 작곡...', 'date': '2023.04.04.'}\n",
      "{'title': '아이디스 주식 주가 전망 인공지능 CCTV 관련주 보안 장비', 'text': '영상 보안 현장의 다양한 빅데이터를 학습한 IDLE는 인간의 뉴런과 유사한 인공 신경망이 스 스로 학습하는 딥 러닝(Deep learng) 방식의 인공지능 엔진입니다. 인공지능 영상 보안 IDLA는 사람, 자동차, 자전거 등 빠르게 움직이 는 대상뿐 아니라 주변을 배회하는 모든...', 'date': '2023.09.19.'}\n",
      "{'title': '파파코에서 인공지능으로 투자하는 방법 알아보기', 'text': '오늘 소개할 투자방법은 인공지능과 관련된 재테크이다. 낯설게 들리실지 모르겠지만 궁금해하실 분들이 있을 것 같아 소개해본다. 파파코 인공지능 기반 자동화 펀딩 플랫폼 인공지능으로 펀딩한다고? 그렇다. 파파코는 학습된 최적의 매매 타이밍들을 모아 더욱 더 최적화된...', 'date': '2023.05.16.'}\n",
      "{'title': '[도봉구cctv] 빌라의 출입 관리, 400만 화소 인공지능cctv로!', 'text': '안녕하세요, 인공지능 수도권cctv 도봉구cctv 설치 전문 자비스넷입니다. 세상이 흉흉하다는 말이 나오는 요즘입니다. 제일 안전해야 할... 인공지능cctv 실내의 현관 부근, 즉, 주 출입구에는 문을 열고 들어오는 사람이 누군지 바로 보일 수 있도록 정면 부근에 400만 화소...', 'date': '2023.09.26.'}\n",
      "{'title': 'AI(인공지능)와 아이의 미래', 'text': \"2013년 영화 'Her'에서 주인공 테오도르는 자신의 말에 귀 기울이고 이해해주는 인공지능 '사만다'에게 사랑을 느낀다. AI가 생각을 한다면, 마음이란 걸 가질 수 있는가? AI가 마음 먹은대로 사람의 생각을 바꿀 수 있지 않을까? 대다수 사람들이 생각과 판단을 AI에게...\", 'date': '2023.10.16.'}\n",
      "{'title': 'AI 인공지능 관련주 어도비 오토데스크 주가 괜찮을까', 'text': '인공지능이 다른 많은 산업에 변화를 만들고 있습니다. 디자인 업계에서도 마찬가지인데요, 생성형 AI에 대해 다시한번 짚어보고 관련주인 어도비와 오토데스크 각 기업에 대해 알아본 뒤 각 기업이 인공지능을 어떻게 이용하는지, 그리고 실제 주가나 기업 전망에는 어떤...', 'date': '2023.09.27.'}\n",
      "{'title': 'AICBM (인공지능, 사물인터넷, 클라우드, 빅데이터, 모바일)', 'text': '첫째로, AI(인공지능)은 학습, 문제해결, 패턴인식 등과 같이 인간 지능과 연결된 인지 문제를 해결하는 것에 주력하는 컴퓨터 시스템을 뜻하는데요. 이세돌과의 바둑 대결에서 승리를 거둔 알파고, 이미지를 자동으로 생성하는 미드저니, 군사용로봇 등이 이에...', 'date': '2023.06.29.'}\n",
      "{'title': '챗gpt 한글 vs 영어 뭘로 써야 할까? 챗gpt 강사 인공지능 강의', 'text': '뉴미디어캠퍼스에선 챗gpt와 같은 인공지능 프로그램을 활용한 SNS 콘텐츠 제작 강의를 진행하고 있습니다. 자세한 챗gpt 강사 소개와 인공지능 강의 문의는 포스팅 하단 링크를 참고해주세요! 챗gpt의 경우 영어와 한글중 어떤 언어로 질문을 해도 답을 해주기 때문에....', 'date': '2023.07.19.'}\n",
      "{'title': 'SKT 인공지능 AI 기술력 엿볼 수 있는 A.(에이닷) 어플 챗T...', 'text': '필자가 초등학교를 다니던 시절에는 AI(인공지능)라는 단어는 SF 영화나 과학 책 같은 곳에서만 접했기에 현실적인 느낌이 거의 없었는데, 이제는 일상생활 곳곳에서 적용된 사례들을 쉽게 접할 수 있는 시대가 되었다. 대표적인 예로 자율주행 차량, 인공지능 개인 비서...', 'date': '2023.07.21.'}\n",
      "{'title': 'AI(인공지능) 반짝 테마일까?', 'text': \"오늘 우선적으로 핀비즈닷컴을 보면 알수있듯이, AI(인공지능) 관련 기업인 구글, 마이크로소프트와 AI반도체 관련주인 엔비디아, AMD에... 보도되어 'AI(인공지능)' 관련 기업에 대한 전반적인 바스켓 매매가 이뤄졌는 점을 본다면, 왜 솔트룩스만 이렇게 약한 모습을 보였을까? 하는...\", 'date': '2023.08.31.'}\n",
      "{'title': '인공지능 Ai 반도체 SOC 관련 주 퀄리타스반도체 공모주 IPO...', 'text': '이번에 공모주 상장하는 퀄리타스반도체는 인공지능 Ai에 필요한 반도체 설계자산(IP) 기업인데요! 올해 기관투자자 참여율 중 최대를 기록한 퀄리타스반도체의 공모주 IPO 청약 정보와 함께 균등, 비례 정도까지 알아보도록 하겠습니다. 인공지능 AI, SOC 반도체 관련 주...', 'date': '2023.10.18.'}\n",
      "{'title': '[KISA] 인공지능 시대의 데이터와 보안 정책 세미나 개최', 'text': \"KISA는 지난 6월 9일(금) 한국데이터법정책학회, 조선대학교와 함께 '인공지능 시대의 데이터와 보안 정책 세미나'를 개최했습니다 이번 세미나에서는 국회 입법조사처의 정준화 입법조사관이 '인공지능 생성모델의 법적 문제', 경찰대 정혜련 교수가 '인공지능 고도화를 위한...\", 'date': '2023.06.15.'}\n",
      "{'title': '인공지능 AI 무선 블루투스 스피커 갤럭시 홈 미니', 'text': '보통 시중에 인공지능 AI 스피커라고 하면 구글 홈 미니나 네스트, 네이버 클로바, 혹은 통신사의 제품들이 떠오르는데요. 삼성전자 갤럭시에서도 인공지능 AI 스피커가 출시된 것을 알고 계시나요? 바로 2020년 출시된 갤럭시 홈 미니입니다. 갤럭시 홈 미니는 패브릭...', 'date': '2023.08.20.'}\n",
      "{'title': '국내 챗GPT 인공지능 AI 관련주 - 네이버 카카오 LG전자...', 'text': '국내 인공지능 관련주와 AI모델 개발 현황 3. 4개 기업의 주가와 전망 글. @피어나라뚜두뚜두의 Behappy 오늘은 챗GPT 플러그인 기술에 대한 소개와 함께 국내 인공지능 AI 관련주에 대해 알아보려 한다. 1. 챗GPT 플러그인이란? © geojango_maps, 출처 Unsplash 「7월에 치앙마이 한...', 'date': '2023.05.17.'}\n",
      "{'title': '은행지점폐쇄, 인공지능으로 대체되는 직업 10가지', 'text': '일공지능의 발전은 이처럼 기존의 많은 일자리를 대체하고 있습니다. 인공지능이 급격하게 발전하는 지금! 우리가 해야할 것은 인공지능을 효과적으로 이용하는 것입니다. 2023년 해외 전문가들은 인공지능이 대체할 가능성이 있는 직업군 10가지를 소개하였습니다. 기술직...', 'date': '2023.05.09.'}\n",
      "{'title': \"광고 전화 차단과 조용한 채팅방, 인공지능 적용 프로그램' 등\", 'text': \"채팅방, 인공지능 적용 프로그램 등 교육에 참석했어요. 토요포럼 509회 - 이경종 대표님의 '챗GPT 비교 및 활용사례'와 전종현 교수님의 '겔러리, 광고 전화 차단과 조용한 채팅방, 인공지능 적용 프로그램 등 서울소셜리딩그룹 토요포럼 509회 시간 : 9시 30분~12시 장소...\", 'date': '2023.08.05.'}\n",
      "{'title': 'Chatdoc - pdf 요약 인공지능 서비스', 'text': '♣ Chatdoc - pdf 요약 인공지능 서비스 1. chatdoc를 검색하고 사이트에 접속합니다. 2. Get started를 클릭합니다. 3. Sign in을 클릭하여 로그인합니다. Sign in with Google을 클릭하여 구글 아이디로 가입하고 로그인하면 빠릅니다. 4. 무료로 이용할 때는 최대 20페이지까지 이용...', 'date': '2023.10.20.'}\n",
      "{'title': '미래학자, 미래의 학교는 인공지능 교사가 수업을 진행한다고,', 'text': '그녀는 2050년이면 학생들이 인간 교사 없이 AI(인공지능) 교사로부터 직접 지식을 뇌에 다운로드하고 DNA에 맞는 수업을 받을 것이라고... 아이들은 인공지능 시스템을 다루는 법을 배우게 될 것이며 이것이 가장 중요한 기술이 될 것입니다. “제 생각에 가장 중요한 기술은 AI...', 'date': '2023.09.20.'}\n",
      "{'title': '[칼럼] 윤리적인 인공지능을 위해 필요한 것은?', 'text': '인공지능에게 어떠한 주제에 대한 질문을 했을 때, 그에 대해 더 많이 아는 사람은 인공지능의 답변에 대해 비판적으로 사고하기에 유리하지만, 그렇지 않은 사람은 큰 의심 없이 수용할 가능성이 높다. 인공지능에 대한 의존도가 높아지는 만큼, 인공지능이 갖추어야할 ‘윤리성’...', 'date': '2023.03.13.'}\n",
      "{'title': '인공지능 기반 화성 민원 상담 소통봇, 화성 소통봇 스마트하고...', 'text': '챗GPT는 포털 검색보다 더 길고 자세한 답변을 달아주는 인공지능 대화형 검색 로봇이라고 할 수 있습니다. 미국의 오픈 AI 사가... 제가 서두에 챗GPT를 얘기한 것은 경기도 화성시가 인공지능을 기반으로 365일 24시간 언제, 어디서나 민원상담이 가능한 챗봇 서비스를 개발했는데요....', 'date': '2023.08.14.'}\n",
      "{'title': '인공지능 관련주 AI 코지티피 2.0 기대 카카오 실적 주가 전망', 'text': \"오늘은 인공지능 관련주 카카오의 기업, 실적, 주가 전망에 관하여 알아본다. 카카오 1. 기업분석 2. 기업 실적 3. 주가 전망 기업분석... 10월 인공지능 AI '코지피티 2.0' 출시로 카카오의 주가가 반등을 할지 주목되고 있다. 카카오그룹에서 반년 동안 개미들이 15만 명이...\", 'date': '2023.09.01.'}\n",
      "{'title': \"'몰입형 SW-AI교육 체험활동 캠프' 인공지능 프로그래밍과 챗봇...\", 'text': \"'몰입형 SW-AI교육 체험활동 캠프' 인공지능 프로그래밍과 챗봇 프로그래밍을 직접 실습 대구 뉴스/교육 by 요즘대구 2023. 8. 7. 13:50 공감... 인공지능에 대한 학생들의 흥미와 이해도를 높이고, 미래사회의 핵심 역량인 인공지능 리터러시 및 컴퓨팅 사고력을 기를 수 있도록 돕기...\", 'date': '2023.08.07.'}\n",
      "{'title': '파이썬 머신러닝의 구조 인공지능 입문 책추천', 'text': '구조 인공지능 입문 책추천 파이썬 머신러닝 공부를 시작하신다면, 파이썬은 정말 다방면에서 활용되는 범용 프로그래밍 언어 같아요. 요즘 파이썬이 가장 많이 활용되는 분야 중 데이터과학 분야는 그동안 R 통계 패키지가 지배적이었거든요. 파이썬에 인공지능 관련...', 'date': '2023.10.04.'}\n",
      "{'title': '인도네시아 AI(인공지능) 시장 트렌드', 'text': '‘2020-2045 인공지능 국가전략(Strategi Nasional Kecerdasan Artifisial Indonesia 2020-2045)’을 발표했다. 이를 통해 인도네시아 기업의 생산성 향상, 인적 자원 활용, 다양한 분야의 혁신 촉진을 목표로 세웠다. 그리고 인공지능 국가전략을 달성하기 위해 우선적으로 AI를...', 'date': '2023.08.18.'}\n",
      "{'title': '[Clipdrop] 인공지능으로 이미지 여백 채워 넣기', 'text': 'UNCROP은 CROP처름 원본 이미지의 일부를 잘라내는 것과 달리, 반대로 원본 이미지의 상하좌우 여백을 추가해서 인공지능으로 채워 넣을... ▲ 제가 사용할 첫 번째 원본 이미지는 Clipdrop에서 인공지능으로 생성했습니다. 이미지를 추가할 때 드래그 앤 드롭 방식으로 가져다...', 'date': '2023.08.04.'}\n",
      "{'title': '지금 인공지능 관련주 사도 될까? 미국 인공지능 관련주식...', 'text': '얼리어답터 리뷰/IT정보 지금 인공지능 관련주 사도 될까? 미국 인공지능 관련주식 무엇이 있나 by 엔돌슨 2023. 5. 20. 미국 인공지능 관련주식 사도 될까? 인공지능 AI 캄브리아기처럼 엄청난 생성형 AI가 출시되고 있습니다. 그래서 미래의 투자로 인공지능 관련주에...', 'date': '2023.05.20.'}\n",
      "{'title': '있는 인공지능 클라이언트 서비스(The Artificial Client)...', 'text': '덴츠 크리에이티브 클라이언트 입장에서 크리에이티브를 피드백 받을 수 있는 인공지능 클라이언트 서비스(The Artificial Client) 테스트 New Tech/AI(인공지능) by 마켓캐스트 2023. 9. 19. 08:30 공감 덴츠 크리에이티브는 가상의 클라이언트...', 'date': '2023.09.19.'}\n",
      "{'title': '인공지능(AI)를 활용한 현대화 프로젝트', 'text': '인공지능(AI)를 활용한 현대화 프로젝트 -Todd Walden , Aaron Crews #스마트팩토리 , 현대화 프로젝트는 여전히 딜레마입니다. 많은 플랜트가... Aaron Crews는 Efficient Plant의 기사에서, “오늘날의 최신 디지털 도구는 인공 지능(AI)을 활용하여 엔지니어링에 소요되는 시간을 단축하고...', 'date': '2023.08.10.'}\n",
      "{'title': '[마포cctv] 매머드익스프레스 상수역점 인공지능cctv 설치 사례', 'text': '매장의 인공지능cctv 설치 및 관리를 도와드리고 있습니다. 수도권cctv 이번에 설치를 진행한 매장은 신규 오픈 예정인 매머드커피익스프레스 상수역점입니다. 손님 분들을 맞이하기 위한 단장이 한창인 이곳에 초기 보안부터 확실하게 쌓아가기 위해서 인공지능cctv를...', 'date': '2023.09.25.'}\n",
      "{'title': '분당서울대병원, 인공지능 기반 X-ray 분석으로 수면무호흡증...', 'text': 'idx=58384 인공지능 기반 X-ray 분석으로 수면무호흡증 진단 딥러닝 알고리즘을 활용한 두경부 X-ray 영상. 붉은색이 진할수록 수면무호흡증을 나타낸다. 분당서울대병원 제공두경부 엑스레이(X-ray) 영상을 분석해 수면무호흡증을 진단하는 인공지능 모델 www.dongascience.com...', 'date': '2023.09.26.'}\n",
      "{'title': '인공지능 데이터라벨링 과정, 크라우드웍스 데이터라벨러가...', 'text': '인공지능 데이터라벨링 과정, 크라우드웍스 데이터라벨러가 되기 위한 AIDE 정보 안녕하세요. 사진&IT 크리에이터 자유분방입니다. 요즘은 뉴스를 보다 보면 챗GPT, 메타버스, VR, AR, 인공지능, 로봇, AI 등에 대한 이야기가 계속해서 흘러나오고 있습니다. 몇 년 전만 하더라도...', 'date': '2023.07.15.'}\n",
      "{'title': '[광주cctv] 종교시설의 외·내부 관리를 인공지능cctv로!', 'text': '광주cctv 설치 사례 종교시설cctv 설치 사례 설치상담 : 1666-0068 (주)자비스넷은 kt skylife HCN과 인공지능 영상장비 ODM 납품 및 서비스 제공에 관한 B2B 협약을 맺은 공식파트너사입니다. #경기cctv #광주cctv #cctv설치 #cctv #교회cctv #cctv #cctv설치업체', 'date': '2023.09.28.'}\n",
      "{'title': '인공지능 주가는 현재 거품인가(ft. 닷컴 버블과 비교)', 'text': '인공지능을 둘러싼 과대 광고로 인해 주식 시장에 거품이 있다고 생각하십니까? 다시 한 번 생각해 보세요! 라고 펀드스트랫의 톰... 인공지능이 거품이 되려 한다면, 1999년 거품은 10배 이상 증가한다는 것을 알아야 한다고 생각합니다.\"라고 이씨는 말했습니다. Lee가...', 'date': '2023.07.29.'}\n",
      "{'title': '인공지능 장점 및 단점 3개씩 알아보자', 'text': '인공지능(AI)는 우리 일상생활을 많이 윤택하게 해주고 있습니다. 그리고 인공지능은 미래 산업의 핵심 먹거리로 꼽히고 있으며 4차 산업혁명에서 가장 중요한 분야로 꼽히고 있죠. 이런 인공지능 장점은 매우 다양하지만 그와 반대로 인공지능 단점도 분명히 존재합니다. 오늘은...', 'date': '2023.10.18.'}\n",
      "{'title': '인터넷 인공지능 관련주 네이버, 카카오 정리', 'text': '세계적으로 인공지능 챗봇의 열풍으로 인공지능AI, 인터넷플랫폼 관련 주식들이 상승한 모습을 볼 수 있다. 오픈AI에서 출시한 Chat GPT를 시작으로, 글로벌 기업들인 구글, 마이크로소프트, 그리고 한국의 네이버와 카카오 등이 관련 인공지능 서비스의 개발 및 투자를...', 'date': '2023.04.18.'}\n",
      "{'title': '개인 딥러닝 인공지능 머신 연습용 조립컴퓨터 고사양 조립PC', 'text': '개인 딥러닝 인공지능 머신 연습용 조립컴퓨터 고사양 조립PC 안녕하세요^^ 에이제이 인사드립니다. 오늘은 고사양 조립컴퓨터를 소개... #고사양컴퓨터 #최고사양컴퓨터 #딥러닝개인컴퓨터 #인공지능프로그램개발컴퓨터 #조립컴퓨터 #용산컴퓨터제작 #조립PC견적...', 'date': '2023.10.12.'}\n",
      "{'title': '〈신기한 인공지능 코딩 대모험〉 용어 퀴즈', 'text': '코딩 전문가 노훈 작가님이 초등학생 눈높이에 맞춰 쓴 코딩 동화 《신기한 인공지능 코딩 대모험》 \"인공지능과 코딩\" 왠지 어려울 것 같지만, 우리가 실생활에서 친숙하게 사용하고 있어요. Siri같은 비서 앱, 수많은 데이터로 최적의 답변을 해주는 ChatGPT, 관심있는...', 'date': '2023.09.18.'}\n",
      "{'title': '’27년까지 인공지능(AI) 12,800명, 클라우드 18,800명...', 'text': '* 1차(7.20./인공지능, 빅데이터), 2차(7.27./클라우드, 사이버 보안), 3차(8.17./이차전지, 첨단소재), 4차(8.31./나노, 3D프린팅, 차세대디스플레이) 이날 포럼에 앞서 고용부와 한국직업능력연구원은 인공지능(AI) 등 4개 주요 신기술분야에 대한 ’27년까지의 인력수급 전망 결과를...', 'date': '2023.08.31.'}\n",
      "{'title': \"[인공지능 교육] 'AI 기술 창업 트렌드 분석' 강의 진행\", 'text': \"인공지능산업융합산업단(광주광역시 소재)에서 진행하는 AI 창업교육 1차에서 '인공지능 기술 창업 트렌드 분석'에 관한 주제로 강의했습니다. 인공지능산업융합사업단에서 개최하는 AI 창업 교육으로 3일 과정 중 첫째 날 가장 먼저 강의를 진행했습니다. 이번 강의는 서울, 경기...\", 'date': '2023.05.31.'}\n",
      "{'title': 'AI 인공지능 관련주 챗GPT 바드 - 춤을 추되 문 근처에서 춤을...', 'text': '개인적으로 인터넷이 불러온 3차 산업혁명 이후 4차의 주인공이 인공지능이 되지 않을까 싶은데요. 기존에 메타버스니 블록체인이니 같은 얘기가 많았지만 진정한 기술혁명의 주인공은 AI 가 될 것으로 생각합니다. 문제는 개인이 투자하는 이유는 인공지능의 발달을 보고자...', 'date': '2023.02.15.'}\n",
      "{'title': '인공지능 드론을 테스트하는 AUKUS 연합', 'text': '및 인공지능 기술을 실제 전장에서 사용하기 위한 테스트를 진행했습니다. 이미 인공지능은 현대전에서 활약하고 있지만, 대부분의 무인기와 무인 차량은 사람이 직접 조종해야 하는 형태입니다. 하지만 최근 AI 기술의 급속한 발전으로 사람은...', 'date': '2023.06.06.'}\n",
      "{'title': '대구시 인공지능(AI) 민원상담사 “뚜봇아~ 치킨 줄래?”...', 'text': '대구시 인공지능(AI) 민원상담사 “뚜봇아~ 치킨 줄래?” 이벤트를 대구 북구에서 알려드립니다! 대구의 대표 축제인 대구치맥페스티벌... 자세한 내용은 아래의 게시물을 참고해주세요❗ 대구시 인공지능(AI) 민원상담사 “뚜봇아~ 치킨 줄래?”이벤트 ✅이벤트 기간 8. 9.(수)...', 'date': '2023.08.09.'}\n",
      "{'title': '측정해서 인공지능인 클로바(Clova)에게 음성으로 읽어달라고...', 'text': '측정하고 인공지능인 클로바(Clova)에게 음성으로 측정값을 읽어달라고 해볼거에요! 엔트리(entry)에 아두이노를 연결하기 위해서는... 엔트리 캐릭터를 선택하면 지금 측정중인 이산화탄소농도를 인공지능인 클로바(clova)에게 음성으로 읽어달라고 할거에요!...', 'date': '2023.10.14.'}\n",
      "{'title': '인공지능으로 특허 심사 더 빠르고 정확하게', 'text': '- 특허청, 「인공지능(AI) 기술을 활용한 특허행정 혁신 로드맵」발표 - 특허청(청장 이인실)은 ’23년을 인공지능(AI) 등 신기술을 활용한 특허행정 디지털 혁신의 원년으로 삼고, 2월 2일(목), 「인공지능(AI) 기술을 활용한 특허행정 혁신 로드맵(‘23~’27)」(이하, ‘AI 활용...', 'date': '2023.02.02.'}\n",
      "{'title': 'Adobe AI 포토샵 일러스트 인공지능 컨텐츠 CR 로고 추가', 'text': 'Adobe AI 포토샵 일러스트 인공지능 컨텐츠 CR 로고 추가 2023년 10월 10일(현지시간), 세계적으로 유명한 소프트웨어 기업인 어도비(Adobe)가... AI 인공지능 컨텐츠 CR 기호의 활용과 기능 CR 기호는 이미지, 비디오, PDF 콘텐츠의 우측 상단에 표시되며, 물방울 모양에 CR이라 적힌...', 'date': '2023.10.13.'}\n",
      "{'title': '인공지능이 발전하면 사라질 직업, 생겨날 직업이 무엇이 있을까?', 'text': '특히 인공지능이 개발이 되면서 미래에는 없어질 직업들이 있다고 이야기하고 계실텐데요. 인공지능의 발전은 여러 산업과 직업에 영향을 미칠 수 있어 미래를 대비하기 위해서 미리 알아보고 준비하시는 것이 필요하답니다. 일부 직업은 자동화나 인공지능 기술의 도입으로 인해...', 'date': '2023.05.25.'}\n",
      "{'title': \"대구경동초 '한여름 밤의 디지털 플리마켓'···인공지능(AI)과...\", 'text': \"대구경동초 '한여름 밤의 디지털 플리마켓'···인공지능(AI)과 독서몰입교육 연계 대구 뉴스/교육 by 요즘대구 2023. 7. 21. 12:36 공감 대구시교육청 지정 인공지능(AI)교육 선도학교를 운영하고 있는 대구경동초등학교는 2023년 7월 20일(목) 18시 30분, 학교 운동장에서 학생 및...\", 'date': '2023.07.21.'}\n",
      "{'title': '부모교육 [HELLO AI! 인공지능시대 자녀교육과 정신건강]', 'text': '인공지능시대 자녀교육과 정신건강] 참여자를 모집합니다! (งᐛ)ว (งᐖ )ว 인공지능시대에 살아가며 자녀를 어떤 인재로 키울 수 있을지에 대한 해답과 우리 아이들의 마음을 들여다보는 시간! ( •͈ᴗ-)ᓂ-ෆ 참여하신 분들 중 추첨을 통해 총 10분께 명지병원...', 'date': '2023.08.17.'}\n",
      "{'title': \"[찾아라! 최초인물] 최초의 인공지능 로봇 예술가 '에이다'\", 'text': '최초의 인공지능 로봇 예술가 에이다 시작해 볼까요? 시, 조각, 회화를 넘나들며 작품활동을 활발하게 하고있는 영국의 한 예술가... 오늘은 최초로 전시회를 열고 직접 창작한 시까지 낭송하는 인공지능 아티스트 에이다를 만나볼까요? 에이다는 2019년 영국에서 프로그래머...', 'date': '2023.05.11.'}\n",
      "{'title': '인공지능학과, 어떻게 준비하면 좋을까?', 'text': '인공지능 기술 (디지털 휴먼 등의 인간-공지능 간 자연스러운 감성의 교류를 제공할 수 있는 첨단 기술에 대한 이해 능력) 2. 확장/혼합현실 기술 (기술 사용자의 몰입감 및 현장감을 최대한 극대화할 수 있는 첨단 환경에 대한 이해 능력) 3. 실감 콘텐츠 기획 (최신 기술을 바탕으로...', 'date': '2023.09.05.'}\n",
      "{'title': '연결하고 인공지능(AI)인 CLOVA에게 온도와 습도값을...', 'text': '습도값을 인공지능(AI)인 Clova에게 음성으로 읽어달라고 해볼거에요! 먼저 아두이노와 센서를 연결하는 작업을 해야해요! 녹칸다... 이제 인공지능(AI)인 clova에게 측정한 온도와 습도값을 음성으로 읽어달라고 해볼거에요! 엔트리 캐릭터를 클릭하면 읽어주도록...', 'date': '2023.10.07.'}\n",
      "{'title': '구글 바드 사용법 구글 인공지능(Bard) AI 챗봇!', 'text': '구글에서도 챗GPT에 맞서기 위해서 인공지능 챗봇을 선보였는데요. 그래서 오늘은 구글 인공지능 챗봇, 구글 바드(Bard) 사용법에 대해서 알아보겠습니다. 구글 바드 사용조건 구글 바드는 챗GPT와 다르게 조건이 하나가 있는데 바로 만 18세 이상인 구글 계정에서만 사용이...', 'date': '2023.06.13.'}\n",
      "{'title': \"달서중 '2023 인공지능(AI) 캠프'···AI·VR·로봇·드론...\", 'text': \"달서중 '2023 인공지능(AI) 캠프'···AI·VR·로봇·드론 교육 프로그램 대구 뉴스/교육 by 요즘대구 2023. 7. 25. 15:15 2 달서중 '2023 인공지능(AI) 캠프' 대구광역시교육청 선정 ‘SW-AI교육 중점 학교’인 달서중학교는 2023년 7월 22일(토), 작년에 이어 2회째 달성군 초등학생...\", 'date': '2023.07.25.'}\n",
      "{'title': '전문 인공지능 챗봇 열풍!... (feat. 환경 관련 인공지능 사례)', 'text': '최근 세계적으로 주목받는 챗GPT와 같이 인공지능 기술은 일상 속 다양한 부분에서 도움을 주고 있는데요. 심지어 환경 문제에 대응하는 인공지능 기술 역시 개발되고 있는 상황입니다! 오늘은 푸루와 함께 세계를 흔든 챗GPT 사용법부터 국내 환경 관련 기술...', 'date': '2023.02.23.'}\n",
      "{'title': '누구나 쉽게 배우는 소프트웨어와 인공지능, 2023 온라인...', 'text': '코딩을 잘 모르는 이부터 코딩에 능수능란한 이들까지 새롭고 다양한 프로그램으로 소프트웨어, 인공지능과 친해질 수 있게 해주는... 어린이들이 사랑하는 친근한 캐릭터인 펭수나 엘사, 전 세계인이 사랑하는 BTS 등 특별한 캐릭터들이 프로그램의 주인공이 된 것이 반갑게...', 'date': '2023.06.22.'}\n",
      "{'title': '주말의 챗GPT, 인공지능에 의한 정보유출 우려 뉴스들 (ft....', 'text': \"여튼 챗GPT 같은 인공지능이 코딩도 할 줄 안다는데 이것이 악용되면 해킹, 정보유출 등의 우려가 앞으로 더 커질 것임은 당연히 걱정이... 그러니 이런 기사 뒤에 '인공지능에 의한 해킹, 보안 우려에 대한 연구투자의 필요성'에 대한 것이 깔릴 수 밖에 없을 겁니다. 이에 대해서...\", 'date': '2023.04.02.'}\n",
      "{'title': '인공지능이 주식시장을 구할 수 있을까?', 'text': '챗GPT의 갑작스러운 인기로 촉발된 인공지능에 대한 관심의 급증은 수조 달러의 주식시장 가치를 창출했습니다. 엔비디아는 현재 인공지능 시장에서 선두로 175% 이상 급등하여 1조 달러 클럽에 가입했으며, 메타도 119% 상승했습니다. 알파벳과 마이크로소프트와 같은 빅 테크...', 'date': '2023.06.14.'}\n",
      "{'title': '인공지능의 논란과 기회 3-Panic & Opportunities of AI', 'text': '나머지 나라들이 챗GPT에 재미 삼아 프롬프트(질문/명령)를 입력하는 동안 선점한 국가는 인공 슈퍼 지능을 얻게 된다. 핵무기 사용을 저지하려면 핵무기가 필요하다. 인공지능도 마찬가지다. 지구상 거의 모든 국가가 인공지능 개발이나 군비경쟁에 서로 협력하는 이유다....', 'date': '2023.06.07.'}\n",
      "{'title': '인공지능 스피커 기가지니LTE2 알아보기', 'text': '집안에 여러가지 가전을 제어할 수 있는 상태가 되면서 어느덧 인공지능 스피커에 대해 관심이 생기고 있습니다. 특히 저같은... 기가지니 LTE 2는 KT에서 출시한 인공지능 스피커 지니 라인업 제품 중 하나이며, 지니 2세대 제품입니다. 아무래도 KT 유저들을 타겟으로...', 'date': '2023.09.13.'}\n",
      "{'title': '구글 지메일, 인공지능으로 초안 ‘뚝딱’ 만든다', 'text': '구글 I/O 2023 (출처: 더모바일인디안(TheMobileIndian)) 구글이 발표한 새로운 생성형 인공지능(AI) 기능으로 지메일(Gmail) 작업이 더욱 빠르고... 단순히 사용자가 원하는 프롬프트를 입력하면 인공지능이 관련 지식을 기반으로 문장을 자동 완성시켜준다. 어조를 변경할 수 있는...', 'date': '2023.05.12.'}\n",
      "{'title': '챗GPT 사용법 인공지능 글쓰기부터 마케팅활용하는 방법 강의', 'text': '챗GPT 사용법 인공지능 글쓰기부터 마케팅활용까지 줌 특강 강의 챗GPT를 활용해서 할 수 있는 작업은 정말 다양합니다. 블로그 글쓰기... 지난번 진행한 챗GPT 사용법 강의에서는 \"인공지능과 함께 글쓰기부터 마케팅까지\" 주제로 인공지능 활용에 대한 강의를 진행하였습니다....', 'date': '2023.07.01.'}\n",
      "{'title': '데이터안심구역에서 인공지능 빅데이터 분석과 파이썬 무료...', 'text': '같은 인공지능에 대한 관심과 열기가 대단합니다. 기업이나 기관, 업체에서 생산된 단일 DATA들을 다양하게 연계하여 분석할 때 실생활에... 빅데이터와 인공지능 등에 관심이 많고 분석 및 활용과 관련된 직무에 대해 알아볼 수 있는 진로 체험도 있습니다. 해당 커리큘럼은 매주...', 'date': '2023.05.31.'}\n",
      "{'title': '[사람나래] 인공지능으로 공무원 복무 관리, 일하는 방식...', 'text': \"인사혁신처는 '인공지능 기반 지능형(스마트) 복무 관리 시스템'을 내년부터 시범 운영하고 오는 2025년까지 전 중앙행정기관이 본격 시행할 수 있도록 시스템을 구축한다고 밝혔는데요. 추진 배경을 정리하면 아래와 같습니다. 첫째, 전 중앙행정기관 공통 시스템을 통한 유연한...\", 'date': '2023.06.20.'}\n",
      "{'title': 'MZ 세대의 자기 계발, 인공지능 시대에 자아 이미지부터 바꿔라.', 'text': '아날로그 세상에서 디지털 세상으로 바뀌고, 인공지능으로 인하여 기존의 일자리에서 새로운 일자리를 찾아야 하는 변화의 시점에서... MZ 세대 모두가 자아 이미지를 바꾸어 인공지능 시대에 주역이 되기를 바랍니다. 사랑합니다. 감사합니다. 모바 비즈 올림', 'date': '2023.06.24.'}\n",
      "{'title': '인공지능의 논란과 기회 4-Panic & Opportunities of AI', 'text': '우리 스스로 인공지능을 능가하지 못할 것이라고 말하는 것이 안전하다. 오픈AI 창업자 \\'샘 알트만\\'은 \"오픈AI가 어떻게 큰 사업이 될지는 모르겠다. 슈퍼 지능을 구축한 다음, 그다음은 어떻게 할 것인지 거꾸로 물어보려고 한다\"고 언급했다. 실제로는 꽤 사실적인 표현이다....', 'date': '2023.06.08.'}\n",
      "{'title': '인공지능 전문가 데이터라벨링, 알바와 전업으로 가능한 일', 'text': '본인도 무엇이 좋을까 고민하던 찰나 인공지능 전문가 데이터라벨링에 대한 이야기를 듣게 되었다. 미래 산업이라고 부를 정도로 많은 사람이 관심을 가지는 직종으로, 데이터라벨링은 알바와 전업으로 도전하는 추세다. 데이터라벨링은 기계 학습 및 인공 지능 모델을 훈련하기...', 'date': '2023.07.25.'}\n",
      "{'title': '인공지능으로 운전 습관... 혁신제품 ‘인공지능 기반 교통사고...', 'text': '인공지능(AI) 기술을 기반으로 도로 위험도 관찰, 범죄 차량 추적, 도로파손 여부, 고령 운전자 인지능력 등 빅데이터를 모으고, 운전자를 실시간으로 관리하고 파악해 안전운전을 하도록 교육합니다. 덕분에 많은 운전자가 자신의 운전 습관을 객관적으로 인지하고 개선해...', 'date': '2023.08.17.'}\n",
      "{'title': '네이버 하이퍼클로바X - 국내 초거대 AI 인공지능 모델 24일...', 'text': \"챗 GPT의 '네이버' 버전이라고 생각하시면 된답니다.ㅎㅎ) 종종 초거대 인공지능(AI) 언어모델 관련 소식을 전하긴 했지만, 한국 기업에 대한 소식을 전하는 건 처음인 것 같은데요. ㅎㅎ (사실상 현재로서 거의 유일한 K-AI거대언어모델!ㅋㅋ) 아직 출시된 건 아니고요. 오는 8월...\", 'date': '2023.08.22.'}\n",
      "{'title': 'AI관련주, 인공지능 챗GPT 그리고 관련주들', 'text': \"정의한다 지능을 갖고 있는 컴퓨터 시스템 정도로 기억해두자 AI가 무섭다고 느껴졌던 영화 '아이로봇' AI가 산업에 미치는 영향 인공지능의 역사는 1700년 대 사람이 로봇처럼 체스를 두던 체스기계의 등장을 시작으로 체스 세계 챔피언과 맞붙은 IBM의 ‘딥 블루’, 이세돌...\", 'date': '2023.02.27.'}\n",
      "{'title': '2023 온라인 코딩파티 시즌2 소프트웨어 인공지능 교육 6주간...', 'text': \"과학기술정보통신부와 교육부, 한국과학창의재단은 누구나 쉽고 재미있게 소프트웨어와 인공지능 교육을 체험할 수 있는 '2023 온라인... 소프트웨어와 인공지능의 원리를 쉽고 재미있게 게임처럼 체험할 수 있도록 매년 새롭고 다양한 프로그램으로 구성하여 진행되고 있으며...\", 'date': '2023.10.09.'}\n",
      "{'title': '2023년 지질자원 데이터 활용 및 인공지능 경진대회', 'text': '2023년 지질자원 데이터 활용 및 인공지능 경진대회 소식 입니다. 참가자격은 지질자원 연구데이터 활용·아이디어 제시 및 AI 모형 개발 등에 관심 있는 국민 누구나 입니다. * 2023년 지질자원 데이터 활용 및 인공지능 경진대회 : http://www.geodata-con.kr/2023/index.php 2023년...', 'date': '2023.06.10.'}\n",
      "{'title': '한국 기준금리 발표 및 전망부터 2023년 트렌드인 인공지능...', 'text': '글로벌 마켓토크: 결국 인공지능이 2023년 메가 트렌드가 될까? 마켓Chef: Chef가 생각하는 강세장의 조건은? 리서치 하이라이트... 한국 기준금리 발표 및 전망부터 2023년 트렌드인 인공지능, 기술주까지 삼성증권 유튜브로 POP하게 알아볼까요? 삼성증권 구독 이벤트...', 'date': '2023.06.14.'}\n",
      "{'title': '인공지능 보이스 피싱, 스미싱, 피싱 차단해 주는 싹다잡아 어플...', 'text': '출처 PHYLLIS 인공지능 싹다잡아 어플은 위 어플들보다 더 강력하고 유익한 어플인 거 같아서 교육합니다. 우리모두 보이스 피싱, 스미싱 등에서 자유로우면 좋겠습니다. 인공지능 보이스 피싱, 스미싱, 피싱 차단해 주는 싹다잡아 어플 교육 싹다잡아 어플 보이스 피싱 차단하고...', 'date': '2023.07.24.'}\n",
      "{'title': 'ai 관련주 루닛 주가 인공지능 의료기기', 'text': 'ai 관련주 루닛 주가 인공지능 의료기기 요즘 ai관련주에 대한 관심이 많아지면서 ai도 좀 더 세분화되고 있습니다. 원래 처음 인공지능과 AI에 불을 붙인 것은 \"Chat GPT\"의 등장이었습니다. 질문만 하면 정말 사람처럼 정확한? 대답을 해주니 너 나 할 것 없이 관련 사업에...', 'date': '2023.08.08.'}\n",
      "{'title': '인공지능 교육, 정보보호 교육 [아주대학교] 일반대학원 후기...', 'text': '인공지능 교육, 정보보호 교육 [아주대학교] 일반대학원 후기 신입생 모집 안녕하세요. 취업비서 인크루트 입니다. 산업보안, 기계학습... 분이라면 인공지능 교육, 정보보호 교육 [아주대학교] 일반대학원 후기 신입생 모집 지원하실 수 있습니다. 인공지능 교육, 정보보호...', 'date': '2023.07.17.'}\n",
      "{'title': '인공지능(AI) 강군, 방위사업청이 대전시와 함께 이끕니다!', 'text': '이번 포럼은 방위사업청의 대전시대 개막 이후, 대전광역시와 함께 하는 첫 번째 행사로서 국정과제인 AI기반 과학기술 강군 육성을 위해 필수적인 국방 인공지능과 반도체 발전 미래 전략을 중앙정부와 지방자치단체가 함께 준비한다는 의미를 갖습니다. 대통령 직속...', 'date': '2023.08.02.'}\n",
      "{'title': 'AI 인공지능 ETF SRVR, CLOU, IROB (ft. 챗gpt 관련주...', 'text': '인공지능(AI)가 답변을 해주는 채팅 플랫폼이다. 지금까지 우리는 검색을 하면 키워드 중심으로 자료가 나오고 그중에서 원하는 자료를 찾고 정보를 취합했다. 그러나 이제는 자료를 찾아서 취합해 주는 역할을 인공지능이 대신하게 될 것이다. 인간은 아닌데 인간처럼 정보를...', 'date': '2023.01.30.'}\n",
      "{'title': '네이버 큐 cue 인공지능 AI 검색 하이퍼클로바X 점점...', 'text': '마이크로소프트의 New Bing처럼 네이버 검색에 AI 인공지능을 결합한 대화형 AI 검색 서비스인 cue가 드디어 서비스를 시작했습니다. 네이버 하이퍼클로바X 요소중 하나인 네이버 cue는 키워드 기반이던 기존의 검색 방식에서 벗어나 대화를 통해 원하는 결과를 좀 더 편하게 쉽게 얻을...', 'date': '2023.09.21.'}\n",
      "{'title': 'SW개발자 양성과정 - 챗GPT를 활용한 인공지능 개발자 교육생...', 'text': 'SW개발자 양성과정 - 챗GPT를 활용한 인공지능 개발자 교육생 모집 안녕하세요. 취업비서 인크루트 입니다. 오늘은 청년취업사관학교 금천캠퍼스와 함께하는 SW개발자 양성과정 - 챗GPT를 활용한 인공지능 개발자 교육생 모집에 대해서 자세히 안내해드리는 시간을...', 'date': '2023.06.27.'}\n",
      "{'title': '소프트웨어·인공지능과 함께! 디지털 새싹 캠프 1학기에도...', 'text': '소프트웨어·인공지능과 함께! 디지털 새싹 캠프 1학기에도 함께해요 ✔️ 디지털 새싹 캠프 학기 중 어떻게 운영되나요? ✔️ 디지털... ▶ 자세히 보기 : http://bit.ly/3MeQs31 #디지털새싹캠프 #소프트웨어 #인공지능 #교육부 디지털 새싹 캠프 1학기에도 함께해요 디지털 새싹...', 'date': '2023.04.06.'}\n",
      "{'title': '[송파cctv] 화재 감시와 침입감지가 가능한 인공지능cctv...', 'text': '인공지능이 꾸준히 개발을 거듭하는 가운데 2010년 이후부터는 cctv 역시도 인공지능과 결합한 형태로 감시에 있어 더욱 편리해졌습니다. 그리고 이제는 화재 감시 역시도 cctv로 가능하게 되었는데요, 자비스넷은 그 화재cctv에 강점을 보이는 회사입니다. 서울cctv 이번에...', 'date': '2023.09.18.'}\n",
      "{'title': '「인공지능 시대 안전한 개인정보 활용 정책 방향」 살펴보기', 'text': '개인정보보호위원회( 이하 ‘개인정보위’)가 8월 3일 「인공지능 시대 안전한 개인정보 활용 정책 방향」을 발표하였습니다. AI에 대한... 이번 포스팅에서는 최근 발표된 「인공지능 시대 안전한 개인정보 활용 정책 방향」을 통해 개인정보위가 향후 중점적으로 추진해 나갈...', 'date': '2023.08.10.'}\n",
      "{'title': '인공지능이 정보를 처리하며 발생하는 오류, 할루시네이션', 'text': '인공지능이 정보를 처리하며 발생하는 오류, 할루시네이션 할루시네이션은 인공지능(AI)이 정보를 처리하는 과정에서 발생하는 오류를 이야기합니다. 챗GPT등 인공지능 서비스가 활성화됨에 따라 나타난 신조어로, 질문의 맥락과 관계 없는 답을 이야기 하거나 사실이 아닌...', 'date': '2023.06.19.'}\n",
      "{'title': '인공지능 붐이 불러온 데이터센터 수요( 에퀴닉스 디지털리얼티 )', 'text': '자극된 투자 심리와 인공지능에 대한 기대는 에퀴닉스에게 에퀴닉스와 디지털리얼티 모두에 대한 투자 심리가 개선된 것은 맞으나, 시장에서는 디지털리얼티보다는 에퀴닉스가 AI 데이터 센터 수요 수혜를 받을 것으로 전망하고 있습니다. 이와 같은 수혜 노출의 차이는...', 'date': '2023.09.14.'}\n",
      "{'title': '인공지능 기업투자 : 성장성과 추천 종목 정리', 'text': '인공지능 기업투자 : 성장성과 추천 종목 정리 인공지능 기술은 기계 학습, 자연어 처리, 이미지 분석 등을 통해 사람과 유사한 인지 능력을 갖는 시스템을 개발하는 기술이다. 최근 몇 년간 인공지능 기술은 계속해서 발전해 왔으며, 향후에는 더욱 빠른 성장이 예상된다. 현재...', 'date': '2023.06.06.'}\n",
      "{'title': '[광주cctv] 400만 화소는 기본으로, 인공지능 영상분석까지!', 'text': '자비스넷은 인공지능을 통한 더욱 빠르고 안전한 보안을 제시합니다. 안녕하세요 경기cctv 광주cctv 설치 전문업체 자비스넷입니다.... 경기cctv 오늘 설치를 진행한 경기도 광주시의 한 순대국 전문점엔 자비스넷 만의 강점인 인공지능 영상분석이 적용된 400만 화소...', 'date': '2023.09.11.'}\n",
      "{'title': '반도체가 인공지능에 사용된다고? 차세대 PIM 반도체', 'text': '인공지능은 인간의 뇌 속 신경망을 본뜬 ‘인공신경망’을 이용하여 데이터를 학습하고 응용합니다. 인간의 뇌가 수많은 세포의 상호작용으로 작동하는 것처럼 인공신경망도 수많은 연산 과정이 필요한데, 이러한 연산 과정의 속도를 반도체가 높여줍니다. 인공지능에...', 'date': '2023.03.28.'}\n",
      "{'title': '인공지능과 편향성', 'text': '인공지능은 편향성이 없는 도구로서 개발되지만, 훈련 데이터와 개발 과정에서 인간의 편향이 반영될 수 있습니다. 이는 인공지능 시스템이 편향된 결론이나 의사결정을 내리는 경우를 발생시킬 수 있습니다. 이러한 편향성은 사회적인 불평등과 인종 차별 등과 관련된 문제를...', 'date': '2023.06.23.'}\n",
      "{'title': '의료 AI 인공지능 관련주 딥노이드 주가 전망', 'text': 'AI 플랫폼: DEEP: PHI는 고성능의 장비나 프로 그래밍 지식이 없어도 인공지능 (AI)에 관심만 있다면 간단한 모듈 조립만으로 인공지능 (AI) 모델 기획과 솔루션 개발을 경험할 수 있는 플랫 폼입니다. AI 교육: AI와 코딩에 관한 사전 지식이 없어도 누구나 AI 기초부터 AI 개발...', 'date': '2023.08.23.'}\n",
      "{'title': '구글 바드 사용법 1 - 인공지능 바드 소개 및 회원가입!', 'text': \"지난 포스팅에선 구글 인공지능 바드와 챗gpt의 차이점에 대해 알아봤는데요. 오늘은 구글 바드 사용법 첫 번째 시간! 구글 바드 소개와 가입에 대해 알아보겠습니다! 1. 구글 인공지능 바드란? 구글에서 나온 인공지능 '구글 바드'는 챗봇 형식으로 챗gpt 처럼 질문을 한 뒤 답변을...\", 'date': '2023.06.19.'}\n",
      "{'title': '인공지능 기술 프론티어는 어디까지? AI EXPO KOREA 2023', 'text': '2023년 5월 10일부터 12일까지 3일간 서울 COEX에서는 \"AI EXPO KOREA 2023(국제인공지능대전)\"이 개최되었습니다. 이번 행사에서는 인텔, HP... ▲ AI EXPO KOREA 2023 현장 (출처 : 촬영) 이번 AI 기술 설명회에서는 많은 교수와 연구생들이 언어 , 영상 , 예측 ...', 'date': '2023.05.22.'}\n",
      "{'title': '인공지능으로 문제를 만들고 채점과 피드백은 MS...', 'text': '교사의 교육 활동 중 가장 중요한 축을 이루는 학생 평가를 인공지능과 에듀테크를 활용하여 쉽게, 효율적으로, 체계적으로 처리할 수 있는 한 가지 예시를 제시한 것이다. ChatGPT의 등장으로 인해 촉발된 인공지능 교육에 대한 관심은 사실 대부분 호기심에 가득찬 탐색 수준에...', 'date': '2023.07.25.'}\n",
      "{'title': '간단하고 강력한 추천 AI 인공지능 번역기! DeepL 사용법 후기!', 'text': 'SoftWare.Web 간단하고 강력한 추천 AI 인공지능 번역기! DeepL 사용법 후기! 영댕이 2023. 3. 30. 10:29 최근 우리는 세계 곳곳에서 생산되는... 그런데 최근에는 AI 인공지능 기술의 발전으로 인해서 번역기의 성능이 크게 향상되어서 이제는 간단한 정보의 문맥은 크게 불편함...', 'date': '2023.03.30.'}\n",
      "{'title': 'AI(인공지능)가 바꾼 우리의 삶, 그리고 앞으로 전망', 'text': 'AI(인공지능)은 현재까지 빠르게 발전하고 있으며, 이러한 발전은 우리의 삶에 깊은 영향을 미치고 있습니다. AI는 컴퓨터나... 이 글에서는 AI(인공지능)가 우리의 미래에 어떤 변화를 가져올 것인지, 그리고 그 변화가 어떤 긍정적이나 부정적인 측면을 가질 수 있는지에 대해...', 'date': '2023.10.19.'}\n",
      "{'title': \"'그림으로 배우는 AI 인공지능 기술의 이해' 참석후기\", 'text': \"'그림으로 배우는 AI 인공지능기술의 이해' 참석후기 4월 21일 금요일 오전 10시 신도림 역 스마트 구로 홍보관에 40명이 넘는 구로구민들이 모였습니다. 빅데이터, 인공지능, 네트워크 기술 등의 IT 기술이 발전을 거듭하면서 모든 것이 디지털화하는 ‘디지털 트랜스포메이션’...\", 'date': '2023.05.04.'}\n",
      "{'title': '인공지능과 함께 읽은 시를 그린 그림', 'text': '그 시를 학습한 인공지능이 그림에 구상적 이미지들을 덧입히는 과정으로 이루어집니다. 추상적 감각과 감정은 언어로 개념화되고 인공지능이 학습한 수많은 데이터와 기록에 의해 구상화됩니다. 이 안에서 근거가 되는 기록은 나를 포함하지만 내 것이 아닌, 마치...', 'date': '2023.10.20.'}\n",
      "{'title': 'AGV AMR 차이점 ? 인공지능 AI 로봇 특징 정리', 'text': '로봇 기술이 계속해서 빠르게 발전하고 있는 가운데, 인공지능 AI 기술의 도입으로 더욱 다양하고 복잡한 작업까지 수행 가능해지고... 이번 페이지에서는 AGV와 AMR의 기본 원리와 차이점을 알아보고, 이 두 기술이 어떻게 인공지능 로봇으로 발전하고 있는지를 중심으로...', 'date': '2023.09.02.'}\n",
      "{'title': '생성형 인공지능 모델의 책무성 관련 이용자 보호 쟁점 논의', 'text': '학계, 기업, 시민단체, 정부 등 총 30여명의 각계 전문가로 구성된 민관협의회는 그동안 ‘알고리즘 저널리즘 시대의 이용자 보호 방안’, ‘생성형 인공지능 기반 챗봇 서비스에서의 이용자 보호 쟁점’ 등을 다루었으며, 앞으로도 지능정보시대 이용자 보호 현안들에 대해...', 'date': '2023.06.29.'}\n",
      "{'title': '경제신문 :) ‘의료 인공지능’ 냄새만 풍겨도 상승…올들어...', 'text': '‘의료 인공지능’ 냄새만 풍겨도 상승…올들어 6배 오른 종목도 (매일경제) 바이오 종목 투자 대세로 부상한 ‘의료AI’ 루닛 등 외국인 순매수 상위권에 포진 © owenbeard, 출처 Unsplash 한 줄 요약 코스닥 시장에 상장된 의료 인공지능(AI) 관련주들의 주가는 큰 폭으로 오르고...', 'date': '2023.09.12.'}\n",
      "{'title': '뇌졸중 및 전립선암 솔루션은 전세계 유일한 인공지능 솔루션 제품', 'text': '관리까지 인공지는 다중 뇌질환 분석 + 인공지능 다중 암 분석 뇌, 전립선, 폐로 확장 중인 동사의 의료 영상 진단 사업 영역 인공지능 기반 의료 영상 진단 기술 개발 전문기업 신규 플랫폼 출시 및 기업·병원과의 협약을 통한 판로 확보 일본 최대 원격의료기관...', 'date': '2023.06.22.'}\n",
      "{'title': '챗GPT 인공지능 AskUp을 카카오톡에서 이미지 글자까지...', 'text': '챗GPT 인공지능 대화형 문장검색이 대세인가요? 이제 챗GPT 인공지능 AskUp을 카카오톡에서 이미지 글자까지 인식해서 사용할 수 있습니다. 카카오톡 채팅에서 인공지능 대화형 검색과 이미지 글자까지 아주 대단한 기술이죠. 서비스 시작한 지 3일 된 거 같은 데 사용자가...', 'date': '2023.03.12.'}\n",
      "{'title': 'AI 인공지능 관련주 모음집: 반도체 기업 포함!', 'text': '대다수는 인공지능 관련 사업을 영위하고 있다는 이유만으로 수 배씩 오르는 기현상을 보이고 있으니 말이다. 물론, 이 말이 AI 산업 전체를 부정적으로 바라본다는 뜻은 아님. MS, 구글, 오라클, 아마존, 메타, AT&T, 암젠 등 각 산업의 꼭짓점 기업들이 잇따라 을 채택하고...', 'date': '2023.07.22.'}\n",
      "{'title': '대구시 인공지능(AI) 민원상담사 \"뚜봇아~ 치킨 줄래?\" 이벤트', 'text': '대구시 인공지능(AI) 민원상담사 \"뚜봇아~ 치킨 줄래?\" 이벤트 대구시 인공지능(AI) 민원상담사 뚜봇! 뚜봇에게 대구 대표 축제인 대구치맥페스티벌에 관해 물어보고 간단히 인증샷을 올리는 이벤트에 참여해 보세요 총 50분을 추첨하여 치킨 기프티콘(2만원)을 선물로 드립니다...', 'date': '2023.08.11.'}\n",
      "{'title': '어도비AI 포토샵 파이어플라이 모델2 인공지능 디자인', 'text': '어도비AI 포토샵 파이어플라이 모델2 인공지능 디자인 어도비AI 포토샵 파이어플라이 모델2 인공지능 디자인 어도비(Adobe)는 지난 몇 년 동안 AI를 활용한 혁신적인 제품과 모델을 개발하여 인공지능(AI) 시장에서 강력한 포지션을 구축하고 있습니다. 이 회사는 최근에도 AI 제품과...', 'date': '2023.10.14.'}\n",
      "{'title': '인공 지능 판사는 공정할까?', 'text': '이런 의미에서 본다면 인공 지능 판사는 과연 수많은 경우의 수와 맥락을 파악하는 게 가능할까요? 사회 문제를 윤리적으로 바라보기... #인공지능판사는공정할까? #개암나무 #희진쌤책읽어주세요 #독서지도사추천도서 #어떤양형의이유 #공정성 #공평 #윤리 ...', 'date': '2023.10.13.'}\n",
      "{'title': '인공지능 사례 자율주행 의료 번역 총정리', 'text': '인공지능 사례 자율주행 의료 번역 총정리 인공지능(AI)은 현대 사회에서 아주 중요한 역할을 맡고 있다. 우리는 이미 AI 기술을 여러 사례를 통해 볼 수 있다. 오늘은 인공지능의 다양한 사례를 살펴보려고 한다. 인공지능 개념 인공지능은 크게 약한 인공지능과 강인한 으로...', 'date': '2023.06.06.'}\n",
      "{'title': '로봇 강아지 인공지능 AI의 루나 로봇 강아지첫만남 후기', 'text': '얼리어답터 리뷰/IT정보 로봇 강아지 인공지능 AI의 루나 로봇 강아지첫만남 후기 by 엔돌슨 2023. 8. 29. 로봇 강아지 인공지능 AI의 루나 로봇 첫만남 후기 딸아이를 위해서 루나 펫로봇을 구매하였습니다. 이전에도 소니 아이보 및 에일릭 로봇을 잘 가지고 놀았는데요. 소니...', 'date': '2023.08.29.'}\n",
      "{'title': '인공지능 마케팅이란? 데이터를 활용해야하는 이유! SNS...', 'text': \"AI를 활용한 인공지능 마케팅은 어떤식으로 할 수 있을까요? 오늘은 인공지능 마케팅과 데이터를 활용한 데이터 기반 의사결정을 해야하는 이유에 대해 알아보겠습니다! 마케터들의 고민 마케터들의 고민중 하나는 투자된 돈으로 어떠한 일들이 일어났는지 '한 번에' 알기...\", 'date': '2023.06.22.'}\n",
      "{'title': '안내] 인공지능 빙, 바드, 챗GPT, 클로바X 활용스타벅스 vs...', 'text': '인공지능과 빅데이터 활용 상권분석 전문가 김영갑 교수입니다. 이미 공지하여 드렸던 상권분석전문가과정 3주차 프리뷰 특강의 내용을 다음과 같이 변경하게 되었습니다. 인공지능 빙, 바드, 챗GPT, 클로바X 활용 스타벅스 vs 교촌치킨 상권전략 비교 이전에 공지하였던 프리뷰...', 'date': '2023.10.03.'}\n",
      "{'title': \"'ai vs 인간'.. 인공지능 공부하면서 얻은 질문 11가지\", 'text': \"같은 인공 생명체) © comparefibre, 출처 Unsplash 사람들은 ai를 두고 '의인화의 오류'에 빠진다. 이들은 인간이 아니다. © rodlong, 출처 Unsplash 인공지능 로봇과 사람이 싸울지 화합하며 살아갈지는 아무도 알 수 없다. © santesson89, 출처 Unsplash ai의 생존욕구...\", 'date': '2023.09.19.'}\n",
      "{'title': '[인공지능 빙, 바드, 챗GPT, 클로바X, 뤼튼에게 묻다]...', 'text': '안녕하세요 인공지능과 빅데이터를 활용해서 소상공인을 위한 상권분석과 온라인마케팅을 가르치고 있는 김영갑교수입니다. 오늘은 지하철을 이용하며 인공지능 챗봇이 어디 정도 정확한 답변을 주는지 비교하는 실험을 해 보았습니다. 우리의 삶 속에서...', 'date': '2023.09.07.'}\n",
      "완료\n"
     ]
    }
   ],
   "source": [
    "# get_view()\n",
    "views = driver.find_elements(By.CSS_SELECTOR, '.lst_view .bx')\n",
    "result = []\n",
    "\n",
    "for view in views:\n",
    "    con_dict = {}\n",
    "    con_dict['title'] = view.find_element(By.CSS_SELECTOR, '.title_link').text\n",
    "    con_dict['text'] = view.find_element(By.CSS_SELECTOR, '.dsc_link').text\n",
    "    con_dict['date'] = view.find_element(By.CSS_SELECTOR, '.sub').text\n",
    "    result.append(con_dict)\n",
    "    print(con_dict)\n",
    "    \n",
    "print('완료')"
   ]
  },
  {
   "cell_type": "code",
   "execution_count": 67,
   "id": "5dd16ede-1772-47f6-805a-59a9cd8084e8",
   "metadata": {},
   "outputs": [
    {
     "data": {
      "text/html": [
       "<div>\n",
       "<style scoped>\n",
       "    .dataframe tbody tr th:only-of-type {\n",
       "        vertical-align: middle;\n",
       "    }\n",
       "\n",
       "    .dataframe tbody tr th {\n",
       "        vertical-align: top;\n",
       "    }\n",
       "\n",
       "    .dataframe thead th {\n",
       "        text-align: right;\n",
       "    }\n",
       "</style>\n",
       "<table border=\"1\" class=\"dataframe\">\n",
       "  <thead>\n",
       "    <tr style=\"text-align: right;\">\n",
       "      <th></th>\n",
       "      <th>title</th>\n",
       "      <th>text</th>\n",
       "      <th>date</th>\n",
       "    </tr>\n",
       "  </thead>\n",
       "  <tbody>\n",
       "    <tr>\n",
       "      <th>0</th>\n",
       "      <td>엘지 휘센 인공지능스스로에어컨(FQ19P7DPAN) 누수현상 해결...</td>\n",
       "      <td>엘지 인공지능스스로에어컨 분해방법은 해 보지 않으면 어렵고 당황스럽지만 막상 해 보...</td>\n",
       "      <td>2023.08.09.</td>\n",
       "    </tr>\n",
       "    <tr>\n",
       "      <th>1</th>\n",
       "      <td>로보어드바이저 수익률 비교, 인공지능 투자 성과는?</td>\n",
       "      <td>그럼 인공지능인 로보어드바이저와 일반 펀드의 운용 성과는 어땠을까요? 2022년 펀...</td>\n",
       "      <td>2023.09.26.</td>\n",
       "    </tr>\n",
       "    <tr>\n",
       "      <th>2</th>\n",
       "      <td>[종목분석] 의료 인공지능 딥노이드 주가 전망을 살펴봅니다</td>\n",
       "      <td>그 중에서 오늘은 인공지능 딥노이드 주가를 살펴보려고 하는데 해당 종목은 이미 많이...</td>\n",
       "      <td>2023.08.30.</td>\n",
       "    </tr>\n",
       "    <tr>\n",
       "      <th>3</th>\n",
       "      <td>AI 인공지능 파이토치 서적으로 가볍게 시작해보죠</td>\n",
       "      <td>인공지능이 표면적으로 한풀 꺽였다고는 하지만 관련된 서적과 툴들은 꾸준하게 발전하고...</td>\n",
       "      <td>2023.10.02.</td>\n",
       "    </tr>\n",
       "    <tr>\n",
       "      <th>4</th>\n",
       "      <td>NPU 관련주 뜻 - 인공지능 구글 텔레칩스 칩스앤미디어 주가 전망</td>\n",
       "      <td>NPU 관련주 뜻 - 인공지능 구글 텔레칩스 칩스앤미디어 주가 전망 NPU 뜻 NP...</td>\n",
       "      <td>2023.10.09.</td>\n",
       "    </tr>\n",
       "    <tr>\n",
       "      <th>...</th>\n",
       "      <td>...</td>\n",
       "      <td>...</td>\n",
       "      <td>...</td>\n",
       "    </tr>\n",
       "    <tr>\n",
       "      <th>325</th>\n",
       "      <td>로봇 강아지 인공지능 AI의 루나 로봇 강아지첫만남 후기</td>\n",
       "      <td>얼리어답터 리뷰/IT정보 로봇 강아지 인공지능 AI의 루나 로봇 강아지첫만남 후기 ...</td>\n",
       "      <td>2023.08.29.</td>\n",
       "    </tr>\n",
       "    <tr>\n",
       "      <th>326</th>\n",
       "      <td>인공지능 마케팅이란? 데이터를 활용해야하는 이유! SNS...</td>\n",
       "      <td>AI를 활용한 인공지능 마케팅은 어떤식으로 할 수 있을까요? 오늘은 인공지능 마케팅...</td>\n",
       "      <td>2023.06.22.</td>\n",
       "    </tr>\n",
       "    <tr>\n",
       "      <th>327</th>\n",
       "      <td>안내] 인공지능 빙, 바드, 챗GPT, 클로바X 활용스타벅스 vs...</td>\n",
       "      <td>인공지능과 빅데이터 활용 상권분석 전문가 김영갑 교수입니다. 이미 공지하여 드렸던 ...</td>\n",
       "      <td>2023.10.03.</td>\n",
       "    </tr>\n",
       "    <tr>\n",
       "      <th>328</th>\n",
       "      <td>'ai vs 인간'.. 인공지능 공부하면서 얻은 질문 11가지</td>\n",
       "      <td>같은 인공 생명체) © comparefibre, 출처 Unsplash 사람들은 ai...</td>\n",
       "      <td>2023.09.19.</td>\n",
       "    </tr>\n",
       "    <tr>\n",
       "      <th>329</th>\n",
       "      <td>[인공지능 빙, 바드, 챗GPT, 클로바X, 뤼튼에게 묻다]...</td>\n",
       "      <td>안녕하세요 인공지능과 빅데이터를 활용해서 소상공인을 위한 상권분석과 온라인마케팅을 ...</td>\n",
       "      <td>2023.09.07.</td>\n",
       "    </tr>\n",
       "  </tbody>\n",
       "</table>\n",
       "<p>330 rows × 3 columns</p>\n",
       "</div>"
      ],
      "text/plain": [
       "                                       title  \\\n",
       "0    엘지 휘센 인공지능스스로에어컨(FQ19P7DPAN) 누수현상 해결...   \n",
       "1               로보어드바이저 수익률 비교, 인공지능 투자 성과는?   \n",
       "2           [종목분석] 의료 인공지능 딥노이드 주가 전망을 살펴봅니다   \n",
       "3                AI 인공지능 파이토치 서적으로 가볍게 시작해보죠   \n",
       "4      NPU 관련주 뜻 - 인공지능 구글 텔레칩스 칩스앤미디어 주가 전망   \n",
       "..                                       ...   \n",
       "325          로봇 강아지 인공지능 AI의 루나 로봇 강아지첫만남 후기   \n",
       "326       인공지능 마케팅이란? 데이터를 활용해야하는 이유! SNS...   \n",
       "327  안내] 인공지능 빙, 바드, 챗GPT, 클로바X 활용스타벅스 vs...   \n",
       "328       'ai vs 인간'.. 인공지능 공부하면서 얻은 질문 11가지   \n",
       "329     [인공지능 빙, 바드, 챗GPT, 클로바X, 뤼튼에게 묻다]...   \n",
       "\n",
       "                                                  text         date  \n",
       "0    엘지 인공지능스스로에어컨 분해방법은 해 보지 않으면 어렵고 당황스럽지만 막상 해 보...  2023.08.09.  \n",
       "1    그럼 인공지능인 로보어드바이저와 일반 펀드의 운용 성과는 어땠을까요? 2022년 펀...  2023.09.26.  \n",
       "2    그 중에서 오늘은 인공지능 딥노이드 주가를 살펴보려고 하는데 해당 종목은 이미 많이...  2023.08.30.  \n",
       "3    인공지능이 표면적으로 한풀 꺽였다고는 하지만 관련된 서적과 툴들은 꾸준하게 발전하고...  2023.10.02.  \n",
       "4    NPU 관련주 뜻 - 인공지능 구글 텔레칩스 칩스앤미디어 주가 전망 NPU 뜻 NP...  2023.10.09.  \n",
       "..                                                 ...          ...  \n",
       "325  얼리어답터 리뷰/IT정보 로봇 강아지 인공지능 AI의 루나 로봇 강아지첫만남 후기 ...  2023.08.29.  \n",
       "326  AI를 활용한 인공지능 마케팅은 어떤식으로 할 수 있을까요? 오늘은 인공지능 마케팅...  2023.06.22.  \n",
       "327  인공지능과 빅데이터 활용 상권분석 전문가 김영갑 교수입니다. 이미 공지하여 드렸던 ...  2023.10.03.  \n",
       "328  같은 인공 생명체) © comparefibre, 출처 Unsplash 사람들은 ai...  2023.09.19.  \n",
       "329  안녕하세요 인공지능과 빅데이터를 활용해서 소상공인을 위한 상권분석과 온라인마케팅을 ...  2023.09.07.  \n",
       "\n",
       "[330 rows x 3 columns]"
      ]
     },
     "execution_count": 67,
     "metadata": {},
     "output_type": "execute_result"
    }
   ],
   "source": [
    "#저장된 게시물 리스트를 데이터프레임으로 변환후 csv로 저장\n",
    "df = pd.DataFrame(result)\n",
    "df"
   ]
  },
  {
   "cell_type": "code",
   "execution_count": 69,
   "id": "d1b6cda7-8e92-40e7-b1ea-27a28f6410cb",
   "metadata": {},
   "outputs": [],
   "source": [
    "#데이터 프레임 저장\n",
    "# csv는 sep 쉼표가 반드시 있어야 한글이 안깨짐\n",
    "df.to_csv(f'./naver_{fname}.csv', sep=',', encoding='utf-8-sig')"
   ]
  },
  {
   "cell_type": "code",
   "execution_count": null,
   "id": "439b00f5-91c6-4c88-a2ab-8d1a6a0e4860",
   "metadata": {},
   "outputs": [],
   "source": []
  },
  {
   "cell_type": "code",
   "execution_count": 74,
   "id": "87ba68e9-0d94-4c9d-8a19-5b940b2f21ea",
   "metadata": {},
   "outputs": [],
   "source": [
    "from selenium import webdriver\n",
    "from selenium.webdriver.common.by import By\n",
    "from selenium.webdriver.chrome.options import Options\n",
    "import time, random, pandas as pd\n",
    "\n",
    "options = Options()\n",
    "options.add_argument('--window-size=974,1047')\n",
    "options.add_argument('--window-position=953,0')\n",
    "options.add_experimental_option(\"detach\", True)\n",
    "\n",
    "driver = webdriver.Chrome( options = options)\n",
    "url = 'https://play.google.com/store/apps/details?id=com.vogo.android&pcampaignid=web_share'\n",
    "driver.get(url)\n",
    "time.sleep(random.randint(2,3))"
   ]
  },
  {
   "cell_type": "code",
   "execution_count": 75,
   "id": "408c7fde-a09d-4a05-a19d-212086798208",
   "metadata": {},
   "outputs": [],
   "source": [
    "# 리뷰 더보기 클릭\n",
    "xpath = '//*[@id=\"yDmH0d\"]/c-wiz[2]/div/div/div[2]/div[2]/div/div[1]/div[1]/c-wiz[4]/section/div/div[2]/div[5]/div/div/button/span'\n",
    "driver.find_element(By.XPATH, xpath).click()\n",
    "time.sleep(random.randint(2, 3))"
   ]
  },
  {
   "cell_type": "code",
   "execution_count": 76,
   "id": "5c3de46f-b486-418b-b740-456fece145ad",
   "metadata": {},
   "outputs": [],
   "source": [
    "# 스크롤\n",
    "for i in range(10):\n",
    "    review_box = driver.find_element(By.CSS_SELECTOR, 'div.fysCi')\n",
    "    driver.execute_script('arguments[0].scrollTop = arguments[0].scrollHeight', review_box )\n",
    "    time.sleep(random.randint(2, 3))"
   ]
  },
  {
   "cell_type": "code",
   "execution_count": 77,
   "id": "83289087-b081-42a7-a549-4026d4ed4a74",
   "metadata": {},
   "outputs": [
    {
     "data": {
      "text/plain": [
       "[<selenium.webdriver.remote.webelement.WebElement (session=\"24c7c3d8dd0eaaedae803263abc10b3b\", element=\"5D53BB2F14A132CF12C2BC0331BE4F2D_element_58\")>,\n",
       " <selenium.webdriver.remote.webelement.WebElement (session=\"24c7c3d8dd0eaaedae803263abc10b3b\", element=\"5D53BB2F14A132CF12C2BC0331BE4F2D_element_59\")>,\n",
       " <selenium.webdriver.remote.webelement.WebElement (session=\"24c7c3d8dd0eaaedae803263abc10b3b\", element=\"5D53BB2F14A132CF12C2BC0331BE4F2D_element_60\")>,\n",
       " <selenium.webdriver.remote.webelement.WebElement (session=\"24c7c3d8dd0eaaedae803263abc10b3b\", element=\"5D53BB2F14A132CF12C2BC0331BE4F2D_element_61\")>,\n",
       " <selenium.webdriver.remote.webelement.WebElement (session=\"24c7c3d8dd0eaaedae803263abc10b3b\", element=\"5D53BB2F14A132CF12C2BC0331BE4F2D_element_62\")>,\n",
       " <selenium.webdriver.remote.webelement.WebElement (session=\"24c7c3d8dd0eaaedae803263abc10b3b\", element=\"5D53BB2F14A132CF12C2BC0331BE4F2D_element_63\")>,\n",
       " <selenium.webdriver.remote.webelement.WebElement (session=\"24c7c3d8dd0eaaedae803263abc10b3b\", element=\"5D53BB2F14A132CF12C2BC0331BE4F2D_element_64\")>,\n",
       " <selenium.webdriver.remote.webelement.WebElement (session=\"24c7c3d8dd0eaaedae803263abc10b3b\", element=\"5D53BB2F14A132CF12C2BC0331BE4F2D_element_65\")>,\n",
       " <selenium.webdriver.remote.webelement.WebElement (session=\"24c7c3d8dd0eaaedae803263abc10b3b\", element=\"5D53BB2F14A132CF12C2BC0331BE4F2D_element_66\")>,\n",
       " <selenium.webdriver.remote.webelement.WebElement (session=\"24c7c3d8dd0eaaedae803263abc10b3b\", element=\"5D53BB2F14A132CF12C2BC0331BE4F2D_element_67\")>,\n",
       " <selenium.webdriver.remote.webelement.WebElement (session=\"24c7c3d8dd0eaaedae803263abc10b3b\", element=\"5D53BB2F14A132CF12C2BC0331BE4F2D_element_68\")>,\n",
       " <selenium.webdriver.remote.webelement.WebElement (session=\"24c7c3d8dd0eaaedae803263abc10b3b\", element=\"5D53BB2F14A132CF12C2BC0331BE4F2D_element_69\")>,\n",
       " <selenium.webdriver.remote.webelement.WebElement (session=\"24c7c3d8dd0eaaedae803263abc10b3b\", element=\"5D53BB2F14A132CF12C2BC0331BE4F2D_element_70\")>,\n",
       " <selenium.webdriver.remote.webelement.WebElement (session=\"24c7c3d8dd0eaaedae803263abc10b3b\", element=\"5D53BB2F14A132CF12C2BC0331BE4F2D_element_71\")>,\n",
       " <selenium.webdriver.remote.webelement.WebElement (session=\"24c7c3d8dd0eaaedae803263abc10b3b\", element=\"5D53BB2F14A132CF12C2BC0331BE4F2D_element_72\")>,\n",
       " <selenium.webdriver.remote.webelement.WebElement (session=\"24c7c3d8dd0eaaedae803263abc10b3b\", element=\"5D53BB2F14A132CF12C2BC0331BE4F2D_element_73\")>,\n",
       " <selenium.webdriver.remote.webelement.WebElement (session=\"24c7c3d8dd0eaaedae803263abc10b3b\", element=\"5D53BB2F14A132CF12C2BC0331BE4F2D_element_74\")>,\n",
       " <selenium.webdriver.remote.webelement.WebElement (session=\"24c7c3d8dd0eaaedae803263abc10b3b\", element=\"5D53BB2F14A132CF12C2BC0331BE4F2D_element_75\")>,\n",
       " <selenium.webdriver.remote.webelement.WebElement (session=\"24c7c3d8dd0eaaedae803263abc10b3b\", element=\"5D53BB2F14A132CF12C2BC0331BE4F2D_element_76\")>,\n",
       " <selenium.webdriver.remote.webelement.WebElement (session=\"24c7c3d8dd0eaaedae803263abc10b3b\", element=\"5D53BB2F14A132CF12C2BC0331BE4F2D_element_77\")>,\n",
       " <selenium.webdriver.remote.webelement.WebElement (session=\"24c7c3d8dd0eaaedae803263abc10b3b\", element=\"5D53BB2F14A132CF12C2BC0331BE4F2D_element_78\")>,\n",
       " <selenium.webdriver.remote.webelement.WebElement (session=\"24c7c3d8dd0eaaedae803263abc10b3b\", element=\"5D53BB2F14A132CF12C2BC0331BE4F2D_element_79\")>,\n",
       " <selenium.webdriver.remote.webelement.WebElement (session=\"24c7c3d8dd0eaaedae803263abc10b3b\", element=\"5D53BB2F14A132CF12C2BC0331BE4F2D_element_80\")>,\n",
       " <selenium.webdriver.remote.webelement.WebElement (session=\"24c7c3d8dd0eaaedae803263abc10b3b\", element=\"5D53BB2F14A132CF12C2BC0331BE4F2D_element_81\")>,\n",
       " <selenium.webdriver.remote.webelement.WebElement (session=\"24c7c3d8dd0eaaedae803263abc10b3b\", element=\"5D53BB2F14A132CF12C2BC0331BE4F2D_element_82\")>,\n",
       " <selenium.webdriver.remote.webelement.WebElement (session=\"24c7c3d8dd0eaaedae803263abc10b3b\", element=\"5D53BB2F14A132CF12C2BC0331BE4F2D_element_83\")>,\n",
       " <selenium.webdriver.remote.webelement.WebElement (session=\"24c7c3d8dd0eaaedae803263abc10b3b\", element=\"5D53BB2F14A132CF12C2BC0331BE4F2D_element_84\")>,\n",
       " <selenium.webdriver.remote.webelement.WebElement (session=\"24c7c3d8dd0eaaedae803263abc10b3b\", element=\"5D53BB2F14A132CF12C2BC0331BE4F2D_element_85\")>,\n",
       " <selenium.webdriver.remote.webelement.WebElement (session=\"24c7c3d8dd0eaaedae803263abc10b3b\", element=\"5D53BB2F14A132CF12C2BC0331BE4F2D_element_86\")>,\n",
       " <selenium.webdriver.remote.webelement.WebElement (session=\"24c7c3d8dd0eaaedae803263abc10b3b\", element=\"5D53BB2F14A132CF12C2BC0331BE4F2D_element_87\")>,\n",
       " <selenium.webdriver.remote.webelement.WebElement (session=\"24c7c3d8dd0eaaedae803263abc10b3b\", element=\"5D53BB2F14A132CF12C2BC0331BE4F2D_element_88\")>,\n",
       " <selenium.webdriver.remote.webelement.WebElement (session=\"24c7c3d8dd0eaaedae803263abc10b3b\", element=\"5D53BB2F14A132CF12C2BC0331BE4F2D_element_89\")>,\n",
       " <selenium.webdriver.remote.webelement.WebElement (session=\"24c7c3d8dd0eaaedae803263abc10b3b\", element=\"5D53BB2F14A132CF12C2BC0331BE4F2D_element_90\")>,\n",
       " <selenium.webdriver.remote.webelement.WebElement (session=\"24c7c3d8dd0eaaedae803263abc10b3b\", element=\"5D53BB2F14A132CF12C2BC0331BE4F2D_element_91\")>,\n",
       " <selenium.webdriver.remote.webelement.WebElement (session=\"24c7c3d8dd0eaaedae803263abc10b3b\", element=\"5D53BB2F14A132CF12C2BC0331BE4F2D_element_92\")>,\n",
       " <selenium.webdriver.remote.webelement.WebElement (session=\"24c7c3d8dd0eaaedae803263abc10b3b\", element=\"5D53BB2F14A132CF12C2BC0331BE4F2D_element_93\")>,\n",
       " <selenium.webdriver.remote.webelement.WebElement (session=\"24c7c3d8dd0eaaedae803263abc10b3b\", element=\"5D53BB2F14A132CF12C2BC0331BE4F2D_element_94\")>,\n",
       " <selenium.webdriver.remote.webelement.WebElement (session=\"24c7c3d8dd0eaaedae803263abc10b3b\", element=\"5D53BB2F14A132CF12C2BC0331BE4F2D_element_95\")>,\n",
       " <selenium.webdriver.remote.webelement.WebElement (session=\"24c7c3d8dd0eaaedae803263abc10b3b\", element=\"5D53BB2F14A132CF12C2BC0331BE4F2D_element_96\")>,\n",
       " <selenium.webdriver.remote.webelement.WebElement (session=\"24c7c3d8dd0eaaedae803263abc10b3b\", element=\"5D53BB2F14A132CF12C2BC0331BE4F2D_element_97\")>,\n",
       " <selenium.webdriver.remote.webelement.WebElement (session=\"24c7c3d8dd0eaaedae803263abc10b3b\", element=\"5D53BB2F14A132CF12C2BC0331BE4F2D_element_98\")>,\n",
       " <selenium.webdriver.remote.webelement.WebElement (session=\"24c7c3d8dd0eaaedae803263abc10b3b\", element=\"5D53BB2F14A132CF12C2BC0331BE4F2D_element_99\")>,\n",
       " <selenium.webdriver.remote.webelement.WebElement (session=\"24c7c3d8dd0eaaedae803263abc10b3b\", element=\"5D53BB2F14A132CF12C2BC0331BE4F2D_element_100\")>,\n",
       " <selenium.webdriver.remote.webelement.WebElement (session=\"24c7c3d8dd0eaaedae803263abc10b3b\", element=\"5D53BB2F14A132CF12C2BC0331BE4F2D_element_101\")>,\n",
       " <selenium.webdriver.remote.webelement.WebElement (session=\"24c7c3d8dd0eaaedae803263abc10b3b\", element=\"5D53BB2F14A132CF12C2BC0331BE4F2D_element_102\")>,\n",
       " <selenium.webdriver.remote.webelement.WebElement (session=\"24c7c3d8dd0eaaedae803263abc10b3b\", element=\"5D53BB2F14A132CF12C2BC0331BE4F2D_element_103\")>,\n",
       " <selenium.webdriver.remote.webelement.WebElement (session=\"24c7c3d8dd0eaaedae803263abc10b3b\", element=\"5D53BB2F14A132CF12C2BC0331BE4F2D_element_104\")>,\n",
       " <selenium.webdriver.remote.webelement.WebElement (session=\"24c7c3d8dd0eaaedae803263abc10b3b\", element=\"5D53BB2F14A132CF12C2BC0331BE4F2D_element_105\")>,\n",
       " <selenium.webdriver.remote.webelement.WebElement (session=\"24c7c3d8dd0eaaedae803263abc10b3b\", element=\"5D53BB2F14A132CF12C2BC0331BE4F2D_element_106\")>,\n",
       " <selenium.webdriver.remote.webelement.WebElement (session=\"24c7c3d8dd0eaaedae803263abc10b3b\", element=\"5D53BB2F14A132CF12C2BC0331BE4F2D_element_107\")>,\n",
       " <selenium.webdriver.remote.webelement.WebElement (session=\"24c7c3d8dd0eaaedae803263abc10b3b\", element=\"5D53BB2F14A132CF12C2BC0331BE4F2D_element_108\")>,\n",
       " <selenium.webdriver.remote.webelement.WebElement (session=\"24c7c3d8dd0eaaedae803263abc10b3b\", element=\"5D53BB2F14A132CF12C2BC0331BE4F2D_element_109\")>,\n",
       " <selenium.webdriver.remote.webelement.WebElement (session=\"24c7c3d8dd0eaaedae803263abc10b3b\", element=\"5D53BB2F14A132CF12C2BC0331BE4F2D_element_110\")>,\n",
       " <selenium.webdriver.remote.webelement.WebElement (session=\"24c7c3d8dd0eaaedae803263abc10b3b\", element=\"5D53BB2F14A132CF12C2BC0331BE4F2D_element_111\")>,\n",
       " <selenium.webdriver.remote.webelement.WebElement (session=\"24c7c3d8dd0eaaedae803263abc10b3b\", element=\"5D53BB2F14A132CF12C2BC0331BE4F2D_element_112\")>,\n",
       " <selenium.webdriver.remote.webelement.WebElement (session=\"24c7c3d8dd0eaaedae803263abc10b3b\", element=\"5D53BB2F14A132CF12C2BC0331BE4F2D_element_113\")>,\n",
       " <selenium.webdriver.remote.webelement.WebElement (session=\"24c7c3d8dd0eaaedae803263abc10b3b\", element=\"5D53BB2F14A132CF12C2BC0331BE4F2D_element_114\")>,\n",
       " <selenium.webdriver.remote.webelement.WebElement (session=\"24c7c3d8dd0eaaedae803263abc10b3b\", element=\"5D53BB2F14A132CF12C2BC0331BE4F2D_element_115\")>,\n",
       " <selenium.webdriver.remote.webelement.WebElement (session=\"24c7c3d8dd0eaaedae803263abc10b3b\", element=\"5D53BB2F14A132CF12C2BC0331BE4F2D_element_116\")>,\n",
       " <selenium.webdriver.remote.webelement.WebElement (session=\"24c7c3d8dd0eaaedae803263abc10b3b\", element=\"5D53BB2F14A132CF12C2BC0331BE4F2D_element_117\")>,\n",
       " <selenium.webdriver.remote.webelement.WebElement (session=\"24c7c3d8dd0eaaedae803263abc10b3b\", element=\"5D53BB2F14A132CF12C2BC0331BE4F2D_element_118\")>,\n",
       " <selenium.webdriver.remote.webelement.WebElement (session=\"24c7c3d8dd0eaaedae803263abc10b3b\", element=\"5D53BB2F14A132CF12C2BC0331BE4F2D_element_119\")>,\n",
       " <selenium.webdriver.remote.webelement.WebElement (session=\"24c7c3d8dd0eaaedae803263abc10b3b\", element=\"5D53BB2F14A132CF12C2BC0331BE4F2D_element_120\")>,\n",
       " <selenium.webdriver.remote.webelement.WebElement (session=\"24c7c3d8dd0eaaedae803263abc10b3b\", element=\"5D53BB2F14A132CF12C2BC0331BE4F2D_element_121\")>,\n",
       " <selenium.webdriver.remote.webelement.WebElement (session=\"24c7c3d8dd0eaaedae803263abc10b3b\", element=\"5D53BB2F14A132CF12C2BC0331BE4F2D_element_122\")>,\n",
       " <selenium.webdriver.remote.webelement.WebElement (session=\"24c7c3d8dd0eaaedae803263abc10b3b\", element=\"5D53BB2F14A132CF12C2BC0331BE4F2D_element_123\")>,\n",
       " <selenium.webdriver.remote.webelement.WebElement (session=\"24c7c3d8dd0eaaedae803263abc10b3b\", element=\"5D53BB2F14A132CF12C2BC0331BE4F2D_element_124\")>,\n",
       " <selenium.webdriver.remote.webelement.WebElement (session=\"24c7c3d8dd0eaaedae803263abc10b3b\", element=\"5D53BB2F14A132CF12C2BC0331BE4F2D_element_125\")>,\n",
       " <selenium.webdriver.remote.webelement.WebElement (session=\"24c7c3d8dd0eaaedae803263abc10b3b\", element=\"5D53BB2F14A132CF12C2BC0331BE4F2D_element_126\")>,\n",
       " <selenium.webdriver.remote.webelement.WebElement (session=\"24c7c3d8dd0eaaedae803263abc10b3b\", element=\"5D53BB2F14A132CF12C2BC0331BE4F2D_element_127\")>,\n",
       " <selenium.webdriver.remote.webelement.WebElement (session=\"24c7c3d8dd0eaaedae803263abc10b3b\", element=\"5D53BB2F14A132CF12C2BC0331BE4F2D_element_128\")>,\n",
       " <selenium.webdriver.remote.webelement.WebElement (session=\"24c7c3d8dd0eaaedae803263abc10b3b\", element=\"5D53BB2F14A132CF12C2BC0331BE4F2D_element_129\")>,\n",
       " <selenium.webdriver.remote.webelement.WebElement (session=\"24c7c3d8dd0eaaedae803263abc10b3b\", element=\"5D53BB2F14A132CF12C2BC0331BE4F2D_element_130\")>,\n",
       " <selenium.webdriver.remote.webelement.WebElement (session=\"24c7c3d8dd0eaaedae803263abc10b3b\", element=\"5D53BB2F14A132CF12C2BC0331BE4F2D_element_131\")>,\n",
       " <selenium.webdriver.remote.webelement.WebElement (session=\"24c7c3d8dd0eaaedae803263abc10b3b\", element=\"5D53BB2F14A132CF12C2BC0331BE4F2D_element_132\")>,\n",
       " <selenium.webdriver.remote.webelement.WebElement (session=\"24c7c3d8dd0eaaedae803263abc10b3b\", element=\"5D53BB2F14A132CF12C2BC0331BE4F2D_element_133\")>,\n",
       " <selenium.webdriver.remote.webelement.WebElement (session=\"24c7c3d8dd0eaaedae803263abc10b3b\", element=\"5D53BB2F14A132CF12C2BC0331BE4F2D_element_134\")>,\n",
       " <selenium.webdriver.remote.webelement.WebElement (session=\"24c7c3d8dd0eaaedae803263abc10b3b\", element=\"5D53BB2F14A132CF12C2BC0331BE4F2D_element_135\")>,\n",
       " <selenium.webdriver.remote.webelement.WebElement (session=\"24c7c3d8dd0eaaedae803263abc10b3b\", element=\"5D53BB2F14A132CF12C2BC0331BE4F2D_element_136\")>,\n",
       " <selenium.webdriver.remote.webelement.WebElement (session=\"24c7c3d8dd0eaaedae803263abc10b3b\", element=\"5D53BB2F14A132CF12C2BC0331BE4F2D_element_137\")>,\n",
       " <selenium.webdriver.remote.webelement.WebElement (session=\"24c7c3d8dd0eaaedae803263abc10b3b\", element=\"5D53BB2F14A132CF12C2BC0331BE4F2D_element_138\")>,\n",
       " <selenium.webdriver.remote.webelement.WebElement (session=\"24c7c3d8dd0eaaedae803263abc10b3b\", element=\"5D53BB2F14A132CF12C2BC0331BE4F2D_element_139\")>,\n",
       " <selenium.webdriver.remote.webelement.WebElement (session=\"24c7c3d8dd0eaaedae803263abc10b3b\", element=\"5D53BB2F14A132CF12C2BC0331BE4F2D_element_140\")>,\n",
       " <selenium.webdriver.remote.webelement.WebElement (session=\"24c7c3d8dd0eaaedae803263abc10b3b\", element=\"5D53BB2F14A132CF12C2BC0331BE4F2D_element_141\")>,\n",
       " <selenium.webdriver.remote.webelement.WebElement (session=\"24c7c3d8dd0eaaedae803263abc10b3b\", element=\"5D53BB2F14A132CF12C2BC0331BE4F2D_element_142\")>,\n",
       " <selenium.webdriver.remote.webelement.WebElement (session=\"24c7c3d8dd0eaaedae803263abc10b3b\", element=\"5D53BB2F14A132CF12C2BC0331BE4F2D_element_143\")>,\n",
       " <selenium.webdriver.remote.webelement.WebElement (session=\"24c7c3d8dd0eaaedae803263abc10b3b\", element=\"5D53BB2F14A132CF12C2BC0331BE4F2D_element_144\")>,\n",
       " <selenium.webdriver.remote.webelement.WebElement (session=\"24c7c3d8dd0eaaedae803263abc10b3b\", element=\"5D53BB2F14A132CF12C2BC0331BE4F2D_element_145\")>,\n",
       " <selenium.webdriver.remote.webelement.WebElement (session=\"24c7c3d8dd0eaaedae803263abc10b3b\", element=\"5D53BB2F14A132CF12C2BC0331BE4F2D_element_146\")>,\n",
       " <selenium.webdriver.remote.webelement.WebElement (session=\"24c7c3d8dd0eaaedae803263abc10b3b\", element=\"5D53BB2F14A132CF12C2BC0331BE4F2D_element_147\")>,\n",
       " <selenium.webdriver.remote.webelement.WebElement (session=\"24c7c3d8dd0eaaedae803263abc10b3b\", element=\"5D53BB2F14A132CF12C2BC0331BE4F2D_element_148\")>,\n",
       " <selenium.webdriver.remote.webelement.WebElement (session=\"24c7c3d8dd0eaaedae803263abc10b3b\", element=\"5D53BB2F14A132CF12C2BC0331BE4F2D_element_149\")>,\n",
       " <selenium.webdriver.remote.webelement.WebElement (session=\"24c7c3d8dd0eaaedae803263abc10b3b\", element=\"5D53BB2F14A132CF12C2BC0331BE4F2D_element_150\")>,\n",
       " <selenium.webdriver.remote.webelement.WebElement (session=\"24c7c3d8dd0eaaedae803263abc10b3b\", element=\"5D53BB2F14A132CF12C2BC0331BE4F2D_element_151\")>,\n",
       " <selenium.webdriver.remote.webelement.WebElement (session=\"24c7c3d8dd0eaaedae803263abc10b3b\", element=\"5D53BB2F14A132CF12C2BC0331BE4F2D_element_152\")>,\n",
       " <selenium.webdriver.remote.webelement.WebElement (session=\"24c7c3d8dd0eaaedae803263abc10b3b\", element=\"5D53BB2F14A132CF12C2BC0331BE4F2D_element_153\")>,\n",
       " <selenium.webdriver.remote.webelement.WebElement (session=\"24c7c3d8dd0eaaedae803263abc10b3b\", element=\"5D53BB2F14A132CF12C2BC0331BE4F2D_element_154\")>,\n",
       " <selenium.webdriver.remote.webelement.WebElement (session=\"24c7c3d8dd0eaaedae803263abc10b3b\", element=\"5D53BB2F14A132CF12C2BC0331BE4F2D_element_155\")>,\n",
       " <selenium.webdriver.remote.webelement.WebElement (session=\"24c7c3d8dd0eaaedae803263abc10b3b\", element=\"5D53BB2F14A132CF12C2BC0331BE4F2D_element_156\")>,\n",
       " <selenium.webdriver.remote.webelement.WebElement (session=\"24c7c3d8dd0eaaedae803263abc10b3b\", element=\"5D53BB2F14A132CF12C2BC0331BE4F2D_element_157\")>,\n",
       " <selenium.webdriver.remote.webelement.WebElement (session=\"24c7c3d8dd0eaaedae803263abc10b3b\", element=\"5D53BB2F14A132CF12C2BC0331BE4F2D_element_158\")>,\n",
       " <selenium.webdriver.remote.webelement.WebElement (session=\"24c7c3d8dd0eaaedae803263abc10b3b\", element=\"5D53BB2F14A132CF12C2BC0331BE4F2D_element_159\")>,\n",
       " <selenium.webdriver.remote.webelement.WebElement (session=\"24c7c3d8dd0eaaedae803263abc10b3b\", element=\"5D53BB2F14A132CF12C2BC0331BE4F2D_element_160\")>,\n",
       " <selenium.webdriver.remote.webelement.WebElement (session=\"24c7c3d8dd0eaaedae803263abc10b3b\", element=\"5D53BB2F14A132CF12C2BC0331BE4F2D_element_161\")>,\n",
       " <selenium.webdriver.remote.webelement.WebElement (session=\"24c7c3d8dd0eaaedae803263abc10b3b\", element=\"5D53BB2F14A132CF12C2BC0331BE4F2D_element_162\")>,\n",
       " <selenium.webdriver.remote.webelement.WebElement (session=\"24c7c3d8dd0eaaedae803263abc10b3b\", element=\"5D53BB2F14A132CF12C2BC0331BE4F2D_element_163\")>,\n",
       " <selenium.webdriver.remote.webelement.WebElement (session=\"24c7c3d8dd0eaaedae803263abc10b3b\", element=\"5D53BB2F14A132CF12C2BC0331BE4F2D_element_164\")>,\n",
       " <selenium.webdriver.remote.webelement.WebElement (session=\"24c7c3d8dd0eaaedae803263abc10b3b\", element=\"5D53BB2F14A132CF12C2BC0331BE4F2D_element_165\")>,\n",
       " <selenium.webdriver.remote.webelement.WebElement (session=\"24c7c3d8dd0eaaedae803263abc10b3b\", element=\"5D53BB2F14A132CF12C2BC0331BE4F2D_element_166\")>,\n",
       " <selenium.webdriver.remote.webelement.WebElement (session=\"24c7c3d8dd0eaaedae803263abc10b3b\", element=\"5D53BB2F14A132CF12C2BC0331BE4F2D_element_167\")>,\n",
       " <selenium.webdriver.remote.webelement.WebElement (session=\"24c7c3d8dd0eaaedae803263abc10b3b\", element=\"5D53BB2F14A132CF12C2BC0331BE4F2D_element_168\")>,\n",
       " <selenium.webdriver.remote.webelement.WebElement (session=\"24c7c3d8dd0eaaedae803263abc10b3b\", element=\"5D53BB2F14A132CF12C2BC0331BE4F2D_element_169\")>,\n",
       " <selenium.webdriver.remote.webelement.WebElement (session=\"24c7c3d8dd0eaaedae803263abc10b3b\", element=\"5D53BB2F14A132CF12C2BC0331BE4F2D_element_170\")>,\n",
       " <selenium.webdriver.remote.webelement.WebElement (session=\"24c7c3d8dd0eaaedae803263abc10b3b\", element=\"5D53BB2F14A132CF12C2BC0331BE4F2D_element_171\")>,\n",
       " <selenium.webdriver.remote.webelement.WebElement (session=\"24c7c3d8dd0eaaedae803263abc10b3b\", element=\"5D53BB2F14A132CF12C2BC0331BE4F2D_element_172\")>,\n",
       " <selenium.webdriver.remote.webelement.WebElement (session=\"24c7c3d8dd0eaaedae803263abc10b3b\", element=\"5D53BB2F14A132CF12C2BC0331BE4F2D_element_173\")>,\n",
       " <selenium.webdriver.remote.webelement.WebElement (session=\"24c7c3d8dd0eaaedae803263abc10b3b\", element=\"5D53BB2F14A132CF12C2BC0331BE4F2D_element_174\")>,\n",
       " <selenium.webdriver.remote.webelement.WebElement (session=\"24c7c3d8dd0eaaedae803263abc10b3b\", element=\"5D53BB2F14A132CF12C2BC0331BE4F2D_element_175\")>,\n",
       " <selenium.webdriver.remote.webelement.WebElement (session=\"24c7c3d8dd0eaaedae803263abc10b3b\", element=\"5D53BB2F14A132CF12C2BC0331BE4F2D_element_176\")>,\n",
       " <selenium.webdriver.remote.webelement.WebElement (session=\"24c7c3d8dd0eaaedae803263abc10b3b\", element=\"5D53BB2F14A132CF12C2BC0331BE4F2D_element_177\")>,\n",
       " <selenium.webdriver.remote.webelement.WebElement (session=\"24c7c3d8dd0eaaedae803263abc10b3b\", element=\"5D53BB2F14A132CF12C2BC0331BE4F2D_element_178\")>,\n",
       " <selenium.webdriver.remote.webelement.WebElement (session=\"24c7c3d8dd0eaaedae803263abc10b3b\", element=\"5D53BB2F14A132CF12C2BC0331BE4F2D_element_179\")>,\n",
       " <selenium.webdriver.remote.webelement.WebElement (session=\"24c7c3d8dd0eaaedae803263abc10b3b\", element=\"5D53BB2F14A132CF12C2BC0331BE4F2D_element_180\")>,\n",
       " <selenium.webdriver.remote.webelement.WebElement (session=\"24c7c3d8dd0eaaedae803263abc10b3b\", element=\"5D53BB2F14A132CF12C2BC0331BE4F2D_element_181\")>,\n",
       " <selenium.webdriver.remote.webelement.WebElement (session=\"24c7c3d8dd0eaaedae803263abc10b3b\", element=\"5D53BB2F14A132CF12C2BC0331BE4F2D_element_182\")>,\n",
       " <selenium.webdriver.remote.webelement.WebElement (session=\"24c7c3d8dd0eaaedae803263abc10b3b\", element=\"5D53BB2F14A132CF12C2BC0331BE4F2D_element_183\")>,\n",
       " <selenium.webdriver.remote.webelement.WebElement (session=\"24c7c3d8dd0eaaedae803263abc10b3b\", element=\"5D53BB2F14A132CF12C2BC0331BE4F2D_element_184\")>,\n",
       " <selenium.webdriver.remote.webelement.WebElement (session=\"24c7c3d8dd0eaaedae803263abc10b3b\", element=\"5D53BB2F14A132CF12C2BC0331BE4F2D_element_185\")>,\n",
       " <selenium.webdriver.remote.webelement.WebElement (session=\"24c7c3d8dd0eaaedae803263abc10b3b\", element=\"5D53BB2F14A132CF12C2BC0331BE4F2D_element_186\")>,\n",
       " <selenium.webdriver.remote.webelement.WebElement (session=\"24c7c3d8dd0eaaedae803263abc10b3b\", element=\"5D53BB2F14A132CF12C2BC0331BE4F2D_element_187\")>,\n",
       " <selenium.webdriver.remote.webelement.WebElement (session=\"24c7c3d8dd0eaaedae803263abc10b3b\", element=\"5D53BB2F14A132CF12C2BC0331BE4F2D_element_188\")>,\n",
       " <selenium.webdriver.remote.webelement.WebElement (session=\"24c7c3d8dd0eaaedae803263abc10b3b\", element=\"5D53BB2F14A132CF12C2BC0331BE4F2D_element_189\")>,\n",
       " <selenium.webdriver.remote.webelement.WebElement (session=\"24c7c3d8dd0eaaedae803263abc10b3b\", element=\"5D53BB2F14A132CF12C2BC0331BE4F2D_element_190\")>,\n",
       " <selenium.webdriver.remote.webelement.WebElement (session=\"24c7c3d8dd0eaaedae803263abc10b3b\", element=\"5D53BB2F14A132CF12C2BC0331BE4F2D_element_191\")>,\n",
       " <selenium.webdriver.remote.webelement.WebElement (session=\"24c7c3d8dd0eaaedae803263abc10b3b\", element=\"5D53BB2F14A132CF12C2BC0331BE4F2D_element_192\")>,\n",
       " <selenium.webdriver.remote.webelement.WebElement (session=\"24c7c3d8dd0eaaedae803263abc10b3b\", element=\"5D53BB2F14A132CF12C2BC0331BE4F2D_element_193\")>,\n",
       " <selenium.webdriver.remote.webelement.WebElement (session=\"24c7c3d8dd0eaaedae803263abc10b3b\", element=\"5D53BB2F14A132CF12C2BC0331BE4F2D_element_194\")>,\n",
       " <selenium.webdriver.remote.webelement.WebElement (session=\"24c7c3d8dd0eaaedae803263abc10b3b\", element=\"5D53BB2F14A132CF12C2BC0331BE4F2D_element_195\")>,\n",
       " <selenium.webdriver.remote.webelement.WebElement (session=\"24c7c3d8dd0eaaedae803263abc10b3b\", element=\"5D53BB2F14A132CF12C2BC0331BE4F2D_element_196\")>,\n",
       " <selenium.webdriver.remote.webelement.WebElement (session=\"24c7c3d8dd0eaaedae803263abc10b3b\", element=\"5D53BB2F14A132CF12C2BC0331BE4F2D_element_197\")>,\n",
       " <selenium.webdriver.remote.webelement.WebElement (session=\"24c7c3d8dd0eaaedae803263abc10b3b\", element=\"5D53BB2F14A132CF12C2BC0331BE4F2D_element_198\")>,\n",
       " <selenium.webdriver.remote.webelement.WebElement (session=\"24c7c3d8dd0eaaedae803263abc10b3b\", element=\"5D53BB2F14A132CF12C2BC0331BE4F2D_element_199\")>,\n",
       " <selenium.webdriver.remote.webelement.WebElement (session=\"24c7c3d8dd0eaaedae803263abc10b3b\", element=\"5D53BB2F14A132CF12C2BC0331BE4F2D_element_200\")>,\n",
       " <selenium.webdriver.remote.webelement.WebElement (session=\"24c7c3d8dd0eaaedae803263abc10b3b\", element=\"5D53BB2F14A132CF12C2BC0331BE4F2D_element_201\")>,\n",
       " <selenium.webdriver.remote.webelement.WebElement (session=\"24c7c3d8dd0eaaedae803263abc10b3b\", element=\"5D53BB2F14A132CF12C2BC0331BE4F2D_element_202\")>,\n",
       " <selenium.webdriver.remote.webelement.WebElement (session=\"24c7c3d8dd0eaaedae803263abc10b3b\", element=\"5D53BB2F14A132CF12C2BC0331BE4F2D_element_203\")>,\n",
       " <selenium.webdriver.remote.webelement.WebElement (session=\"24c7c3d8dd0eaaedae803263abc10b3b\", element=\"5D53BB2F14A132CF12C2BC0331BE4F2D_element_204\")>,\n",
       " <selenium.webdriver.remote.webelement.WebElement (session=\"24c7c3d8dd0eaaedae803263abc10b3b\", element=\"5D53BB2F14A132CF12C2BC0331BE4F2D_element_205\")>,\n",
       " <selenium.webdriver.remote.webelement.WebElement (session=\"24c7c3d8dd0eaaedae803263abc10b3b\", element=\"5D53BB2F14A132CF12C2BC0331BE4F2D_element_206\")>,\n",
       " <selenium.webdriver.remote.webelement.WebElement (session=\"24c7c3d8dd0eaaedae803263abc10b3b\", element=\"5D53BB2F14A132CF12C2BC0331BE4F2D_element_207\")>,\n",
       " <selenium.webdriver.remote.webelement.WebElement (session=\"24c7c3d8dd0eaaedae803263abc10b3b\", element=\"5D53BB2F14A132CF12C2BC0331BE4F2D_element_208\")>,\n",
       " <selenium.webdriver.remote.webelement.WebElement (session=\"24c7c3d8dd0eaaedae803263abc10b3b\", element=\"5D53BB2F14A132CF12C2BC0331BE4F2D_element_209\")>,\n",
       " <selenium.webdriver.remote.webelement.WebElement (session=\"24c7c3d8dd0eaaedae803263abc10b3b\", element=\"5D53BB2F14A132CF12C2BC0331BE4F2D_element_210\")>,\n",
       " <selenium.webdriver.remote.webelement.WebElement (session=\"24c7c3d8dd0eaaedae803263abc10b3b\", element=\"5D53BB2F14A132CF12C2BC0331BE4F2D_element_211\")>,\n",
       " <selenium.webdriver.remote.webelement.WebElement (session=\"24c7c3d8dd0eaaedae803263abc10b3b\", element=\"5D53BB2F14A132CF12C2BC0331BE4F2D_element_212\")>,\n",
       " <selenium.webdriver.remote.webelement.WebElement (session=\"24c7c3d8dd0eaaedae803263abc10b3b\", element=\"5D53BB2F14A132CF12C2BC0331BE4F2D_element_213\")>,\n",
       " <selenium.webdriver.remote.webelement.WebElement (session=\"24c7c3d8dd0eaaedae803263abc10b3b\", element=\"5D53BB2F14A132CF12C2BC0331BE4F2D_element_214\")>,\n",
       " <selenium.webdriver.remote.webelement.WebElement (session=\"24c7c3d8dd0eaaedae803263abc10b3b\", element=\"5D53BB2F14A132CF12C2BC0331BE4F2D_element_215\")>,\n",
       " <selenium.webdriver.remote.webelement.WebElement (session=\"24c7c3d8dd0eaaedae803263abc10b3b\", element=\"5D53BB2F14A132CF12C2BC0331BE4F2D_element_216\")>,\n",
       " <selenium.webdriver.remote.webelement.WebElement (session=\"24c7c3d8dd0eaaedae803263abc10b3b\", element=\"5D53BB2F14A132CF12C2BC0331BE4F2D_element_217\")>,\n",
       " <selenium.webdriver.remote.webelement.WebElement (session=\"24c7c3d8dd0eaaedae803263abc10b3b\", element=\"5D53BB2F14A132CF12C2BC0331BE4F2D_element_218\")>,\n",
       " <selenium.webdriver.remote.webelement.WebElement (session=\"24c7c3d8dd0eaaedae803263abc10b3b\", element=\"5D53BB2F14A132CF12C2BC0331BE4F2D_element_219\")>,\n",
       " <selenium.webdriver.remote.webelement.WebElement (session=\"24c7c3d8dd0eaaedae803263abc10b3b\", element=\"5D53BB2F14A132CF12C2BC0331BE4F2D_element_220\")>,\n",
       " <selenium.webdriver.remote.webelement.WebElement (session=\"24c7c3d8dd0eaaedae803263abc10b3b\", element=\"5D53BB2F14A132CF12C2BC0331BE4F2D_element_221\")>,\n",
       " <selenium.webdriver.remote.webelement.WebElement (session=\"24c7c3d8dd0eaaedae803263abc10b3b\", element=\"5D53BB2F14A132CF12C2BC0331BE4F2D_element_222\")>,\n",
       " <selenium.webdriver.remote.webelement.WebElement (session=\"24c7c3d8dd0eaaedae803263abc10b3b\", element=\"5D53BB2F14A132CF12C2BC0331BE4F2D_element_223\")>,\n",
       " <selenium.webdriver.remote.webelement.WebElement (session=\"24c7c3d8dd0eaaedae803263abc10b3b\", element=\"5D53BB2F14A132CF12C2BC0331BE4F2D_element_224\")>,\n",
       " <selenium.webdriver.remote.webelement.WebElement (session=\"24c7c3d8dd0eaaedae803263abc10b3b\", element=\"5D53BB2F14A132CF12C2BC0331BE4F2D_element_225\")>,\n",
       " <selenium.webdriver.remote.webelement.WebElement (session=\"24c7c3d8dd0eaaedae803263abc10b3b\", element=\"5D53BB2F14A132CF12C2BC0331BE4F2D_element_226\")>,\n",
       " <selenium.webdriver.remote.webelement.WebElement (session=\"24c7c3d8dd0eaaedae803263abc10b3b\", element=\"5D53BB2F14A132CF12C2BC0331BE4F2D_element_227\")>,\n",
       " <selenium.webdriver.remote.webelement.WebElement (session=\"24c7c3d8dd0eaaedae803263abc10b3b\", element=\"5D53BB2F14A132CF12C2BC0331BE4F2D_element_228\")>,\n",
       " <selenium.webdriver.remote.webelement.WebElement (session=\"24c7c3d8dd0eaaedae803263abc10b3b\", element=\"5D53BB2F14A132CF12C2BC0331BE4F2D_element_229\")>,\n",
       " <selenium.webdriver.remote.webelement.WebElement (session=\"24c7c3d8dd0eaaedae803263abc10b3b\", element=\"5D53BB2F14A132CF12C2BC0331BE4F2D_element_230\")>,\n",
       " <selenium.webdriver.remote.webelement.WebElement (session=\"24c7c3d8dd0eaaedae803263abc10b3b\", element=\"5D53BB2F14A132CF12C2BC0331BE4F2D_element_231\")>,\n",
       " <selenium.webdriver.remote.webelement.WebElement (session=\"24c7c3d8dd0eaaedae803263abc10b3b\", element=\"5D53BB2F14A132CF12C2BC0331BE4F2D_element_232\")>,\n",
       " <selenium.webdriver.remote.webelement.WebElement (session=\"24c7c3d8dd0eaaedae803263abc10b3b\", element=\"5D53BB2F14A132CF12C2BC0331BE4F2D_element_233\")>,\n",
       " <selenium.webdriver.remote.webelement.WebElement (session=\"24c7c3d8dd0eaaedae803263abc10b3b\", element=\"5D53BB2F14A132CF12C2BC0331BE4F2D_element_234\")>,\n",
       " <selenium.webdriver.remote.webelement.WebElement (session=\"24c7c3d8dd0eaaedae803263abc10b3b\", element=\"5D53BB2F14A132CF12C2BC0331BE4F2D_element_235\")>,\n",
       " <selenium.webdriver.remote.webelement.WebElement (session=\"24c7c3d8dd0eaaedae803263abc10b3b\", element=\"5D53BB2F14A132CF12C2BC0331BE4F2D_element_236\")>,\n",
       " <selenium.webdriver.remote.webelement.WebElement (session=\"24c7c3d8dd0eaaedae803263abc10b3b\", element=\"5D53BB2F14A132CF12C2BC0331BE4F2D_element_237\")>,\n",
       " <selenium.webdriver.remote.webelement.WebElement (session=\"24c7c3d8dd0eaaedae803263abc10b3b\", element=\"5D53BB2F14A132CF12C2BC0331BE4F2D_element_238\")>,\n",
       " <selenium.webdriver.remote.webelement.WebElement (session=\"24c7c3d8dd0eaaedae803263abc10b3b\", element=\"5D53BB2F14A132CF12C2BC0331BE4F2D_element_239\")>,\n",
       " <selenium.webdriver.remote.webelement.WebElement (session=\"24c7c3d8dd0eaaedae803263abc10b3b\", element=\"5D53BB2F14A132CF12C2BC0331BE4F2D_element_240\")>,\n",
       " <selenium.webdriver.remote.webelement.WebElement (session=\"24c7c3d8dd0eaaedae803263abc10b3b\", element=\"5D53BB2F14A132CF12C2BC0331BE4F2D_element_241\")>,\n",
       " <selenium.webdriver.remote.webelement.WebElement (session=\"24c7c3d8dd0eaaedae803263abc10b3b\", element=\"5D53BB2F14A132CF12C2BC0331BE4F2D_element_242\")>,\n",
       " <selenium.webdriver.remote.webelement.WebElement (session=\"24c7c3d8dd0eaaedae803263abc10b3b\", element=\"5D53BB2F14A132CF12C2BC0331BE4F2D_element_243\")>,\n",
       " <selenium.webdriver.remote.webelement.WebElement (session=\"24c7c3d8dd0eaaedae803263abc10b3b\", element=\"5D53BB2F14A132CF12C2BC0331BE4F2D_element_244\")>,\n",
       " <selenium.webdriver.remote.webelement.WebElement (session=\"24c7c3d8dd0eaaedae803263abc10b3b\", element=\"5D53BB2F14A132CF12C2BC0331BE4F2D_element_245\")>,\n",
       " <selenium.webdriver.remote.webelement.WebElement (session=\"24c7c3d8dd0eaaedae803263abc10b3b\", element=\"5D53BB2F14A132CF12C2BC0331BE4F2D_element_246\")>,\n",
       " <selenium.webdriver.remote.webelement.WebElement (session=\"24c7c3d8dd0eaaedae803263abc10b3b\", element=\"5D53BB2F14A132CF12C2BC0331BE4F2D_element_247\")>,\n",
       " <selenium.webdriver.remote.webelement.WebElement (session=\"24c7c3d8dd0eaaedae803263abc10b3b\", element=\"5D53BB2F14A132CF12C2BC0331BE4F2D_element_248\")>,\n",
       " <selenium.webdriver.remote.webelement.WebElement (session=\"24c7c3d8dd0eaaedae803263abc10b3b\", element=\"5D53BB2F14A132CF12C2BC0331BE4F2D_element_249\")>,\n",
       " <selenium.webdriver.remote.webelement.WebElement (session=\"24c7c3d8dd0eaaedae803263abc10b3b\", element=\"5D53BB2F14A132CF12C2BC0331BE4F2D_element_250\")>,\n",
       " <selenium.webdriver.remote.webelement.WebElement (session=\"24c7c3d8dd0eaaedae803263abc10b3b\", element=\"5D53BB2F14A132CF12C2BC0331BE4F2D_element_251\")>,\n",
       " <selenium.webdriver.remote.webelement.WebElement (session=\"24c7c3d8dd0eaaedae803263abc10b3b\", element=\"5D53BB2F14A132CF12C2BC0331BE4F2D_element_252\")>,\n",
       " <selenium.webdriver.remote.webelement.WebElement (session=\"24c7c3d8dd0eaaedae803263abc10b3b\", element=\"5D53BB2F14A132CF12C2BC0331BE4F2D_element_253\")>,\n",
       " <selenium.webdriver.remote.webelement.WebElement (session=\"24c7c3d8dd0eaaedae803263abc10b3b\", element=\"5D53BB2F14A132CF12C2BC0331BE4F2D_element_254\")>,\n",
       " <selenium.webdriver.remote.webelement.WebElement (session=\"24c7c3d8dd0eaaedae803263abc10b3b\", element=\"5D53BB2F14A132CF12C2BC0331BE4F2D_element_255\")>,\n",
       " <selenium.webdriver.remote.webelement.WebElement (session=\"24c7c3d8dd0eaaedae803263abc10b3b\", element=\"5D53BB2F14A132CF12C2BC0331BE4F2D_element_256\")>,\n",
       " <selenium.webdriver.remote.webelement.WebElement (session=\"24c7c3d8dd0eaaedae803263abc10b3b\", element=\"5D53BB2F14A132CF12C2BC0331BE4F2D_element_257\")>,\n",
       " <selenium.webdriver.remote.webelement.WebElement (session=\"24c7c3d8dd0eaaedae803263abc10b3b\", element=\"5D53BB2F14A132CF12C2BC0331BE4F2D_element_258\")>,\n",
       " <selenium.webdriver.remote.webelement.WebElement (session=\"24c7c3d8dd0eaaedae803263abc10b3b\", element=\"5D53BB2F14A132CF12C2BC0331BE4F2D_element_259\")>,\n",
       " <selenium.webdriver.remote.webelement.WebElement (session=\"24c7c3d8dd0eaaedae803263abc10b3b\", element=\"5D53BB2F14A132CF12C2BC0331BE4F2D_element_260\")>,\n",
       " <selenium.webdriver.remote.webelement.WebElement (session=\"24c7c3d8dd0eaaedae803263abc10b3b\", element=\"5D53BB2F14A132CF12C2BC0331BE4F2D_element_261\")>,\n",
       " <selenium.webdriver.remote.webelement.WebElement (session=\"24c7c3d8dd0eaaedae803263abc10b3b\", element=\"5D53BB2F14A132CF12C2BC0331BE4F2D_element_262\")>,\n",
       " <selenium.webdriver.remote.webelement.WebElement (session=\"24c7c3d8dd0eaaedae803263abc10b3b\", element=\"5D53BB2F14A132CF12C2BC0331BE4F2D_element_263\")>,\n",
       " <selenium.webdriver.remote.webelement.WebElement (session=\"24c7c3d8dd0eaaedae803263abc10b3b\", element=\"5D53BB2F14A132CF12C2BC0331BE4F2D_element_264\")>,\n",
       " <selenium.webdriver.remote.webelement.WebElement (session=\"24c7c3d8dd0eaaedae803263abc10b3b\", element=\"5D53BB2F14A132CF12C2BC0331BE4F2D_element_265\")>,\n",
       " <selenium.webdriver.remote.webelement.WebElement (session=\"24c7c3d8dd0eaaedae803263abc10b3b\", element=\"5D53BB2F14A132CF12C2BC0331BE4F2D_element_266\")>,\n",
       " <selenium.webdriver.remote.webelement.WebElement (session=\"24c7c3d8dd0eaaedae803263abc10b3b\", element=\"5D53BB2F14A132CF12C2BC0331BE4F2D_element_267\")>,\n",
       " <selenium.webdriver.remote.webelement.WebElement (session=\"24c7c3d8dd0eaaedae803263abc10b3b\", element=\"5D53BB2F14A132CF12C2BC0331BE4F2D_element_268\")>,\n",
       " <selenium.webdriver.remote.webelement.WebElement (session=\"24c7c3d8dd0eaaedae803263abc10b3b\", element=\"5D53BB2F14A132CF12C2BC0331BE4F2D_element_269\")>,\n",
       " <selenium.webdriver.remote.webelement.WebElement (session=\"24c7c3d8dd0eaaedae803263abc10b3b\", element=\"5D53BB2F14A132CF12C2BC0331BE4F2D_element_270\")>,\n",
       " <selenium.webdriver.remote.webelement.WebElement (session=\"24c7c3d8dd0eaaedae803263abc10b3b\", element=\"5D53BB2F14A132CF12C2BC0331BE4F2D_element_271\")>,\n",
       " <selenium.webdriver.remote.webelement.WebElement (session=\"24c7c3d8dd0eaaedae803263abc10b3b\", element=\"5D53BB2F14A132CF12C2BC0331BE4F2D_element_272\")>,\n",
       " <selenium.webdriver.remote.webelement.WebElement (session=\"24c7c3d8dd0eaaedae803263abc10b3b\", element=\"5D53BB2F14A132CF12C2BC0331BE4F2D_element_273\")>,\n",
       " <selenium.webdriver.remote.webelement.WebElement (session=\"24c7c3d8dd0eaaedae803263abc10b3b\", element=\"5D53BB2F14A132CF12C2BC0331BE4F2D_element_274\")>,\n",
       " <selenium.webdriver.remote.webelement.WebElement (session=\"24c7c3d8dd0eaaedae803263abc10b3b\", element=\"5D53BB2F14A132CF12C2BC0331BE4F2D_element_275\")>,\n",
       " <selenium.webdriver.remote.webelement.WebElement (session=\"24c7c3d8dd0eaaedae803263abc10b3b\", element=\"5D53BB2F14A132CF12C2BC0331BE4F2D_element_276\")>,\n",
       " <selenium.webdriver.remote.webelement.WebElement (session=\"24c7c3d8dd0eaaedae803263abc10b3b\", element=\"5D53BB2F14A132CF12C2BC0331BE4F2D_element_277\")>,\n",
       " <selenium.webdriver.remote.webelement.WebElement (session=\"24c7c3d8dd0eaaedae803263abc10b3b\", element=\"5D53BB2F14A132CF12C2BC0331BE4F2D_element_278\")>,\n",
       " <selenium.webdriver.remote.webelement.WebElement (session=\"24c7c3d8dd0eaaedae803263abc10b3b\", element=\"5D53BB2F14A132CF12C2BC0331BE4F2D_element_279\")>,\n",
       " <selenium.webdriver.remote.webelement.WebElement (session=\"24c7c3d8dd0eaaedae803263abc10b3b\", element=\"5D53BB2F14A132CF12C2BC0331BE4F2D_element_280\")>,\n",
       " <selenium.webdriver.remote.webelement.WebElement (session=\"24c7c3d8dd0eaaedae803263abc10b3b\", element=\"5D53BB2F14A132CF12C2BC0331BE4F2D_element_281\")>,\n",
       " <selenium.webdriver.remote.webelement.WebElement (session=\"24c7c3d8dd0eaaedae803263abc10b3b\", element=\"5D53BB2F14A132CF12C2BC0331BE4F2D_element_282\")>,\n",
       " <selenium.webdriver.remote.webelement.WebElement (session=\"24c7c3d8dd0eaaedae803263abc10b3b\", element=\"5D53BB2F14A132CF12C2BC0331BE4F2D_element_283\")>,\n",
       " <selenium.webdriver.remote.webelement.WebElement (session=\"24c7c3d8dd0eaaedae803263abc10b3b\", element=\"5D53BB2F14A132CF12C2BC0331BE4F2D_element_284\")>,\n",
       " <selenium.webdriver.remote.webelement.WebElement (session=\"24c7c3d8dd0eaaedae803263abc10b3b\", element=\"5D53BB2F14A132CF12C2BC0331BE4F2D_element_285\")>,\n",
       " <selenium.webdriver.remote.webelement.WebElement (session=\"24c7c3d8dd0eaaedae803263abc10b3b\", element=\"5D53BB2F14A132CF12C2BC0331BE4F2D_element_286\")>,\n",
       " <selenium.webdriver.remote.webelement.WebElement (session=\"24c7c3d8dd0eaaedae803263abc10b3b\", element=\"5D53BB2F14A132CF12C2BC0331BE4F2D_element_287\")>,\n",
       " <selenium.webdriver.remote.webelement.WebElement (session=\"24c7c3d8dd0eaaedae803263abc10b3b\", element=\"5D53BB2F14A132CF12C2BC0331BE4F2D_element_288\")>,\n",
       " <selenium.webdriver.remote.webelement.WebElement (session=\"24c7c3d8dd0eaaedae803263abc10b3b\", element=\"5D53BB2F14A132CF12C2BC0331BE4F2D_element_289\")>,\n",
       " <selenium.webdriver.remote.webelement.WebElement (session=\"24c7c3d8dd0eaaedae803263abc10b3b\", element=\"5D53BB2F14A132CF12C2BC0331BE4F2D_element_290\")>,\n",
       " <selenium.webdriver.remote.webelement.WebElement (session=\"24c7c3d8dd0eaaedae803263abc10b3b\", element=\"5D53BB2F14A132CF12C2BC0331BE4F2D_element_291\")>,\n",
       " <selenium.webdriver.remote.webelement.WebElement (session=\"24c7c3d8dd0eaaedae803263abc10b3b\", element=\"5D53BB2F14A132CF12C2BC0331BE4F2D_element_292\")>,\n",
       " <selenium.webdriver.remote.webelement.WebElement (session=\"24c7c3d8dd0eaaedae803263abc10b3b\", element=\"5D53BB2F14A132CF12C2BC0331BE4F2D_element_293\")>,\n",
       " <selenium.webdriver.remote.webelement.WebElement (session=\"24c7c3d8dd0eaaedae803263abc10b3b\", element=\"5D53BB2F14A132CF12C2BC0331BE4F2D_element_294\")>,\n",
       " <selenium.webdriver.remote.webelement.WebElement (session=\"24c7c3d8dd0eaaedae803263abc10b3b\", element=\"5D53BB2F14A132CF12C2BC0331BE4F2D_element_295\")>,\n",
       " <selenium.webdriver.remote.webelement.WebElement (session=\"24c7c3d8dd0eaaedae803263abc10b3b\", element=\"5D53BB2F14A132CF12C2BC0331BE4F2D_element_296\")>,\n",
       " <selenium.webdriver.remote.webelement.WebElement (session=\"24c7c3d8dd0eaaedae803263abc10b3b\", element=\"5D53BB2F14A132CF12C2BC0331BE4F2D_element_297\")>,\n",
       " <selenium.webdriver.remote.webelement.WebElement (session=\"24c7c3d8dd0eaaedae803263abc10b3b\", element=\"5D53BB2F14A132CF12C2BC0331BE4F2D_element_298\")>,\n",
       " <selenium.webdriver.remote.webelement.WebElement (session=\"24c7c3d8dd0eaaedae803263abc10b3b\", element=\"5D53BB2F14A132CF12C2BC0331BE4F2D_element_299\")>,\n",
       " <selenium.webdriver.remote.webelement.WebElement (session=\"24c7c3d8dd0eaaedae803263abc10b3b\", element=\"5D53BB2F14A132CF12C2BC0331BE4F2D_element_300\")>,\n",
       " <selenium.webdriver.remote.webelement.WebElement (session=\"24c7c3d8dd0eaaedae803263abc10b3b\", element=\"5D53BB2F14A132CF12C2BC0331BE4F2D_element_301\")>,\n",
       " <selenium.webdriver.remote.webelement.WebElement (session=\"24c7c3d8dd0eaaedae803263abc10b3b\", element=\"5D53BB2F14A132CF12C2BC0331BE4F2D_element_302\")>,\n",
       " <selenium.webdriver.remote.webelement.WebElement (session=\"24c7c3d8dd0eaaedae803263abc10b3b\", element=\"5D53BB2F14A132CF12C2BC0331BE4F2D_element_303\")>,\n",
       " <selenium.webdriver.remote.webelement.WebElement (session=\"24c7c3d8dd0eaaedae803263abc10b3b\", element=\"5D53BB2F14A132CF12C2BC0331BE4F2D_element_304\")>,\n",
       " <selenium.webdriver.remote.webelement.WebElement (session=\"24c7c3d8dd0eaaedae803263abc10b3b\", element=\"5D53BB2F14A132CF12C2BC0331BE4F2D_element_305\")>,\n",
       " <selenium.webdriver.remote.webelement.WebElement (session=\"24c7c3d8dd0eaaedae803263abc10b3b\", element=\"5D53BB2F14A132CF12C2BC0331BE4F2D_element_306\")>,\n",
       " <selenium.webdriver.remote.webelement.WebElement (session=\"24c7c3d8dd0eaaedae803263abc10b3b\", element=\"5D53BB2F14A132CF12C2BC0331BE4F2D_element_307\")>,\n",
       " <selenium.webdriver.remote.webelement.WebElement (session=\"24c7c3d8dd0eaaedae803263abc10b3b\", element=\"5D53BB2F14A132CF12C2BC0331BE4F2D_element_308\")>,\n",
       " <selenium.webdriver.remote.webelement.WebElement (session=\"24c7c3d8dd0eaaedae803263abc10b3b\", element=\"5D53BB2F14A132CF12C2BC0331BE4F2D_element_309\")>,\n",
       " <selenium.webdriver.remote.webelement.WebElement (session=\"24c7c3d8dd0eaaedae803263abc10b3b\", element=\"5D53BB2F14A132CF12C2BC0331BE4F2D_element_310\")>,\n",
       " <selenium.webdriver.remote.webelement.WebElement (session=\"24c7c3d8dd0eaaedae803263abc10b3b\", element=\"5D53BB2F14A132CF12C2BC0331BE4F2D_element_311\")>,\n",
       " <selenium.webdriver.remote.webelement.WebElement (session=\"24c7c3d8dd0eaaedae803263abc10b3b\", element=\"5D53BB2F14A132CF12C2BC0331BE4F2D_element_312\")>,\n",
       " <selenium.webdriver.remote.webelement.WebElement (session=\"24c7c3d8dd0eaaedae803263abc10b3b\", element=\"5D53BB2F14A132CF12C2BC0331BE4F2D_element_313\")>,\n",
       " <selenium.webdriver.remote.webelement.WebElement (session=\"24c7c3d8dd0eaaedae803263abc10b3b\", element=\"5D53BB2F14A132CF12C2BC0331BE4F2D_element_314\")>,\n",
       " <selenium.webdriver.remote.webelement.WebElement (session=\"24c7c3d8dd0eaaedae803263abc10b3b\", element=\"5D53BB2F14A132CF12C2BC0331BE4F2D_element_315\")>,\n",
       " <selenium.webdriver.remote.webelement.WebElement (session=\"24c7c3d8dd0eaaedae803263abc10b3b\", element=\"5D53BB2F14A132CF12C2BC0331BE4F2D_element_316\")>,\n",
       " <selenium.webdriver.remote.webelement.WebElement (session=\"24c7c3d8dd0eaaedae803263abc10b3b\", element=\"5D53BB2F14A132CF12C2BC0331BE4F2D_element_317\")>,\n",
       " <selenium.webdriver.remote.webelement.WebElement (session=\"24c7c3d8dd0eaaedae803263abc10b3b\", element=\"5D53BB2F14A132CF12C2BC0331BE4F2D_element_318\")>,\n",
       " <selenium.webdriver.remote.webelement.WebElement (session=\"24c7c3d8dd0eaaedae803263abc10b3b\", element=\"5D53BB2F14A132CF12C2BC0331BE4F2D_element_319\")>,\n",
       " <selenium.webdriver.remote.webelement.WebElement (session=\"24c7c3d8dd0eaaedae803263abc10b3b\", element=\"5D53BB2F14A132CF12C2BC0331BE4F2D_element_320\")>,\n",
       " <selenium.webdriver.remote.webelement.WebElement (session=\"24c7c3d8dd0eaaedae803263abc10b3b\", element=\"5D53BB2F14A132CF12C2BC0331BE4F2D_element_321\")>,\n",
       " <selenium.webdriver.remote.webelement.WebElement (session=\"24c7c3d8dd0eaaedae803263abc10b3b\", element=\"5D53BB2F14A132CF12C2BC0331BE4F2D_element_322\")>,\n",
       " <selenium.webdriver.remote.webelement.WebElement (session=\"24c7c3d8dd0eaaedae803263abc10b3b\", element=\"5D53BB2F14A132CF12C2BC0331BE4F2D_element_323\")>,\n",
       " <selenium.webdriver.remote.webelement.WebElement (session=\"24c7c3d8dd0eaaedae803263abc10b3b\", element=\"5D53BB2F14A132CF12C2BC0331BE4F2D_element_324\")>,\n",
       " <selenium.webdriver.remote.webelement.WebElement (session=\"24c7c3d8dd0eaaedae803263abc10b3b\", element=\"5D53BB2F14A132CF12C2BC0331BE4F2D_element_325\")>,\n",
       " <selenium.webdriver.remote.webelement.WebElement (session=\"24c7c3d8dd0eaaedae803263abc10b3b\", element=\"5D53BB2F14A132CF12C2BC0331BE4F2D_element_326\")>,\n",
       " <selenium.webdriver.remote.webelement.WebElement (session=\"24c7c3d8dd0eaaedae803263abc10b3b\", element=\"5D53BB2F14A132CF12C2BC0331BE4F2D_element_327\")>,\n",
       " <selenium.webdriver.remote.webelement.WebElement (session=\"24c7c3d8dd0eaaedae803263abc10b3b\", element=\"5D53BB2F14A132CF12C2BC0331BE4F2D_element_328\")>,\n",
       " <selenium.webdriver.remote.webelement.WebElement (session=\"24c7c3d8dd0eaaedae803263abc10b3b\", element=\"5D53BB2F14A132CF12C2BC0331BE4F2D_element_329\")>,\n",
       " <selenium.webdriver.remote.webelement.WebElement (session=\"24c7c3d8dd0eaaedae803263abc10b3b\", element=\"5D53BB2F14A132CF12C2BC0331BE4F2D_element_330\")>,\n",
       " <selenium.webdriver.remote.webelement.WebElement (session=\"24c7c3d8dd0eaaedae803263abc10b3b\", element=\"5D53BB2F14A132CF12C2BC0331BE4F2D_element_331\")>,\n",
       " <selenium.webdriver.remote.webelement.WebElement (session=\"24c7c3d8dd0eaaedae803263abc10b3b\", element=\"5D53BB2F14A132CF12C2BC0331BE4F2D_element_332\")>,\n",
       " <selenium.webdriver.remote.webelement.WebElement (session=\"24c7c3d8dd0eaaedae803263abc10b3b\", element=\"5D53BB2F14A132CF12C2BC0331BE4F2D_element_333\")>,\n",
       " <selenium.webdriver.remote.webelement.WebElement (session=\"24c7c3d8dd0eaaedae803263abc10b3b\", element=\"5D53BB2F14A132CF12C2BC0331BE4F2D_element_334\")>,\n",
       " <selenium.webdriver.remote.webelement.WebElement (session=\"24c7c3d8dd0eaaedae803263abc10b3b\", element=\"5D53BB2F14A132CF12C2BC0331BE4F2D_element_335\")>,\n",
       " <selenium.webdriver.remote.webelement.WebElement (session=\"24c7c3d8dd0eaaedae803263abc10b3b\", element=\"5D53BB2F14A132CF12C2BC0331BE4F2D_element_336\")>,\n",
       " <selenium.webdriver.remote.webelement.WebElement (session=\"24c7c3d8dd0eaaedae803263abc10b3b\", element=\"5D53BB2F14A132CF12C2BC0331BE4F2D_element_337\")>,\n",
       " <selenium.webdriver.remote.webelement.WebElement (session=\"24c7c3d8dd0eaaedae803263abc10b3b\", element=\"5D53BB2F14A132CF12C2BC0331BE4F2D_element_338\")>,\n",
       " <selenium.webdriver.remote.webelement.WebElement (session=\"24c7c3d8dd0eaaedae803263abc10b3b\", element=\"5D53BB2F14A132CF12C2BC0331BE4F2D_element_339\")>,\n",
       " <selenium.webdriver.remote.webelement.WebElement (session=\"24c7c3d8dd0eaaedae803263abc10b3b\", element=\"5D53BB2F14A132CF12C2BC0331BE4F2D_element_340\")>,\n",
       " <selenium.webdriver.remote.webelement.WebElement (session=\"24c7c3d8dd0eaaedae803263abc10b3b\", element=\"5D53BB2F14A132CF12C2BC0331BE4F2D_element_341\")>,\n",
       " <selenium.webdriver.remote.webelement.WebElement (session=\"24c7c3d8dd0eaaedae803263abc10b3b\", element=\"5D53BB2F14A132CF12C2BC0331BE4F2D_element_342\")>,\n",
       " <selenium.webdriver.remote.webelement.WebElement (session=\"24c7c3d8dd0eaaedae803263abc10b3b\", element=\"5D53BB2F14A132CF12C2BC0331BE4F2D_element_343\")>,\n",
       " <selenium.webdriver.remote.webelement.WebElement (session=\"24c7c3d8dd0eaaedae803263abc10b3b\", element=\"5D53BB2F14A132CF12C2BC0331BE4F2D_element_344\")>,\n",
       " <selenium.webdriver.remote.webelement.WebElement (session=\"24c7c3d8dd0eaaedae803263abc10b3b\", element=\"5D53BB2F14A132CF12C2BC0331BE4F2D_element_345\")>,\n",
       " <selenium.webdriver.remote.webelement.WebElement (session=\"24c7c3d8dd0eaaedae803263abc10b3b\", element=\"5D53BB2F14A132CF12C2BC0331BE4F2D_element_346\")>,\n",
       " <selenium.webdriver.remote.webelement.WebElement (session=\"24c7c3d8dd0eaaedae803263abc10b3b\", element=\"5D53BB2F14A132CF12C2BC0331BE4F2D_element_347\")>,\n",
       " <selenium.webdriver.remote.webelement.WebElement (session=\"24c7c3d8dd0eaaedae803263abc10b3b\", element=\"5D53BB2F14A132CF12C2BC0331BE4F2D_element_348\")>,\n",
       " <selenium.webdriver.remote.webelement.WebElement (session=\"24c7c3d8dd0eaaedae803263abc10b3b\", element=\"5D53BB2F14A132CF12C2BC0331BE4F2D_element_349\")>,\n",
       " <selenium.webdriver.remote.webelement.WebElement (session=\"24c7c3d8dd0eaaedae803263abc10b3b\", element=\"5D53BB2F14A132CF12C2BC0331BE4F2D_element_350\")>,\n",
       " <selenium.webdriver.remote.webelement.WebElement (session=\"24c7c3d8dd0eaaedae803263abc10b3b\", element=\"5D53BB2F14A132CF12C2BC0331BE4F2D_element_351\")>,\n",
       " <selenium.webdriver.remote.webelement.WebElement (session=\"24c7c3d8dd0eaaedae803263abc10b3b\", element=\"5D53BB2F14A132CF12C2BC0331BE4F2D_element_352\")>,\n",
       " <selenium.webdriver.remote.webelement.WebElement (session=\"24c7c3d8dd0eaaedae803263abc10b3b\", element=\"5D53BB2F14A132CF12C2BC0331BE4F2D_element_353\")>,\n",
       " <selenium.webdriver.remote.webelement.WebElement (session=\"24c7c3d8dd0eaaedae803263abc10b3b\", element=\"5D53BB2F14A132CF12C2BC0331BE4F2D_element_354\")>,\n",
       " <selenium.webdriver.remote.webelement.WebElement (session=\"24c7c3d8dd0eaaedae803263abc10b3b\", element=\"5D53BB2F14A132CF12C2BC0331BE4F2D_element_355\")>,\n",
       " <selenium.webdriver.remote.webelement.WebElement (session=\"24c7c3d8dd0eaaedae803263abc10b3b\", element=\"5D53BB2F14A132CF12C2BC0331BE4F2D_element_356\")>,\n",
       " <selenium.webdriver.remote.webelement.WebElement (session=\"24c7c3d8dd0eaaedae803263abc10b3b\", element=\"5D53BB2F14A132CF12C2BC0331BE4F2D_element_357\")>,\n",
       " <selenium.webdriver.remote.webelement.WebElement (session=\"24c7c3d8dd0eaaedae803263abc10b3b\", element=\"5D53BB2F14A132CF12C2BC0331BE4F2D_element_358\")>,\n",
       " <selenium.webdriver.remote.webelement.WebElement (session=\"24c7c3d8dd0eaaedae803263abc10b3b\", element=\"5D53BB2F14A132CF12C2BC0331BE4F2D_element_359\")>,\n",
       " <selenium.webdriver.remote.webelement.WebElement (session=\"24c7c3d8dd0eaaedae803263abc10b3b\", element=\"5D53BB2F14A132CF12C2BC0331BE4F2D_element_360\")>,\n",
       " <selenium.webdriver.remote.webelement.WebElement (session=\"24c7c3d8dd0eaaedae803263abc10b3b\", element=\"5D53BB2F14A132CF12C2BC0331BE4F2D_element_361\")>,\n",
       " <selenium.webdriver.remote.webelement.WebElement (session=\"24c7c3d8dd0eaaedae803263abc10b3b\", element=\"5D53BB2F14A132CF12C2BC0331BE4F2D_element_362\")>,\n",
       " <selenium.webdriver.remote.webelement.WebElement (session=\"24c7c3d8dd0eaaedae803263abc10b3b\", element=\"5D53BB2F14A132CF12C2BC0331BE4F2D_element_363\")>,\n",
       " <selenium.webdriver.remote.webelement.WebElement (session=\"24c7c3d8dd0eaaedae803263abc10b3b\", element=\"5D53BB2F14A132CF12C2BC0331BE4F2D_element_364\")>,\n",
       " <selenium.webdriver.remote.webelement.WebElement (session=\"24c7c3d8dd0eaaedae803263abc10b3b\", element=\"5D53BB2F14A132CF12C2BC0331BE4F2D_element_365\")>,\n",
       " <selenium.webdriver.remote.webelement.WebElement (session=\"24c7c3d8dd0eaaedae803263abc10b3b\", element=\"5D53BB2F14A132CF12C2BC0331BE4F2D_element_366\")>,\n",
       " <selenium.webdriver.remote.webelement.WebElement (session=\"24c7c3d8dd0eaaedae803263abc10b3b\", element=\"5D53BB2F14A132CF12C2BC0331BE4F2D_element_367\")>,\n",
       " <selenium.webdriver.remote.webelement.WebElement (session=\"24c7c3d8dd0eaaedae803263abc10b3b\", element=\"5D53BB2F14A132CF12C2BC0331BE4F2D_element_368\")>,\n",
       " <selenium.webdriver.remote.webelement.WebElement (session=\"24c7c3d8dd0eaaedae803263abc10b3b\", element=\"5D53BB2F14A132CF12C2BC0331BE4F2D_element_369\")>,\n",
       " <selenium.webdriver.remote.webelement.WebElement (session=\"24c7c3d8dd0eaaedae803263abc10b3b\", element=\"5D53BB2F14A132CF12C2BC0331BE4F2D_element_370\")>,\n",
       " <selenium.webdriver.remote.webelement.WebElement (session=\"24c7c3d8dd0eaaedae803263abc10b3b\", element=\"5D53BB2F14A132CF12C2BC0331BE4F2D_element_371\")>,\n",
       " <selenium.webdriver.remote.webelement.WebElement (session=\"24c7c3d8dd0eaaedae803263abc10b3b\", element=\"5D53BB2F14A132CF12C2BC0331BE4F2D_element_372\")>,\n",
       " <selenium.webdriver.remote.webelement.WebElement (session=\"24c7c3d8dd0eaaedae803263abc10b3b\", element=\"5D53BB2F14A132CF12C2BC0331BE4F2D_element_373\")>,\n",
       " <selenium.webdriver.remote.webelement.WebElement (session=\"24c7c3d8dd0eaaedae803263abc10b3b\", element=\"5D53BB2F14A132CF12C2BC0331BE4F2D_element_374\")>,\n",
       " <selenium.webdriver.remote.webelement.WebElement (session=\"24c7c3d8dd0eaaedae803263abc10b3b\", element=\"5D53BB2F14A132CF12C2BC0331BE4F2D_element_375\")>,\n",
       " <selenium.webdriver.remote.webelement.WebElement (session=\"24c7c3d8dd0eaaedae803263abc10b3b\", element=\"5D53BB2F14A132CF12C2BC0331BE4F2D_element_376\")>,\n",
       " <selenium.webdriver.remote.webelement.WebElement (session=\"24c7c3d8dd0eaaedae803263abc10b3b\", element=\"5D53BB2F14A132CF12C2BC0331BE4F2D_element_377\")>,\n",
       " <selenium.webdriver.remote.webelement.WebElement (session=\"24c7c3d8dd0eaaedae803263abc10b3b\", element=\"5D53BB2F14A132CF12C2BC0331BE4F2D_element_378\")>,\n",
       " <selenium.webdriver.remote.webelement.WebElement (session=\"24c7c3d8dd0eaaedae803263abc10b3b\", element=\"5D53BB2F14A132CF12C2BC0331BE4F2D_element_379\")>,\n",
       " <selenium.webdriver.remote.webelement.WebElement (session=\"24c7c3d8dd0eaaedae803263abc10b3b\", element=\"5D53BB2F14A132CF12C2BC0331BE4F2D_element_380\")>,\n",
       " <selenium.webdriver.remote.webelement.WebElement (session=\"24c7c3d8dd0eaaedae803263abc10b3b\", element=\"5D53BB2F14A132CF12C2BC0331BE4F2D_element_381\")>,\n",
       " <selenium.webdriver.remote.webelement.WebElement (session=\"24c7c3d8dd0eaaedae803263abc10b3b\", element=\"5D53BB2F14A132CF12C2BC0331BE4F2D_element_382\")>,\n",
       " <selenium.webdriver.remote.webelement.WebElement (session=\"24c7c3d8dd0eaaedae803263abc10b3b\", element=\"5D53BB2F14A132CF12C2BC0331BE4F2D_element_383\")>,\n",
       " <selenium.webdriver.remote.webelement.WebElement (session=\"24c7c3d8dd0eaaedae803263abc10b3b\", element=\"5D53BB2F14A132CF12C2BC0331BE4F2D_element_384\")>,\n",
       " <selenium.webdriver.remote.webelement.WebElement (session=\"24c7c3d8dd0eaaedae803263abc10b3b\", element=\"5D53BB2F14A132CF12C2BC0331BE4F2D_element_385\")>,\n",
       " <selenium.webdriver.remote.webelement.WebElement (session=\"24c7c3d8dd0eaaedae803263abc10b3b\", element=\"5D53BB2F14A132CF12C2BC0331BE4F2D_element_386\")>,\n",
       " <selenium.webdriver.remote.webelement.WebElement (session=\"24c7c3d8dd0eaaedae803263abc10b3b\", element=\"5D53BB2F14A132CF12C2BC0331BE4F2D_element_387\")>,\n",
       " <selenium.webdriver.remote.webelement.WebElement (session=\"24c7c3d8dd0eaaedae803263abc10b3b\", element=\"5D53BB2F14A132CF12C2BC0331BE4F2D_element_388\")>,\n",
       " <selenium.webdriver.remote.webelement.WebElement (session=\"24c7c3d8dd0eaaedae803263abc10b3b\", element=\"5D53BB2F14A132CF12C2BC0331BE4F2D_element_389\")>,\n",
       " <selenium.webdriver.remote.webelement.WebElement (session=\"24c7c3d8dd0eaaedae803263abc10b3b\", element=\"5D53BB2F14A132CF12C2BC0331BE4F2D_element_390\")>,\n",
       " <selenium.webdriver.remote.webelement.WebElement (session=\"24c7c3d8dd0eaaedae803263abc10b3b\", element=\"5D53BB2F14A132CF12C2BC0331BE4F2D_element_391\")>,\n",
       " <selenium.webdriver.remote.webelement.WebElement (session=\"24c7c3d8dd0eaaedae803263abc10b3b\", element=\"5D53BB2F14A132CF12C2BC0331BE4F2D_element_392\")>,\n",
       " <selenium.webdriver.remote.webelement.WebElement (session=\"24c7c3d8dd0eaaedae803263abc10b3b\", element=\"5D53BB2F14A132CF12C2BC0331BE4F2D_element_393\")>,\n",
       " <selenium.webdriver.remote.webelement.WebElement (session=\"24c7c3d8dd0eaaedae803263abc10b3b\", element=\"5D53BB2F14A132CF12C2BC0331BE4F2D_element_394\")>,\n",
       " <selenium.webdriver.remote.webelement.WebElement (session=\"24c7c3d8dd0eaaedae803263abc10b3b\", element=\"5D53BB2F14A132CF12C2BC0331BE4F2D_element_395\")>,\n",
       " <selenium.webdriver.remote.webelement.WebElement (session=\"24c7c3d8dd0eaaedae803263abc10b3b\", element=\"5D53BB2F14A132CF12C2BC0331BE4F2D_element_396\")>,\n",
       " <selenium.webdriver.remote.webelement.WebElement (session=\"24c7c3d8dd0eaaedae803263abc10b3b\", element=\"5D53BB2F14A132CF12C2BC0331BE4F2D_element_397\")>,\n",
       " <selenium.webdriver.remote.webelement.WebElement (session=\"24c7c3d8dd0eaaedae803263abc10b3b\", element=\"5D53BB2F14A132CF12C2BC0331BE4F2D_element_398\")>,\n",
       " <selenium.webdriver.remote.webelement.WebElement (session=\"24c7c3d8dd0eaaedae803263abc10b3b\", element=\"5D53BB2F14A132CF12C2BC0331BE4F2D_element_399\")>,\n",
       " <selenium.webdriver.remote.webelement.WebElement (session=\"24c7c3d8dd0eaaedae803263abc10b3b\", element=\"5D53BB2F14A132CF12C2BC0331BE4F2D_element_400\")>,\n",
       " <selenium.webdriver.remote.webelement.WebElement (session=\"24c7c3d8dd0eaaedae803263abc10b3b\", element=\"5D53BB2F14A132CF12C2BC0331BE4F2D_element_401\")>,\n",
       " <selenium.webdriver.remote.webelement.WebElement (session=\"24c7c3d8dd0eaaedae803263abc10b3b\", element=\"5D53BB2F14A132CF12C2BC0331BE4F2D_element_402\")>,\n",
       " <selenium.webdriver.remote.webelement.WebElement (session=\"24c7c3d8dd0eaaedae803263abc10b3b\", element=\"5D53BB2F14A132CF12C2BC0331BE4F2D_element_403\")>,\n",
       " <selenium.webdriver.remote.webelement.WebElement (session=\"24c7c3d8dd0eaaedae803263abc10b3b\", element=\"5D53BB2F14A132CF12C2BC0331BE4F2D_element_404\")>,\n",
       " <selenium.webdriver.remote.webelement.WebElement (session=\"24c7c3d8dd0eaaedae803263abc10b3b\", element=\"5D53BB2F14A132CF12C2BC0331BE4F2D_element_405\")>,\n",
       " <selenium.webdriver.remote.webelement.WebElement (session=\"24c7c3d8dd0eaaedae803263abc10b3b\", element=\"5D53BB2F14A132CF12C2BC0331BE4F2D_element_406\")>,\n",
       " <selenium.webdriver.remote.webelement.WebElement (session=\"24c7c3d8dd0eaaedae803263abc10b3b\", element=\"5D53BB2F14A132CF12C2BC0331BE4F2D_element_407\")>,\n",
       " <selenium.webdriver.remote.webelement.WebElement (session=\"24c7c3d8dd0eaaedae803263abc10b3b\", element=\"5D53BB2F14A132CF12C2BC0331BE4F2D_element_408\")>,\n",
       " <selenium.webdriver.remote.webelement.WebElement (session=\"24c7c3d8dd0eaaedae803263abc10b3b\", element=\"5D53BB2F14A132CF12C2BC0331BE4F2D_element_409\")>,\n",
       " <selenium.webdriver.remote.webelement.WebElement (session=\"24c7c3d8dd0eaaedae803263abc10b3b\", element=\"5D53BB2F14A132CF12C2BC0331BE4F2D_element_410\")>,\n",
       " <selenium.webdriver.remote.webelement.WebElement (session=\"24c7c3d8dd0eaaedae803263abc10b3b\", element=\"5D53BB2F14A132CF12C2BC0331BE4F2D_element_411\")>,\n",
       " <selenium.webdriver.remote.webelement.WebElement (session=\"24c7c3d8dd0eaaedae803263abc10b3b\", element=\"5D53BB2F14A132CF12C2BC0331BE4F2D_element_412\")>,\n",
       " <selenium.webdriver.remote.webelement.WebElement (session=\"24c7c3d8dd0eaaedae803263abc10b3b\", element=\"5D53BB2F14A132CF12C2BC0331BE4F2D_element_413\")>,\n",
       " <selenium.webdriver.remote.webelement.WebElement (session=\"24c7c3d8dd0eaaedae803263abc10b3b\", element=\"5D53BB2F14A132CF12C2BC0331BE4F2D_element_414\")>,\n",
       " <selenium.webdriver.remote.webelement.WebElement (session=\"24c7c3d8dd0eaaedae803263abc10b3b\", element=\"5D53BB2F14A132CF12C2BC0331BE4F2D_element_415\")>,\n",
       " <selenium.webdriver.remote.webelement.WebElement (session=\"24c7c3d8dd0eaaedae803263abc10b3b\", element=\"5D53BB2F14A132CF12C2BC0331BE4F2D_element_416\")>,\n",
       " <selenium.webdriver.remote.webelement.WebElement (session=\"24c7c3d8dd0eaaedae803263abc10b3b\", element=\"5D53BB2F14A132CF12C2BC0331BE4F2D_element_417\")>,\n",
       " <selenium.webdriver.remote.webelement.WebElement (session=\"24c7c3d8dd0eaaedae803263abc10b3b\", element=\"5D53BB2F14A132CF12C2BC0331BE4F2D_element_418\")>,\n",
       " <selenium.webdriver.remote.webelement.WebElement (session=\"24c7c3d8dd0eaaedae803263abc10b3b\", element=\"5D53BB2F14A132CF12C2BC0331BE4F2D_element_419\")>,\n",
       " <selenium.webdriver.remote.webelement.WebElement (session=\"24c7c3d8dd0eaaedae803263abc10b3b\", element=\"5D53BB2F14A132CF12C2BC0331BE4F2D_element_420\")>,\n",
       " <selenium.webdriver.remote.webelement.WebElement (session=\"24c7c3d8dd0eaaedae803263abc10b3b\", element=\"5D53BB2F14A132CF12C2BC0331BE4F2D_element_421\")>,\n",
       " <selenium.webdriver.remote.webelement.WebElement (session=\"24c7c3d8dd0eaaedae803263abc10b3b\", element=\"5D53BB2F14A132CF12C2BC0331BE4F2D_element_422\")>,\n",
       " <selenium.webdriver.remote.webelement.WebElement (session=\"24c7c3d8dd0eaaedae803263abc10b3b\", element=\"5D53BB2F14A132CF12C2BC0331BE4F2D_element_423\")>,\n",
       " <selenium.webdriver.remote.webelement.WebElement (session=\"24c7c3d8dd0eaaedae803263abc10b3b\", element=\"5D53BB2F14A132CF12C2BC0331BE4F2D_element_424\")>,\n",
       " <selenium.webdriver.remote.webelement.WebElement (session=\"24c7c3d8dd0eaaedae803263abc10b3b\", element=\"5D53BB2F14A132CF12C2BC0331BE4F2D_element_425\")>,\n",
       " <selenium.webdriver.remote.webelement.WebElement (session=\"24c7c3d8dd0eaaedae803263abc10b3b\", element=\"5D53BB2F14A132CF12C2BC0331BE4F2D_element_426\")>,\n",
       " <selenium.webdriver.remote.webelement.WebElement (session=\"24c7c3d8dd0eaaedae803263abc10b3b\", element=\"5D53BB2F14A132CF12C2BC0331BE4F2D_element_427\")>,\n",
       " <selenium.webdriver.remote.webelement.WebElement (session=\"24c7c3d8dd0eaaedae803263abc10b3b\", element=\"5D53BB2F14A132CF12C2BC0331BE4F2D_element_428\")>,\n",
       " <selenium.webdriver.remote.webelement.WebElement (session=\"24c7c3d8dd0eaaedae803263abc10b3b\", element=\"5D53BB2F14A132CF12C2BC0331BE4F2D_element_429\")>,\n",
       " <selenium.webdriver.remote.webelement.WebElement (session=\"24c7c3d8dd0eaaedae803263abc10b3b\", element=\"5D53BB2F14A132CF12C2BC0331BE4F2D_element_430\")>,\n",
       " <selenium.webdriver.remote.webelement.WebElement (session=\"24c7c3d8dd0eaaedae803263abc10b3b\", element=\"5D53BB2F14A132CF12C2BC0331BE4F2D_element_431\")>,\n",
       " <selenium.webdriver.remote.webelement.WebElement (session=\"24c7c3d8dd0eaaedae803263abc10b3b\", element=\"5D53BB2F14A132CF12C2BC0331BE4F2D_element_432\")>,\n",
       " <selenium.webdriver.remote.webelement.WebElement (session=\"24c7c3d8dd0eaaedae803263abc10b3b\", element=\"5D53BB2F14A132CF12C2BC0331BE4F2D_element_433\")>,\n",
       " <selenium.webdriver.remote.webelement.WebElement (session=\"24c7c3d8dd0eaaedae803263abc10b3b\", element=\"5D53BB2F14A132CF12C2BC0331BE4F2D_element_434\")>,\n",
       " <selenium.webdriver.remote.webelement.WebElement (session=\"24c7c3d8dd0eaaedae803263abc10b3b\", element=\"5D53BB2F14A132CF12C2BC0331BE4F2D_element_435\")>,\n",
       " <selenium.webdriver.remote.webelement.WebElement (session=\"24c7c3d8dd0eaaedae803263abc10b3b\", element=\"5D53BB2F14A132CF12C2BC0331BE4F2D_element_436\")>,\n",
       " <selenium.webdriver.remote.webelement.WebElement (session=\"24c7c3d8dd0eaaedae803263abc10b3b\", element=\"5D53BB2F14A132CF12C2BC0331BE4F2D_element_437\")>,\n",
       " <selenium.webdriver.remote.webelement.WebElement (session=\"24c7c3d8dd0eaaedae803263abc10b3b\", element=\"5D53BB2F14A132CF12C2BC0331BE4F2D_element_438\")>,\n",
       " <selenium.webdriver.remote.webelement.WebElement (session=\"24c7c3d8dd0eaaedae803263abc10b3b\", element=\"5D53BB2F14A132CF12C2BC0331BE4F2D_element_439\")>,\n",
       " <selenium.webdriver.remote.webelement.WebElement (session=\"24c7c3d8dd0eaaedae803263abc10b3b\", element=\"5D53BB2F14A132CF12C2BC0331BE4F2D_element_440\")>,\n",
       " <selenium.webdriver.remote.webelement.WebElement (session=\"24c7c3d8dd0eaaedae803263abc10b3b\", element=\"5D53BB2F14A132CF12C2BC0331BE4F2D_element_441\")>,\n",
       " <selenium.webdriver.remote.webelement.WebElement (session=\"24c7c3d8dd0eaaedae803263abc10b3b\", element=\"5D53BB2F14A132CF12C2BC0331BE4F2D_element_442\")>,\n",
       " <selenium.webdriver.remote.webelement.WebElement (session=\"24c7c3d8dd0eaaedae803263abc10b3b\", element=\"5D53BB2F14A132CF12C2BC0331BE4F2D_element_443\")>,\n",
       " <selenium.webdriver.remote.webelement.WebElement (session=\"24c7c3d8dd0eaaedae803263abc10b3b\", element=\"5D53BB2F14A132CF12C2BC0331BE4F2D_element_444\")>,\n",
       " <selenium.webdriver.remote.webelement.WebElement (session=\"24c7c3d8dd0eaaedae803263abc10b3b\", element=\"5D53BB2F14A132CF12C2BC0331BE4F2D_element_445\")>,\n",
       " <selenium.webdriver.remote.webelement.WebElement (session=\"24c7c3d8dd0eaaedae803263abc10b3b\", element=\"5D53BB2F14A132CF12C2BC0331BE4F2D_element_446\")>,\n",
       " <selenium.webdriver.remote.webelement.WebElement (session=\"24c7c3d8dd0eaaedae803263abc10b3b\", element=\"5D53BB2F14A132CF12C2BC0331BE4F2D_element_447\")>,\n",
       " <selenium.webdriver.remote.webelement.WebElement (session=\"24c7c3d8dd0eaaedae803263abc10b3b\", element=\"5D53BB2F14A132CF12C2BC0331BE4F2D_element_448\")>,\n",
       " <selenium.webdriver.remote.webelement.WebElement (session=\"24c7c3d8dd0eaaedae803263abc10b3b\", element=\"5D53BB2F14A132CF12C2BC0331BE4F2D_element_449\")>,\n",
       " <selenium.webdriver.remote.webelement.WebElement (session=\"24c7c3d8dd0eaaedae803263abc10b3b\", element=\"5D53BB2F14A132CF12C2BC0331BE4F2D_element_450\")>,\n",
       " <selenium.webdriver.remote.webelement.WebElement (session=\"24c7c3d8dd0eaaedae803263abc10b3b\", element=\"5D53BB2F14A132CF12C2BC0331BE4F2D_element_451\")>,\n",
       " <selenium.webdriver.remote.webelement.WebElement (session=\"24c7c3d8dd0eaaedae803263abc10b3b\", element=\"5D53BB2F14A132CF12C2BC0331BE4F2D_element_452\")>,\n",
       " <selenium.webdriver.remote.webelement.WebElement (session=\"24c7c3d8dd0eaaedae803263abc10b3b\", element=\"5D53BB2F14A132CF12C2BC0331BE4F2D_element_453\")>,\n",
       " <selenium.webdriver.remote.webelement.WebElement (session=\"24c7c3d8dd0eaaedae803263abc10b3b\", element=\"5D53BB2F14A132CF12C2BC0331BE4F2D_element_454\")>,\n",
       " <selenium.webdriver.remote.webelement.WebElement (session=\"24c7c3d8dd0eaaedae803263abc10b3b\", element=\"5D53BB2F14A132CF12C2BC0331BE4F2D_element_455\")>,\n",
       " <selenium.webdriver.remote.webelement.WebElement (session=\"24c7c3d8dd0eaaedae803263abc10b3b\", element=\"5D53BB2F14A132CF12C2BC0331BE4F2D_element_456\")>,\n",
       " <selenium.webdriver.remote.webelement.WebElement (session=\"24c7c3d8dd0eaaedae803263abc10b3b\", element=\"5D53BB2F14A132CF12C2BC0331BE4F2D_element_457\")>,\n",
       " <selenium.webdriver.remote.webelement.WebElement (session=\"24c7c3d8dd0eaaedae803263abc10b3b\", element=\"5D53BB2F14A132CF12C2BC0331BE4F2D_element_458\")>,\n",
       " <selenium.webdriver.remote.webelement.WebElement (session=\"24c7c3d8dd0eaaedae803263abc10b3b\", element=\"5D53BB2F14A132CF12C2BC0331BE4F2D_element_459\")>,\n",
       " <selenium.webdriver.remote.webelement.WebElement (session=\"24c7c3d8dd0eaaedae803263abc10b3b\", element=\"5D53BB2F14A132CF12C2BC0331BE4F2D_element_460\")>,\n",
       " <selenium.webdriver.remote.webelement.WebElement (session=\"24c7c3d8dd0eaaedae803263abc10b3b\", element=\"5D53BB2F14A132CF12C2BC0331BE4F2D_element_461\")>,\n",
       " <selenium.webdriver.remote.webelement.WebElement (session=\"24c7c3d8dd0eaaedae803263abc10b3b\", element=\"5D53BB2F14A132CF12C2BC0331BE4F2D_element_462\")>,\n",
       " <selenium.webdriver.remote.webelement.WebElement (session=\"24c7c3d8dd0eaaedae803263abc10b3b\", element=\"5D53BB2F14A132CF12C2BC0331BE4F2D_element_463\")>,\n",
       " <selenium.webdriver.remote.webelement.WebElement (session=\"24c7c3d8dd0eaaedae803263abc10b3b\", element=\"5D53BB2F14A132CF12C2BC0331BE4F2D_element_464\")>,\n",
       " <selenium.webdriver.remote.webelement.WebElement (session=\"24c7c3d8dd0eaaedae803263abc10b3b\", element=\"5D53BB2F14A132CF12C2BC0331BE4F2D_element_465\")>,\n",
       " <selenium.webdriver.remote.webelement.WebElement (session=\"24c7c3d8dd0eaaedae803263abc10b3b\", element=\"5D53BB2F14A132CF12C2BC0331BE4F2D_element_466\")>,\n",
       " <selenium.webdriver.remote.webelement.WebElement (session=\"24c7c3d8dd0eaaedae803263abc10b3b\", element=\"5D53BB2F14A132CF12C2BC0331BE4F2D_element_467\")>,\n",
       " <selenium.webdriver.remote.webelement.WebElement (session=\"24c7c3d8dd0eaaedae803263abc10b3b\", element=\"5D53BB2F14A132CF12C2BC0331BE4F2D_element_468\")>,\n",
       " <selenium.webdriver.remote.webelement.WebElement (session=\"24c7c3d8dd0eaaedae803263abc10b3b\", element=\"5D53BB2F14A132CF12C2BC0331BE4F2D_element_469\")>,\n",
       " <selenium.webdriver.remote.webelement.WebElement (session=\"24c7c3d8dd0eaaedae803263abc10b3b\", element=\"5D53BB2F14A132CF12C2BC0331BE4F2D_element_470\")>,\n",
       " <selenium.webdriver.remote.webelement.WebElement (session=\"24c7c3d8dd0eaaedae803263abc10b3b\", element=\"5D53BB2F14A132CF12C2BC0331BE4F2D_element_471\")>,\n",
       " <selenium.webdriver.remote.webelement.WebElement (session=\"24c7c3d8dd0eaaedae803263abc10b3b\", element=\"5D53BB2F14A132CF12C2BC0331BE4F2D_element_472\")>,\n",
       " <selenium.webdriver.remote.webelement.WebElement (session=\"24c7c3d8dd0eaaedae803263abc10b3b\", element=\"5D53BB2F14A132CF12C2BC0331BE4F2D_element_473\")>,\n",
       " <selenium.webdriver.remote.webelement.WebElement (session=\"24c7c3d8dd0eaaedae803263abc10b3b\", element=\"5D53BB2F14A132CF12C2BC0331BE4F2D_element_474\")>,\n",
       " <selenium.webdriver.remote.webelement.WebElement (session=\"24c7c3d8dd0eaaedae803263abc10b3b\", element=\"5D53BB2F14A132CF12C2BC0331BE4F2D_element_475\")>,\n",
       " <selenium.webdriver.remote.webelement.WebElement (session=\"24c7c3d8dd0eaaedae803263abc10b3b\", element=\"5D53BB2F14A132CF12C2BC0331BE4F2D_element_476\")>,\n",
       " <selenium.webdriver.remote.webelement.WebElement (session=\"24c7c3d8dd0eaaedae803263abc10b3b\", element=\"5D53BB2F14A132CF12C2BC0331BE4F2D_element_477\")>,\n",
       " <selenium.webdriver.remote.webelement.WebElement (session=\"24c7c3d8dd0eaaedae803263abc10b3b\", element=\"5D53BB2F14A132CF12C2BC0331BE4F2D_element_478\")>,\n",
       " <selenium.webdriver.remote.webelement.WebElement (session=\"24c7c3d8dd0eaaedae803263abc10b3b\", element=\"5D53BB2F14A132CF12C2BC0331BE4F2D_element_479\")>,\n",
       " <selenium.webdriver.remote.webelement.WebElement (session=\"24c7c3d8dd0eaaedae803263abc10b3b\", element=\"5D53BB2F14A132CF12C2BC0331BE4F2D_element_480\")>,\n",
       " <selenium.webdriver.remote.webelement.WebElement (session=\"24c7c3d8dd0eaaedae803263abc10b3b\", element=\"5D53BB2F14A132CF12C2BC0331BE4F2D_element_481\")>,\n",
       " <selenium.webdriver.remote.webelement.WebElement (session=\"24c7c3d8dd0eaaedae803263abc10b3b\", element=\"5D53BB2F14A132CF12C2BC0331BE4F2D_element_482\")>,\n",
       " <selenium.webdriver.remote.webelement.WebElement (session=\"24c7c3d8dd0eaaedae803263abc10b3b\", element=\"5D53BB2F14A132CF12C2BC0331BE4F2D_element_483\")>,\n",
       " <selenium.webdriver.remote.webelement.WebElement (session=\"24c7c3d8dd0eaaedae803263abc10b3b\", element=\"5D53BB2F14A132CF12C2BC0331BE4F2D_element_484\")>,\n",
       " <selenium.webdriver.remote.webelement.WebElement (session=\"24c7c3d8dd0eaaedae803263abc10b3b\", element=\"5D53BB2F14A132CF12C2BC0331BE4F2D_element_485\")>,\n",
       " <selenium.webdriver.remote.webelement.WebElement (session=\"24c7c3d8dd0eaaedae803263abc10b3b\", element=\"5D53BB2F14A132CF12C2BC0331BE4F2D_element_486\")>,\n",
       " <selenium.webdriver.remote.webelement.WebElement (session=\"24c7c3d8dd0eaaedae803263abc10b3b\", element=\"5D53BB2F14A132CF12C2BC0331BE4F2D_element_487\")>,\n",
       " <selenium.webdriver.remote.webelement.WebElement (session=\"24c7c3d8dd0eaaedae803263abc10b3b\", element=\"5D53BB2F14A132CF12C2BC0331BE4F2D_element_488\")>,\n",
       " <selenium.webdriver.remote.webelement.WebElement (session=\"24c7c3d8dd0eaaedae803263abc10b3b\", element=\"5D53BB2F14A132CF12C2BC0331BE4F2D_element_489\")>,\n",
       " <selenium.webdriver.remote.webelement.WebElement (session=\"24c7c3d8dd0eaaedae803263abc10b3b\", element=\"5D53BB2F14A132CF12C2BC0331BE4F2D_element_490\")>,\n",
       " <selenium.webdriver.remote.webelement.WebElement (session=\"24c7c3d8dd0eaaedae803263abc10b3b\", element=\"5D53BB2F14A132CF12C2BC0331BE4F2D_element_491\")>,\n",
       " <selenium.webdriver.remote.webelement.WebElement (session=\"24c7c3d8dd0eaaedae803263abc10b3b\", element=\"5D53BB2F14A132CF12C2BC0331BE4F2D_element_492\")>,\n",
       " <selenium.webdriver.remote.webelement.WebElement (session=\"24c7c3d8dd0eaaedae803263abc10b3b\", element=\"5D53BB2F14A132CF12C2BC0331BE4F2D_element_493\")>,\n",
       " <selenium.webdriver.remote.webelement.WebElement (session=\"24c7c3d8dd0eaaedae803263abc10b3b\", element=\"5D53BB2F14A132CF12C2BC0331BE4F2D_element_494\")>,\n",
       " <selenium.webdriver.remote.webelement.WebElement (session=\"24c7c3d8dd0eaaedae803263abc10b3b\", element=\"5D53BB2F14A132CF12C2BC0331BE4F2D_element_495\")>,\n",
       " <selenium.webdriver.remote.webelement.WebElement (session=\"24c7c3d8dd0eaaedae803263abc10b3b\", element=\"5D53BB2F14A132CF12C2BC0331BE4F2D_element_496\")>,\n",
       " <selenium.webdriver.remote.webelement.WebElement (session=\"24c7c3d8dd0eaaedae803263abc10b3b\", element=\"5D53BB2F14A132CF12C2BC0331BE4F2D_element_497\")>]"
      ]
     },
     "execution_count": 77,
     "metadata": {},
     "output_type": "execute_result"
    }
   ],
   "source": [
    "reviews = driver.find_elements(By.CSS_SELECTOR, 'div.RHo1pe')\n",
    "reviews"
   ]
  },
  {
   "cell_type": "code",
   "execution_count": 78,
   "id": "8373cd53-67b9-4034-9ace-ba2e62f24046",
   "metadata": {},
   "outputs": [],
   "source": [
    "# 요소별 추출\n",
    "def get_content(review):\n",
    "    condic = {}\n",
    "    condic['text'] = review.find_element(By.CSS_SELECTOR, 'div.h3YV2d').text\n",
    "    condic['rat'] = len(review.find_elements(By.CSS_SELECTOR, 'span.Z1Dz7b'))\n",
    "    condic['date'] = review.find_element(By.CSS_SELECTOR, 'span.bp9Aid').text\n",
    "    return condic"
   ]
  },
  {
   "cell_type": "code",
   "execution_count": 79,
   "id": "5b754699-d215-436c-a553-6262f9591fc6",
   "metadata": {},
   "outputs": [],
   "source": [
    "result = [get_content(review) for review in reviews]"
   ]
  },
  {
   "cell_type": "code",
   "execution_count": 80,
   "id": "c509c712-89a7-4525-b353-2691e437a61c",
   "metadata": {},
   "outputs": [
    {
     "data": {
      "text/html": [
       "<div>\n",
       "<style scoped>\n",
       "    .dataframe tbody tr th:only-of-type {\n",
       "        vertical-align: middle;\n",
       "    }\n",
       "\n",
       "    .dataframe tbody tr th {\n",
       "        vertical-align: top;\n",
       "    }\n",
       "\n",
       "    .dataframe thead th {\n",
       "        text-align: right;\n",
       "    }\n",
       "</style>\n",
       "<table border=\"1\" class=\"dataframe\">\n",
       "  <thead>\n",
       "    <tr style=\"text-align: right;\">\n",
       "      <th></th>\n",
       "      <th>text</th>\n",
       "      <th>rat</th>\n",
       "      <th>date</th>\n",
       "    </tr>\n",
       "  </thead>\n",
       "  <tbody>\n",
       "    <tr>\n",
       "      <th>0</th>\n",
       "      <td>사용자 편의는 전혀 고려치 않는 최악의 어플. 현재 최신버전 v3.1.33버전의 버...</td>\n",
       "      <td>3</td>\n",
       "      <td>2022년 11월 7일</td>\n",
       "    </tr>\n",
       "    <tr>\n",
       "      <th>1</th>\n",
       "      <td>라이브영상들과 화면이 깨끗하고 품질이 아주 높아요. 홈쇼핑과 거의 견줄만큼. 하지만...</td>\n",
       "      <td>5</td>\n",
       "      <td>2020년 12월 6일</td>\n",
       "    </tr>\n",
       "    <tr>\n",
       "      <th>2</th>\n",
       "      <td>바쁜일상으로 인해 생활에 필요한 많은 상품들을 주로 홈쇼핑이나 인터넷으로 주문하는 ...</td>\n",
       "      <td>5</td>\n",
       "      <td>2022년 9월 29일</td>\n",
       "    </tr>\n",
       "    <tr>\n",
       "      <th>3</th>\n",
       "      <td>홈버튼 눌러서 백그라운드로 내려도 데이터 사용량이 어마어마함. VOGO가 오늘 백그...</td>\n",
       "      <td>1</td>\n",
       "      <td>2021년 5월 14일</td>\n",
       "    </tr>\n",
       "    <tr>\n",
       "      <th>4</th>\n",
       "      <td>갤탭 완전싸게잘샀어용 딴것들도 네이버최저가보다 쌈 배송도빠르고 암튼 모두 잘쓰고있음...</td>\n",
       "      <td>5</td>\n",
       "      <td>2020년 10월 3일</td>\n",
       "    </tr>\n",
       "    <tr>\n",
       "      <th>...</th>\n",
       "      <td>...</td>\n",
       "      <td>...</td>\n",
       "      <td>...</td>\n",
       "    </tr>\n",
       "    <tr>\n",
       "      <th>435</th>\n",
       "      <td>과자 7천원대 광고보고 가입했는데 해당상품은 없네요 허위광고 하지 마시길</td>\n",
       "      <td>1</td>\n",
       "      <td>2022년 3월 13일</td>\n",
       "    </tr>\n",
       "    <tr>\n",
       "      <th>436</th>\n",
       "      <td>코베아 텐트에 낚여서 가입 아니라면 해당업체 고발하던 조치취하면 수정 다아는 정보지...</td>\n",
       "      <td>1</td>\n",
       "      <td>2022년 9월 14일</td>\n",
       "    </tr>\n",
       "    <tr>\n",
       "      <th>437</th>\n",
       "      <td>아이디랑 비번 도대체 어떻게 찾나요.. 네이버 가입자는 아이디랑 비번을 못찾는다는데...</td>\n",
       "      <td>1</td>\n",
       "      <td>2022년 1월 28일</td>\n",
       "    </tr>\n",
       "    <tr>\n",
       "      <th>438</th>\n",
       "      <td>3월1일에 포인트 포기하고 탈퇴했더니 3월2일에 복귀한다고 공지올리네...</td>\n",
       "      <td>1</td>\n",
       "      <td>2023년 3월 2일</td>\n",
       "    </tr>\n",
       "    <tr>\n",
       "      <th>439</th>\n",
       "      <td>네스트w 사건을 겪어본 봐..그닥입니다. 꽤 신선했습니다. 대응이 너무 허술하네요ㅡㅡ</td>\n",
       "      <td>1</td>\n",
       "      <td>2022년 9월 14일</td>\n",
       "    </tr>\n",
       "  </tbody>\n",
       "</table>\n",
       "<p>440 rows × 3 columns</p>\n",
       "</div>"
      ],
      "text/plain": [
       "                                                  text  rat          date\n",
       "0    사용자 편의는 전혀 고려치 않는 최악의 어플. 현재 최신버전 v3.1.33버전의 버...    3  2022년 11월 7일\n",
       "1    라이브영상들과 화면이 깨끗하고 품질이 아주 높아요. 홈쇼핑과 거의 견줄만큼. 하지만...    5  2020년 12월 6일\n",
       "2    바쁜일상으로 인해 생활에 필요한 많은 상품들을 주로 홈쇼핑이나 인터넷으로 주문하는 ...    5  2022년 9월 29일\n",
       "3    홈버튼 눌러서 백그라운드로 내려도 데이터 사용량이 어마어마함. VOGO가 오늘 백그...    1  2021년 5월 14일\n",
       "4    갤탭 완전싸게잘샀어용 딴것들도 네이버최저가보다 쌈 배송도빠르고 암튼 모두 잘쓰고있음...    5  2020년 10월 3일\n",
       "..                                                 ...  ...           ...\n",
       "435           과자 7천원대 광고보고 가입했는데 해당상품은 없네요 허위광고 하지 마시길    1  2022년 3월 13일\n",
       "436  코베아 텐트에 낚여서 가입 아니라면 해당업체 고발하던 조치취하면 수정 다아는 정보지...    1  2022년 9월 14일\n",
       "437  아이디랑 비번 도대체 어떻게 찾나요.. 네이버 가입자는 아이디랑 비번을 못찾는다는데...    1  2022년 1월 28일\n",
       "438          3월1일에 포인트 포기하고 탈퇴했더니 3월2일에 복귀한다고 공지올리네...    1   2023년 3월 2일\n",
       "439    네스트w 사건을 겪어본 봐..그닥입니다. 꽤 신선했습니다. 대응이 너무 허술하네요ㅡㅡ    1  2022년 9월 14일\n",
       "\n",
       "[440 rows x 3 columns]"
      ]
     },
     "execution_count": 80,
     "metadata": {},
     "output_type": "execute_result"
    }
   ],
   "source": [
    "df = pd.DataFrame(result)\n",
    "df"
   ]
  },
  {
   "cell_type": "code",
   "execution_count": 81,
   "id": "59bc9b24-ac0a-449a-998b-222dafd32f66",
   "metadata": {},
   "outputs": [],
   "source": [
    "df.to_csv(f'./\bvogo_{fname}.csv', sep=',', encoding='utf-8-sig')"
   ]
  },
  {
   "cell_type": "code",
   "execution_count": null,
   "id": "84c10d9f-0e01-4cbe-b7b5-d6c9f71ce68a",
   "metadata": {},
   "outputs": [],
   "source": []
  },
  {
   "cell_type": "code",
   "execution_count": 82,
   "id": "8f2e0e32-855b-4f96-9747-c632e1a05512",
   "metadata": {},
   "outputs": [],
   "source": [
    "from selenium import webdriver\n",
    "from selenium.webdriver.common.by import By\n",
    "from selenium.webdriver.chrome.options import Options\n",
    "import math, time\n",
    "\n",
    "options = Options()\n",
    "options.add_argument('--window-size=974,1047')\n",
    "options.add_argument('--window-position=953,0')\n",
    "options.add_experimental_option(\"detach\", True)"
   ]
  },
  {
   "cell_type": "code",
   "execution_count": 83,
   "id": "1f70900c-58ab-4359-b9dc-4fb0bf1c1bdd",
   "metadata": {},
   "outputs": [
    {
     "data": {
      "text/plain": [
       "\u001b[0;31mSignature:\u001b[0m \u001b[0moptions\u001b[0m\u001b[0;34m.\u001b[0m\u001b[0madd_argument\u001b[0m\u001b[0;34m(\u001b[0m\u001b[0margument\u001b[0m\u001b[0;34m)\u001b[0m\u001b[0;34m\u001b[0m\u001b[0;34m\u001b[0m\u001b[0m\n",
       "\u001b[0;31mDocstring:\u001b[0m\n",
       "Adds an argument to the list.\n",
       "\n",
       ":Args:\n",
       " - Sets the arguments\n",
       "\u001b[0;31mFile:\u001b[0m      /Library/Frameworks/Python.framework/Versions/3.12/lib/python3.12/site-packages/selenium/webdriver/common/options.py\n",
       "\u001b[0;31mType:\u001b[0m      method"
      ]
     },
     "metadata": {},
     "output_type": "display_data"
    }
   ],
   "source": [
    "options.add_argument?\n"
   ]
  },
  {
   "cell_type": "code",
   "execution_count": 85,
   "id": "3c6fd48b-a3ee-4f4b-9e33-70619f46076f",
   "metadata": {},
   "outputs": [
    {
     "name": "stdin",
     "output_type": "stream",
     "text": [
      "검색어를 입력하세요. 경주\n"
     ]
    }
   ],
   "source": [
    "search = input('검색어를 입력하세요.')\n"
   ]
  },
  {
   "cell_type": "code",
   "execution_count": 129,
   "id": "eb53868c-fa61-4aa0-965f-821167dd4e3e",
   "metadata": {},
   "outputs": [],
   "source": [
    "URL = 'https://korean.visitkorea.or.kr/search/search_list.do?keyword='+search\n",
    "\n",
    "driver = webdriver.Chrome(options=options)\n",
    "driver.get(URL)\n",
    "time.sleep(3)"
   ]
  },
  {
   "cell_type": "code",
   "execution_count": null,
   "id": "7b147757-3270-497d-be0e-f758c6282f7a",
   "metadata": {},
   "outputs": [],
   "source": []
  },
  {
   "cell_type": "code",
   "execution_count": 119,
   "id": "ddaafb1e-8004-4a31-8ade-feaf014c035c",
   "metadata": {},
   "outputs": [],
   "source": [
    "# 여행기사 더보기 클릭\n",
    "# driver.find_element(By.CSS_SELECTOR, \".more_view\").click()\n",
    "driver.find_element(By.CSS_SELECTOR, \"#s_recommend > .more_view > a\").click()"
   ]
  },
  {
   "cell_type": "code",
   "execution_count": 120,
   "id": "3dbb83b7-936d-49ef-aa45-2bd3aa26a70e",
   "metadata": {},
   "outputs": [
    {
     "data": {
      "text/plain": [
       "''"
      ]
     },
     "execution_count": 120,
     "metadata": {},
     "output_type": "execute_result"
    }
   ],
   "source": [
    "result = driver.find_elements(By.CSS_SELECTOR, '.tit a')\n",
    "result[0].text"
   ]
  },
  {
   "cell_type": "code",
   "execution_count": 121,
   "id": "473e8d42-b348-457d-bf54-66ba3dc3689e",
   "metadata": {},
   "outputs": [],
   "source": [
    "a = driver.find_element(By.XPATH, '//*[@id=\"search_result\"]/ul/li[1]/div[1]/div[1]/a')\n"
   ]
  },
  {
   "cell_type": "code",
   "execution_count": 122,
   "id": "f0527d5e-5ef1-4e11-8009-59c68920af26",
   "metadata": {},
   "outputs": [
    {
     "data": {
      "text/plain": [
       "'[디어먼데이 경주] 고즈넉한 경주의 한옥 워케이션'"
      ]
     },
     "execution_count": 122,
     "metadata": {},
     "output_type": "execute_result"
    }
   ],
   "source": [
    "a.text\n"
   ]
  },
  {
   "cell_type": "code",
   "execution_count": 123,
   "id": "3aabdde6-ae4d-4ada-89cd-64acbb87a54a",
   "metadata": {},
   "outputs": [
    {
     "data": {
      "text/plain": [
       "(10, '[디어먼데이 경주] 고즈넉한 경주의 한옥 워케이션', '경주 여행, 기차 타고 떠나는 벚꽃 여행 코스')"
      ]
     },
     "execution_count": 123,
     "metadata": {},
     "output_type": "execute_result"
    }
   ],
   "source": [
    "tit_xpath = '//*[@id=\"search_result\"]/ul/li[*]/div[1]/div[1]/a'\n",
    "result = driver.find_elements(By.XPATH, tit_xpath)\n",
    "len(result), result[0].text, result[1].text"
   ]
  },
  {
   "cell_type": "code",
   "execution_count": 124,
   "id": "22a0780c-3926-44ea-a6ec-cd7f1c5f701c",
   "metadata": {
    "scrolled": true
   },
   "outputs": [
    {
     "name": "stdout",
     "output_type": "stream",
     "text": [
      "1 [디어먼데이 경주] 고즈넉한 경주의 한옥 워케이션\n",
      "2 경주 여행, 기차 타고 떠나는 벚꽃 여행 코스\n",
      "3 경북 여행, 나만 알고 싶은 경주 가을 단풍 명소 4\n",
      "4 음악과 떠나는 시간 여행, 경주 한국대중음악박물관\n",
      "5 경주 여행, 아이와 함께 가면 좋은 실내 여행지 5\n",
      "6 [경주] 꽃단풍 곱게 물든 경주는 지금 안온한 가을! 리버틴 호텔 경주\n",
      "7 [경주 여행] 자전거 타고 가는 신라 역사 여행\n",
      "8 경주 여행, 알차게 즐기는 1박2일 코스\n",
      "9 천년고도 꽃길을 거닐다 – 경주\n",
      "10 다시 쓰는 수학여행기, 경주 불국사와 석굴암\n"
     ]
    }
   ],
   "source": [
    "for i, title in enumerate(result, 1):\n",
    "#     print(i, title.text)\n",
    "    print(i, title.text.replace('\\n', ''))"
   ]
  },
  {
   "cell_type": "code",
   "execution_count": null,
   "id": "00e2768a-b908-4ec1-a1f3-0625a00a7a7b",
   "metadata": {},
   "outputs": [],
   "source": []
  },
  {
   "cell_type": "code",
   "execution_count": 125,
   "id": "b2d75b6e-35fd-4d8b-be63-a7f1de048d1f",
   "metadata": {},
   "outputs": [
    {
     "name": "stdin",
     "output_type": "stream",
     "text": [
      "크롤링 할 건수는 몇건입니까?:  60\n"
     ]
    },
    {
     "name": "stdout",
     "output_type": "stream",
     "text": [
      "6\n"
     ]
    }
   ],
   "source": [
    "cnt = int(input('크롤링 할 건수는 몇건입니까?: '))\n",
    "page_cnt = math.ceil(cnt / 10) # 크롤링 할 전체 페이지 수 (올림)\n",
    "print(page_cnt)"
   ]
  },
  {
   "cell_type": "code",
   "execution_count": 128,
   "id": "7c689463-e21c-4d07-9fbe-05443642285e",
   "metadata": {},
   "outputs": [
    {
     "name": "stdout",
     "output_type": "stream",
     "text": [
      "========= 1 페이지 작업 =========\n",
      "1 [경주] 미드나잇 인 경주, 휴원 민박\n",
      "2 [경주] 경주의 봄을 만나기 좋은 숙소 4\n",
      "3 벚꽃이 가득할 그날을 기다리며, 경주 벚꽃 명소 답사여행\n",
      "4 [경주] 가만히 앉아만 있어도 좋은 한옥의 멋, 경주한옥1번가\n",
      "5 [경주] '경주가 제일 예쁜 지금' 1박2일 경주 여행 숙소 6\n",
      "6 〈JTBC 핑클 캠핑 클럽〉 촬영지, 낮과 밤이 아름다운 경주\n",
      "7 [경주] 온기 가득한 경주의 따뜻한 방\n",
      "8 태고의 자연 속에서 학문과 사색의 즐거움을 찾다, 경주 옥산서원\n",
      "9 [경주] 따스한 봄을 건너는 경주의 밤\n",
      "10 한국의 가을 맛집, 경주산책\n",
      "========= 2 페이지 작업 =========\n",
      "11 [경주] 경주의 가장 아름다운 계절을 만나다, <앨리 게스트하우스>\n",
      "12 추워도 매력만점*̥❄︎‧˚겨울 경주 인기 스팟 랜선 여행\n",
      "13 [경주] 경주 남산은 신앙심과 예술혼으로 일궈낸 불국토\n",
      "14 [경주] 경주 시내에서 분위기 있게 하룻밤, 리버틴호텔\n",
      "15 [경주] 가족과 함께 경주 여행하고 한옥 마루에서 업무도 척척경주 위연재\n",
      "16 신라 천년의 밤을 만나다!경주 동궁과 월지, 월정교\n",
      "17 아직도 안 가봤어? 인생 사진 스폿이 넘쳐나는 '경주세계문화엑스포대공원'\n",
      "18 [경주] 배산임수의 명당, 경주 천년한옥펜션\n",
      "19 봄을 기다리는 경주 겨울 이야기\n",
      "20 남산에서 '경주를 다 보았다' 당당히 외쳐라\n",
      "========= 3 페이지 작업 =========\n",
      "21 [경주] 미드나잇 인 경주, 휴원 민박\n",
      "22 [경주] 경주의 봄을 만나기 좋은 숙소 4\n",
      "23 벚꽃이 가득할 그날을 기다리며, 경주 벚꽃 명소 답사여행\n",
      "24 [경주] 가만히 앉아만 있어도 좋은 한옥의 멋, 경주한옥1번가\n",
      "25 [경주] '경주가 제일 예쁜 지금' 1박2일 경주 여행 숙소 6\n",
      "26 〈JTBC 핑클 캠핑 클럽〉 촬영지, 낮과 밤이 아름다운 경주\n",
      "27 [경주] 온기 가득한 경주의 따뜻한 방\n",
      "28 태고의 자연 속에서 학문과 사색의 즐거움을 찾다, 경주 옥산서원\n",
      "29 [경주] 따스한 봄을 건너는 경주의 밤\n",
      "30 한국의 가을 맛집, 경주산책\n",
      "========= 4 페이지 작업 =========\n",
      "31 추억이 가득한 경주, 겨울바다가 아름다운 포항으로 떠나는 여행\n",
      "32 천년의 향기가 피어나는 경주 연꽃단지\n",
      "33 도보로 즐기는 신라의 밤, 경주역사유적지구 야경\n",
      "34 [일주일 살아보기 시즌 2] 세 모녀의 경주 살이 브이로그\n",
      "35 [경주] 어디를 가도 좋다! 경주의 방\n",
      "36 가을 정취 물씬한 해국 벽화길, 경주 감포 해국길\n",
      "37 경주 시내.보문호.불국사로 떠나는 벚꽃여행 '봄바람 흩날리면, 함께 달려요!'\n",
      "38 남산에 들어앉은 부처, 경주를 굽어보네\n",
      "39 응답하라 7080! 경주 추억의 달동네\n",
      "40 신나게 놀다 보면 에너지 척척박사가 되는 경주 에너지팜\n",
      "========= 5 페이지 작업 =========\n",
      "41 푸짐한 인심과 먹는 즐거움이 어우러진 경주 성동시장\n",
      "42 추억으로 새겨지는 '경주의 달밤'\n",
      "43 [경주] 꽃향기 은은한 신라의 달밤\n",
      "44 [경주] 안락함이 깃든 방, 경주한옥1번가\n",
      "45 신라 천년 고도, 커피와 사랑에 빠지다 '경주 커피 명소'\n",
      "46 키덜트만을 위한 공간이라고? 노! 아이(Kid)와 어른(Adult), 모두가 행복한 공간 경주 키덜트뮤지엄\n",
      "47 거대 유리온실 안 새들과 열대식물의 낙원, 경주 동궁원\n",
      "48 한복에 반하고, 경주에 반하다\n",
      "49 여름 향기 물씬 풍기는 경주 시티투어 2코스\n",
      "50 현판 뒤에 숨은 황금 돼지를 찾아라! 경주 불국사 복돼지\n",
      "========= 6 페이지 작업 =========\n",
      "51 홀로 걷는 여행의 즐거움, 경주 양남 주상절리 '파도소리길'\n",
      "52 야호(夜好) 경주! 젊은 여행자들의 천년 고도\n",
      "53 경주를 지키고자 하는 마음이 담긴 산성, 경주 명활성\n",
      "54 영화 <경주> 촬영지, 경주를 찾아서\n",
      "55 [경주] 가족여행에 제격, 첫 경주 여행을 위한 엄마의 선택, 신라부티크호텔 프리미엄\n",
      "56 [일주일 살아보기 시즌 2] 넷이 합쳐 계란 열 판! 경주 여행하기 딱 좋은 나이!\n",
      "57 가을밤, 몽돌과 파도 소리 따라 걷는 경주 주상절리 파도소리길\n",
      "58 화려함에 여유로움을 더하다. 경주에서 즐기는 마지막 가을\n",
      "59 선생님과 놉! 발렌타인데이에 연인과 함께 '경주'로 감성 나들이 어때요?\n",
      "60 [경주] 소담하고 정겨운 한옥 펜션, 계림궁\n",
      "========= 작업 완료 =========\n"
     ]
    }
   ],
   "source": [
    "tit_xpath = '//*[@id=\"search_result\"]/ul/li[*]/div[1]/div[1]/a'\n",
    "no = 0\n",
    "\n",
    "for x in range(1, page_cnt+1):\n",
    "    print(f'========= {x} 페이지 작업 =========')\n",
    "    mylist = driver.find_elements(By.XPATH, tit_xpath)\n",
    "    \n",
    "    for item in mylist:\n",
    "        no += 1\n",
    "        if no > cnt:\n",
    "            break\n",
    "        print(no, item.text.replace('\\n', ''))\n",
    "    \n",
    "    if no <= cnt:\n",
    "        a = f'/html/body/div[3]/div/div[1]/div[15]/a[{x+1}]'\n",
    "        driver.find_element(By.XPATH, a).click()\n",
    "        time.sleep(2)\n",
    "\n",
    "print('========= 작업 완료 =========')\n",
    "driver.close()"
   ]
  },
  {
   "cell_type": "code",
   "execution_count": null,
   "id": "a1377135-69b5-42da-a37f-b1e1a561dc8b",
   "metadata": {},
   "outputs": [],
   "source": []
  },
  {
   "cell_type": "code",
   "execution_count": null,
   "id": "18a1fa95-c833-4ba7-9c30-e73d9775246b",
   "metadata": {},
   "outputs": [],
   "source": []
  },
  {
   "cell_type": "code",
   "execution_count": null,
   "id": "0c63b965-39fa-4274-a865-a6c30742a4f6",
   "metadata": {},
   "outputs": [],
   "source": []
  },
  {
   "cell_type": "code",
   "execution_count": null,
   "id": "583df848-5541-489f-9212-2ec1525aa1be",
   "metadata": {},
   "outputs": [],
   "source": []
  },
  {
   "cell_type": "code",
   "execution_count": null,
   "id": "fa103649-d88c-4d8e-a6c9-0b464d1e46b8",
   "metadata": {},
   "outputs": [],
   "source": []
  },
  {
   "cell_type": "code",
   "execution_count": null,
   "id": "afa3131f-d913-45f8-8db5-785bcf00384d",
   "metadata": {},
   "outputs": [],
   "source": []
  },
  {
   "cell_type": "code",
   "execution_count": null,
   "id": "f2cb2834-6bcf-42b8-9e1f-18ec1ffff086",
   "metadata": {},
   "outputs": [],
   "source": []
  },
  {
   "cell_type": "code",
   "execution_count": null,
   "id": "a0ae3cad-6e9b-424e-9ebd-0e3d69b5f1eb",
   "metadata": {},
   "outputs": [],
   "source": []
  },
  {
   "cell_type": "code",
   "execution_count": null,
   "id": "c154159e-a210-495e-ad0c-7afe0a69365d",
   "metadata": {},
   "outputs": [],
   "source": []
  },
  {
   "cell_type": "code",
   "execution_count": null,
   "id": "7413b8b2-f91e-42e8-b14d-dae94fcd2dcc",
   "metadata": {},
   "outputs": [],
   "source": []
  },
  {
   "cell_type": "code",
   "execution_count": null,
   "id": "52212c44-462c-4c97-9f08-e3dd65e1a178",
   "metadata": {},
   "outputs": [],
   "source": []
  },
  {
   "cell_type": "code",
   "execution_count": null,
   "id": "b5eab41d-45c9-43b9-9487-0420524d14bb",
   "metadata": {},
   "outputs": [],
   "source": []
  },
  {
   "cell_type": "code",
   "execution_count": null,
   "id": "2b484cc4-02ba-42bc-84c9-9c100a831cf5",
   "metadata": {},
   "outputs": [],
   "source": []
  },
  {
   "cell_type": "code",
   "execution_count": null,
   "id": "8e44f898-63af-4867-aaeb-88db30b4c4d5",
   "metadata": {},
   "outputs": [],
   "source": []
  },
  {
   "cell_type": "code",
   "execution_count": null,
   "id": "ae74dd10-3867-41df-b95f-ecee818f50c5",
   "metadata": {},
   "outputs": [],
   "source": []
  },
  {
   "cell_type": "code",
   "execution_count": null,
   "id": "918fa465-9bb4-4e30-9462-d5f377eeadfa",
   "metadata": {},
   "outputs": [],
   "source": []
  },
  {
   "cell_type": "code",
   "execution_count": null,
   "id": "f5eb8aea-94d4-4ef8-8d16-931f08fa2999",
   "metadata": {},
   "outputs": [],
   "source": []
  },
  {
   "cell_type": "code",
   "execution_count": null,
   "id": "35d2634f-6a48-457f-90b7-0fbfd39f5fc7",
   "metadata": {},
   "outputs": [],
   "source": []
  },
  {
   "cell_type": "code",
   "execution_count": null,
   "id": "e1a4469a-fcdc-46ed-892e-a97a492b1cfd",
   "metadata": {},
   "outputs": [],
   "source": []
  },
  {
   "cell_type": "code",
   "execution_count": null,
   "id": "2f21312c-775e-4a28-bfe3-7ec886a96af8",
   "metadata": {},
   "outputs": [],
   "source": []
  },
  {
   "cell_type": "code",
   "execution_count": null,
   "id": "bade9478-9ac0-4ef8-86c1-9e35485650b3",
   "metadata": {},
   "outputs": [],
   "source": []
  },
  {
   "cell_type": "code",
   "execution_count": null,
   "id": "934df1fb-eab9-4127-a325-0f033e36f42a",
   "metadata": {},
   "outputs": [],
   "source": []
  },
  {
   "cell_type": "code",
   "execution_count": null,
   "id": "a68482d7-abf7-485a-b70d-dce7cfbcbe00",
   "metadata": {},
   "outputs": [],
   "source": []
  },
  {
   "cell_type": "code",
   "execution_count": null,
   "id": "abf2bb68-9996-4bcf-a38d-c8f2dcd26b54",
   "metadata": {},
   "outputs": [],
   "source": []
  },
  {
   "cell_type": "code",
   "execution_count": null,
   "id": "d9098384-a800-4c0a-b960-fe1aed8c3014",
   "metadata": {},
   "outputs": [],
   "source": []
  },
  {
   "cell_type": "code",
   "execution_count": null,
   "id": "5e2e6568-7b35-461e-af3b-1a5c242af5c3",
   "metadata": {},
   "outputs": [],
   "source": []
  },
  {
   "cell_type": "code",
   "execution_count": null,
   "id": "0eaa42ca-c09b-4206-ad04-e29290325ede",
   "metadata": {},
   "outputs": [],
   "source": []
  },
  {
   "cell_type": "code",
   "execution_count": null,
   "id": "69032760-ee83-4d99-814f-6a7406b39ef7",
   "metadata": {},
   "outputs": [],
   "source": []
  }
 ],
 "metadata": {
  "kernelspec": {
   "display_name": "Python 3 (ipykernel)",
   "language": "python",
   "name": "python3"
  },
  "language_info": {
   "codemirror_mode": {
    "name": "ipython",
    "version": 3
   },
   "file_extension": ".py",
   "mimetype": "text/x-python",
   "name": "python",
   "nbconvert_exporter": "python",
   "pygments_lexer": "ipython3",
   "version": "3.12.0"
  }
 },
 "nbformat": 4,
 "nbformat_minor": 5
}
