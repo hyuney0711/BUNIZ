{
 "cells": [
  {
   "cell_type": "code",
   "execution_count": 104,
   "id": "2ee62b1e-012f-4e13-8c26-ae5ff4e6e0b2",
   "metadata": {},
   "outputs": [],
   "source": [
    "import pandas as pd"
   ]
  },
  {
   "cell_type": "code",
   "execution_count": 105,
   "id": "934e609f-3e39-4a0f-beb1-b8aaff89f485",
   "metadata": {},
   "outputs": [],
   "source": [
    "access_data = pd.read_table('mini.csv',sep=',')"
   ]
  },
  {
   "cell_type": "code",
   "execution_count": 106,
   "id": "46598ae7-6035-4352-bab6-c3ad4583b24a",
   "metadata": {},
   "outputs": [
    {
     "data": {
      "text/html": [
       "<div>\n",
       "<style scoped>\n",
       "    .dataframe tbody tr th:only-of-type {\n",
       "        vertical-align: middle;\n",
       "    }\n",
       "\n",
       "    .dataframe tbody tr th {\n",
       "        vertical-align: top;\n",
       "    }\n",
       "\n",
       "    .dataframe thead th {\n",
       "        text-align: right;\n",
       "    }\n",
       "</style>\n",
       "<table border=\"1\" class=\"dataframe\">\n",
       "  <thead>\n",
       "    <tr style=\"text-align: right;\">\n",
       "      <th></th>\n",
       "      <th>user_id</th>\n",
       "      <th>subscription_duration</th>\n",
       "      <th>recent_login_time</th>\n",
       "      <th>average_login_time</th>\n",
       "      <th>average_time_per_learning_session</th>\n",
       "      <th>monthly_active_learning_days</th>\n",
       "      <th>total_completed_courses</th>\n",
       "      <th>recent_learning_achievement</th>\n",
       "      <th>abandoned_learning_sessions</th>\n",
       "      <th>community_engagement_level</th>\n",
       "      <th>preferred_difficulty_level</th>\n",
       "      <th>subscription_type</th>\n",
       "      <th>customer_inquiry_history</th>\n",
       "      <th>payment_pattern</th>\n",
       "      <th>target</th>\n",
       "    </tr>\n",
       "  </thead>\n",
       "  <tbody>\n",
       "    <tr>\n",
       "      <th>0</th>\n",
       "      <td>b919c29d</td>\n",
       "      <td>13</td>\n",
       "      <td>14</td>\n",
       "      <td>14.946163</td>\n",
       "      <td>8.427187</td>\n",
       "      <td>18</td>\n",
       "      <td>16</td>\n",
       "      <td>68.360455</td>\n",
       "      <td>3</td>\n",
       "      <td>4</td>\n",
       "      <td>Low</td>\n",
       "      <td>Basic</td>\n",
       "      <td>4</td>\n",
       "      <td>5</td>\n",
       "      <td>0</td>\n",
       "    </tr>\n",
       "    <tr>\n",
       "      <th>1</th>\n",
       "      <td>a0a60abb</td>\n",
       "      <td>16</td>\n",
       "      <td>18</td>\n",
       "      <td>18.453224</td>\n",
       "      <td>72.646087</td>\n",
       "      <td>16</td>\n",
       "      <td>13</td>\n",
       "      <td>97.567322</td>\n",
       "      <td>2</td>\n",
       "      <td>3</td>\n",
       "      <td>Medium</td>\n",
       "      <td>Basic</td>\n",
       "      <td>1</td>\n",
       "      <td>6</td>\n",
       "      <td>1</td>\n",
       "    </tr>\n",
       "    <tr>\n",
       "      <th>2</th>\n",
       "      <td>b9f171ae</td>\n",
       "      <td>22</td>\n",
       "      <td>1</td>\n",
       "      <td>16.195228</td>\n",
       "      <td>21.774492</td>\n",
       "      <td>13</td>\n",
       "      <td>14</td>\n",
       "      <td>94.358763</td>\n",
       "      <td>3</td>\n",
       "      <td>4</td>\n",
       "      <td>Medium</td>\n",
       "      <td>Premium</td>\n",
       "      <td>0</td>\n",
       "      <td>7</td>\n",
       "      <td>1</td>\n",
       "    </tr>\n",
       "    <tr>\n",
       "      <th>3</th>\n",
       "      <td>5dc0ba8b</td>\n",
       "      <td>1</td>\n",
       "      <td>19</td>\n",
       "      <td>17.628656</td>\n",
       "      <td>42.659066</td>\n",
       "      <td>19</td>\n",
       "      <td>18</td>\n",
       "      <td>70.153228</td>\n",
       "      <td>0</td>\n",
       "      <td>3</td>\n",
       "      <td>Low</td>\n",
       "      <td>Basic</td>\n",
       "      <td>1</td>\n",
       "      <td>0</td>\n",
       "      <td>1</td>\n",
       "    </tr>\n",
       "    <tr>\n",
       "      <th>4</th>\n",
       "      <td>65c83654</td>\n",
       "      <td>4</td>\n",
       "      <td>5</td>\n",
       "      <td>21.390656</td>\n",
       "      <td>30.744287</td>\n",
       "      <td>19</td>\n",
       "      <td>10</td>\n",
       "      <td>81.917908</td>\n",
       "      <td>2</td>\n",
       "      <td>4</td>\n",
       "      <td>Medium</td>\n",
       "      <td>Basic</td>\n",
       "      <td>3</td>\n",
       "      <td>0</td>\n",
       "      <td>1</td>\n",
       "    </tr>\n",
       "  </tbody>\n",
       "</table>\n",
       "</div>"
      ],
      "text/plain": [
       "    user_id  subscription_duration  recent_login_time  average_login_time  \\\n",
       "0  b919c29d                     13                 14           14.946163   \n",
       "1  a0a60abb                     16                 18           18.453224   \n",
       "2  b9f171ae                     22                  1           16.195228   \n",
       "3  5dc0ba8b                      1                 19           17.628656   \n",
       "4  65c83654                      4                  5           21.390656   \n",
       "\n",
       "   average_time_per_learning_session  monthly_active_learning_days  \\\n",
       "0                           8.427187                            18   \n",
       "1                          72.646087                            16   \n",
       "2                          21.774492                            13   \n",
       "3                          42.659066                            19   \n",
       "4                          30.744287                            19   \n",
       "\n",
       "   total_completed_courses  recent_learning_achievement  \\\n",
       "0                       16                    68.360455   \n",
       "1                       13                    97.567322   \n",
       "2                       14                    94.358763   \n",
       "3                       18                    70.153228   \n",
       "4                       10                    81.917908   \n",
       "\n",
       "   abandoned_learning_sessions  community_engagement_level  \\\n",
       "0                            3                           4   \n",
       "1                            2                           3   \n",
       "2                            3                           4   \n",
       "3                            0                           3   \n",
       "4                            2                           4   \n",
       "\n",
       "  preferred_difficulty_level subscription_type  customer_inquiry_history  \\\n",
       "0                        Low             Basic                         4   \n",
       "1                     Medium             Basic                         1   \n",
       "2                     Medium           Premium                         0   \n",
       "3                        Low             Basic                         1   \n",
       "4                     Medium             Basic                         3   \n",
       "\n",
       "   payment_pattern  target  \n",
       "0                5       0  \n",
       "1                6       1  \n",
       "2                7       1  \n",
       "3                0       1  \n",
       "4                0       1  "
      ]
     },
     "execution_count": 106,
     "metadata": {},
     "output_type": "execute_result"
    }
   ],
   "source": [
    "access_data.head()"
   ]
  },
  {
   "cell_type": "code",
   "execution_count": 107,
   "id": "bc8bbd8f-9816-4936-821a-a7d176430cfc",
   "metadata": {},
   "outputs": [
    {
     "name": "stdout",
     "output_type": "stream",
     "text": [
      "<class 'pandas.core.frame.DataFrame'>\n",
      "RangeIndex: 10000 entries, 0 to 9999\n",
      "Data columns (total 15 columns):\n",
      " #   Column                             Non-Null Count  Dtype  \n",
      "---  ------                             --------------  -----  \n",
      " 0   user_id                            10000 non-null  object \n",
      " 1   subscription_duration              10000 non-null  int64  \n",
      " 2   recent_login_time                  10000 non-null  int64  \n",
      " 3   average_login_time                 10000 non-null  float64\n",
      " 4   average_time_per_learning_session  10000 non-null  float64\n",
      " 5   monthly_active_learning_days       10000 non-null  int64  \n",
      " 6   total_completed_courses            10000 non-null  int64  \n",
      " 7   recent_learning_achievement        10000 non-null  float64\n",
      " 8   abandoned_learning_sessions        10000 non-null  int64  \n",
      " 9   community_engagement_level         10000 non-null  int64  \n",
      " 10  preferred_difficulty_level         10000 non-null  object \n",
      " 11  subscription_type                  10000 non-null  object \n",
      " 12  customer_inquiry_history           10000 non-null  int64  \n",
      " 13  payment_pattern                    10000 non-null  int64  \n",
      " 14  target                             10000 non-null  int64  \n",
      "dtypes: float64(3), int64(9), object(3)\n",
      "memory usage: 1.1+ MB\n"
     ]
    }
   ],
   "source": [
    "access_data.info()"
   ]
  },
  {
   "cell_type": "code",
   "execution_count": 108,
   "id": "8d84bbd3-9500-467d-a670-7aa86e871468",
   "metadata": {},
   "outputs": [
    {
     "data": {
      "text/html": [
       "<div>\n",
       "<style scoped>\n",
       "    .dataframe tbody tr th:only-of-type {\n",
       "        vertical-align: middle;\n",
       "    }\n",
       "\n",
       "    .dataframe tbody tr th {\n",
       "        vertical-align: top;\n",
       "    }\n",
       "\n",
       "    .dataframe thead th {\n",
       "        text-align: right;\n",
       "    }\n",
       "</style>\n",
       "<table border=\"1\" class=\"dataframe\">\n",
       "  <thead>\n",
       "    <tr style=\"text-align: right;\">\n",
       "      <th></th>\n",
       "      <th>subscription_duration</th>\n",
       "      <th>recent_login_time</th>\n",
       "      <th>average_login_time</th>\n",
       "      <th>average_time_per_learning_session</th>\n",
       "      <th>monthly_active_learning_days</th>\n",
       "      <th>total_completed_courses</th>\n",
       "      <th>recent_learning_achievement</th>\n",
       "      <th>abandoned_learning_sessions</th>\n",
       "      <th>community_engagement_level</th>\n",
       "      <th>customer_inquiry_history</th>\n",
       "      <th>payment_pattern</th>\n",
       "      <th>target</th>\n",
       "    </tr>\n",
       "  </thead>\n",
       "  <tbody>\n",
       "    <tr>\n",
       "      <th>count</th>\n",
       "      <td>10000.000000</td>\n",
       "      <td>10000.000000</td>\n",
       "      <td>10000.000000</td>\n",
       "      <td>10000.000000</td>\n",
       "      <td>10000.000000</td>\n",
       "      <td>10000.000000</td>\n",
       "      <td>10000.000000</td>\n",
       "      <td>10000.000000</td>\n",
       "      <td>10000.000000</td>\n",
       "      <td>10000.000000</td>\n",
       "      <td>10000.000000</td>\n",
       "      <td>10000.000000</td>\n",
       "    </tr>\n",
       "    <tr>\n",
       "      <th>mean</th>\n",
       "      <td>11.897400</td>\n",
       "      <td>15.013200</td>\n",
       "      <td>14.994076</td>\n",
       "      <td>54.917720</td>\n",
       "      <td>12.545400</td>\n",
       "      <td>12.227500</td>\n",
       "      <td>75.029513</td>\n",
       "      <td>3.043600</td>\n",
       "      <td>3.886100</td>\n",
       "      <td>2.010500</td>\n",
       "      <td>3.502900</td>\n",
       "      <td>0.619900</td>\n",
       "    </tr>\n",
       "    <tr>\n",
       "      <th>std</th>\n",
       "      <td>6.600896</td>\n",
       "      <td>8.362573</td>\n",
       "      <td>3.001869</td>\n",
       "      <td>56.024310</td>\n",
       "      <td>6.932239</td>\n",
       "      <td>3.634125</td>\n",
       "      <td>9.968529</td>\n",
       "      <td>1.755052</td>\n",
       "      <td>1.262175</td>\n",
       "      <td>1.420983</td>\n",
       "      <td>2.311261</td>\n",
       "      <td>0.485435</td>\n",
       "    </tr>\n",
       "    <tr>\n",
       "      <th>min</th>\n",
       "      <td>1.000000</td>\n",
       "      <td>1.000000</td>\n",
       "      <td>2.366189</td>\n",
       "      <td>0.011515</td>\n",
       "      <td>1.000000</td>\n",
       "      <td>1.000000</td>\n",
       "      <td>35.941755</td>\n",
       "      <td>0.000000</td>\n",
       "      <td>1.000000</td>\n",
       "      <td>0.000000</td>\n",
       "      <td>0.000000</td>\n",
       "      <td>0.000000</td>\n",
       "    </tr>\n",
       "    <tr>\n",
       "      <th>25%</th>\n",
       "      <td>6.000000</td>\n",
       "      <td>8.000000</td>\n",
       "      <td>13.025597</td>\n",
       "      <td>15.276611</td>\n",
       "      <td>7.000000</td>\n",
       "      <td>10.000000</td>\n",
       "      <td>68.278054</td>\n",
       "      <td>2.000000</td>\n",
       "      <td>3.000000</td>\n",
       "      <td>1.000000</td>\n",
       "      <td>1.000000</td>\n",
       "      <td>0.000000</td>\n",
       "    </tr>\n",
       "    <tr>\n",
       "      <th>50%</th>\n",
       "      <td>12.000000</td>\n",
       "      <td>15.000000</td>\n",
       "      <td>14.979228</td>\n",
       "      <td>37.578818</td>\n",
       "      <td>13.000000</td>\n",
       "      <td>12.000000</td>\n",
       "      <td>75.126061</td>\n",
       "      <td>3.000000</td>\n",
       "      <td>4.000000</td>\n",
       "      <td>2.000000</td>\n",
       "      <td>4.000000</td>\n",
       "      <td>1.000000</td>\n",
       "    </tr>\n",
       "    <tr>\n",
       "      <th>75%</th>\n",
       "      <td>18.000000</td>\n",
       "      <td>22.000000</td>\n",
       "      <td>16.995340</td>\n",
       "      <td>75.584200</td>\n",
       "      <td>19.000000</td>\n",
       "      <td>15.000000</td>\n",
       "      <td>81.718976</td>\n",
       "      <td>4.000000</td>\n",
       "      <td>5.000000</td>\n",
       "      <td>3.000000</td>\n",
       "      <td>6.000000</td>\n",
       "      <td>1.000000</td>\n",
       "    </tr>\n",
       "    <tr>\n",
       "      <th>max</th>\n",
       "      <td>23.000000</td>\n",
       "      <td>29.000000</td>\n",
       "      <td>26.998490</td>\n",
       "      <td>503.372616</td>\n",
       "      <td>24.000000</td>\n",
       "      <td>27.000000</td>\n",
       "      <td>112.643828</td>\n",
       "      <td>12.000000</td>\n",
       "      <td>5.000000</td>\n",
       "      <td>10.000000</td>\n",
       "      <td>7.000000</td>\n",
       "      <td>1.000000</td>\n",
       "    </tr>\n",
       "  </tbody>\n",
       "</table>\n",
       "</div>"
      ],
      "text/plain": [
       "       subscription_duration  recent_login_time  average_login_time  \\\n",
       "count           10000.000000       10000.000000        10000.000000   \n",
       "mean               11.897400          15.013200           14.994076   \n",
       "std                 6.600896           8.362573            3.001869   \n",
       "min                 1.000000           1.000000            2.366189   \n",
       "25%                 6.000000           8.000000           13.025597   \n",
       "50%                12.000000          15.000000           14.979228   \n",
       "75%                18.000000          22.000000           16.995340   \n",
       "max                23.000000          29.000000           26.998490   \n",
       "\n",
       "       average_time_per_learning_session  monthly_active_learning_days  \\\n",
       "count                       10000.000000                  10000.000000   \n",
       "mean                           54.917720                     12.545400   \n",
       "std                            56.024310                      6.932239   \n",
       "min                             0.011515                      1.000000   \n",
       "25%                            15.276611                      7.000000   \n",
       "50%                            37.578818                     13.000000   \n",
       "75%                            75.584200                     19.000000   \n",
       "max                           503.372616                     24.000000   \n",
       "\n",
       "       total_completed_courses  recent_learning_achievement  \\\n",
       "count             10000.000000                 10000.000000   \n",
       "mean                 12.227500                    75.029513   \n",
       "std                   3.634125                     9.968529   \n",
       "min                   1.000000                    35.941755   \n",
       "25%                  10.000000                    68.278054   \n",
       "50%                  12.000000                    75.126061   \n",
       "75%                  15.000000                    81.718976   \n",
       "max                  27.000000                   112.643828   \n",
       "\n",
       "       abandoned_learning_sessions  community_engagement_level  \\\n",
       "count                 10000.000000                10000.000000   \n",
       "mean                      3.043600                    3.886100   \n",
       "std                       1.755052                    1.262175   \n",
       "min                       0.000000                    1.000000   \n",
       "25%                       2.000000                    3.000000   \n",
       "50%                       3.000000                    4.000000   \n",
       "75%                       4.000000                    5.000000   \n",
       "max                      12.000000                    5.000000   \n",
       "\n",
       "       customer_inquiry_history  payment_pattern        target  \n",
       "count              10000.000000     10000.000000  10000.000000  \n",
       "mean                   2.010500         3.502900      0.619900  \n",
       "std                    1.420983         2.311261      0.485435  \n",
       "min                    0.000000         0.000000      0.000000  \n",
       "25%                    1.000000         1.000000      0.000000  \n",
       "50%                    2.000000         4.000000      1.000000  \n",
       "75%                    3.000000         6.000000      1.000000  \n",
       "max                   10.000000         7.000000      1.000000  "
      ]
     },
     "execution_count": 108,
     "metadata": {},
     "output_type": "execute_result"
    }
   ],
   "source": [
    "access_data.describe()"
   ]
  },
  {
   "cell_type": "code",
   "execution_count": null,
   "id": "32a80da7-086a-46f0-93aa-fae84048bdfb",
   "metadata": {},
   "outputs": [],
   "source": []
  },
  {
   "cell_type": "code",
   "execution_count": 18,
   "id": "33b5560f-74aa-4533-8ba7-c18ae196fbb4",
   "metadata": {},
   "outputs": [],
   "source": [
    "import pandas as pd"
   ]
  },
  {
   "cell_type": "code",
   "execution_count": 19,
   "id": "d8ca2255-55df-4405-8bf2-e4631479ab0b",
   "metadata": {},
   "outputs": [],
   "source": [
    "# 선호 난이도가 'High'이고, target이 0이며 '완료한 총 코스 수'가 10개 이하인 회원 추출\n",
    "df_filtered = data[(data['preferred_difficulty_level'] == 'High') & \n",
    "                   (data['target'] == 0) & \n",
    "                   (data['total_completed_courses'] <= 10)]\n"
   ]
  },
  {
   "cell_type": "code",
   "execution_count": 20,
   "id": "5a73cfdb-d175-48a8-bd54-dc197af95a0f",
   "metadata": {},
   "outputs": [],
   "source": [
    "# 해당 사용자들의 user_id 목록 출력\n",
    "user_ids_filtered = df_filtered['user_id']"
   ]
  },
  {
   "cell_type": "code",
   "execution_count": 21,
   "id": "7441e511-c971-4842-bfa8-7d73b4d6e118",
   "metadata": {},
   "outputs": [
    {
     "name": "stdout",
     "output_type": "stream",
     "text": [
      "       user_id\n",
      "5     b7586b82\n",
      "44    0fe59afd\n",
      "48    3b66e70c\n",
      "51    dd7d5628\n",
      "86    79bd69f9\n",
      "...        ...\n",
      "9729  469f6e4e\n",
      "9754  62df23c1\n",
      "9839  b159da66\n",
      "9898  f61e3865\n",
      "9927  f0464774\n",
      "\n",
      "[316 rows x 1 columns]\n"
     ]
    }
   ],
   "source": [
    "# 결과를 표로 출력\n",
    "user_ids_filtered_df = pd.DataFrame(user_ids_filtered, columns=['user_id'])\n",
    "print(user_ids_filtered_df)"
   ]
  },
  {
   "cell_type": "code",
   "execution_count": 39,
   "id": "df4c2724-addb-4edc-8740-626aff719069",
   "metadata": {},
   "outputs": [
    {
     "name": "stdout",
     "output_type": "stream",
     "text": [
      "선호 난이도가 'High'이고, target이 0이며 '완료한 총 코스 수'가 10개 이하인 회원의 수: 316명\n"
     ]
    }
   ],
   "source": [
    "# 해당 사용자들의 수 확인\n",
    "num_users_filtered = len(user_ids_filtered)\n",
    "print(f\"선호 난이도가 'High'이고, target이 0이며 '완료한 총 코스 수'가 10개 이하인 회원의 수: {num_users_filtered}명\")"
   ]
  },
  {
   "cell_type": "code",
   "execution_count": 40,
   "id": "7c405f5f-bbcf-479e-853a-fa0294278507",
   "metadata": {},
   "outputs": [
    {
     "name": "stdout",
     "output_type": "stream",
     "text": [
      "\n",
      "CSV 파일 'high_difficulty_low_completion.csv'에 결과가 저장되었습니다.\n"
     ]
    }
   ],
   "source": [
    "# CSV 파일로 저장 (파일명 줄임)\n",
    "csv_filename = 'high_difficulty_low_completion.csv'\n",
    "df_filtered.to_csv(csv_filename, index=False)\n",
    "print(f\"\\nCSV 파일 '{csv_filename}'에 결과가 저장되었습니다.\")"
   ]
  },
  {
   "cell_type": "code",
   "execution_count": null,
   "id": "bb66ddfa-0c79-4acd-8b8f-64d0fc4ee6f4",
   "metadata": {},
   "outputs": [],
   "source": []
  },
  {
   "cell_type": "code",
   "execution_count": null,
   "id": "da0c8a39-59d6-4787-b163-789161a74242",
   "metadata": {},
   "outputs": [],
   "source": []
  },
  {
   "cell_type": "code",
   "execution_count": 41,
   "id": "f4ac878e-c11f-47d7-96e6-5e378a75a10d",
   "metadata": {},
   "outputs": [],
   "source": [
    "# 선호 난이도가 'Medium'이고, target이 0이며 '완료한 총 코스 수'가 10개 이하인 회원 추출\n",
    "df_filtered2 = data[(data['preferred_difficulty_level'] == 'Medium') & \n",
    "                   (data['target'] == 0) & \n",
    "                   (data['total_completed_courses'] <= 10)]\n"
   ]
  },
  {
   "cell_type": "code",
   "execution_count": 42,
   "id": "6f9b3fc0-a3d1-4e7d-a511-705ed487d713",
   "metadata": {},
   "outputs": [],
   "source": [
    "# 해당 사용자들의 user_id 목록 출력\n",
    "user_ids_filtered2 = df_filtered2['user_id']"
   ]
  },
  {
   "cell_type": "code",
   "execution_count": 43,
   "id": "34c9271e-da75-4b4f-8263-48c1e7a58d5a",
   "metadata": {},
   "outputs": [
    {
     "name": "stdout",
     "output_type": "stream",
     "text": [
      "       user_id\n",
      "11    b8696d56\n",
      "37    5ae7bf2c\n",
      "83    0637e375\n",
      "118   f7be8be7\n",
      "120   8bc1cb9f\n",
      "...        ...\n",
      "9905  73857b96\n",
      "9915  59c3fb3e\n",
      "9950  c6d98b50\n",
      "9957  a6731336\n",
      "9983  f2757504\n",
      "\n",
      "[491 rows x 1 columns]\n"
     ]
    }
   ],
   "source": [
    "# 결과를 표로 출력\n",
    "user_ids_filtered2_df = pd.DataFrame(user_ids_filtered2, columns=['user_id'])\n",
    "print(user_ids_filtered2_df)"
   ]
  },
  {
   "cell_type": "code",
   "execution_count": 44,
   "id": "78012e18-4330-4a86-a48f-404fdba9cbe5",
   "metadata": {},
   "outputs": [
    {
     "name": "stdout",
     "output_type": "stream",
     "text": [
      "선호 난이도가 'Medium'이고, target이 0이며 '완료한 총 코스 수'가 10개 이하인 회원의 수: 491명\n"
     ]
    }
   ],
   "source": [
    "# 해당 사용자들의 수 확인\n",
    "num_users_filtered2 = len(user_ids_filtered2)\n",
    "print(f\"선호 난이도가 'Medium'이고, target이 0이며 '완료한 총 코스 수'가 10개 이하인 회원의 수: {num_users_filtered2}명\")"
   ]
  },
  {
   "cell_type": "code",
   "execution_count": 45,
   "id": "6f0dcc30-7605-4958-ad5c-10ed4705b630",
   "metadata": {},
   "outputs": [
    {
     "name": "stdout",
     "output_type": "stream",
     "text": [
      "\n",
      "CSV 파일 'Medium_difficulty_low_completion.csv'에 결과가 저장되었습니다.\n"
     ]
    }
   ],
   "source": [
    "# CSV 파일로 저장 (파일명 줄임)\n",
    "csv_filename = 'Medium_difficulty_low_completion.csv'\n",
    "df_filtered.to_csv(csv_filename, index=False)\n",
    "print(f\"\\nCSV 파일 '{csv_filename}'에 결과가 저장되었습니다.\")"
   ]
  },
  {
   "cell_type": "code",
   "execution_count": null,
   "id": "cf91d9e7-ab27-451f-bc5e-1680119d0bac",
   "metadata": {},
   "outputs": [],
   "source": []
  },
  {
   "cell_type": "code",
   "execution_count": 46,
   "id": "71d6f360-d8de-44a9-9ad8-d0679f2a8fe5",
   "metadata": {},
   "outputs": [],
   "source": [
    "# 선호 난이도가 'Low'이고, target이 0이며 '완료한 총 코스 수'가 10개 이하인 회원 추출\n",
    "df_filtered3 = data[(data['preferred_difficulty_level'] == 'Low') & \n",
    "                   (data['target'] == 0) & \n",
    "                   (data['total_completed_courses'] <= 10)]\n"
   ]
  },
  {
   "cell_type": "code",
   "execution_count": 47,
   "id": "b6189a12-b7a1-4196-b9c2-74f8c0c257f2",
   "metadata": {},
   "outputs": [],
   "source": [
    "# 해당 사용자들의 user_id 목록 출력\n",
    "user_ids_filtered3 = df_filtered3['user_id']"
   ]
  },
  {
   "cell_type": "code",
   "execution_count": 48,
   "id": "744d37ec-e1a3-412e-826b-7d23cb65cecd",
   "metadata": {},
   "outputs": [
    {
     "name": "stdout",
     "output_type": "stream",
     "text": [
      "       user_id\n",
      "14    aba89783\n",
      "20    677de4b6\n",
      "46    5838d23e\n",
      "60    567f5265\n",
      "65    64a5481a\n",
      "...        ...\n",
      "9934  080d7436\n",
      "9956  7c701f05\n",
      "9970  62b0c56d\n",
      "9975  1c7e79c3\n",
      "9989  039902b7\n",
      "\n",
      "[416 rows x 1 columns]\n"
     ]
    }
   ],
   "source": [
    "# 결과를 표로 출력\n",
    "user_ids_filtered3_df = pd.DataFrame(user_ids_filtered3, columns=['user_id'])\n",
    "print(user_ids_filtered3_df)"
   ]
  },
  {
   "cell_type": "code",
   "execution_count": 49,
   "id": "864cf94e-18d6-44fc-9196-7c134d2e422b",
   "metadata": {},
   "outputs": [
    {
     "name": "stdout",
     "output_type": "stream",
     "text": [
      "선호 난이도가 'Low'이고, target이 0이며 '완료한 총 코스 수'가 10개 이하인 회원의 수: 416명\n"
     ]
    }
   ],
   "source": [
    "# 해당 사용자들의 수 확인\n",
    "num_users_filtered3 = len(user_ids_filtered3)\n",
    "print(f\"선호 난이도가 'Low'이고, target이 0이며 '완료한 총 코스 수'가 10개 이하인 회원의 수: {num_users_filtered3}명\")"
   ]
  },
  {
   "cell_type": "code",
   "execution_count": 50,
   "id": "5040dfc4-bf67-4b66-8a53-00b8517b3006",
   "metadata": {},
   "outputs": [
    {
     "name": "stdout",
     "output_type": "stream",
     "text": [
      "\n",
      "CSV 파일 'Low_difficulty_low_completion.csv'에 결과가 저장되었습니다.\n"
     ]
    }
   ],
   "source": [
    "# CSV 파일로 저장 (파일명 줄임)\n",
    "csv_filename = 'Low_difficulty_low_completion.csv'\n",
    "df_filtered.to_csv(csv_filename, index=False)\n",
    "print(f\"\\nCSV 파일 '{csv_filename}'에 결과가 저장되었습니다.\")"
   ]
  },
  {
   "cell_type": "code",
   "execution_count": null,
   "id": "f55648c5-cd2b-4890-b2e9-a77dd0dfd5a3",
   "metadata": {},
   "outputs": [],
   "source": []
  },
  {
   "cell_type": "code",
   "execution_count": 57,
   "id": "ca4ccb85-4fe4-4e3e-b8c2-2461f2ea4ead",
   "metadata": {},
   "outputs": [],
   "source": [
    "# 선호 난이도가 'High'이고, target이 0이며 '중단된 학습 세션 수'가 10개 이상인 회원 추출\n",
    "df_filtered4 = data[(data['preferred_difficulty_level'] == 'High') & \n",
    "                   (data['target'] == 0) & \n",
    "                   (data['total_completed_courses'] >= 10)]\n"
   ]
  },
  {
   "cell_type": "code",
   "execution_count": 58,
   "id": "f0589f5f-e7a7-493f-95c7-aafc5bcc8532",
   "metadata": {},
   "outputs": [],
   "source": [
    "# 해당 사용자들의 user_id 목록 출력\n",
    "user_ids_filtered4 = df_filtered4['user_id']"
   ]
  },
  {
   "cell_type": "code",
   "execution_count": 59,
   "id": "18161ee2-e5dc-482d-b4ca-0e91172a902a",
   "metadata": {},
   "outputs": [
    {
     "name": "stdout",
     "output_type": "stream",
     "text": [
      "       user_id\n",
      "10    594da7eb\n",
      "16    d35c46d7\n",
      "53    62aac11b\n",
      "95    3c3496a0\n",
      "103   565504c1\n",
      "...        ...\n",
      "9855  92c970c8\n",
      "9906  3099c5d1\n",
      "9928  52f7a190\n",
      "9935  22e8a056\n",
      "9980  0d22254f\n",
      "\n",
      "[507 rows x 1 columns]\n"
     ]
    }
   ],
   "source": [
    "# 결과를 표로 출력\n",
    "user_ids_filtered4_df = pd.DataFrame(user_ids_filtered4, columns=['user_id'])\n",
    "print(user_ids_filtered4_df)"
   ]
  },
  {
   "cell_type": "code",
   "execution_count": 60,
   "id": "ca36a203-a322-4706-8bed-ce6f9a5a8aa3",
   "metadata": {},
   "outputs": [
    {
     "name": "stdout",
     "output_type": "stream",
     "text": [
      "\n",
      "CSV 파일 'high_difficultyhigh_sessionstop.csv'에 결과가 저장되었습니다.\n"
     ]
    }
   ],
   "source": [
    "# CSV 파일로 저장 (파일명 줄임)\n",
    "csv_filename = 'high_difficulty_\bhigh_sessionstop.csv'\n",
    "df_filtered.to_csv(csv_filename, index=False)\n",
    "print(f\"\\nCSV 파일 '{csv_filename}'에 결과가 저장되었습니다.\")"
   ]
  },
  {
   "cell_type": "code",
   "execution_count": null,
   "id": "b3efbbe8-52a6-40e3-a210-1f8db8eefe45",
   "metadata": {},
   "outputs": [],
   "source": []
  },
  {
   "cell_type": "code",
   "execution_count": 69,
   "id": "562b32bd-c166-4bde-b3d8-2800860910c5",
   "metadata": {},
   "outputs": [],
   "source": [
    "# 선호 난이도가 'Medium'이고, target이 0이며 '중단된 학습 세션 수'가 10개 이상인 회원 추출\n",
    "df_filtered5 = data[(data['preferred_difficulty_level'] == 'Medium') & \n",
    "                   (data['target'] == 0) & \n",
    "                   (data['total_completed_courses'] >= 10)]\n"
   ]
  },
  {
   "cell_type": "code",
   "execution_count": 70,
   "id": "517d67c2-c354-458b-8161-ec4779d7cc5e",
   "metadata": {},
   "outputs": [],
   "source": [
    "# 해당 사용자들의 user_id 목록 출력\n",
    "user_ids_filtered5 = df_filtered5['user_id']"
   ]
  },
  {
   "cell_type": "code",
   "execution_count": 71,
   "id": "63b11300-07df-4b88-8285-ce37779caea7",
   "metadata": {},
   "outputs": [
    {
     "name": "stdout",
     "output_type": "stream",
     "text": [
      "       user_id\n",
      "29    5847745f\n",
      "59    2e3fe5f0\n",
      "92    ce3049e5\n",
      "127   9bfb8c27\n",
      "130   568172c0\n",
      "...        ...\n",
      "9915  59c3fb3e\n",
      "9925  47c21de5\n",
      "9957  a6731336\n",
      "9963  a863d53f\n",
      "9987  ec7013a5\n",
      "\n",
      "[716 rows x 1 columns]\n"
     ]
    }
   ],
   "source": [
    "# 결과를 표로 출력\n",
    "user_ids_filtered5_df = pd.DataFrame(user_ids_filtered5, columns=['user_id'])\n",
    "print(user_ids_filtered5_df)"
   ]
  },
  {
   "cell_type": "code",
   "execution_count": 72,
   "id": "55d50abd-4322-4593-8c35-56fa1c19b29e",
   "metadata": {},
   "outputs": [
    {
     "name": "stdout",
     "output_type": "stream",
     "text": [
      "\n",
      "CSV 파일 'Medium_difficultyhigh_sessionstop.csv'에 결과가 저장되었습니다.\n"
     ]
    }
   ],
   "source": [
    "# CSV 파일로 저장 (파일명 줄임)\n",
    "csv_filename = 'Medium_difficulty_\bhigh_sessionstop.csv'\n",
    "df_filtered.to_csv(csv_filename, index=False)\n",
    "print(f\"\\nCSV 파일 '{csv_filename}'에 결과가 저장되었습니다.\")"
   ]
  },
  {
   "cell_type": "code",
   "execution_count": null,
   "id": "9806020a-3fbb-430d-834e-c880dcdaf5c8",
   "metadata": {},
   "outputs": [],
   "source": []
  },
  {
   "cell_type": "code",
   "execution_count": 73,
   "id": "d832c03d-ffef-45b2-aaa6-55fcb16401c7",
   "metadata": {},
   "outputs": [],
   "source": [
    "# 선호 난이도가 'Low'이고, target이 0이며 '중단된 학습 세션 수'가 10개 이상인 회원 추출\n",
    "df_filtered6 = data[(data['preferred_difficulty_level'] == 'Low') & \n",
    "                   (data['target'] == 0) & \n",
    "                   (data['total_completed_courses'] >= 10)]\n"
   ]
  },
  {
   "cell_type": "code",
   "execution_count": 74,
   "id": "c6fcfdd3-897c-43f9-bbe2-b3918efba5e9",
   "metadata": {},
   "outputs": [],
   "source": [
    "# 해당 사용자들의 user_id 목록 출력\n",
    "user_ids_filtered6 = df_filtered6['user_id']"
   ]
  },
  {
   "cell_type": "code",
   "execution_count": 75,
   "id": "d15679e9-bc47-47f3-a7df-f0d5399f5a88",
   "metadata": {},
   "outputs": [
    {
     "name": "stdout",
     "output_type": "stream",
     "text": [
      "       user_id\n",
      "0     b919c29d\n",
      "15    4716e6cb\n",
      "20    677de4b6\n",
      "21    c85a61b6\n",
      "49    c3ad6bfd\n",
      "...        ...\n",
      "9965  6693766d\n",
      "9966  abc69f47\n",
      "9969  1aad9084\n",
      "9970  62b0c56d\n",
      "9999  e12dcb55\n",
      "\n",
      "[1688 rows x 1 columns]\n"
     ]
    }
   ],
   "source": [
    "# 결과를 표로 출력\n",
    "user_ids_filtered6_df = pd.DataFrame(user_ids_filtered6, columns=['user_id'])\n",
    "print(user_ids_filtered6_df)"
   ]
  },
  {
   "cell_type": "code",
   "execution_count": 76,
   "id": "3913ab5a-98bb-4cf1-ab35-d24b6995c215",
   "metadata": {},
   "outputs": [
    {
     "name": "stdout",
     "output_type": "stream",
     "text": [
      "\n",
      "CSV 파일 'Low_difficultyhigh_sessionstop.csv'에 결과가 저장되었습니다.\n"
     ]
    }
   ],
   "source": [
    "# CSV 파일로 저장 (파일명 줄임)\n",
    "csv_filename = 'Low_difficulty_\bhigh_sessionstop.csv'\n",
    "df_filtered.to_csv(csv_filename, index=False)\n",
    "print(f\"\\nCSV 파일 '{csv_filename}'에 결과가 저장되었습니다.\")"
   ]
  },
  {
   "cell_type": "code",
   "execution_count": null,
   "id": "a550f44c-ec30-4861-93bb-1d4cc1e2ea82",
   "metadata": {},
   "outputs": [],
   "source": []
  },
  {
   "cell_type": "code",
   "execution_count": 88,
   "id": "20d30a8c-72b5-4d48-96cf-831fa45a378d",
   "metadata": {},
   "outputs": [],
   "source": [
    "import pandas as pd\n",
    "\n",
    "# 학습 난이도가 'Low' 또는 'Medium'이면서 '최근 학습 성취도'가 90 이상이면서, target=0인 고객 수 추출\n",
    "df_filtered_levelup = data[((data['preferred_difficulty_level'] == 'Low') | (data['preferred_difficulty_level'] == 'Medium')) & \n",
    "                              (data['recent_learning_achievement'] >= 90) & \n",
    "                              (data['target'] == 0)]\n"
   ]
  },
  {
   "cell_type": "code",
   "execution_count": 89,
   "id": "fab03572-0e45-4145-969c-14ab7172e1ce",
   "metadata": {},
   "outputs": [],
   "source": [
    "\n",
    "# 해당 사용자들의 user_id 목록 출력\n",
    "user_ids_filtered_levelup = df_filtered_levelup['user_id']\n"
   ]
  },
  {
   "cell_type": "code",
   "execution_count": 90,
   "id": "deaeffb5-d8a3-4427-b700-fed1b99556a5",
   "metadata": {},
   "outputs": [
    {
     "name": "stdout",
     "output_type": "stream",
     "text": [
      "       user_id\n",
      "11    b8696d56\n",
      "15    4716e6cb\n",
      "37    5ae7bf2c\n",
      "49    c3ad6bfd\n",
      "333   b0822fbe\n",
      "...        ...\n",
      "9702  30d5ee21\n",
      "9738  7eef94e5\n",
      "9763  15cf9458\n",
      "9933  aefc9064\n",
      "9963  a863d53f\n",
      "\n",
      "[187 rows x 1 columns]\n"
     ]
    }
   ],
   "source": [
    "\n",
    "# 결과를 표로 출력\n",
    "user_ids_filtered_levelup_df = pd.DataFrame(user_ids_filtered_levelup, columns=['user_id'])\n",
    "print(user_ids_filtered_levelup_df)\n",
    "\n"
   ]
  },
  {
   "cell_type": "code",
   "execution_count": 91,
   "id": "fe6cf729-9106-4d78-927b-0122f46a9cbd",
   "metadata": {},
   "outputs": [
    {
     "name": "stdout",
     "output_type": "stream",
     "text": [
      "\n",
      "CSV 파일 'filtered_levelup_users.csv'에 결과가 저장되었습니다.\n"
     ]
    }
   ],
   "source": [
    "\n",
    "# CSV 파일로 저장 (파일명 줄임)\n",
    "csv_filename_filtered_levelup = 'filtered_levelup_users.csv'\n",
    "df_filtered_levelup.to_csv(csv_filename_filtered_levelup, index=False)\n",
    "print(f\"\\nCSV 파일 '{csv_filename_filtered_levelup}'에 결과가 저장되었습니다.\")\n"
   ]
  },
  {
   "cell_type": "code",
   "execution_count": null,
   "id": "1ef07e2f-3f45-4980-9e3e-7921706ebc14",
   "metadata": {},
   "outputs": [],
   "source": []
  },
  {
   "cell_type": "code",
   "execution_count": 128,
   "id": "b665cfcb-d43b-4114-a1d1-ea3110a60201",
   "metadata": {},
   "outputs": [],
   "source": [
    "import pandas as pd\n",
    "\n",
    "\n",
    "# 학습 난이도가 'Medium' 또는 'High'이면서 '최근 학습 성취도'가 50 이하이면서, target=0인 고객 수 추출\n",
    "df_filtered_leveldown = data[((data['preferred_difficulty_level'] == 'Medium') | (data['preferred_difficulty_level'] == 'High')) & \n",
    "                              (data['recent_learning_achievement'] <= 60) & \n",
    "                              (data['target'] == 0)]"
   ]
  },
  {
   "cell_type": "code",
   "execution_count": 129,
   "id": "8a9bd02d-e5ce-4f01-8590-222ec94805dc",
   "metadata": {},
   "outputs": [],
   "source": [
    "\n",
    "# 해당 사용자들의 user_id 목록 출력\n",
    "user_ids_filtered_leveldown = df_filtered_leveldown['user_id']\n"
   ]
  },
  {
   "cell_type": "code",
   "execution_count": 130,
   "id": "ca1f3551-19ba-49b1-9e6d-697625cc15f0",
   "metadata": {},
   "outputs": [
    {
     "name": "stdout",
     "output_type": "stream",
     "text": [
      "       user_id\n",
      "92    ce3049e5\n",
      "160   f3b452f8\n",
      "167   3ea2b92a\n",
      "225   317e87a6\n",
      "251   83cd8bef\n",
      "...        ...\n",
      "9626  aa5e4433\n",
      "9672  d52ca8b6\n",
      "9789  41977101\n",
      "9853  e45735f3\n",
      "9935  22e8a056\n",
      "\n",
      "[131 rows x 1 columns]\n"
     ]
    }
   ],
   "source": [
    "# 결과를 표로 출력\n",
    "user_ids_filtered_leveldown_df = pd.DataFrame(user_ids_filtered_leveldown, columns=['user_id'])\n",
    "print(user_ids_filtered_leveldown_df)"
   ]
  },
  {
   "cell_type": "code",
   "execution_count": 131,
   "id": "d8f07580-4ba6-47af-996a-9e3c395e51ca",
   "metadata": {},
   "outputs": [
    {
     "name": "stdout",
     "output_type": "stream",
     "text": [
      "\n",
      "CSV 파일 'filtered_leveldown_users.csv'에 결과가 저장되었습니다.\n"
     ]
    }
   ],
   "source": [
    "# CSV 파일로 저장 (파일명 줄임)\n",
    "csv_filename_filtered_leveldown = 'filtered_leveldown_users.csv'\n",
    "df_filtered_leveldown.to_csv(csv_filename_filtered_leveldown, index=False)\n",
    "print(f\"\\nCSV 파일 '{csv_filename_filtered_leveldown}'에 결과가 저장되었습니다.\")\n"
   ]
  },
  {
   "cell_type": "code",
   "execution_count": null,
   "id": "db074024-a973-4b3e-a3a1-06b0881ae7d9",
   "metadata": {},
   "outputs": [],
   "source": []
  },
  {
   "cell_type": "code",
   "execution_count": 139,
   "id": "07314660-740e-4df1-94d5-2762d4593b24",
   "metadata": {},
   "outputs": [],
   "source": [
    "# 학습 난이도가 'High'이면서 '최근 학습 성취도'가 80 이상이면서, target=0인 고객 수 추출\n",
    "df_filtered_vip = data[((data['preferred_difficulty_level'] == 'High')) & \n",
    "                              (data['recent_learning_achievement'] >= 80) & \n",
    "                              (data['target'] == 0)]"
   ]
  },
  {
   "cell_type": "code",
   "execution_count": 140,
   "id": "7d827bdd-12cc-4bac-9e3b-bb21a0640da1",
   "metadata": {},
   "outputs": [],
   "source": [
    "# 해당 사용자들의 user_id 목록 출력\n",
    "user_ids_filtered_vip = df_filtered_vip['user_id']"
   ]
  },
  {
   "cell_type": "code",
   "execution_count": 141,
   "id": "8258463b-de37-483a-82ce-80760112e4af",
   "metadata": {},
   "outputs": [
    {
     "name": "stdout",
     "output_type": "stream",
     "text": [
      "       user_id\n",
      "16    d35c46d7\n",
      "48    3b66e70c\n",
      "86    79bd69f9\n",
      "95    3c3496a0\n",
      "121   04814fe0\n",
      "...        ...\n",
      "9712  e4efc9da\n",
      "9790  ed2a1db5\n",
      "9793  77455bc5\n",
      "9906  3099c5d1\n",
      "9928  52f7a190\n",
      "\n",
      "[230 rows x 1 columns]\n"
     ]
    }
   ],
   "source": [
    "# 결과를 표로 출력\n",
    "user_ids_filtered_vip_df = pd.DataFrame(user_ids_filtered_vip, columns=['user_id'])\n",
    "print(user_ids_filtered_vip_df)"
   ]
  },
  {
   "cell_type": "code",
   "execution_count": 142,
   "id": "981d5900-fd5b-4100-9647-1f6abbcc19bb",
   "metadata": {},
   "outputs": [
    {
     "name": "stdout",
     "output_type": "stream",
     "text": [
      "\n",
      "CSV 파일 'filtered_vip_users.csv'에 결과가 저장되었습니다.\n"
     ]
    }
   ],
   "source": [
    "# CSV 파일로 저장 (파일명 줄임)\n",
    "csv_filename_filtered_vip = 'filtered_vip_users.csv'\n",
    "df_filtered_vip.to_csv(csv_filename_filtered_vip, index=False)\n",
    "print(f\"\\nCSV 파일 '{csv_filename_filtered_vip}'에 결과가 저장되었습니다.\")"
   ]
  },
  {
   "cell_type": "code",
   "execution_count": null,
   "id": "3af2ece9-69c0-48e0-a218-8e5b2f3f8ebd",
   "metadata": {},
   "outputs": [],
   "source": []
  },
  {
   "cell_type": "code",
   "execution_count": 147,
   "id": "b7bad500-33af-439c-932d-d1f772d10a81",
   "metadata": {},
   "outputs": [],
   "source": [
    "# 학습 난이도가 'Low'이면서 '최근 학습 성취도'가 60 이하이면서, target=0인 고객 수 추출\n",
    "df_filtered_cheerup = data[((data['preferred_difficulty_level'] == 'Low')) & \n",
    "                              (data['recent_learning_achievement'] <= 60) & \n",
    "                              (data['target'] == 0)]"
   ]
  },
  {
   "cell_type": "code",
   "execution_count": 148,
   "id": "00ae5ecb-a04a-49d4-a9d4-8aae7e62eb8c",
   "metadata": {},
   "outputs": [],
   "source": [
    "# 해당 사용자들의 user_id 목록 출력\n",
    "user_ids_filtered_cheerup = df_filtered_cheerup['user_id']"
   ]
  },
  {
   "cell_type": "code",
   "execution_count": 149,
   "id": "13501f5e-43f8-4adb-947b-ae535938dae6",
   "metadata": {},
   "outputs": [
    {
     "name": "stdout",
     "output_type": "stream",
     "text": [
      "       user_id\n",
      "88    0829d342\n",
      "356   c1f83bde\n",
      "370   74decf6c\n",
      "718   016257c4\n",
      "881   6b4b6a4f\n",
      "...        ...\n",
      "9765  caa7468d\n",
      "9880  b165b908\n",
      "9891  68b8c39f\n",
      "9970  62b0c56d\n",
      "9989  039902b7\n",
      "\n",
      "[122 rows x 1 columns]\n"
     ]
    }
   ],
   "source": [
    "# 결과를 표로 출력\n",
    "user_ids_filtered_cheerup_df = pd.DataFrame(user_ids_filtered_cheerup, columns=['user_id'])\n",
    "print(user_ids_filtered_cheerup_df)"
   ]
  },
  {
   "cell_type": "code",
   "execution_count": 150,
   "id": "28ce0b2f-992c-45ff-bdc1-989f64246d42",
   "metadata": {},
   "outputs": [
    {
     "name": "stdout",
     "output_type": "stream",
     "text": [
      "\n",
      "CSV 파일 'filtered_cheerup_users.csv'에 결과가 저장되었습니다.\n"
     ]
    }
   ],
   "source": [
    "# CSV 파일로 저장 (파일명 줄임)\n",
    "csv_filename_filtered_cheerup = 'filtered_cheerup_users.csv'\n",
    "df_filtered_cheerup.to_csv(csv_filename_filtered_cheerup, index=False)\n",
    "print(f\"\\nCSV 파일 '{csv_filename_filtered_cheerup}'에 결과가 저장되었습니다.\")"
   ]
  },
  {
   "cell_type": "code",
   "execution_count": null,
   "id": "dfc6a71f-30d3-4150-9fec-887ffc73fe74",
   "metadata": {},
   "outputs": [],
   "source": []
  },
  {
   "cell_type": "code",
   "execution_count": null,
   "id": "66b6183d-5b9c-4b56-a05d-3078c06dc5a8",
   "metadata": {},
   "outputs": [],
   "source": []
  },
  {
   "cell_type": "code",
   "execution_count": null,
   "id": "64630b3e-ff4a-49fd-abd7-3bcc46c7979a",
   "metadata": {},
   "outputs": [],
   "source": []
  },
  {
   "cell_type": "code",
   "execution_count": null,
   "id": "46930482-2e2b-4f67-8e50-a7d37b8eb81b",
   "metadata": {},
   "outputs": [],
   "source": []
  },
  {
   "cell_type": "code",
   "execution_count": null,
   "id": "8bfd1d98-6825-4364-9200-0a9a73c7ec51",
   "metadata": {},
   "outputs": [],
   "source": []
  },
  {
   "cell_type": "code",
   "execution_count": null,
   "id": "42772bd4-08bf-48b9-9edb-bc30cde0fe89",
   "metadata": {},
   "outputs": [],
   "source": []
  },
  {
   "cell_type": "code",
   "execution_count": 151,
   "id": "7f971d02-6ebd-4645-9baf-beed4533ef77",
   "metadata": {},
   "outputs": [
    {
     "name": "stdout",
     "output_type": "stream",
     "text": [
      "Requirement already satisfied: matplotlib in ./miniforge3/lib/python3.10/site-packages (3.8.2)\n",
      "Requirement already satisfied: contourpy>=1.0.1 in ./miniforge3/lib/python3.10/site-packages (from matplotlib) (1.2.0)\n",
      "Requirement already satisfied: cycler>=0.10 in ./miniforge3/lib/python3.10/site-packages (from matplotlib) (0.12.1)\n",
      "Requirement already satisfied: fonttools>=4.22.0 in ./miniforge3/lib/python3.10/site-packages (from matplotlib) (4.47.0)\n",
      "Requirement already satisfied: kiwisolver>=1.3.1 in ./miniforge3/lib/python3.10/site-packages (from matplotlib) (1.4.5)\n",
      "Requirement already satisfied: numpy<2,>=1.21 in ./miniforge3/lib/python3.10/site-packages (from matplotlib) (1.26.2)\n",
      "Requirement already satisfied: packaging>=20.0 in ./miniforge3/lib/python3.10/site-packages (from matplotlib) (23.1)\n",
      "Requirement already satisfied: pillow>=8 in ./miniforge3/lib/python3.10/site-packages (from matplotlib) (10.1.0)\n",
      "Requirement already satisfied: pyparsing>=2.3.1 in ./miniforge3/lib/python3.10/site-packages (from matplotlib) (3.1.1)\n",
      "Requirement already satisfied: python-dateutil>=2.7 in ./miniforge3/lib/python3.10/site-packages (from matplotlib) (2.8.2)\n",
      "Requirement already satisfied: six>=1.5 in ./miniforge3/lib/python3.10/site-packages (from python-dateutil>=2.7->matplotlib) (1.16.0)\n",
      "Note: you may need to restart the kernel to use updated packages.\n"
     ]
    }
   ],
   "source": [
    "pip install matplotlib"
   ]
  },
  {
   "cell_type": "code",
   "execution_count": 152,
   "id": "9fb0a746-46ef-4008-b535-dda652f6bb18",
   "metadata": {},
   "outputs": [
    {
     "name": "stdout",
     "output_type": "stream",
     "text": [
      "Requirement already satisfied: seaborn in ./miniforge3/lib/python3.10/site-packages (0.13.0)\n",
      "Requirement already satisfied: numpy!=1.24.0,>=1.20 in ./miniforge3/lib/python3.10/site-packages (from seaborn) (1.26.2)\n",
      "Requirement already satisfied: pandas>=1.2 in ./miniforge3/lib/python3.10/site-packages (from seaborn) (2.1.4)\n",
      "Requirement already satisfied: matplotlib!=3.6.1,>=3.3 in ./miniforge3/lib/python3.10/site-packages (from seaborn) (3.8.2)\n",
      "Requirement already satisfied: contourpy>=1.0.1 in ./miniforge3/lib/python3.10/site-packages (from matplotlib!=3.6.1,>=3.3->seaborn) (1.2.0)\n",
      "Requirement already satisfied: cycler>=0.10 in ./miniforge3/lib/python3.10/site-packages (from matplotlib!=3.6.1,>=3.3->seaborn) (0.12.1)\n",
      "Requirement already satisfied: fonttools>=4.22.0 in ./miniforge3/lib/python3.10/site-packages (from matplotlib!=3.6.1,>=3.3->seaborn) (4.47.0)\n",
      "Requirement already satisfied: kiwisolver>=1.3.1 in ./miniforge3/lib/python3.10/site-packages (from matplotlib!=3.6.1,>=3.3->seaborn) (1.4.5)\n",
      "Requirement already satisfied: packaging>=20.0 in ./miniforge3/lib/python3.10/site-packages (from matplotlib!=3.6.1,>=3.3->seaborn) (23.1)\n",
      "Requirement already satisfied: pillow>=8 in ./miniforge3/lib/python3.10/site-packages (from matplotlib!=3.6.1,>=3.3->seaborn) (10.1.0)\n",
      "Requirement already satisfied: pyparsing>=2.3.1 in ./miniforge3/lib/python3.10/site-packages (from matplotlib!=3.6.1,>=3.3->seaborn) (3.1.1)\n",
      "Requirement already satisfied: python-dateutil>=2.7 in ./miniforge3/lib/python3.10/site-packages (from matplotlib!=3.6.1,>=3.3->seaborn) (2.8.2)\n",
      "Requirement already satisfied: pytz>=2020.1 in ./miniforge3/lib/python3.10/site-packages (from pandas>=1.2->seaborn) (2023.3.post1)\n",
      "Requirement already satisfied: tzdata>=2022.1 in ./miniforge3/lib/python3.10/site-packages (from pandas>=1.2->seaborn) (2023.3)\n",
      "Requirement already satisfied: six>=1.5 in ./miniforge3/lib/python3.10/site-packages (from python-dateutil>=2.7->matplotlib!=3.6.1,>=3.3->seaborn) (1.16.0)\n",
      "Note: you may need to restart the kernel to use updated packages.\n"
     ]
    }
   ],
   "source": [
    "pip install seaborn"
   ]
  },
  {
   "cell_type": "code",
   "execution_count": 153,
   "id": "2bbe5fbf-a247-4565-889d-d725bacb0528",
   "metadata": {},
   "outputs": [],
   "source": [
    "import seaborn as sns\n",
    "import matplotlib.pyplot as plt\n",
    "import koreanize_matplotlib"
   ]
  },
  {
   "cell_type": "code",
   "execution_count": null,
   "id": "36142a90-c5e7-4fdf-b0f0-d31bca8a39aa",
   "metadata": {},
   "outputs": [],
   "source": []
  },
  {
   "cell_type": "code",
   "execution_count": null,
   "id": "8f63a4c9-93ba-42fd-b2ce-2d74c5319801",
   "metadata": {},
   "outputs": [],
   "source": []
  },
  {
   "cell_type": "code",
   "execution_count": 154,
   "id": "0479a385-fd40-4889-951e-bc5b082e3f6c",
   "metadata": {},
   "outputs": [
    {
     "data": {
      "image/png": "[encoded data removed]",
      "text/plain": [
       "<Figure size 640x480 with 1 Axes>"
      ]
     },
     "metadata": {},
     "output_type": "display_data"
    }
   ],
   "source": [
    "sns.scatterplot(x='preferred_difficulty_level', y='total_completed_courses', data=data)\n",
    "plt.title('선호 난이도와 강의 완료도의 상관관계')\n",
    "plt.xlabel('선호 난이도')\n",
    "plt.ylabel('완료한 총 코스 수')\n",
    "plt.show()\n"
   ]
  },
  {
   "cell_type": "code",
   "execution_count": null,
   "id": "2aca0b5d-f7d4-4917-ada8-c6b7fcaad6eb",
   "metadata": {},
   "outputs": [],
   "source": []
  },
  {
   "cell_type": "code",
   "execution_count": 155,
   "id": "9d84f2dc-2abf-4841-9861-1f525c4125ea",
   "metadata": {},
   "outputs": [
    {
     "data": {
      "image/png": "[encoded data removed]",
      "text/plain": [
       "<Figure size 640x480 with 1 Axes>"
      ]
     },
     "metadata": {},
     "output_type": "display_data"
    }
   ],
   "source": [
    "sns.scatterplot(x='preferred_difficulty_level', y='abandoned_learning_sessions', data=data)\n",
    "plt.title('선호 난이도와 중단된 학습 세션 수의 상관관계')\n",
    "plt.xlabel('선호 난이도')\n",
    "plt.ylabel('중단된 학습 세션 수')\n",
    "plt.show()\n"
   ]
  },
  {
   "cell_type": "code",
   "execution_count": 156,
   "id": "c460bf7a-441b-415c-ac01-99c7afe8f047",
   "metadata": {},
   "outputs": [
    {
     "data": {
      "image/png": "[encoded data removed]",
      "text/plain": [
       "<Figure size 640x480 with 1 Axes>"
      ]
     },
     "metadata": {},
     "output_type": "display_data"
    }
   ],
   "source": [
    "\n",
    "# 선호하는 난이도와 학습 성취도의 상관관계 시각화\n",
    "sns.scatterplot(x='preferred_difficulty_level', y='recent_learning_achievement', data=data)\n",
    "plt.title('선호하는 난이도와 최근 학습 성취도 간의 상관관계')\n",
    "plt.xlabel(\"선호하는 난이도\")\n",
    "plt.ylabel(\"최근 학습 성취도\")\n",
    "plt.show()"
   ]
  },
  {
   "cell_type": "code",
   "execution_count": null,
   "id": "acc401dd-feb2-4b24-8b25-a9f1ba851b0a",
   "metadata": {},
   "outputs": [],
   "source": []
  },
  {
   "cell_type": "code",
   "execution_count": null,
   "id": "26fe70b8-5b06-4433-8c82-5309269f7966",
   "metadata": {},
   "outputs": [],
   "source": []
  },
  {
   "cell_type": "code",
   "execution_count": null,
   "id": "d1c25ce6-967a-4529-9a9b-5c545aa54719",
   "metadata": {},
   "outputs": [],
   "source": []
  }
 ],
 "metadata": {
  "kernelspec": {
   "display_name": "Python 3 (ipykernel)",
   "language": "python",
   "name": "python3"
  },
  "language_info": {
   "codemirror_mode": {
    "name": "ipython",
    "version": 3
   },
   "file_extension": ".py",
   "mimetype": "text/x-python",
   "name": "python",
   "nbconvert_exporter": "python",
   "pygments_lexer": "ipython3",
   "version": "3.10.12"
  }
 },
 "nbformat": 4,
 "nbformat_minor": 5
}
