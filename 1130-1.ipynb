{
 "cells": [
  {
   "cell_type": "code",
   "execution_count": null,
   "id": "aeef020c",
   "metadata": {},
   "outputs": [],
   "source": [
    "input(\"안내_문구\")"
   ]
  },
  {
   "cell_type": "code",
   "execution_count": null,
   "id": "1cc7c42d",
   "metadata": {},
   "outputs": [],
   "source": [
    ">>> number = input(\"숫자를 입력하세요: \")"
   ]
  },
  {
   "cell_type": "code",
   "execution_count": null,
   "id": "814ddf78",
   "metadata": {},
   "outputs": [],
   "source": [
    ">>> number = input(\"숫자를 입력하세요: \")\n",
    ">>> print(number)"
   ]
  },
  {
   "cell_type": "code",
   "execution_count": null,
   "id": "390efb71",
   "metadata": {},
   "outputs": [],
   "source": [
    ">>> type(number)\n",
    "<class 'str'>"
   ]
  },
  {
   "cell_type": "code",
   "execution_count": null,
   "id": "0d4c9ee7",
   "metadata": {},
   "outputs": [],
   "source": []
  },
  {
   "cell_type": "code",
   "execution_count": null,
   "id": "ace4cc16",
   "metadata": {},
   "outputs": [],
   "source": [
    ">>> a = 123\n",
    ">>> print(a)\n",
    "\n",
    ">>> a = \"Python\"\n",
    ">>> print(a)\n",
    "\n",
    ">>> a = [1, 2, 3]\n",
    ">>> print(a)\n",
    "[1, 2, 3]"
   ]
  },
  {
   "cell_type": "code",
   "execution_count": null,
   "id": "072bb494",
   "metadata": {},
   "outputs": [],
   "source": []
  },
  {
   "cell_type": "code",
   "execution_count": null,
   "id": "e7f8474e",
   "metadata": {},
   "outputs": [],
   "source": []
  }
 ],
 "metadata": {
  "kernelspec": {
   "display_name": "Python 3 (ipykernel)",
   "language": "python",
   "name": "python3"
  },
  "language_info": {
   "codemirror_mode": {
    "name": "ipython",
    "version": 3
   },
   "file_extension": ".py",
   "mimetype": "text/x-python",
   "name": "python",
   "nbconvert_exporter": "python",
   "pygments_lexer": "ipython3",
   "version": "3.11.5"
  }
 },
 "nbformat": 4,
 "nbformat_minor": 5
}
