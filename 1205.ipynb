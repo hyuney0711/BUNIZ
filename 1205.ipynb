{
 "cells": [
  {
   "cell_type": "code",
   "execution_count": 1,
   "id": "a3ba39a5",
   "metadata": {},
   "outputs": [
    {
     "ename": "NameError",
     "evalue": "name 'MoreFourCal' is not defined",
     "output_type": "error",
     "traceback": [
      "\u001b[1;31m---------------------------------------------------------------------------\u001b[0m",
      "\u001b[1;31mNameError\u001b[0m                                 Traceback (most recent call last)",
      "Cell \u001b[1;32mIn[1], line 1\u001b[0m\n\u001b[1;32m----> 1\u001b[0m a \u001b[38;5;241m=\u001b[39m MoreFourCal(\u001b[38;5;241m4\u001b[39m, \u001b[38;5;241m2\u001b[39m)\n\u001b[0;32m      2\u001b[0m a\u001b[38;5;241m.\u001b[39madd()\n\u001b[0;32m      3\u001b[0m \u001b[38;5;241m6\u001b[39m\n",
      "\u001b[1;31mNameError\u001b[0m: name 'MoreFourCal' is not defined"
     ]
    }
   ],
   "source": []
  },
  {
   "cell_type": "code",
   "execution_count": 4,
   "id": "d8bcbf5d",
   "metadata": {},
   "outputs": [],
   "source": [
    "class FourCal:\n",
    "    def __init__(self, first, second):\n",
    "        self.first = first\n",
    "        self.second = second\n",
    "        \n",
    "    def add(self):\n",
    "        result = self.first + self.second\n",
    "        return result\n",
    "    def mul(self):\n",
    "        result = self.first * self.second\n",
    "        return result\n",
    "    def sub(self):\n",
    "        result = self.first - self.second\n",
    "        return result\n",
    "    def div(self):\n",
    "        result = self.first / self.second\n",
    "        return result\n"
   ]
  },
  {
   "cell_type": "code",
   "execution_count": 5,
   "id": "77f63a70",
   "metadata": {},
   "outputs": [
    {
     "ename": "NameError",
     "evalue": "name 'MoreFourCal' is not defined",
     "output_type": "error",
     "traceback": [
      "\u001b[1;31m---------------------------------------------------------------------------\u001b[0m",
      "\u001b[1;31mNameError\u001b[0m                                 Traceback (most recent call last)",
      "Cell \u001b[1;32mIn[5], line 1\u001b[0m\n\u001b[1;32m----> 1\u001b[0m a \u001b[38;5;241m=\u001b[39m MoreFourCal(\u001b[38;5;241m4\u001b[39m, \u001b[38;5;241m2\u001b[39m)\n\u001b[0;32m      2\u001b[0m a\u001b[38;5;241m.\u001b[39madd()\n\u001b[0;32m      3\u001b[0m \u001b[38;5;241m6\u001b[39m\n",
      "\u001b[1;31mNameError\u001b[0m: name 'MoreFourCal' is not defined"
     ]
    }
   ],
   "source": [
    ">>> a = MoreFourCal(4, 2)\n",
    ">>> a.add()\n",
    "6\n",
    ">>> a.mul()\n",
    "8\n",
    ">>> a.sub()\n",
    "2\n",
    ">>> a.div()\n",
    "2"
   ]
  },
  {
   "cell_type": "code",
   "execution_count": 6,
   "id": "ce449c73",
   "metadata": {},
   "outputs": [],
   "source": [
    ">>> class MoreFourCal(FourCal):\n",
    "...     def pow(self):\n",
    "...         result = self.first ** self.second\n",
    "...         return result"
   ]
  },
  {
   "cell_type": "code",
   "execution_count": 7,
   "id": "77d3b061",
   "metadata": {},
   "outputs": [
    {
     "data": {
      "text/plain": [
       "6"
      ]
     },
     "execution_count": 7,
     "metadata": {},
     "output_type": "execute_result"
    }
   ],
   "source": [
    ">>> a = MoreFourCal(4, 2)\n",
    ">>> a.pow()\n",
    "16\n",
    ">>> a.add()\n",
    "6"
   ]
  },
  {
   "cell_type": "code",
   "execution_count": 8,
   "id": "c60a1f62",
   "metadata": {},
   "outputs": [
    {
     "ename": "SyntaxError",
     "evalue": "invalid syntax. Perhaps you forgot a comma? (2352413978.py, line 3)",
     "output_type": "error",
     "traceback": [
      "\u001b[1;36m  Cell \u001b[1;32mIn[8], line 3\u001b[1;36m\u001b[0m\n\u001b[1;33m    Traceback (most recent call last):\u001b[0m\n\u001b[1;37m               ^\u001b[0m\n\u001b[1;31mSyntaxError\u001b[0m\u001b[1;31m:\u001b[0m invalid syntax. Perhaps you forgot a comma?\n"
     ]
    }
   ],
   "source": [
    ">>> a = FourCal(4, 0)\n",
    ">>> a.div()\n",
    "Traceback (most recent call last):\n",
    "  File \"<stdin>\", line 1, in <module>\n",
    "    result = self.first / self.second\n",
    "ZeroDivisionError: division by zero\n"
   ]
  },
  {
   "cell_type": "code",
   "execution_count": 9,
   "id": "eb169f8c",
   "metadata": {},
   "outputs": [],
   "source": [
    ">>> class SafeFourCal(FourCal):\n",
    "...     def div(self):\n",
    "...         if self.second == 0:  # 나누는 값이 0인 경우 0을 리턴하도록 수정\n",
    "...             return 0\n",
    "...         else:\n",
    "...             return self.first / self.second\n"
   ]
  },
  {
   "cell_type": "code",
   "execution_count": 31,
   "id": "cb802ca7",
   "metadata": {},
   "outputs": [
    {
     "data": {
      "text/plain": [
       "0"
      ]
     },
     "execution_count": 31,
     "metadata": {},
     "output_type": "execute_result"
    }
   ],
   "source": [
    ">>> a = SafeFourCal(4, 0)\n",
    ">>> a.div()\n",
    "0\n"
   ]
  },
  {
   "cell_type": "code",
   "execution_count": 30,
   "id": "b34964f2",
   "metadata": {},
   "outputs": [],
   "source": [
    ">>> class Family:\n",
    "...     lastname = \"김\"\n"
   ]
  },
  {
   "cell_type": "code",
   "execution_count": 29,
   "id": "ce48cce1",
   "metadata": {},
   "outputs": [
    {
     "data": {
      "text/plain": [
       "'박'"
      ]
     },
     "execution_count": 29,
     "metadata": {},
     "output_type": "execute_result"
    }
   ],
   "source": [
    ">>> a = Family()\n",
    ">>> b = Family()\n",
    ">>> a.lastname\n",
    "\n",
    ">>> b.lastname\n",
    "\n"
   ]
  },
  {
   "cell_type": "code",
   "execution_count": 28,
   "id": "9a2d64cc",
   "metadata": {},
   "outputs": [
    {
     "data": {
      "text/plain": [
       "'박'"
      ]
     },
     "execution_count": 28,
     "metadata": {},
     "output_type": "execute_result"
    }
   ],
   "source": [
    ">>> Family.lastname = \"박\"\n",
    ">>> a.lastname\n",
    ">>> b.lastname\n"
   ]
  },
  {
   "cell_type": "code",
   "execution_count": 24,
   "id": "57781d27",
   "metadata": {},
   "outputs": [
    {
     "data": {
      "text/plain": [
       "'최'"
      ]
     },
     "execution_count": 24,
     "metadata": {},
     "output_type": "execute_result"
    }
   ],
   "source": [
    ">>> a.lastname = \"최\"\n",
    ">>> a.lastname\n"
   ]
  },
  {
   "cell_type": "code",
   "execution_count": 26,
   "id": "819e1016",
   "metadata": {},
   "outputs": [
    {
     "data": {
      "text/plain": [
       "'박'"
      ]
     },
     "execution_count": 26,
     "metadata": {},
     "output_type": "execute_result"
    }
   ],
   "source": [
    ">>> Family.lastname\n",
    ">>> b.lastname\n"
   ]
  },
  {
   "cell_type": "code",
   "execution_count": null,
   "id": "26d6a6c8",
   "metadata": {},
   "outputs": [],
   "source": []
  },
  {
   "cell_type": "code",
   "execution_count": null,
   "id": "56102803",
   "metadata": {},
   "outputs": [],
   "source": []
  },
  {
   "cell_type": "code",
   "execution_count": null,
   "id": "6bf9b8d2",
   "metadata": {},
   "outputs": [],
   "source": []
  },
  {
   "cell_type": "code",
   "execution_count": null,
   "id": "42b1d8d2",
   "metadata": {},
   "outputs": [],
   "source": []
  },
  {
   "cell_type": "code",
   "execution_count": null,
   "id": "cc26599d",
   "metadata": {},
   "outputs": [],
   "source": []
  }
 ],
 "metadata": {
  "kernelspec": {
   "display_name": "Python 3 (ipykernel)",
   "language": "python",
   "name": "python3"
  },
  "language_info": {
   "codemirror_mode": {
    "name": "ipython",
    "version": 3
   },
   "file_extension": ".py",
   "mimetype": "text/x-python",
   "name": "python",
   "nbconvert_exporter": "python",
   "pygments_lexer": "ipython3",
   "version": "3.11.5"
  }
 },
 "nbformat": 4,
 "nbformat_minor": 5
}
