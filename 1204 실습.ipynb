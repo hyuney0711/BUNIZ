{
 "cells": [
  {
   "cell_type": "code",
   "execution_count": 12,
   "id": "d98c3c89-87c7-4dc5-9144-8c7358fa10d6",
   "metadata": {},
   "outputs": [],
   "source": [
    "# add_data.py\n",
    "f = open(\"/Users/bunnyboyz/Downloads/#AI 부트캠프/workspace/BUNIZ-MAC/BUNIZ-MAC/test.txt\",'a')\n",
    "for i in range(11, 20):\n",
    "    data = \"%d번째 줄입니다.\\n\" % i\n",
    "    f.write(data)\n",
    "f.close()"
   ]
  },
  {
   "cell_type": "code",
   "execution_count": 13,
   "id": "25e8c081-477c-4843-b01f-239aece27b97",
   "metadata": {},
   "outputs": [],
   "source": [
    "f = open(\"foo.txt\", 'w')\n",
    "f.write(\"Life is too short, you need python\")\n",
    "f.close()"
   ]
  },
  {
   "cell_type": "code",
   "execution_count": 14,
   "id": "6d50104e-fc19-4244-809a-529a6b3cbc4c",
   "metadata": {},
   "outputs": [],
   "source": [
    "# file_with.py\n",
    "with open(\"foo.txt\", \"w\") as f:\n",
    "    f.write(\"Life is too short, you need python\")"
   ]
  },
  {
   "cell_type": "code",
   "execution_count": null,
   "id": "e8c8b4f0-4294-46c2-a1cc-b56154c92693",
   "metadata": {},
   "outputs": [],
   "source": []
  },
  {
   "cell_type": "code",
   "execution_count": 15,
   "id": "5051db08-be95-4832-a6ef-2ea93b8feb94",
   "metadata": {},
   "outputs": [
    {
     "name": "stdout",
     "output_type": "stream",
     "text": [
      "3\n",
      "7\n"
     ]
    }
   ],
   "source": [
    "# calculator.py\n",
    "result = 0\n",
    "\n",
    "def add(num):\n",
    "    global result\n",
    "    result += num  # 결괏값(result)에 입력값(num) 더하기\n",
    "    return result  # 결괏값 리턴\n",
    "\n",
    "print(add(3))\n",
    "print(add(4))"
   ]
  },
  {
   "cell_type": "code",
   "execution_count": 16,
   "id": "c2076846-b7d1-48e7-9bc8-ca7181165ec8",
   "metadata": {},
   "outputs": [
    {
     "name": "stdout",
     "output_type": "stream",
     "text": [
      "3\n",
      "7\n",
      "3\n",
      "10\n"
     ]
    }
   ],
   "source": [
    "# calculator2.py\n",
    "result1 = 0\n",
    "result2 = 0\n",
    "\n",
    "def add1(num):  # 계산기1\n",
    "    global result1\n",
    "    result1 += num\n",
    "    return result1\n",
    "\n",
    "def add2(num):  # 계산기2\n",
    "    global result2\n",
    "    result2 += num\n",
    "    return result2\n",
    "\n",
    "print(add1(3))\n",
    "print(add1(4))\n",
    "print(add2(3))\n",
    "print(add2(7))\n"
   ]
  },
  {
   "cell_type": "code",
   "execution_count": 17,
   "id": "1801797b-4d46-4955-bfc3-0e6e8eac6e07",
   "metadata": {},
   "outputs": [
    {
     "name": "stdout",
     "output_type": "stream",
     "text": [
      "3\n",
      "7\n",
      "3\n",
      "10\n"
     ]
    }
   ],
   "source": [
    "# calculator3.py\n",
    "class Calculator:\n",
    "    def __init__(self):\n",
    "        self.result = 0\n",
    "\n",
    "    def add(self, num):\n",
    "        self.result += num\n",
    "        return self.result\n",
    "\n",
    "cal1 = Calculator()\n",
    "cal2 = Calculator()\n",
    "\n",
    "print(cal1.add(3))\n",
    "print(cal1.add(4))\n",
    "print(cal2.add(3))\n",
    "print(cal2.add(7))\n"
   ]
  },
  {
   "cell_type": "code",
   "execution_count": 18,
   "id": "5838e205-5c9e-4631-a920-dee4a359c47b",
   "metadata": {},
   "outputs": [],
   "source": [
    ">>> class Cookie:\n",
    "...     pass\n",
    "...\n",
    ">>>\n"
   ]
  },
  {
   "cell_type": "code",
   "execution_count": 19,
   "id": "b6d02919-9fef-4600-899b-0bb6b09c9415",
   "metadata": {},
   "outputs": [],
   "source": [
    ">>> class FourCal:\n",
    "...     def setdata(self, first, second):\n",
    "...         self.first = first\n",
    "...         self.second = second\n"
   ]
  },
  {
   "cell_type": "code",
   "execution_count": 21,
   "id": "af7fb8e4-62ee-4c30-bc1c-6ee61846ed9a",
   "metadata": {},
   "outputs": [],
   "source": [
    "a = FourCal()\n",
    "a.setdata(4, 2)"
   ]
  },
  {
   "cell_type": "code",
   "execution_count": 23,
   "id": "9a3dbc54-1d6a-4af0-ad78-15a5ffe9c95a",
   "metadata": {},
   "outputs": [],
   "source": [
    ">>> a = FourCal()\n",
    ">>> FourCal.setdata(a, 4, 2)\n"
   ]
  },
  {
   "cell_type": "code",
   "execution_count": 24,
   "id": "74d24a9f-9c00-4d99-8a1e-8eec0349335f",
   "metadata": {},
   "outputs": [],
   "source": [
    ">>> a = FourCal()\n",
    ">>> a.setdata(4, 2)\n"
   ]
  },
  {
   "cell_type": "code",
   "execution_count": 25,
   "id": "ad8cfb04-fabd-4590-9614-bb71f184bfc4",
   "metadata": {},
   "outputs": [],
   "source": [
    "def setdata(self, first, second):\n",
    "    self.first = first\n",
    "    self.second = second\n"
   ]
  },
  {
   "cell_type": "code",
   "execution_count": 26,
   "id": "9663e4c8-2b06-4625-a35d-663a6be86640",
   "metadata": {},
   "outputs": [
    {
     "ename": "NameError",
     "evalue": "name 'self' is not defined",
     "output_type": "error",
     "traceback": [
      "\u001b[0;31m---------------------------------------------------------------------------\u001b[0m",
      "\u001b[0;31mNameError\u001b[0m                                 Traceback (most recent call last)",
      "Cell \u001b[0;32mIn[26], line 1\u001b[0m\n\u001b[0;32m----> 1\u001b[0m \u001b[38;5;28;43mself\u001b[39;49m\u001b[38;5;241m.\u001b[39mfirst \u001b[38;5;241m=\u001b[39m \u001b[38;5;241m4\u001b[39m\n\u001b[1;32m      2\u001b[0m \u001b[38;5;28mself\u001b[39m\u001b[38;5;241m.\u001b[39msecond \u001b[38;5;241m=\u001b[39m \u001b[38;5;241m2\u001b[39m\n",
      "\u001b[0;31mNameError\u001b[0m: name 'self' is not defined"
     ]
    }
   ],
   "source": [
    "self.first = 4\n",
    "self.second = 2"
   ]
  },
  {
   "cell_type": "code",
   "execution_count": 27,
   "id": "6302a793-d95d-4483-becd-019d043f8e92",
   "metadata": {},
   "outputs": [],
   "source": [
    "a.first = 4\n",
    "a.second = 2"
   ]
  },
  {
   "cell_type": "code",
   "execution_count": 30,
   "id": "a5b25904-283c-4d22-8015-4408ed0c314c",
   "metadata": {},
   "outputs": [
    {
     "data": {
      "text/plain": [
       "2"
      ]
     },
     "execution_count": 30,
     "metadata": {},
     "output_type": "execute_result"
    }
   ],
   "source": [
    "a=FourCal()\n",
    "a.setdata(4,2)\n",
    "\n",
    "\n",
    "a.second"
   ]
  },
  {
   "cell_type": "code",
   "execution_count": 31,
   "id": "4f090aab-a29c-42a9-b33f-2c668a3d8a35",
   "metadata": {},
   "outputs": [
    {
     "data": {
      "text/plain": [
       "4"
      ]
     },
     "execution_count": 31,
     "metadata": {},
     "output_type": "execute_result"
    }
   ],
   "source": [
    "a.first\n",
    "\n"
   ]
  },
  {
   "cell_type": "code",
   "execution_count": null,
   "id": "89ae4b55-4030-4b4c-be24-9b6018ffa461",
   "metadata": {},
   "outputs": [],
   "source": []
  },
  {
   "cell_type": "code",
   "execution_count": 32,
   "id": "e5ab5ec6-5319-4320-b7c2-72d443fa9252",
   "metadata": {},
   "outputs": [
    {
     "ename": "AttributeError",
     "evalue": "'FourCal' object has no attribute 'add'",
     "output_type": "error",
     "traceback": [
      "\u001b[0;31m---------------------------------------------------------------------------\u001b[0m",
      "\u001b[0;31mAttributeError\u001b[0m                            Traceback (most recent call last)",
      "Cell \u001b[0;32mIn[32], line 3\u001b[0m\n\u001b[1;32m      1\u001b[0m a \u001b[38;5;241m=\u001b[39m FourCal()\n\u001b[1;32m      2\u001b[0m a\u001b[38;5;241m.\u001b[39msetdata(\u001b[38;5;241m4\u001b[39m, \u001b[38;5;241m2\u001b[39m)\n\u001b[0;32m----> 3\u001b[0m \u001b[43ma\u001b[49m\u001b[38;5;241;43m.\u001b[39;49m\u001b[43madd\u001b[49m()\n\u001b[1;32m      4\u001b[0m \u001b[38;5;241m6\u001b[39m\n",
      "\u001b[0;31mAttributeError\u001b[0m: 'FourCal' object has no attribute 'add'"
     ]
    }
   ],
   "source": [
    ">>> a = FourCal()\n",
    ">>> a.setdata(4, 2)\n",
    ">>> a.add()\n",
    "6\n"
   ]
  },
  {
   "cell_type": "code",
   "execution_count": 43,
   "id": "9940a5e4-fa81-40f6-bee5-29f1cb9181cd",
   "metadata": {},
   "outputs": [
    {
     "name": "stdout",
     "output_type": "stream",
     "text": [
      "6\n"
     ]
    }
   ],
   "source": [
    "class FourCal:\n",
    "    def setdata(self, first, second):\n",
    "        self.first = first\n",
    "        self.second = second\n",
    "    def add(self):\n",
    "        result = self.first + self.second\n",
    "        return result\n",
    "\n",
    "print(cal.add())"
   ]
  },
  {
   "cell_type": "code",
   "execution_count": 34,
   "id": "a1d84cba-8459-45bf-9676-a18b926253fc",
   "metadata": {},
   "outputs": [],
   "source": [
    "a=FourCal()\n",
    "a.setdata(4,2)"
   ]
  },
  {
   "cell_type": "code",
   "execution_count": 37,
   "id": "e302655f-1fdc-4e4b-8cdd-52e8ac73154c",
   "metadata": {},
   "outputs": [
    {
     "name": "stdout",
     "output_type": "stream",
     "text": [
      "6\n"
     ]
    }
   ],
   "source": [
    "# FourCal 클래스 정의\n",
    "class FourCal:\n",
    "    def setdata(self, first, second):\n",
    "        self.first = first\n",
    "        self.second = second\n",
    "    \n",
    "    def add(self):\n",
    "        result = self.first + self.second\n",
    "        return result\n",
    "\n",
    "# 객체 생성\n",
    "cal = FourCal()\n",
    "\n",
    "# setdata 메서드 호출하여 숫자 설정\n",
    "cal.setdata(4, 2)\n",
    "\n",
    "# add 메서드 호출하여 숫자 덧셈 수행\n",
    "print(cal.add())  # 출력: 6\n"
   ]
  },
  {
   "cell_type": "code",
   "execution_count": 42,
   "id": "c454f8ce-e6cb-426f-9a30-bb77ea5365b0",
   "metadata": {},
   "outputs": [
    {
     "name": "stdout",
     "output_type": "stream",
     "text": [
      "6\n"
     ]
    }
   ],
   "source": [
    "class FourCal:\n",
    "    def setdata(self, first, second):\n",
    "        self.first = first\n",
    "        self.second = second\n",
    "        \n",
    "    def add(self):\n",
    "        result = self.first + self.second\n",
    "        return result\n",
    "\n",
    "print(cal.add())"
   ]
  },
  {
   "cell_type": "code",
   "execution_count": 54,
   "id": "ad3f1b0b-f944-41e3-8985-c3dcef813874",
   "metadata": {},
   "outputs": [
    {
     "data": {
      "text/plain": [
       "2.0"
      ]
     },
     "execution_count": 54,
     "metadata": {},
     "output_type": "execute_result"
    }
   ],
   "source": [
    "class FourCal:\n",
    "    def setdata(self, first, second):\n",
    "        self.first = first\n",
    "        self.second = second\n",
    "    def add(self):\n",
    "        result = self.first + self.second\n",
    "        return result\n",
    "    def mul(self):\n",
    "        result = self.first * self.second\n",
    "        return result\n",
    "    def sub(self):\n",
    "        result = self.first - self.second\n",
    "        return result\n",
    "    def div(self):\n",
    "        result = self.first / self.second\n",
    "        return result\n",
    "\n",
    "a = FourCal()\n",
    "b = FourCal()\n",
    "a.setdata(4, 2)\n",
    "b.setdata(3, 8)\n",
    "a.add()\n"
   ]
  },
  {
   "cell_type": "code",
   "execution_count": 55,
   "id": "84bc9867-d950-43c0-8459-58c644a16bc6",
   "metadata": {},
   "outputs": [
    {
     "data": {
      "text/plain": [
       "2.0"
      ]
     },
     "execution_count": 55,
     "metadata": {},
     "output_type": "execute_result"
    }
   ],
   "source": [
    "a.mul()\n"
   ]
  },
  {
   "cell_type": "code",
   "execution_count": 56,
   "id": "97d08d50-905b-4789-ae30-a333c12c75f9",
   "metadata": {},
   "outputs": [
    {
     "data": {
      "text/plain": [
       "2"
      ]
     },
     "execution_count": 56,
     "metadata": {},
     "output_type": "execute_result"
    }
   ],
   "source": [
    "a.sub()"
   ]
  },
  {
   "cell_type": "code",
   "execution_count": 57,
   "id": "d0feee3b-1c04-4eff-a6d0-29c93c10eede",
   "metadata": {},
   "outputs": [
    {
     "data": {
      "text/plain": [
       "2.0"
      ]
     },
     "execution_count": 57,
     "metadata": {},
     "output_type": "execute_result"
    }
   ],
   "source": [
    "a.div()"
   ]
  },
  {
   "cell_type": "code",
   "execution_count": 60,
   "id": "5083ab26-5b57-4d9a-8a03-d87ea9dc4980",
   "metadata": {},
   "outputs": [
    {
     "name": "stdout",
     "output_type": "stream",
     "text": [
      "6 8 2.0 2\n",
      "11 24 0.375 -5\n"
     ]
    }
   ],
   "source": [
    "print(a.add(), a.mul(), a.div(), a.sub())\n",
    "print(b.add(), b.mul(), b.div(), b.sub())"
   ]
  },
  {
   "cell_type": "code",
   "execution_count": null,
   "id": "5ab31956-18f5-44ce-a5ee-855d255b2c57",
   "metadata": {},
   "outputs": [],
   "source": []
  },
  {
   "cell_type": "code",
   "execution_count": 63,
   "id": "2f92ef25-6cae-4611-b4d7-54d5a3e60490",
   "metadata": {},
   "outputs": [],
   "source": [
    "class FourCal:\n",
    "    def __init__(self, first, second):\n",
    "        self.first = first\n",
    "        self.second = second\n",
    "        \n",
    "    def add(self):\n",
    "        result = self.first + self.second\n",
    "        return result\n",
    "    def mul(self):\n",
    "        result = self.first * self.second\n",
    "        return result\n",
    "    def sub(self):\n",
    "        result = self.first - self.second\n",
    "        return result\n",
    "    def div(self):\n",
    "        result = self.first / self.second\n",
    "        return result\n"
   ]
  },
  {
   "cell_type": "code",
   "execution_count": 66,
   "id": "61d026f0-7899-49fb-be19-3e5ea8b71478",
   "metadata": {},
   "outputs": [],
   "source": [
    "a=FourCal(4, 2)"
   ]
  },
  {
   "cell_type": "code",
   "execution_count": 67,
   "id": "0bf6c345-fb40-4668-89fa-320e5be0f503",
   "metadata": {},
   "outputs": [
    {
     "data": {
      "text/plain": [
       "<__main__.FourCal at 0x10ad52810>"
      ]
     },
     "execution_count": 67,
     "metadata": {},
     "output_type": "execute_result"
    }
   ],
   "source": [
    "a"
   ]
  },
  {
   "cell_type": "code",
   "execution_count": 71,
   "id": "adf51f45-4abd-4bcb-a74d-6535c41233fe",
   "metadata": {},
   "outputs": [
    {
     "name": "stdout",
     "output_type": "stream",
     "text": [
      "27 0.35 140 -13\n"
     ]
    }
   ],
   "source": [
    "a=FourCal(7,20)\n",
    "print(a.add(), a.div(), a.mul(), a.sub())"
   ]
  },
  {
   "cell_type": "code",
   "execution_count": null,
   "id": "20d7cb73-39d2-4811-bcab-4e097e1b683a",
   "metadata": {},
   "outputs": [],
   "source": []
  },
  {
   "cell_type": "code",
   "execution_count": null,
   "id": "fda38c77-083a-4215-a9a5-457f622a9d8c",
   "metadata": {},
   "outputs": [],
   "source": [
    "예제) 은행 예금출금 클래스를 만들어보자\n",
    "input : 계좌번호, 계좌소유자명, 잔액\n",
    "기능1 : 입금\n",
    "기능2 : 출금\n",
    "기능3 : 조회"
   ]
  },
  {
   "cell_type": "code",
   "execution_count": null,
   "id": "d8ddc442-0a79-4557-8b43-93ec7912a76d",
   "metadata": {},
   "outputs": [],
   "source": [
    "user_input1 = input(\"계좌번호를 입력해주세요: \")\n",
    "user_input2 = input(\"계좌 소유자 이름을 입력해주세요: \")\n",
    "user_input3 = input(\"계좌 잔액을 입력해주세요: \")"
   ]
  },
  {
   "cell_type": "code",
   "execution_count": null,
   "id": "648accec-8fa6-466a-a174-9b5a369d129e",
   "metadata": {},
   "outputs": [],
   "source": [
    "class Account:\n",
    "    company = '무야호은행'\n",
    "\n",
    "    def __init__(self, no, name) :\n",
    "        self.no = no\n",
    "        self.name = name\n",
    "        self.balance = 0\n",
    "\n",
    "    def deposit(self, money):\n",
    "        self.balance += money\n",
    "\n",
    "    def withdraw(self, money):\n",
    "        self.balance -= money\n",
    "\n",
    "    def __str__(self):\n",
    "        return f'계좌번호 : {self.no}, 계좌소유자 : {self.name}, 잔액 : {self.balance}'\n",
    "        "
   ]
  },
  {
   "cell_type": "code",
   "execution_count": null,
   "id": "580ee403-41be-4ade-ba6c-e430139868e7",
   "metadata": {},
   "outputs": [],
   "source": [
    "# Account 클래스 정의\n",
    "class Account:\n",
    "    company = '무야호은행'\n",
    "\n",
    "    def __init__(self, no, name):\n",
    "        self.no = no\n",
    "        self.name = name\n",
    "        self.balance = 0\n",
    "\n",
    "    def deposit(self, money):\n",
    "        self.balance += money\n",
    "\n",
    "    def withdraw(self, money):\n",
    "        self.balance -= money\n",
    "\n",
    "    def __str__(self):\n",
    "        return f'계좌번호: {self.no}, 계좌소유자: {self.name}, 잔액: {self.balance}'\n",
    "\n",
    "# 객체 생성\n",
    "account1 = Account(\"123456\", \"홍길동\")\n",
    "\n",
    "# 입금과 출금\n",
    "account1.deposit(10000)\n",
    "account1.withdraw(5000)\n",
    "\n",
    "# 계좌 정보 출력\n",
    "print(account1)  # 출력: 계좌번호: 123456, 계좌소유자: 홍길동, 잔액: 5000\n",
    "\n",
    "# 무야호은행이라는 클래스 변수에 접근\n",
    "print(Account.company)  # 출력: 무야호은행\n"
   ]
  },
  {
   "cell_type": "code",
   "execution_count": null,
   "id": "d87794fe-9052-4bd7-a891-5bb9ca2fa727",
   "metadata": {},
   "outputs": [],
   "source": []
  },
  {
   "cell_type": "code",
   "execution_count": null,
   "id": "c0ccf141-c0ab-47f5-ab7b-ed62488684d8",
   "metadata": {},
   "outputs": [],
   "source": []
  },
  {
   "cell_type": "code",
   "execution_count": null,
   "id": "7ae31ba8-6343-4172-adf3-efe3ccb621a7",
   "metadata": {},
   "outputs": [],
   "source": []
  },
  {
   "cell_type": "code",
   "execution_count": null,
   "id": "9e8f8e74-3672-4d9c-880b-f221588d170c",
   "metadata": {},
   "outputs": [],
   "source": []
  },
  {
   "cell_type": "code",
   "execution_count": null,
   "id": "2f9bd9ce-6d8f-4714-bc7c-eb2fb2dbb1f1",
   "metadata": {},
   "outputs": [],
   "source": []
  }
 ],
 "metadata": {
  "kernelspec": {
   "display_name": "Python 3 (ipykernel)",
   "language": "python",
   "name": "python3"
  },
  "language_info": {
   "codemirror_mode": {
    "name": "ipython",
    "version": 3
   },
   "file_extension": ".py",
   "mimetype": "text/x-python",
   "name": "python",
   "nbconvert_exporter": "python",
   "pygments_lexer": "ipython3",
   "version": "3.11.5"
  }
 },
 "nbformat": 4,
 "nbformat_minor": 5
}
